{
 "cells": [
  {
   "cell_type": "markdown",
   "metadata": {
    "slideshow": {
     "slide_type": "slide"
    }
   },
   "source": [
    "## What We Looked At Last Time\n",
    "* We wrapped up our discussion of sets.\n",
    "* We introduced NumPy arrays."
   ]
  },
  {
   "cell_type": "markdown",
   "metadata": {
    "slideshow": {
     "slide_type": "subslide"
    }
   },
   "source": [
    "## What We'll Look At Today\n",
    "* We'll work through a few exercises relevant to lists, dictionaries, and sets.\n",
    "* We'll take a look at _one way_ to create animations in Python.\n",
    "* We'll continue to discuss NumPy array concepts.\n"
   ]
  },
  {
   "cell_type": "markdown",
   "metadata": {
    "slideshow": {
     "slide_type": "slide"
    }
   },
   "source": [
    "# Some exercises"
   ]
  },
  {
   "cell_type": "markdown",
   "metadata": {
    "slideshow": {
     "slide_type": "subslide"
    }
   },
   "source": [
    "# Exercise 5.4\n",
    "\n",
    "Create a 2-by-3 list then use a nested loop to:\n",
    "1. Set each element's value to an integer indicating the order in which it was processed by the nested loop. \n",
    "2. Display the elements in tabular format. Use the column indices as headings across the top, and the row indices of the left to each row. "
   ]
  },
  {
   "cell_type": "code",
   "execution_count": null,
   "metadata": {},
   "outputs": [],
   "source": [
    "values = [[0, 0, 0],[0, 0, 0]]\n",
    "print(values)"
   ]
  },
  {
   "cell_type": "code",
   "execution_count": null,
   "metadata": {},
   "outputs": [],
   "source": [
    "count = 0\n",
    "for row in range(len(values)):\n",
    "    for col in range(len(values[row])):\n",
    "        count += 1\n",
    "        values[row][col] = count\n",
    "        \n",
    "print(values)"
   ]
  },
  {
   "cell_type": "code",
   "execution_count": null,
   "metadata": {},
   "outputs": [],
   "source": [
    "print('   ', end = '')\n",
    "\n",
    "for col in range(len(values[0])): #Print a line for column indices\n",
    "    print(f'{[col]}', end = ' ')\n",
    "print()\n",
    "\n",
    "for i, row in enumerate(values):\n",
    "    print(f'{[i]}', end = ' ')\n",
    "    for value in row:\n",
    "        print(f'{value}   ', end = '')\n",
    "    print()"
   ]
  },
  {
   "cell_type": "markdown",
   "metadata": {
    "slideshow": {
     "slide_type": "subslide"
    }
   },
   "source": [
    "# Exercise 5.5\n",
    "Create a string called alphabet containing 'abcdefghijklmnopqrstuvwxyz', then perform the following separate slice operations to obtain:"
   ]
  },
  {
   "cell_type": "code",
   "execution_count": null,
   "metadata": {
    "slideshow": {
     "slide_type": "-"
    }
   },
   "outputs": [],
   "source": [
    "alphabet = 'abcdefghijklmnopqrstuvwxyz'"
   ]
  },
  {
   "cell_type": "markdown",
   "metadata": {
    "slideshow": {
     "slide_type": "subslide"
    }
   },
   "source": [
    "## The first half of the string using starting and ending indices."
   ]
  },
  {
   "cell_type": "code",
   "execution_count": null,
   "metadata": {
    "slideshow": {
     "slide_type": "fragment"
    }
   },
   "outputs": [],
   "source": [
    "alphabet[0:len(alphabet)//2]"
   ]
  },
  {
   "cell_type": "markdown",
   "metadata": {
    "slideshow": {
     "slide_type": "subslide"
    }
   },
   "source": [
    "## The first half of the string using only the ending index."
   ]
  },
  {
   "cell_type": "code",
   "execution_count": null,
   "metadata": {
    "slideshow": {
     "slide_type": "fragment"
    }
   },
   "outputs": [],
   "source": [
    "alphabet[:len(alphabet) // 2]"
   ]
  },
  {
   "cell_type": "markdown",
   "metadata": {
    "slideshow": {
     "slide_type": "subslide"
    }
   },
   "source": [
    "## The second half of the string using starting and ending indices."
   ]
  },
  {
   "cell_type": "code",
   "execution_count": null,
   "metadata": {
    "slideshow": {
     "slide_type": "fragment"
    }
   },
   "outputs": [],
   "source": [
    "alphabet[len(alphabet) //2: len(alphabet)]"
   ]
  },
  {
   "cell_type": "markdown",
   "metadata": {
    "slideshow": {
     "slide_type": "subslide"
    }
   },
   "source": [
    "## The second half of the string using only the starting index."
   ]
  },
  {
   "cell_type": "code",
   "execution_count": null,
   "metadata": {
    "slideshow": {
     "slide_type": "fragment"
    }
   },
   "outputs": [],
   "source": [
    "alphabet[len(alphabet) //2:]"
   ]
  },
  {
   "cell_type": "markdown",
   "metadata": {
    "slideshow": {
     "slide_type": "subslide"
    }
   },
   "source": [
    "## Every second letter in the string starting with 'a'."
   ]
  },
  {
   "cell_type": "code",
   "execution_count": null,
   "metadata": {
    "slideshow": {
     "slide_type": "fragment"
    }
   },
   "outputs": [],
   "source": [
    "alphabet[::2]"
   ]
  },
  {
   "cell_type": "markdown",
   "metadata": {
    "slideshow": {
     "slide_type": "subslide"
    }
   },
   "source": [
    "## The entire string in reverse. "
   ]
  },
  {
   "cell_type": "code",
   "execution_count": null,
   "metadata": {
    "slideshow": {
     "slide_type": "fragment"
    }
   },
   "outputs": [],
   "source": [
    "alphabet[::-1]"
   ]
  },
  {
   "cell_type": "markdown",
   "metadata": {
    "slideshow": {
     "slide_type": "subslide"
    }
   },
   "source": [
    "## Every third letter of the string in reverse starting with 'z'."
   ]
  },
  {
   "cell_type": "code",
   "execution_count": null,
   "metadata": {
    "slideshow": {
     "slide_type": "fragment"
    }
   },
   "outputs": [],
   "source": [
    "alphabet[::-3]"
   ]
  },
  {
   "cell_type": "markdown",
   "metadata": {
    "slideshow": {
     "slide_type": "subslide"
    }
   },
   "source": [
    "# Exercise 5.7\n",
    "Create a function that receives a list and returns a list containing only the unique values in sorted order. Test your function with a list of numbers and a list of strings.  "
   ]
  },
  {
   "cell_type": "code",
   "execution_count": null,
   "metadata": {},
   "outputs": [],
   "source": [
    "def uniquesorted(values):\n",
    "    non_duplicates = []\n",
    "    for value in values:\n",
    "        if value not in non_duplicates:\n",
    "            non_duplicates.append(value)\n",
    "    non_duplicates.sort()        \n",
    "    return non_duplicates\n",
    "                "
   ]
  },
  {
   "cell_type": "code",
   "execution_count": null,
   "metadata": {},
   "outputs": [],
   "source": [
    "numbers = [11, 11, 2, 2, 7, 7 , 5, 5, 3, 3]\n",
    "print(uniquesorted(numbers))"
   ]
  },
  {
   "cell_type": "code",
   "execution_count": null,
   "metadata": {},
   "outputs": [],
   "source": [
    "colors = ['red','red','orange','orange','yellow','green','green','yellow']\n",
    "print(uniquesorted(colors))"
   ]
  },
  {
   "cell_type": "markdown",
   "metadata": {
    "slideshow": {
     "slide_type": "subslide"
    }
   },
   "source": [
    "# Exercise 6.6\n",
    "Write a function that receives a list of words, then determines and displays in alphabetical order only the unique words. Treat uppercase and lowercase the same. The function should use a set to get the unique words in the list. Test your function with several sentences "
   ]
  },
  {
   "cell_type": "code",
   "execution_count": null,
   "metadata": {},
   "outputs": [],
   "source": [
    "def unique_words(words):\n",
    "    uniques = set(word.lower() for word in words)\n",
    "    print(sorted(uniques))\n",
    "    \n",
    "text = ('This is sample text with several words '\n",
    "        'This is more sample text with some different words')\n",
    "\n",
    "unique_words(text.split())"
   ]
  },
  {
   "cell_type": "markdown",
   "metadata": {
    "slideshow": {
     "slide_type": "slide"
    }
   },
   "source": [
    "# Intro to Data Science: Dynamic Visualizations\n",
    "* In this section, we make things “come alive” with _dynamic visualizations_. "
   ]
  },
  {
   "cell_type": "markdown",
   "metadata": {
    "slideshow": {
     "slide_type": "subslide"
    }
   },
   "source": [
    "### The Law of Large Numbers\n",
    "* For a six-sided die, each value 1 through 6 should occur one-sixth of the time, so the probability of any one of these values occurring is 1/6th or about 16.667%.  \n",
    "* In the dynamic visualization, the more rolls we perform, the closer each die value’s percentage of the total rolls gets to 16.667% and the heights of the bars gradually become about the same. \n",
    "* This is a manifestation of the _law of large numbers_. "
   ]
  },
  {
   "cell_type": "markdown",
   "metadata": {
    "slideshow": {
     "slide_type": "subslide"
    }
   },
   "source": [
    "## How Dynamic Visualization Works \n",
    "* The Matplotlib **`animation`** module’s **`FuncAnimation`** function, updates a visualization _dynamically_.\n",
    "* Each **animation frame** specifies what to change during one plot update (animation goes from one frame to the next). \n",
    "* Stringing together many updates over time creates an animation. \n",
    "* This example displays an animation frame every 33 milliseconds—yielding approximately 30 (1000 / 33) frames-per-second. "
   ]
  },
  {
   "cell_type": "markdown",
   "metadata": {
    "slideshow": {
     "slide_type": "subslide"
    }
   },
   "source": [
    "### Running `RollDieDynamic.py`\n",
    "1. Access the command line in Jupyter with **File > New > Terminal**.\n",
    "2. `cd /yourfolder`.\n",
    "3. Execute\n",
    "\n",
    ">```\n",
    "python RollDieDynamic.py 6000 1\n",
    "```\n",
    "\n",
    ">* 6000 is the number of animation frames to display. \n",
    ">* 1 is the number of die rolls to summarize in each animation frame.\n"
   ]
  },
  {
   "cell_type": "markdown",
   "metadata": {
    "slideshow": {
     "slide_type": "subslide"
    }
   },
   "source": [
    "* To see the law of large numbers in action, increase the execution speed by rolling the die more times per animation frame: \n",
    "```python\n",
    "python RollDieDynamic.py 10000 600\n",
    "```\n",
    "*  In this case, `FuncAnimation` perform 10,000 updates, with 600 rolls-per-frame for a total of 6,000,000 rolls. "
   ]
  },
  {
   "cell_type": "markdown",
   "metadata": {
    "slideshow": {
     "slide_type": "subslide"
    }
   },
   "source": [
    "## Implementing a Dynamic Visualization "
   ]
  },
  {
   "cell_type": "markdown",
   "metadata": {
    "slideshow": {
     "slide_type": "subslide"
    }
   },
   "source": [
    "### Importing the Matplotlib `animation` Module\n",
    "* We focus primarily on the new features used in this example. \n",
    "* We import the Matplotlib `animation` module to access ``FuncAnimation`.\n",
    "\n",
    "```python \n",
    "# RollDieDynamic.py\n",
    "\"\"\"Dynamically graphing frequencies of die rolls.\"\"\"\n",
    "from matplotlib import animation\n",
    "import matplotlib.pyplot as plt\n",
    "import random \n",
    "import seaborn as sns\n",
    "import sys\n",
    "```"
   ]
  },
  {
   "cell_type": "markdown",
   "metadata": {
    "slideshow": {
     "slide_type": "subslide"
    }
   },
   "source": [
    "### Function `update`\n",
    "```python\n",
    "def update(frame_number, rolls, faces, frequencies):\n",
    "    \"\"\"Configures bar plot contents for each animation frame.\"\"\"\n",
    "\n",
    "```\n",
    "* `FuncAnimation` calls the `update` function once per animation frame. \n",
    "* This function must receive at least one argument. \n",
    "* Parameters:\n",
    "    * `frame_number`—The next value from `FuncAnimation`’s `frames` argument. Though `FuncAnimation` requires the `update` function to have this parameter, we do not use it in this `update` function.\n",
    "    * `rolls`—The number of die rolls per animation frame.\n",
    "    * `faces`—The die face values used as labels along the graph’s _x_-axis.\n",
    "    * `frequencies`—The list in which we summarize the die frequencies.\n"
   ]
  },
  {
   "cell_type": "markdown",
   "metadata": {
    "slideshow": {
     "slide_type": "subslide"
    }
   },
   "source": [
    "### Function `update`: Rolling the Die and Updating the `frequencies` List\n",
    "* Roll the die `rolls` times and increment the appropriate `frequencies` element for each roll. \n",
    "\n",
    "```python\n",
    "    # roll die and update frequencies\n",
    "    for i in range(rolls):\n",
    "        frequencies[random.randrange(1, 7) - 1] += 1 \n",
    "```"
   ]
  },
  {
   "cell_type": "markdown",
   "metadata": {
    "slideshow": {
     "slide_type": "subslide"
    }
   },
   "source": [
    "### Function `update`: Configuring the Bar Plot and Text \n",
    "* The `matplotlib.pyplot` module’s **`cla`** (clear axes) function removes the existing bar plot elements before drawing new ones for the current animation frame. \n",
    "```python\n",
    "    # reconfigure plot for updated die frequencies\n",
    "    plt.cla()  # clear old contents contents of current Figure\n",
    "    axes = sns.barplot(faces, frequencies, palette='bright')  # new bars\n",
    "    axes.set_title(f'Die Frequencies for {sum(frequencies):,} Rolls')\n",
    "    axes.set(xlabel='Die Value', ylabel='Frequency')  \n",
    "    axes.set_ylim(top=max(frequencies) * 1.10)  # scale y-axis by 10%\n",
    "\n",
    "    # display frequency & percentage above each patch (bar)\n",
    "    for bar, frequency in zip(axes.patches, frequencies):\n",
    "        text_x = bar.get_x() + bar.get_width() / 2.0  \n",
    "        text_y = bar.get_height() \n",
    "        text = f'{frequency:,}\\n{frequency / sum(frequencies):.3%}'\n",
    "        axes.text(text_x, text_y, text, ha='center', va='bottom')\n",
    "```"
   ]
  },
  {
   "cell_type": "markdown",
   "metadata": {
    "slideshow": {
     "slide_type": "subslide"
    }
   },
   "source": [
    "### Variables Used to Configure the Graph and Maintain State\n",
    "* The `sys` module’s `argv` list contains the script’s command-line arguments. \n",
    "* The `matplotlib.pyplot` module’s **`figure`** function gets a `Figure` object in which `FuncAnimation` displays the animation &mdash; one of `FuncAnimation`’s required arguments. \n",
    "\n",
    "```python\n",
    "# read command-line arguments for number of frames and rolls per frame\n",
    "number_of_frames = int(sys.argv[1])  \n",
    "rolls_per_frame = int(sys.argv[2])  \n",
    "\n",
    "sns.set_style('whitegrid')  # white background with gray grid lines\n",
    "figure = plt.figure('Rolling a Six-Sided Die')  # Figure for animation\n",
    "values = list(range(1, 7))  # die faces for display on x-axis\n",
    "frequencies = [0] * 6  # six-element list of die frequencies\n",
    "```"
   ]
  },
  {
   "cell_type": "markdown",
   "metadata": {
    "slideshow": {
     "slide_type": "subslide"
    }
   },
   "source": [
    "### Calling the `animation` Module’s `FuncAnimation` Function\n",
    "* `FuncAnimation` returns an object representing the animation. \n",
    "* You _must_ store the reference to the animation; if you do _not_, Python immediately assumes the object is no longer needed (remember, no references point to it), and returns its memory to the system. \n",
    "* Remember, since you are calling from the command-line, you also _must_ use plt.show(), or the window will never actually display.\n",
    "\n",
    "```python\n",
    "# configure and start animation that calls function update\n",
    "die_animation = animation.FuncAnimation(\n",
    "    figure, update, repeat=False, frames=number_of_frames, interval=33,\n",
    "    fargs=(rolls_per_frame, values, frequencies))\n",
    "\n",
    "plt.show()  # display window\n",
    "\n",
    "```"
   ]
  },
  {
   "cell_type": "markdown",
   "metadata": {
    "slideshow": {
     "slide_type": "subslide"
    }
   },
   "source": [
    "`FuncAnimation` has two required arguments:\n",
    "* `figure`—the `Figure` object in which to display the animation, and\n",
    "* `update`—the function to call once per animation frame."
   ]
  },
  {
   "cell_type": "markdown",
   "metadata": {
    "slideshow": {
     "slide_type": "subslide"
    }
   },
   "source": [
    "* Optional keyword arguments:\n",
    "    * **`repeat`**—If `True` (the default), when the animation completes it restarts from the beginning.\n",
    "    * **`frames`**—The total number of animation frames, which controls how many times `FunctAnimation` calls `update`. \n",
    "    * **`interval`**—The number of milliseconds between animation frames (the default is 200).\n",
    "    * **`fargs`** (short for “function arguments”)—A tuple of other arguments to pass to the function you specified in `FuncAnimation`’s second argument. \n",
    "* [`FuncAnimation`’s other optional arguments](https://matplotlib.org/api/_as_gen/matplotlib.animation.FuncAnimation.html)\n"
   ]
  },
  {
   "cell_type": "markdown",
   "metadata": {
    "slideshow": {
     "slide_type": "slide"
    }
   },
   "source": [
    "# `array` Operators\n",
    "* `array` operators perform operations on **entire `array`s**. \n",
    "* We can perform arithmetic **between `array`s and scalar numeric values**, and **between `array`s of the same shape**."
   ]
  },
  {
   "cell_type": "code",
   "execution_count": null,
   "metadata": {
    "slideshow": {
     "slide_type": "subslide"
    }
   },
   "outputs": [],
   "source": [
    "import numpy as np"
   ]
  },
  {
   "cell_type": "code",
   "execution_count": null,
   "metadata": {},
   "outputs": [],
   "source": [
    "numbers = np.arange(1, 6)\n",
    "print(numbers)\n",
    "print(numbers*2)\n",
    "print(numbers**3)"
   ]
  },
  {
   "cell_type": "code",
   "execution_count": null,
   "metadata": {},
   "outputs": [],
   "source": [
    "numbers += 10 #We can also use standard assignment operators with arrays.\n",
    "print(numbers)"
   ]
  },
  {
   "cell_type": "markdown",
   "metadata": {
    "slideshow": {
     "slide_type": "subslide"
    }
   },
   "source": [
    "### Broadcasting \n",
    "* Arithmetic operations require as operands two `array`s of the **same size and shape**. \n",
    "* **`numbers * 2`** is equivalent to **`numbers * [2, 2, 2, 2, 2]`** for a 5-element array.\n",
    "* Applying the operation to every element is called **broadcasting**. \n"
   ]
  },
  {
   "cell_type": "code",
   "execution_count": null,
   "metadata": {
    "slideshow": {
     "slide_type": "subslide"
    }
   },
   "outputs": [],
   "source": [
    "numbers2 = np.linspace(1.1, 5.5, 5)\n",
    "numbers3 = [10,10,10,10,10]\n",
    "print(numbers2*10)\n",
    "print(numbers2*numbers3)"
   ]
  },
  {
   "cell_type": "markdown",
   "metadata": {
    "slideshow": {
     "slide_type": "slide"
    }
   },
   "source": [
    "## Comparing `array`s\n",
    "* We can compare `array`s with individual values and with other `array`s\n",
    "* Comparisons are performed **element-wise**\n",
    "* The result is an `array` of Boolean values in which each element’s `True` or `False` value indicates the comparison result"
   ]
  },
  {
   "cell_type": "code",
   "execution_count": null,
   "metadata": {
    "slideshow": {
     "slide_type": "subslide"
    }
   },
   "outputs": [],
   "source": [
    "print(numbers)\n",
    "print(numbers2)\n",
    "print(numbers>=13)\n",
    "print(numbers2>=13)\n"
   ]
  },
  {
   "cell_type": "code",
   "execution_count": null,
   "metadata": {
    "slideshow": {
     "slide_type": "fragment"
    }
   },
   "outputs": [],
   "source": [
    "print(numbers2 < numbers)\n",
    "print(numbers == numbers)"
   ]
  },
  {
   "cell_type": "markdown",
   "metadata": {
    "slideshow": {
     "slide_type": "slide"
    }
   },
   "source": [
    "## NumPy Calculation Methods\n",
    "* Many calculations are applicable regardless of the number of elements, and thus can be used on arrays of any shape.\n",
    "* Consider an `array` representing four students’ grades on three exams: we can compute various information to summarize the data (AKA programming **reductions**).\n",
    "* The most common methods are **`sum`**, **`min`**, **`max`**, **`mean`**, **`std`** (standard deviation) and **`var`** (variance)\n",
    "* [Other Numpy `array` Calculation Methods](https://docs.scipy.org/doc/numpy/reference/arrays.ndarray.html)"
   ]
  },
  {
   "cell_type": "code",
   "execution_count": null,
   "metadata": {
    "slideshow": {
     "slide_type": "subslide"
    }
   },
   "outputs": [],
   "source": [
    "grades = np.array([[87, 96, 70], [100, 87, 90],\n",
    "                   [94, 77, 90], [100, 81, 82]])\n",
    "print(grades.sum())\n",
    "print(grades.min())\n",
    "print(grades.mean())\n",
    "print(grades.std())\n"
   ]
  },
  {
   "cell_type": "markdown",
   "metadata": {
    "slideshow": {
     "slide_type": "subslide"
    }
   },
   "source": [
    "## Calculations by Row Or Column\n",
    "* You can perform calculations by column or row (or other dimensions in arrays with more than two dimensions)\n",
    "* Each 2D+ array has [**one axis per dimension**](https://docs.scipy.org/doc/numpy-1.16.0/glossary.html)\n",
    "* In a 2D array, **`axis=0`** indicates calculations should be **column-by-column**, while **`axis=1`** indicates calculations should be **row-by-row** "
   ]
  },
  {
   "cell_type": "code",
   "execution_count": null,
   "metadata": {},
   "outputs": [],
   "source": [
    "grades = np.array([[87, 96, 70], [100, 87, 90],\n",
    "                   [94, 77, 90], [100, 81, 82]])\n",
    "print(grades)\n",
    "print(grades.max(axis=0)) #highest grade per exam\n",
    "print(grades.mean(axis=1)) #student averages"
   ]
  },
  {
   "cell_type": "markdown",
   "metadata": {
    "slideshow": {
     "slide_type": "slide"
    }
   },
   "source": [
    "# Universal Functions\n",
    "* Standalone [**universal functions** (**ufuncs**)](https://docs.scipy.org/doc/numpy/reference/ufuncs.html) perform **element-wise operations** using one or two `array` or array-like arguments (like lists)\n",
    "* Each returns a **new `array`** containing the results\n",
    "* Some ufuncs are called implicitly when you use `array` operators like `+` and `*`"
   ]
  },
  {
   "cell_type": "code",
   "execution_count": null,
   "metadata": {},
   "outputs": [],
   "source": [
    "numbers = np.array([1, 4, 9, 16, 25, 36])\n",
    "print(np.sqrt(numbers))\n",
    "print(np.log2(numbers))\n"
   ]
  }
 ],
 "metadata": {
  "celltoolbar": "Slideshow",
  "kernelspec": {
   "display_name": "Python 3 (ipykernel)",
   "language": "python",
   "name": "python3"
  },
  "language_info": {
   "codemirror_mode": {
    "name": "ipython",
    "version": 3
   },
   "file_extension": ".py",
   "mimetype": "text/x-python",
   "name": "python",
   "nbconvert_exporter": "python",
   "pygments_lexer": "ipython3",
   "version": "3.10.8"
  }
 },
 "nbformat": 4,
 "nbformat_minor": 4
}
