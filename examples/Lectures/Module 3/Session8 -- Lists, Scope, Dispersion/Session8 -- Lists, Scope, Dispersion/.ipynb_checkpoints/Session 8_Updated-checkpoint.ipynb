{
 "cells": [
  {
   "cell_type": "markdown",
   "metadata": {
    "slideshow": {
     "slide_type": "slide"
    }
   },
   "source": [
    "## What We Looked At Last Time\n",
    "* We addressed most of the remaining basic methods and operations related to Python lists.\n",
    "* We looked at tuples (effectively immutable lists) in some detail.\n",
    "* We looked at the application of slices to provide fine-tuned control over access to and modification of lists."
   ]
  },
  {
   "cell_type": "markdown",
   "metadata": {
    "slideshow": {
     "slide_type": "subslide"
    }
   },
   "source": [
    "## What We'll Look At Today\n",
    "* We'll (finally) wrap up our focused discussion of Lists.\n",
    "* We'll address details related to Python scope and variables.\n",
    "* We'll look at Methods of Dispersion in Python.\n",
    "* We'll revisit one potentially confusing subject from previous sessions (.ipynb vs .py files)."
   ]
  },
  {
   "cell_type": "markdown",
   "metadata": {
    "slideshow": {
     "slide_type": "slide"
    }
   },
   "source": [
    "### Variables and identities\n",
    "* Deleting a list variable's contents is different from assigning it a _new_ empty list `[]`. \n",
    "* Identities are different, so they represent separate objects in memory.\n",
    "* When you assign a new object to a variable, the original object will eventually be **garbage collected** if no other variables refer to it.\n",
    "* Unlike C or C++, manual memory management is not required in Python.  Googling \"PyMalloc\" can provide details about how object allocation is handled.\n",
    "     "
   ]
  },
  {
   "cell_type": "code",
   "execution_count": 1,
   "metadata": {},
   "outputs": [
    {
     "name": "stdout",
     "output_type": "stream",
     "text": [
      "2638563583872\n",
      "2638563583872\n",
      "2638563584576\n"
     ]
    }
   ],
   "source": [
    "numbers = [1,2,3]\n",
    "print(id(numbers))\n",
    "numbers.clear()\n",
    "print(id(numbers))\n",
    "numbers = []\n",
    "print(id(numbers))"
   ]
  },
  {
   "cell_type": "markdown",
   "metadata": {
    "slideshow": {
     "slide_type": "slide"
    }
   },
   "source": [
    "# ```del``` Statement\n",
    "* Recall that the `remove` statement removes the first matching element in a list.\n",
    "* If elements need to be deleted **by index**, the `del` statement can be used to delete them. \n",
    "* Both individual indices or slices can be used in this manner.\n",
    "* Theoretically this is more memory efficient than using the slice strategy (because it does not make a temporary copy of the list), but this is usually a minor consideration.\n",
    "* `del` can also be used to designate that a variable is no longer needed."
   ]
  },
  {
   "cell_type": "code",
   "execution_count": 5,
   "metadata": {
    "slideshow": {
     "slide_type": "subslide"
    }
   },
   "outputs": [
    {
     "name": "stdout",
     "output_type": "stream",
     "text": [
      "[10, 11, 12, 13, 14, 15, 16, 17, 18, 19]\n",
      "[10, 11, 12, 13, 14, 15, 16, 17, 18]\n"
     ]
    }
   ],
   "source": [
    "numbers = list(range(10, 20))\n",
    "print(numbers)\n",
    "del(numbers[-1]) #delete last element in list\n",
    "print(numbers)"
   ]
  },
  {
   "cell_type": "code",
   "execution_count": 6,
   "metadata": {
    "slideshow": {
     "slide_type": "-"
    }
   },
   "outputs": [
    {
     "name": "stdout",
     "output_type": "stream",
     "text": [
      "[10, 13, 14, 15, 16, 17, 18]\n"
     ]
    }
   ],
   "source": [
    "del(numbers[1:3]) #delete elements at indices 1 and 2\n",
    "print(numbers)"
   ]
  },
  {
   "cell_type": "code",
   "execution_count": 7,
   "metadata": {},
   "outputs": [
    {
     "name": "stdout",
     "output_type": "stream",
     "text": [
      "[]\n"
     ]
    }
   ],
   "source": [
    "del numbers[:] #empty the list\n",
    "print(numbers)"
   ]
  },
  {
   "cell_type": "code",
   "execution_count": 8,
   "metadata": {},
   "outputs": [
    {
     "ename": "NameError",
     "evalue": "name 'numbers' is not defined",
     "output_type": "error",
     "traceback": [
      "\u001b[1;31m---------------------------------------------------------------------------\u001b[0m",
      "\u001b[1;31mNameError\u001b[0m                                 Traceback (most recent call last)",
      "Cell \u001b[1;32mIn[8], line 2\u001b[0m\n\u001b[0;32m      1\u001b[0m \u001b[38;5;28;01mdel\u001b[39;00m numbers \u001b[38;5;66;03m#\"destroy\" the numbers variable, indicating it is no longer required\u001b[39;00m\n\u001b[1;32m----> 2\u001b[0m \u001b[38;5;28mprint\u001b[39m(\u001b[43mnumbers\u001b[49m)\n",
      "\u001b[1;31mNameError\u001b[0m: name 'numbers' is not defined"
     ]
    }
   ],
   "source": [
    "del numbers #\"destroy\" the numbers variable, indicating it is no longer required\n",
    "print(numbers)"
   ]
  },
  {
   "cell_type": "markdown",
   "metadata": {
    "slideshow": {
     "slide_type": "slide"
    }
   },
   "source": [
    "### Passing Lists and Tuples to Functions\n",
    "* As lists provide a collection of references, they can be easily modified when passed to functions.\n",
    "* Tuples are immutable, in their original scope or when passed in or outside a function."
   ]
  },
  {
   "cell_type": "code",
   "execution_count": 10,
   "metadata": {},
   "outputs": [],
   "source": [
    "def square_elements(items):\n",
    "    \"\"\"\"Raises all passed elements to the power of 2.\"\"\"\n",
    "    for i in range(len(items)):\n",
    "        items[i] = items[i]**2"
   ]
  },
  {
   "cell_type": "code",
   "execution_count": 11,
   "metadata": {},
   "outputs": [
    {
     "name": "stdout",
     "output_type": "stream",
     "text": [
      "[25, 9, 49, 1, 81]\n"
     ]
    }
   ],
   "source": [
    "numberlist = [5, 3, 7, 1, 9]\n",
    "square_elements(numberlist)\n",
    "print(numberlist)"
   ]
  },
  {
   "cell_type": "code",
   "execution_count": 12,
   "metadata": {},
   "outputs": [
    {
     "ename": "TypeError",
     "evalue": "'tuple' object does not support item assignment",
     "output_type": "error",
     "traceback": [
      "\u001b[1;31m---------------------------------------------------------------------------\u001b[0m",
      "\u001b[1;31mTypeError\u001b[0m                                 Traceback (most recent call last)",
      "Cell \u001b[1;32mIn[12], line 2\u001b[0m\n\u001b[0;32m      1\u001b[0m numbertuple \u001b[38;5;241m=\u001b[39m (\u001b[38;5;241m5\u001b[39m, \u001b[38;5;241m3\u001b[39m, \u001b[38;5;241m7\u001b[39m, \u001b[38;5;241m1\u001b[39m, \u001b[38;5;241m9\u001b[39m)\n\u001b[1;32m----> 2\u001b[0m \u001b[43msquare_elements\u001b[49m\u001b[43m(\u001b[49m\u001b[43mnumbertuple\u001b[49m\u001b[43m)\u001b[49m\n",
      "Cell \u001b[1;32mIn[10], line 4\u001b[0m, in \u001b[0;36msquare_elements\u001b[1;34m(items)\u001b[0m\n\u001b[0;32m      2\u001b[0m \u001b[38;5;124;03m\"\"\"\"Raises all passed elements to the power of 2.\"\"\"\u001b[39;00m\n\u001b[0;32m      3\u001b[0m \u001b[38;5;28;01mfor\u001b[39;00m i \u001b[38;5;129;01min\u001b[39;00m \u001b[38;5;28mrange\u001b[39m(\u001b[38;5;28mlen\u001b[39m(items)):\n\u001b[1;32m----> 4\u001b[0m     items[i] \u001b[38;5;241m=\u001b[39m items[i]\u001b[38;5;241m*\u001b[39m\u001b[38;5;241m*\u001b[39m\u001b[38;5;241m2\u001b[39m\n",
      "\u001b[1;31mTypeError\u001b[0m: 'tuple' object does not support item assignment"
     ]
    }
   ],
   "source": [
    "numbertuple = (5, 3, 7, 1, 9)\n",
    "square_elements(numbertuple)"
   ]
  },
  {
   "cell_type": "markdown",
   "metadata": {
    "slideshow": {
     "slide_type": "slide"
    }
   },
   "source": [
    "# Scope Rules\n",
    "* Each identifier has a `scope` that determines where you can use it in your program.\n",
    "### Local Scope\n",
    "* A local variable’s identifier has **local scope**. \n",
    "### Global Scope\n",
    " Identifiers defined outside any function (or class) have **global scope**—these may include functions, variables and classes."
   ]
  },
  {
   "cell_type": "code",
   "execution_count": 16,
   "metadata": {
    "slideshow": {
     "slide_type": "subslide"
    }
   },
   "outputs": [
    {
     "name": "stdout",
     "output_type": "stream",
     "text": [
      "My global var: 10\n"
     ]
    },
    {
     "ename": "NameError",
     "evalue": "name 'my_localvar' is not defined",
     "output_type": "error",
     "traceback": [
      "\u001b[1;31m---------------------------------------------------------------------------\u001b[0m",
      "\u001b[1;31mNameError\u001b[0m                                 Traceback (most recent call last)",
      "Cell \u001b[1;32mIn[16], line 7\u001b[0m\n\u001b[0;32m      4\u001b[0m     my_localvar \u001b[38;5;241m=\u001b[39m \u001b[38;5;241m5\u001b[39m \u001b[38;5;66;03m#A local variable\u001b[39;00m\n\u001b[0;32m      6\u001b[0m \u001b[38;5;28mprint\u001b[39m(\u001b[38;5;124m'\u001b[39m\u001b[38;5;124mMy global var:\u001b[39m\u001b[38;5;124m'\u001b[39m,my_globalvar)    \n\u001b[1;32m----> 7\u001b[0m \u001b[38;5;28mprint\u001b[39m(\u001b[38;5;124m'\u001b[39m\u001b[38;5;124mMy local var:\u001b[39m\u001b[38;5;124m'\u001b[39m,\u001b[43mmy_localvar\u001b[49m)\n",
      "\u001b[1;31mNameError\u001b[0m: name 'my_localvar' is not defined"
     ]
    }
   ],
   "source": [
    "my_globalvar = 10 #A global variable\n",
    "\n",
    "def somefunction():\n",
    "    my_localvar = 5 #A local variable\n",
    "    \n",
    "print('My global var:',my_globalvar)    \n",
    "print('My local var:',my_localvar)"
   ]
  },
  {
   "cell_type": "markdown",
   "metadata": {
    "slideshow": {
     "slide_type": "slide"
    }
   },
   "source": [
    "# Global Variables In Local Scope\n",
    "* Dealing with objects/values stored in local variables within functions is largely straightforward.\n",
    "* By default, however, you cannot _modify_ a global variable in a function\n",
    "* Python creates a new **local** variable when you first assign a value to a variable in a function’s block (whether it has been declared globally or not).\n",
    "    * Such variables are said to **shadow** any global variable within the local scope after assignment."
   ]
  },
  {
   "cell_type": "code",
   "execution_count": 17,
   "metadata": {},
   "outputs": [
    {
     "name": "stdout",
     "output_type": "stream",
     "text": [
      "16\n"
     ]
    }
   ],
   "source": [
    "avar = 15 #a global variable named \"avar\"\n",
    "\n",
    "def anotherfunction():\n",
    "    print(avar+1)    #Since no assignment is made, this simply uses the value sorted in the global \"avar\"\n",
    "    \n",
    "anotherfunction()"
   ]
  },
  {
   "cell_type": "code",
   "execution_count": 24,
   "metadata": {
    "slideshow": {
     "slide_type": "subslide"
    }
   },
   "outputs": [],
   "source": [
    "def modifyattempt():\n",
    "    avar = 5 #this version of avar is local\n",
    "    print(f'The local variable value is {avar}.')"
   ]
  },
  {
   "cell_type": "code",
   "execution_count": 25,
   "metadata": {},
   "outputs": [
    {
     "name": "stdout",
     "output_type": "stream",
     "text": [
      "The local variable value is 5.\n",
      "But the global variable value is 15.\n"
     ]
    }
   ],
   "source": [
    "modifyattempt()\n",
    "print(f'But the global variable value is {avar}.')"
   ]
  },
  {
   "cell_type": "code",
   "execution_count": 26,
   "metadata": {
    "slideshow": {
     "slide_type": "-"
    }
   },
   "outputs": [],
   "source": [
    "def modifyattemptV2():\n",
    "    avar = avar + 5 \n",
    "    "
   ]
  },
  {
   "cell_type": "code",
   "execution_count": 28,
   "metadata": {},
   "outputs": [
    {
     "ename": "UnboundLocalError",
     "evalue": "local variable 'avar' referenced before assignment",
     "output_type": "error",
     "traceback": [
      "\u001b[1;31m---------------------------------------------------------------------------\u001b[0m",
      "\u001b[1;31mUnboundLocalError\u001b[0m                         Traceback (most recent call last)",
      "Cell \u001b[1;32mIn[28], line 1\u001b[0m\n\u001b[1;32m----> 1\u001b[0m \u001b[43mmodifyattemptV2\u001b[49m\u001b[43m(\u001b[49m\u001b[43m)\u001b[49m\n",
      "Cell \u001b[1;32mIn[26], line 2\u001b[0m, in \u001b[0;36mmodifyattemptV2\u001b[1;34m()\u001b[0m\n\u001b[0;32m      1\u001b[0m \u001b[38;5;28;01mdef\u001b[39;00m \u001b[38;5;21mmodifyattemptV2\u001b[39m():\n\u001b[1;32m----> 2\u001b[0m     avar \u001b[38;5;241m=\u001b[39m \u001b[43mavar\u001b[49m \u001b[38;5;241m+\u001b[39m \u001b[38;5;241m5\u001b[39m\n",
      "\u001b[1;31mUnboundLocalError\u001b[0m: local variable 'avar' referenced before assignment"
     ]
    }
   ],
   "source": [
    "modifyattemptV2() #This will fail entirely!\n"
   ]
  },
  {
   "cell_type": "markdown",
   "metadata": {
    "slideshow": {
     "slide_type": "subslide"
    }
   },
   "source": [
    "## Modifying a Global Variable\n",
    "* To modify a global variable in a function’s block, you must use a **`global`** statement to declare that the variable is defined relative to global scope.\n",
    "* Note that this declaration does not \"re-initialize\" an already declared global variable, so it can be used to provide a new value to a global variable _or_ to simply modify it. "
   ]
  },
  {
   "cell_type": "code",
   "execution_count": 29,
   "metadata": {},
   "outputs": [],
   "source": [
    "def modify_global():\n",
    "    global avar;\n",
    "    avar = 30\n",
    "    print(f'Variable assigned locally is {avar}.')\n",
    "    "
   ]
  },
  {
   "cell_type": "code",
   "execution_count": 30,
   "metadata": {},
   "outputs": [
    {
     "name": "stdout",
     "output_type": "stream",
     "text": [
      "Variable assigned locally is 30.\n",
      "Variable's global value remains 30.\n"
     ]
    }
   ],
   "source": [
    "modify_global()\n",
    "print(f'Variable\\'s global value remains {avar}.')"
   ]
  },
  {
   "cell_type": "code",
   "execution_count": 31,
   "metadata": {
    "slideshow": {
     "slide_type": "subslide"
    }
   },
   "outputs": [],
   "source": [
    "def modify_globalV2():\n",
    "    global avar;\n",
    "    avar = avar + 5\n",
    "    print(f'Variable assigned locally is {avar}.')"
   ]
  },
  {
   "cell_type": "code",
   "execution_count": 32,
   "metadata": {},
   "outputs": [
    {
     "name": "stdout",
     "output_type": "stream",
     "text": [
      "Variable assigned locally is 35.\n",
      "Variable's global value remains 35\n"
     ]
    }
   ],
   "source": [
    "modify_globalV2()\n",
    "print(f'Variable\\'s global value remains {avar}')"
   ]
  },
  {
   "cell_type": "markdown",
   "metadata": {
    "slideshow": {
     "slide_type": "slide"
    }
   },
   "source": [
    "# Passing Arguments to Functions: A Deeper Look \n",
    "* **Python arguments are always passed by reference**. \n",
    "* Often people call this **pass-by-object-reference**, because _everything in Python is an object._ (even simple primitive data like integers). \n",
    "* When a function call provides an argument, Python copies the argument object _reference_ —not the object itself—into the corresponding parameter."
   ]
  },
  {
   "cell_type": "markdown",
   "metadata": {
    "slideshow": {
     "slide_type": "subslide"
    }
   },
   "source": [
    "### Memory Addresses, References and “Pointers”\n",
    "* After an assignment like the **x=7**, the variable `x` contains a reference to an _object_ containing `7` stored _elsewhere_ in memory."
   ]
  },
  {
   "cell_type": "markdown",
   "metadata": {},
   "source": [
    "![Variable referring to an object](images/AAEMYQU0a.png \"Variable referring to an object\")"
   ]
  },
  {
   "cell_type": "code",
   "execution_count": 33,
   "metadata": {
    "slideshow": {
     "slide_type": "subslide"
    }
   },
   "outputs": [
    {
     "name": "stdout",
     "output_type": "stream",
     "text": [
      "x's object id is 2638483947952\n"
     ]
    }
   ],
   "source": [
    "x = 7 #Declare a global variable x\n",
    "print(f'x\\'s object id is {id(x)}')"
   ]
  },
  {
   "cell_type": "code",
   "execution_count": 34,
   "metadata": {},
   "outputs": [],
   "source": [
    "def cube(number):\n",
    "    print(f'number\\'s object id is {id(number)}')\n",
    "    return number ** 3"
   ]
  },
  {
   "cell_type": "code",
   "execution_count": 35,
   "metadata": {},
   "outputs": [
    {
     "name": "stdout",
     "output_type": "stream",
     "text": [
      "number's object id is 2638483947952\n"
     ]
    },
    {
     "data": {
      "text/plain": [
       "343"
      ]
     },
     "execution_count": 35,
     "metadata": {},
     "output_type": "execute_result"
    }
   ],
   "source": [
    "cube(x)"
   ]
  },
  {
   "cell_type": "markdown",
   "metadata": {
    "slideshow": {
     "slide_type": "subslide"
    }
   },
   "source": [
    "### Testing Object Identities with the is Operator \n",
    "* The identity displayed for `cube`’s parameter `number` was the _same_ as that displayed for `x` previously. \n",
    "* The _argument_ `x` and the _parameter_ `number` refer to the _same object_ while `cube` executes. \n",
    "* The **`is`** **operator** returns `True` if its two operands have the _same identity_:"
   ]
  },
  {
   "cell_type": "code",
   "execution_count": 36,
   "metadata": {},
   "outputs": [],
   "source": [
    "def cube(number):\n",
    "    print('number is x?', number is x) \n",
    "    return number ** 3"
   ]
  },
  {
   "cell_type": "code",
   "execution_count": 43,
   "metadata": {},
   "outputs": [
    {
     "name": "stdout",
     "output_type": "stream",
     "text": [
      "number is x? True\n"
     ]
    },
    {
     "data": {
      "text/plain": [
       "343"
      ]
     },
     "execution_count": 43,
     "metadata": {},
     "output_type": "execute_result"
    }
   ],
   "source": [
    "cube(x)"
   ]
  },
  {
   "cell_type": "markdown",
   "metadata": {
    "slideshow": {
     "slide_type": "subslide"
    }
   },
   "source": [
    "### Immutable Objects as Arguments\n",
    "* When a function receives as an argument a reference to an _immutable_ (unmodifiable) object, even though you have direct access to the original object in the caller, you cannot modify the original immutable object’s value. \n",
    "* Primitive data types (integers, boolean, etc.) are almost exclusively _immutable_."
   ]
  },
  {
   "cell_type": "code",
   "execution_count": 44,
   "metadata": {},
   "outputs": [],
   "source": [
    "def cube(number):\n",
    "    print('id(number) before modifying number:', id(number))\n",
    "    number **= 3\n",
    "    print('id(number) after modifying number:', id(number))\n",
    "    return number"
   ]
  },
  {
   "cell_type": "code",
   "execution_count": 45,
   "metadata": {},
   "outputs": [
    {
     "name": "stdout",
     "output_type": "stream",
     "text": [
      "id(number) before modifying number: 2638483947952\n",
      "id(number) after modifying number: 2638592821712\n",
      "343\n"
     ]
    }
   ],
   "source": [
    "print(cube(x))"
   ]
  },
  {
   "cell_type": "code",
   "execution_count": 46,
   "metadata": {},
   "outputs": [
    {
     "name": "stdout",
     "output_type": "stream",
     "text": [
      "x = 7; id(x) = 2638483947952\n"
     ]
    }
   ],
   "source": [
    "print(f'x = {x}; id(x) = {id(x)}') #The original (global) value and object ID remain unchanged."
   ]
  },
  {
   "cell_type": "markdown",
   "metadata": {
    "slideshow": {
     "slide_type": "slide"
    }
   },
   "source": [
    "# Stacks\n",
    "* A stack is an abstract data type (conceptual collection) containing elements that are \"piled\" on top of one another.\n",
    "* A good analogy is a pile of dishes. \n",
    "* When you add a dish to the pile, you place it on the top. \n",
    "* When you remove a dish from the pile, you take it from the top. \n",
    "* Stacks are generally referred to as last-in, first-out (LIFO) data structures."
   ]
  },
  {
   "cell_type": "markdown",
   "metadata": {
    "slideshow": {
     "slide_type": "-"
    }
   },
   "source": [
    "### The Function-Call Stack\n",
    "* The Function-call stack is used to support the function call/return mechanism. \n",
    "* Eventually, each function must return program control to the point at which it was called. \n",
    "* For each function call, the interpreter pushes an entry called a **stack frame** (or an activation record) onto the stack. "
   ]
  },
  {
   "cell_type": "markdown",
   "metadata": {
    "slideshow": {
     "slide_type": "subslide"
    }
   },
   "source": [
    "### The Stack Frame\n",
    "* The stack frame contains the return location that the called function needs so it can return control to its caller. \n",
    "* When the function finishes executing, the interpreter pops the function’s stack frame, and control transfers to the return location that was popped.\n",
    "* The top stack frame always contains the information the currently executing function needs to return control to its caller. "
   ]
  },
  {
   "cell_type": "markdown",
   "metadata": {},
   "source": [
    "![Stack Frames Being Built](images/Stack.png \"Stack Frames Being Built\")"
   ]
  },
  {
   "cell_type": "markdown",
   "metadata": {
    "slideshow": {
     "slide_type": "subslide"
    }
   },
   "source": [
    "### Local Variables and Stack Frames\n",
    "* Most functions have one or more parameters and possibly local variables that need to:\n",
    "    * exist while the function is executing,\n",
    "    * remain active if the function makes calls to other functions, and\n",
    "    * “go away” when the function returns to its caller.\n",
    "* The stack frame's information therefore includes all local variables."
   ]
  },
  {
   "cell_type": "code",
   "execution_count": 47,
   "metadata": {
    "slideshow": {
     "slide_type": "subslide"
    }
   },
   "outputs": [],
   "source": [
    "def function1():\n",
    "    #This function is called first.\n",
    "    f1var = 10 #the stack frame for this function will allocate space for this local variable\n",
    "    f1var += function2() #a stack-frame for function 2 is added when this is called, and then\n",
    "                         #removed after its termination\n",
    "    return f1var"
   ]
  },
  {
   "cell_type": "code",
   "execution_count": 48,
   "metadata": {},
   "outputs": [],
   "source": [
    "def function2():\n",
    "    #This function is called second.  Its stack frame will be placed ON TOP of function1's, \n",
    "    #ad during its execution f1var is inaccessible.\n",
    "    f2var = 5\n",
    "    return 2**f2var"
   ]
  },
  {
   "cell_type": "code",
   "execution_count": 49,
   "metadata": {},
   "outputs": [
    {
     "name": "stdout",
     "output_type": "stream",
     "text": [
      "42\n"
     ]
    }
   ],
   "source": [
    "somenumber = function1() #a stack-frame for function1 is added when this is called, \n",
    "                         #and then subsequently removed after its termination.\n",
    "print(somenumber)"
   ]
  },
  {
   "cell_type": "markdown",
   "metadata": {
    "slideshow": {
     "slide_type": "slide"
    }
   },
   "source": [
    "# Intro to Data Science: Measures of Dispersion\n",
    "* We previously considered the measures of central tendency—mean, median and mode. \n",
    "* These help us categorize \\\"standard\\\" values in a group used for analysis purposes.\n",
    "* An entire group in this fashion is called a **population**. \n",
    "* Populations may be small, but on many occasions they are massive (ex: number of expected vaccine recipients).\n",
    "* For practical reasons, scientific organizations must work with carefully selected small, representative subsets of the population known as **samples**.\n"
   ]
  },
  {
   "cell_type": "markdown",
   "metadata": {
    "slideshow": {
     "slide_type": "subslide"
    }
   },
   "source": [
    "* Here we introduce **measures of dispersion** (also called **measures of variability**) that help us analyze how **spread out** the values are. \n",
    "* We’ll calculate each measure of dispersion both by hand and with functions from the module `statistics`, using the following population of 10 six-sided die rolls:\n",
    "> 1, 3, 4, 2, 6, 5, 3, 4, 5, 2"
   ]
  },
  {
   "cell_type": "markdown",
   "metadata": {
    "slideshow": {
     "slide_type": "subslide"
    }
   },
   "source": [
    "### Variance\n",
    "* To determine variance, begin with the mean of these values—3.5. \n",
    "* Next, subtract the mean from every die value:\n",
    "> -2.5, -0.5, 0.5, -1.5, 2.5, 1.5, -0.5, 0.5, 1.5, -1.5\n",
    "* Then, square each of these results (yielding only positives):\n",
    "> 6.25, 0.25, 0.25, 2.25, 6.25, 2.25, 0.25, 0.25, 2.25, 2.25\n",
    "* Finally, calculate the mean of these squares, which is 2.25 (22.5 / 10)—this is the **population\n",
    "variance**. "
   ]
  },
  {
   "cell_type": "markdown",
   "metadata": {
    "slideshow": {
     "slide_type": "subslide"
    }
   },
   "source": [
    "### Computation Considerations\n",
    "* Squaring the difference between each die value and the mean of all die values heavily emphasizes **outliers**—the values that are farthest from the mean.\n",
    "* Outliers are an important factor in many data analysis applications.\n",
    "* We can use the `statistics` module’s `pvariance` function to compute the variance.\n",
    "* If we want to _deemphasize_ outliers we can use an alternative measure of dispersion called mean absolute deviation (which requires a separate module/function).\n"
   ]
  },
  {
   "cell_type": "markdown",
   "metadata": {},
   "source": [
    "![Formula for Variance and MAD](images/VarVsMAD.png \"Formula for Variance and MAD\")"
   ]
  },
  {
   "cell_type": "code",
   "execution_count": 50,
   "metadata": {
    "slideshow": {
     "slide_type": "subslide"
    }
   },
   "outputs": [
    {
     "name": "stdout",
     "output_type": "stream",
     "text": [
      "2.25\n"
     ]
    }
   ],
   "source": [
    "import statistics\n",
    "print(statistics.pvariance([1, 3, 4, 2, 6, 5, 3, 4, 5, 2]))"
   ]
  },
  {
   "cell_type": "code",
   "execution_count": 51,
   "metadata": {},
   "outputs": [],
   "source": [
    "def mad(dlist):\n",
    "    msum=0\n",
    "    mu=statistics.mean(dlist)\n",
    "    for ditem in dlist:\n",
    "        msum+=abs(ditem-mu)\n",
    "    return msum/len(dlist)"
   ]
  },
  {
   "cell_type": "code",
   "execution_count": 52,
   "metadata": {},
   "outputs": [
    {
     "name": "stdout",
     "output_type": "stream",
     "text": [
      "1.3\n"
     ]
    }
   ],
   "source": [
    "print(mad([1, 3, 4, 2, 6, 5, 3, 4, 5, 2]))"
   ]
  },
  {
   "cell_type": "markdown",
   "metadata": {
    "slideshow": {
     "slide_type": "subslide"
    }
   },
   "source": [
    "### Standard Deviation\n",
    "* The standard deviation is the square root of the variance (in this case, 1.5).\n",
    "* The smaller the variance and standard deviation are, the closer the data values are to the mean and the less overall dispersion (that is, spread) there is between the values and the mean. \n",
    "* The `statistics` module’s `pstdev` function can be used to compute the standard deviation."
   ]
  },
  {
   "cell_type": "code",
   "execution_count": 53,
   "metadata": {
    "slideshow": {
     "slide_type": "-"
    }
   },
   "outputs": [
    {
     "name": "stdout",
     "output_type": "stream",
     "text": [
      "1.5\n",
      "1.5\n"
     ]
    }
   ],
   "source": [
    "import math\n",
    "print(math.sqrt(statistics.pvariance([1, 3, 4, 2, 6, 5, 3, 4, 5, 2])))\n",
    "print(statistics.pstdev([1, 3, 4, 2, 6, 5, 3, 4, 5, 2]))\n"
   ]
  },
  {
   "cell_type": "markdown",
   "metadata": {
    "slideshow": {
     "slide_type": "subslide"
    }
   },
   "source": [
    "### Advantage of Population Standard Deviation vs. Population Variance\n",
    "* Suppose you’ve recorded the March Fahrenheit temperatures in your area. \n",
    "* You might have 31 numbers such as 19, 32, 28 and 35. \n",
    "* The units for these numbers are degrees.\n",
    "* When you square your temperatures to calculate the population variance, the units of the population variance become **“degrees squared.”**\n",
    "* When you take the square root of the population variance to calculate the population standard deviation, the units once again become **degrees**, which are line with your base measurements."
   ]
  },
  {
   "cell_type": "code",
   "execution_count": null,
   "metadata": {},
   "outputs": [],
   "source": []
  }
 ],
 "metadata": {
  "celltoolbar": "Slideshow",
  "kernelspec": {
   "display_name": "Python 3 (ipykernel)",
   "language": "python",
   "name": "python3"
  },
  "language_info": {
   "codemirror_mode": {
    "name": "ipython",
    "version": 3
   },
   "file_extension": ".py",
   "mimetype": "text/x-python",
   "name": "python",
   "nbconvert_exporter": "python",
   "pygments_lexer": "ipython3",
   "version": "3.10.8"
  }
 },
 "nbformat": 4,
 "nbformat_minor": 4
}
