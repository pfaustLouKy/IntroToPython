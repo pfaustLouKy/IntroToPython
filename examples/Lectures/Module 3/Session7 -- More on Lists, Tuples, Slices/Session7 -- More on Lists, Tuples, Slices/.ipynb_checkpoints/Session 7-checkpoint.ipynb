{
 "cells": [
  {
   "cell_type": "markdown",
   "metadata": {
    "slideshow": {
     "slide_type": "slide"
    }
   },
   "source": [
    "## What We Looked At Last Time\n",
    "* We wrapped up our discussion of functions in Python\n",
    "* We introduced methods in Python, which are effectively functions tied to objects and their properties.\n",
    "* We had an extensive walk-through of many of the details related to lists in Python."
   ]
  },
  {
   "cell_type": "markdown",
   "metadata": {
    "slideshow": {
     "slide_type": "subslide"
    }
   },
   "source": [
    "## What We'll Look At Today\n",
    "* We'll continue discussion of commonly utilized Python List methods.\n",
    "* We'll look at how slices can be used to access and copy elements of a list in an extremely flexible manner.\n",
    "* We'll look at tuples (effectively immutable lists) in a bit more detail."
   ]
  },
  {
   "cell_type": "markdown",
   "metadata": {
    "slideshow": {
     "slide_type": "slide"
    }
   },
   "source": [
    "### Reminder: Accessing Elements of a List\n",
    "* Reference a single list element by writing the list’s name followed by the element’s **index** enclosed in `[]` (the **subscription operator**). \n",
    "* If a positive index is used, this is exactly like reference a zero-based array (i.e. the 1st position is referenced by [0], the fourth by [3], etc.)"
   ]
  },
  {
   "cell_type": "markdown",
   "metadata": {
    "slideshow": {
     "slide_type": "subslide"
    }
   },
   "source": [
    "![Diagram of a list named c labeled with its element names](ch05images/AAEMYRO0.png \"Diagram of a list named c labeled with its element names\")"
   ]
  },
  {
   "cell_type": "markdown",
   "metadata": {
    "slideshow": {
     "slide_type": "subslide"
    }
   },
   "source": [
    "### Accessing Valid Elements\n",
    "* The `len` function returns the number of elements in a list.\n",
    "* Reminder: if a list has **n** elements, only indices **0** to **n-1** are valid.\n",
    "* Accessing an invalid index (e.g. one larger than the size) returns a `list index of range` error."
   ]
  },
  {
   "cell_type": "code",
   "execution_count": 1,
   "metadata": {},
   "outputs": [
    {
     "name": "stdout",
     "output_type": "stream",
     "text": [
      "0\n",
      "5\n"
     ]
    }
   ],
   "source": [
    "c = [-45, 6, 0, 72, 1543] #Reminder -- always separate list elements using commas!\n",
    "print(c[2])\n",
    "print(len(c))"
   ]
  },
  {
   "cell_type": "code",
   "execution_count": 2,
   "metadata": {},
   "outputs": [
    {
     "ename": "IndexError",
     "evalue": "list index out of range",
     "output_type": "error",
     "traceback": [
      "\u001b[1;31m---------------------------------------------------------------------------\u001b[0m",
      "\u001b[1;31mIndexError\u001b[0m                                Traceback (most recent call last)",
      "Cell \u001b[1;32mIn[2], line 1\u001b[0m\n\u001b[1;32m----> 1\u001b[0m \u001b[38;5;28mprint\u001b[39m(\u001b[43mc\u001b[49m\u001b[43m[\u001b[49m\u001b[38;5;241;43m5\u001b[39;49m\u001b[43m]\u001b[49m)\n",
      "\u001b[1;31mIndexError\u001b[0m: list index out of range"
     ]
    }
   ],
   "source": [
    "print(c[5])"
   ]
  },
  {
   "cell_type": "markdown",
   "metadata": {
    "slideshow": {
     "slide_type": "subslide"
    }
   },
   "source": [
    "### Accessing Elements from the End of the List with Negative Indices\n",
    "* Lists can be accessed from the end by using _negative indices_:\n",
    "![Diagram of the list c labeled with its negative indices](ch05images/AAEMYRO0_2.png \"Diagram of the list c labeled with its negative indices\")"
   ]
  },
  {
   "cell_type": "code",
   "execution_count": 3,
   "metadata": {},
   "outputs": [
    {
     "name": "stdout",
     "output_type": "stream",
     "text": [
      "72\n"
     ]
    }
   ],
   "source": [
    "c = [-45, 6, 0, 72, 1543]\n",
    "print(c[-2])"
   ]
  },
  {
   "cell_type": "code",
   "execution_count": 4,
   "metadata": {},
   "outputs": [
    {
     "name": "stdout",
     "output_type": "stream",
     "text": [
      "-45\n"
     ]
    }
   ],
   "source": [
    "print(c[-5]) #Make sure you understand why -5 is a valid index but 5 isn't."
   ]
  },
  {
   "cell_type": "markdown",
   "metadata": {
    "slideshow": {
     "slide_type": "subslide"
    }
   },
   "source": [
    "### Indices Must Be Integers or Integer Expressions\n",
    "* You can use any arithmetic, function(s), etc. in the subscription, but it must evaluate to an _integer_.\n",
    "* The exceptions are slices (which we'll see below), but even then, each of _their_ components must evaluate to an integer or be omitted.\n",
    "* Using other expressions for indices (decimals, lists, etc.) will result in a `TypeError`"
   ]
  },
  {
   "cell_type": "code",
   "execution_count": 5,
   "metadata": {
    "slideshow": {
     "slide_type": "subslide"
    }
   },
   "outputs": [
    {
     "name": "stdout",
     "output_type": "stream",
     "text": [
      "72\n"
     ]
    }
   ],
   "source": [
    "c = [-45, 6, 0, 72, 1543]\n",
    "a = 10\n",
    "b = 7\n",
    "print(c[a-b])"
   ]
  },
  {
   "cell_type": "code",
   "execution_count": 9,
   "metadata": {},
   "outputs": [
    {
     "name": "stdout",
     "output_type": "stream",
     "text": [
      "0\n"
     ]
    }
   ],
   "source": [
    "print(c[a//5])"
   ]
  },
  {
   "cell_type": "code",
   "execution_count": 7,
   "metadata": {},
   "outputs": [
    {
     "ename": "TypeError",
     "evalue": "list indices must be integers or slices, not list",
     "output_type": "error",
     "traceback": [
      "\u001b[1;31m---------------------------------------------------------------------------\u001b[0m",
      "\u001b[1;31mTypeError\u001b[0m                                 Traceback (most recent call last)",
      "Cell \u001b[1;32mIn[7], line 1\u001b[0m\n\u001b[1;32m----> 1\u001b[0m \u001b[38;5;28mprint\u001b[39m(\u001b[43mc\u001b[49m\u001b[43m[\u001b[49m\u001b[43m[\u001b[49m\u001b[38;5;241;43m0\u001b[39;49m\u001b[43m,\u001b[49m\u001b[38;5;241;43m2\u001b[39;49m\u001b[43m,\u001b[49m\u001b[38;5;241;43m4\u001b[39;49m\u001b[43m]\u001b[49m\u001b[43m]\u001b[49m)\n",
      "\u001b[1;31mTypeError\u001b[0m: list indices must be integers or slices, not list"
     ]
    }
   ],
   "source": [
    "print(c[[0,2,4]])"
   ]
  },
  {
   "cell_type": "markdown",
   "metadata": {
    "slideshow": {
     "slide_type": "slide"
    }
   },
   "source": [
    "### Mutable and Immutable Sequences \n",
    "* Lists are **mutable**.  We can change a list object's elements after creation.\n",
    "* Python’s string and tuple sequences are **immutable**. If we want different elements, we must create a new string or tuple!"
   ]
  },
  {
   "cell_type": "code",
   "execution_count": 10,
   "metadata": {},
   "outputs": [],
   "source": [
    "s = 'hello'"
   ]
  },
  {
   "cell_type": "code",
   "execution_count": 11,
   "metadata": {},
   "outputs": [
    {
     "data": {
      "text/plain": [
       "'h'"
      ]
     },
     "execution_count": 11,
     "metadata": {},
     "output_type": "execute_result"
    }
   ],
   "source": [
    "s[0]"
   ]
  },
  {
   "cell_type": "code",
   "execution_count": 12,
   "metadata": {},
   "outputs": [
    {
     "ename": "TypeError",
     "evalue": "'str' object does not support item assignment",
     "output_type": "error",
     "traceback": [
      "\u001b[1;31m---------------------------------------------------------------------------\u001b[0m",
      "\u001b[1;31mTypeError\u001b[0m                                 Traceback (most recent call last)",
      "Cell \u001b[1;32mIn[12], line 1\u001b[0m\n\u001b[1;32m----> 1\u001b[0m s[\u001b[38;5;241m0\u001b[39m] \u001b[38;5;241m=\u001b[39m \u001b[38;5;124m'\u001b[39m\u001b[38;5;124mH\u001b[39m\u001b[38;5;124m'\u001b[39m\n",
      "\u001b[1;31mTypeError\u001b[0m: 'str' object does not support item assignment"
     ]
    }
   ],
   "source": [
    "s[0] = 'H'"
   ]
  },
  {
   "cell_type": "markdown",
   "metadata": {
    "slideshow": {
     "slide_type": "subslide"
    }
   },
   "source": [
    "### Appending to a List with +=\n",
    "* Lists can grow dynamically to accommodate new items using `+=`, in lieu of `append` or `extend`.\n",
    "* When using `+=` in this context, the right operand must itself be an _iterable_.  Otherwise a `TypeError` occurs.\n"
   ]
  },
  {
   "cell_type": "code",
   "execution_count": 13,
   "metadata": {},
   "outputs": [
    {
     "name": "stdout",
     "output_type": "stream",
     "text": [
      "['a', 'b', 'c', 1, 2, 3]\n"
     ]
    }
   ],
   "source": [
    "a_list = ['a','b','c']\n",
    "for number in range(1, 4):\n",
    "    a_list += [number]\n",
    "print(a_list)"
   ]
  },
  {
   "cell_type": "code",
   "execution_count": 14,
   "metadata": {},
   "outputs": [
    {
     "ename": "TypeError",
     "evalue": "'int' object is not iterable",
     "output_type": "error",
     "traceback": [
      "\u001b[1;31m---------------------------------------------------------------------------\u001b[0m",
      "\u001b[1;31mTypeError\u001b[0m                                 Traceback (most recent call last)",
      "Cell \u001b[1;32mIn[14], line 1\u001b[0m\n\u001b[1;32m----> 1\u001b[0m a_list\u001b[38;5;241m+\u001b[39m\u001b[38;5;241m=\u001b[39m\u001b[38;5;241m4\u001b[39m\n",
      "\u001b[1;31mTypeError\u001b[0m: 'int' object is not iterable"
     ]
    }
   ],
   "source": [
    "a_list+=4"
   ]
  },
  {
   "cell_type": "code",
   "execution_count": 15,
   "metadata": {
    "slideshow": {
     "slide_type": "subslide"
    }
   },
   "outputs": [
    {
     "name": "stdout",
     "output_type": "stream",
     "text": [
      "['P', 'y', 't', 'h', 'o', 'n']\n"
     ]
    }
   ],
   "source": [
    "letters = []\n",
    "letters += 'Python'\n",
    "print(letters)"
   ]
  },
  {
   "cell_type": "markdown",
   "metadata": {
    "slideshow": {
     "slide_type": "subslide"
    }
   },
   "source": [
    "### Concatenating Lists with +\n",
    "* Can **concatenate** two lists, two tuples or two strings using `+` to create a cumulative sequence of the same type.\n",
    "* Unlike simple assignment (e.g. `list1=list2`), the result of this operation is _new_, meaning changes to its references (except embedded objects) will not impact the original operands."
   ]
  },
  {
   "cell_type": "code",
   "execution_count": 16,
   "metadata": {
    "slideshow": {
     "slide_type": "subslide"
    }
   },
   "outputs": [
    {
     "name": "stdout",
     "output_type": "stream",
     "text": [
      "[10, 20, 30, 40, 50]\n"
     ]
    }
   ],
   "source": [
    "list1 = [10, 20, 30]\n",
    "list2 = [40, 50]\n",
    "concat_list = list1 + list2\n",
    "print(concat_list)"
   ]
  },
  {
   "cell_type": "code",
   "execution_count": 17,
   "metadata": {},
   "outputs": [
    {
     "name": "stdout",
     "output_type": "stream",
     "text": [
      "[10, 20, 30]\n",
      "[100, 20, 30, 40, 50]\n",
      "[100, 20, 30, 40, 50]\n"
     ]
    }
   ],
   "source": [
    "concat_list2=concat_list\n",
    "concat_list[0]=100\n",
    "print(list1)\n",
    "print(concat_list)\n",
    "print(concat_list2)"
   ]
  },
  {
   "cell_type": "markdown",
   "metadata": {
    "slideshow": {
     "slide_type": "slide"
    }
   },
   "source": [
    "### Using `for` and `range` to Access List Indices and Values\n",
    "* It is simple to use the `len` function and `range` to iterate over the indices of a list.\n",
    "* If the indices are _themselves_ required for some information or operation, this is very appropriate.\n",
    "* In general, if only the list elements are required, this is not generally considered \"Pythonic\", and instead it is better to simply treat the list as iterable."
   ]
  },
  {
   "cell_type": "code",
   "execution_count": 22,
   "metadata": {
    "slideshow": {
     "slide_type": "subslide"
    }
   },
   "outputs": [
    {
     "name": "stdout",
     "output_type": "stream",
     "text": [
      "0: 100\n",
      "1: 20\n",
      "2: 30\n",
      "3: 40\n",
      "4: 50\n"
     ]
    }
   ],
   "source": [
    "for i in range(len(concat_list)): #Appropriate if want to print out the indices alongside the values\n",
    "    print(f'{i}: {concat_list[i]}')"
   ]
  },
  {
   "cell_type": "code",
   "execution_count": 18,
   "metadata": {
    "scrolled": true
   },
   "outputs": [
    {
     "name": "stdout",
     "output_type": "stream",
     "text": [
      "100\n",
      "20\n",
      "30\n",
      "40\n",
      "50\n"
     ]
    }
   ],
   "source": [
    "for listele in concat_list: #Preferred if we don't want the indices for any reason in the loop\n",
    "    print(f'{listele}')"
   ]
  },
  {
   "cell_type": "markdown",
   "metadata": {
    "slideshow": {
     "slide_type": "subslide"
    }
   },
   "source": [
    "### Comparison Operators and Lists\n",
    "* List equality `==` compares list elements one-by-one -- if all match, than the expression evaluates to true.\n",
    "* Other comparison operators process elements of the two lists (`list1` and `list2`) sequentially and in parallel.\n",
    "    * As soon as a non-equal pair of elements is encountered, they are compared using the associated comparison operator (>, <=, etc.)\n",
    "    * If the end of one list is reached with all other items equal, it is considered  \"less than\" the other."
   ]
  },
  {
   "cell_type": "code",
   "execution_count": 19,
   "metadata": {
    "slideshow": {
     "slide_type": "subslide"
    }
   },
   "outputs": [],
   "source": [
    "a = [1, 2, 3]\n",
    "b = [1, 2, 3]\n",
    "c = [1, 2, 3, 4]\n",
    "d = [1, 5, 10]"
   ]
  },
  {
   "cell_type": "code",
   "execution_count": 20,
   "metadata": {},
   "outputs": [
    {
     "name": "stdout",
     "output_type": "stream",
     "text": [
      "True\n",
      "False\n"
     ]
    }
   ],
   "source": [
    "print(a==b)\n",
    "print(c==a)"
   ]
  },
  {
   "cell_type": "code",
   "execution_count": 22,
   "metadata": {},
   "outputs": [
    {
     "name": "stdout",
     "output_type": "stream",
     "text": [
      "True\n",
      "True\n",
      "False\n"
     ]
    }
   ],
   "source": [
    "print(a>=b)\n",
    "print(c>a)\n",
    "print(c>d)"
   ]
  },
  {
   "cell_type": "markdown",
   "metadata": {
    "slideshow": {
     "slide_type": "slide"
    }
   },
   "source": [
    "## More on Tuples\n",
    "* Recall that tuples are **immutable** equivalents to lists.\n",
    "* Tuples with elements can be created with or without parentheses, but printing tuples will always display parentheses.\n",
    "* To create an empty tuple, use empty parentheses.\n",
    "* A single-element tuple requires a comma after the element (with or without parentheses)"
   ]
  },
  {
   "cell_type": "code",
   "execution_count": 28,
   "metadata": {},
   "outputs": [
    {
     "name": "stdout",
     "output_type": "stream",
     "text": [
      "3\n",
      "True\n"
     ]
    }
   ],
   "source": [
    "mytuple = (1, 'a', 'platypus')\n",
    "yourtuple = 1, 'a', 'platypus'\n",
    "print(len(mytuple))\n",
    "print(mytuple == yourtuple)"
   ]
  },
  {
   "cell_type": "code",
   "execution_count": 23,
   "metadata": {
    "slideshow": {
     "slide_type": "subslide"
    }
   },
   "outputs": [
    {
     "name": "stdout",
     "output_type": "stream",
     "text": [
      "('red', 5, 'yellow')\n"
     ]
    }
   ],
   "source": [
    "anothertuple = 'red',5,'yellow'\n",
    "print(anothertuple)"
   ]
  },
  {
   "cell_type": "code",
   "execution_count": 24,
   "metadata": {},
   "outputs": [
    {
     "name": "stdout",
     "output_type": "stream",
     "text": [
      "0\n"
     ]
    }
   ],
   "source": [
    "empty_tuple = ()\n",
    "print(len(empty_tuple))"
   ]
  },
  {
   "cell_type": "code",
   "execution_count": 25,
   "metadata": {},
   "outputs": [
    {
     "name": "stdout",
     "output_type": "stream",
     "text": [
      "('red',)\n"
     ]
    }
   ],
   "source": [
    "a_singleton_tuple = ('red',)  # note the comma\n",
    "print(a_singleton_tuple)"
   ]
  },
  {
   "cell_type": "markdown",
   "metadata": {
    "slideshow": {
     "slide_type": "subslide"
    }
   },
   "source": [
    "### Accessing Tuple Elements\n",
    "* It is common to access tuple elements directly rather than iterating over them.\n",
    "* That said, tuples can be treated as iterables in most regards if needed."
   ]
  },
  {
   "cell_type": "code",
   "execution_count": 33,
   "metadata": {},
   "outputs": [
    {
     "name": "stdout",
     "output_type": "stream",
     "text": [
      "33361\n"
     ]
    }
   ],
   "source": [
    "time_tuple = (9, 16, 1)\n",
    "print(time_tuple[0] * 3600 + time_tuple[1] * 60 + time_tuple[2])"
   ]
  },
  {
   "cell_type": "code",
   "execution_count": 34,
   "metadata": {},
   "outputs": [
    {
     "name": "stdout",
     "output_type": "stream",
     "text": [
      "26\n"
     ]
    }
   ],
   "source": [
    "sumunits=0\n",
    "for timeunit in time_tuple:\n",
    "    sumunits+=timeunit\n",
    "print(sumunits)\n"
   ]
  },
  {
   "cell_type": "markdown",
   "metadata": {
    "slideshow": {
     "slide_type": "subslide"
    }
   },
   "source": [
    "### Adding Items to a String or Tuple\n",
    "* `+=` _can_ be used with strings and tuples, even though they’re _immutable_. \n",
    "* But this is simply because new objects are created (remember how addition worked with lists)!"
   ]
  },
  {
   "cell_type": "code",
   "execution_count": 26,
   "metadata": {},
   "outputs": [
    {
     "name": "stdout",
     "output_type": "stream",
     "text": [
      "(10, 20, 30, 40, 50)\n",
      "(10, 20, 30)\n"
     ]
    }
   ],
   "source": [
    "tuple1 = (10, 20, 30)\n",
    "tuple2 = tuple1\n",
    "tuple1 += (40, 50)\n",
    "print(tuple1)\n",
    "print(tuple2)"
   ]
  },
  {
   "cell_type": "markdown",
   "metadata": {
    "slideshow": {
     "slide_type": "subslide"
    }
   },
   "source": [
    "### Tuples And Mutable Objects\n",
    "* Just because a tuple itself is immutable, does not mean it cannot _contain_ mutable objects. \n",
    "* It's easiest to think of the objects in a tuple as immutable _references_ -- while these references cannot be added or removed, any compound objects and data they reference _can_ be changed. "
   ]
  },
  {
   "cell_type": "code",
   "execution_count": 36,
   "metadata": {},
   "outputs": [
    {
     "name": "stdout",
     "output_type": "stream",
     "text": [
      "('Allison', 'Bryll', [98, 85, 87])\n"
     ]
    }
   ],
   "source": [
    "student_tuple = ('Allison', 'Bryll', [98, 75, 87])\n",
    "student_tuple[2][1] = 85\n",
    "print(student_tuple)"
   ]
  },
  {
   "cell_type": "code",
   "execution_count": 28,
   "metadata": {},
   "outputs": [
    {
     "ename": "NameError",
     "evalue": "name 'student_tuple' is not defined",
     "output_type": "error",
     "traceback": [
      "\u001b[1;31m---------------------------------------------------------------------------\u001b[0m",
      "\u001b[1;31mNameError\u001b[0m                                 Traceback (most recent call last)",
      "Cell \u001b[1;32mIn[28], line 3\u001b[0m\n\u001b[0;32m      1\u001b[0m \u001b[38;5;66;03m#Neither of the below are valid -- make sure you understand why!\u001b[39;00m\n\u001b[0;32m      2\u001b[0m \u001b[38;5;66;03m#student_tuple[0]='Amanda'\u001b[39;00m\n\u001b[1;32m----> 3\u001b[0m \u001b[43mstudent_tuple\u001b[49m[\u001b[38;5;241m1\u001b[39m][\u001b[38;5;241m3\u001b[39m]\u001b[38;5;241m=\u001b[39m\u001b[38;5;124m'\u001b[39m\u001b[38;5;124mi\u001b[39m\u001b[38;5;124m'\u001b[39m\n",
      "\u001b[1;31mNameError\u001b[0m: name 'student_tuple' is not defined"
     ]
    }
   ],
   "source": [
    "#Neither of the below are valid -- make sure you understand why!\n",
    "student_tuple[0]='Amanda'\n",
    "student_tuple[1][3]='i'\n"
   ]
  },
  {
   "cell_type": "markdown",
   "metadata": {
    "slideshow": {
     "slide_type": "subslide"
    }
   },
   "source": [
    "## Unpacking Sequences\n",
    "* Tuples are considered to be **packed** collections of data.\n",
    "* We can **unpack** any sequence’s elements by assigning the sequence to a comma-separated list of variables of the same length.\n",
    "* The Underscore character (\\_) is commonly used in place of tuple elements ignored in unpacking.\n",
    "* Lists and strings can also be unpacked in this manner as well, but it is less common to do so."
   ]
  },
  {
   "cell_type": "code",
   "execution_count": 29,
   "metadata": {
    "slideshow": {
     "slide_type": "subslide"
    }
   },
   "outputs": [
    {
     "name": "stdout",
     "output_type": "stream",
     "text": [
      "The student's last name is Bryll, and their first test grade is 98.\n"
     ]
    }
   ],
   "source": [
    "\n",
    "student_tuple = ('Allison','Bryll',[98, 85, 87])\n",
    "first_name, lastname, test_grades = student_tuple\n",
    "print(f'The student\\'s last name is {lastname}, and their first test grade is {test_grades[0]}.')"
   ]
  },
  {
   "cell_type": "code",
   "execution_count": 30,
   "metadata": {},
   "outputs": [
    {
     "ename": "ValueError",
     "evalue": "too many values to unpack (expected 2)",
     "output_type": "error",
     "traceback": [
      "\u001b[1;31m---------------------------------------------------------------------------\u001b[0m",
      "\u001b[1;31mValueError\u001b[0m                                Traceback (most recent call last)",
      "Cell \u001b[1;32mIn[30], line 1\u001b[0m\n\u001b[1;32m----> 1\u001b[0m firstname, lastname \u001b[38;5;241m=\u001b[39m student_tuple\n",
      "\u001b[1;31mValueError\u001b[0m: too many values to unpack (expected 2)"
     ]
    }
   ],
   "source": [
    "firstname, lastname = student_tuple"
   ]
  },
  {
   "cell_type": "code",
   "execution_count": 32,
   "metadata": {},
   "outputs": [
    {
     "name": "stdout",
     "output_type": "stream",
     "text": [
      "Allison Bryll\n"
     ]
    }
   ],
   "source": [
    "firstname, lastname, _ = student_tuple\n",
    "print(firstname,lastname)"
   ]
  },
  {
   "cell_type": "code",
   "execution_count": 33,
   "metadata": {
    "slideshow": {
     "slide_type": "subslide"
    }
   },
   "outputs": [
    {
     "name": "stdout",
     "output_type": "stream",
     "text": [
      "e\n"
     ]
    }
   ],
   "source": [
    "c1, c2, c3, c4, c5  = 'hello'\n",
    "print(c2)"
   ]
  },
  {
   "cell_type": "code",
   "execution_count": 34,
   "metadata": {},
   "outputs": [
    {
     "name": "stdout",
     "output_type": "stream",
     "text": [
      "2 3 5\n"
     ]
    }
   ],
   "source": [
    "num1, num2, num3 = [2, 3, 5]\n",
    "print(f'{num1} {num2} {num3}')"
   ]
  },
  {
   "cell_type": "markdown",
   "metadata": {
    "slideshow": {
     "slide_type": "subslide"
    }
   },
   "source": [
    "### Using the enumerate function\n",
    "* The preferred way to access an element’s index _and_ value is the built-in function **`enumerate`**. \n",
    "* Receives an iterable and creates an iterator that, for each element, returns a tuple containing the element’s index and value.\n",
    "* `for` loops can then iterate over index and value simultaneously using unpack notation.\n",
    "* Note: Built-in function **`list`** creates a list from any compatible sequence, while **`tuple`** creates a tuple from any compatible sequence."
   ]
  },
  {
   "cell_type": "code",
   "execution_count": 36,
   "metadata": {
    "slideshow": {
     "slide_type": "subslide"
    }
   },
   "outputs": [
    {
     "name": "stdout",
     "output_type": "stream",
     "text": [
      "[(0, 'red'), (1, 'orange'), (2, 'yellow')]\n",
      "((0, 'red'), (1, 'orange'), (2, 'yellow'))\n"
     ]
    }
   ],
   "source": [
    "colors = ['red', 'orange', 'yellow']\n",
    "print(list(enumerate(colors)))\n",
    "print(tuple(enumerate(colors)))"
   ]
  },
  {
   "cell_type": "code",
   "execution_count": 37,
   "metadata": {},
   "outputs": [
    {
     "name": "stdout",
     "output_type": "stream",
     "text": [
      "Color 0 in the list is red.\n",
      "Color 1 in the list is orange.\n",
      "Color 2 in the list is yellow.\n"
     ]
    }
   ],
   "source": [
    "for index, value in enumerate(colors):\n",
    "    print(f'Color {index} in the list is {value}.')"
   ]
  },
  {
   "cell_type": "markdown",
   "metadata": {
    "slideshow": {
     "slide_type": "subslide"
    }
   },
   "source": [
    "### Creating a Primitive Bar Chart\n",
    "* We can create a simple, horizontal bar chart filling in a particular character (ex: _*_) from left to right to indicate magnitude.\n",
    "* The expression ```\"*\" * value```\n",
    "creates a string consisting of `value` asterisks. \n",
    "* When used with a sequence, the multiplication operator (`*`) _repeats_ the sequence.\n",
    "* Later we will see better visual tools for displays like this one using matplotlib and Seaborne."
   ]
  },
  {
   "cell_type": "code",
   "execution_count": 38,
   "metadata": {
    "slideshow": {
     "slide_type": "subslide"
    }
   },
   "outputs": [
    {
     "name": "stdout",
     "output_type": "stream",
     "text": [
      "\n",
      "Creating a bar chart from numbers:\n",
      "Index    Value  Bar\n",
      "    0      19   *******************\n",
      "    1       3   ***\n",
      "    2      15   ***************\n",
      "    3       7   *******\n",
      "    4      11   ***********\n"
     ]
    }
   ],
   "source": [
    "numbers = [19, 3, 15, 7, 11]\n",
    "\n",
    "print('\\nCreating a bar chart from numbers:')\n",
    "print(f'{\"Index\":>5} {\"Value\":>8}  Bar') #We'll cover the formatting conveyed by \">5\" and \">8\" in a future session \n",
    "\n",
    "for index, value in enumerate(numbers):\n",
    "    print(f'{index:>5}{value:>8}   {\"*\" * value}')"
   ]
  },
  {
   "cell_type": "markdown",
   "metadata": {
    "slideshow": {
     "slide_type": "slide"
    }
   },
   "source": [
    "# Sequence Slicing\n",
    "* A commonplace Python operation is to **slice** sequences to create new sequences of the same type containing _subsets_ of the original sequence. \n",
    "* Slice operations that do _not_ modify a sequence (i.e. those that simply access elements) function identically for lists, tuples and strings."
   ]
  },
  {
   "cell_type": "markdown",
   "metadata": {
    "slideshow": {
     "slide_type": "subslide"
    }
   },
   "source": [
    "### Specifying a Slice with Starting and Ending Indices\n",
    "* A sequence slice is specified using subscription (**[]**) notation with one or two colons (**:**) indicating separation between starting and ending indices.\n",
    "* Use of a single colon indicates a simple range, with the left operand indicating a starting index (inclusive) and the right indicating an ending index (exclusive)."
   ]
  },
  {
   "cell_type": "code",
   "execution_count": 50,
   "metadata": {},
   "outputs": [
    {
     "name": "stdout",
     "output_type": "stream",
     "text": [
      "[5, 7, 11, 13]\n"
     ]
    }
   ],
   "source": [
    "numbers = [2, 3, 5, 7, 11, 13, 17, 19]\n",
    "print(numbers[2:6])"
   ]
  },
  {
   "cell_type": "markdown",
   "metadata": {
    "slideshow": {
     "slide_type": "subslide"
    }
   },
   "source": [
    "### Specifying a Slice with Only One Index\n",
    "* If no starting index is included, `0` is assumed.\n",
    "* If no ending index is include, the last index _(length)_ is assumed."
   ]
  },
  {
   "cell_type": "code",
   "execution_count": 52,
   "metadata": {},
   "outputs": [
    {
     "name": "stdout",
     "output_type": "stream",
     "text": [
      "[2, 3, 5, 7, 11, 13]\n"
     ]
    }
   ],
   "source": [
    "print(numbers[:6])"
   ]
  },
  {
   "cell_type": "code",
   "execution_count": 59,
   "metadata": {},
   "outputs": [
    {
     "name": "stdout",
     "output_type": "stream",
     "text": [
      "[5, 7, 100, 13, 17, 19]\n",
      "[5, 7, 100, 13, 17]\n"
     ]
    }
   ],
   "source": [
    "print(numbers[2:len(numbers)])\n",
    "print(numbers[2:-1])"
   ]
  },
  {
   "cell_type": "markdown",
   "metadata": {
    "slideshow": {
     "slide_type": "subslide"
    }
   },
   "source": [
    "### Specifying a Slice with No Indices\n",
    "* Recall that assigning one list to another simply produces a second reference to the same object.\n",
    "* By contrast, referencing a list's elements (**[:]**) will instead produce a shallow copy, which can be useful in some circumstances."
   ]
  },
  {
   "cell_type": "code",
   "execution_count": 56,
   "metadata": {},
   "outputs": [
    {
     "name": "stdout",
     "output_type": "stream",
     "text": [
      "[2, 3, 5, 7, 100, 13, 17, 19]\n",
      "[2, 3, 5, 7, 100, 13, 17, 19]\n",
      "[2, 3, 5, 7, 11, 13, 17, 19]\n"
     ]
    }
   ],
   "source": [
    "numbers = [2, 3, 5, 7, 11, 13, 17, 19]\n",
    "numassign = numbers #references the same object\n",
    "numcopy = numbers[:] #a copy of the object\n",
    "numbers[4]=100\n",
    "print(numbers)\n",
    "print(numassign)\n",
    "print(numcopy)\n",
    "\n"
   ]
  },
  {
   "cell_type": "markdown",
   "metadata": {
    "slideshow": {
     "slide_type": "subslide"
    }
   },
   "source": [
    "### Slicing with Steps\n",
    "* A value after a second colon specifies the step-size when slicing (i.e. 1 = every element, 2 = every other element, etc.)\n",
    "* The step component can be used in conjunction with a starting index, stopping index, both, or neither."
   ]
  },
  {
   "cell_type": "code",
   "execution_count": 57,
   "metadata": {},
   "outputs": [
    {
     "name": "stdout",
     "output_type": "stream",
     "text": [
      "[10, 30, 50, 70]\n",
      "[0, 30, 60, 90]\n"
     ]
    }
   ],
   "source": [
    "morenumbers=[0, 10, 20, 30, 40, 50, 60, 70, 80, 90, 100]\n",
    "print(morenumbers[1:9:2])\n",
    "print(morenumbers[::3])"
   ]
  },
  {
   "cell_type": "markdown",
   "metadata": {
    "slideshow": {
     "slide_type": "subslide"
    }
   },
   "source": [
    "### Slicing with Negative Steps\n",
    "* Using a negative step component indicates elements are selected in reverse order (starting with the first index and going BACK to the second). \n",
    "* Positive or negative indices can be used in conjunction with negative steps."
   ]
  },
  {
   "cell_type": "code",
   "execution_count": 60,
   "metadata": {},
   "outputs": [
    {
     "name": "stdout",
     "output_type": "stream",
     "text": [
      "[100, 90, 80, 70, 60, 50, 40, 30, 20, 10, 0]\n"
     ]
    }
   ],
   "source": [
    "print(morenumbers[::-1]) #All elements in reverse"
   ]
  },
  {
   "cell_type": "code",
   "execution_count": 63,
   "metadata": {},
   "outputs": [
    {
     "name": "stdout",
     "output_type": "stream",
     "text": [
      "[50, 40, 30, 20, 10, 0]\n"
     ]
    }
   ],
   "source": [
    "print(morenumbers[5:0:-1]) #Elements from the fifth (inclusive) down to the second (not inclusive)."
   ]
  },
  {
   "cell_type": "code",
   "execution_count": 64,
   "metadata": {},
   "outputs": [
    {
     "name": "stdout",
     "output_type": "stream",
     "text": [
      "[100, 80, 60, 40]\n"
     ]
    }
   ],
   "source": [
    "print(morenumbers[-1:-9:-2]) #Every other element starting at the last and going back to the ninth-to-last (exclusive)."
   ]
  },
  {
   "cell_type": "markdown",
   "metadata": {
    "slideshow": {
     "slide_type": "subslide"
    }
   },
   "source": [
    "### Modifying Lists Via Slices\n",
    "* Can modify a list by assigning to a slice.\n",
    "* The dimensions don't have to match (we can replace smaller sub-lists with larger or vice-versa."
   ]
  },
  {
   "cell_type": "code",
   "execution_count": 65,
   "metadata": {},
   "outputs": [
    {
     "name": "stdout",
     "output_type": "stream",
     "text": [
      "['one', 'three', 'five', 7, 9, 11, 13, 15]\n"
     ]
    }
   ],
   "source": [
    "numbers = [1, 3, 5, 7, 9, 11, 13, 15]\n",
    "numbers[0:3] = ['one', 'three', 'five']\n",
    "print(numbers)"
   ]
  },
  {
   "cell_type": "code",
   "execution_count": 66,
   "metadata": {},
   "outputs": [
    {
     "name": "stdout",
     "output_type": "stream",
     "text": [
      "['one', 'three', 'five', 'hi', 'there']\n"
     ]
    }
   ],
   "source": [
    "numbers[3:8]=['hi','there']\n",
    "print(numbers)"
   ]
  },
  {
   "cell_type": "code",
   "execution_count": 67,
   "metadata": {
    "slideshow": {
     "slide_type": "subslide"
    }
   },
   "outputs": [
    {
     "name": "stdout",
     "output_type": "stream",
     "text": [
      "['a', 'b', 'c', 'three', 'five', 'hi', 'there']\n"
     ]
    }
   ],
   "source": [
    "numbers[0:1]=['a','b','c']\n",
    "print(numbers)"
   ]
  },
  {
   "cell_type": "code",
   "execution_count": 68,
   "metadata": {},
   "outputs": [
    {
     "name": "stdout",
     "output_type": "stream",
     "text": [
      "[]\n"
     ]
    }
   ],
   "source": [
    "numbers[:] = []\n",
    "print(numbers)"
   ]
  }
 ],
 "metadata": {
  "celltoolbar": "Slideshow",
  "kernelspec": {
   "display_name": "Python 3 (ipykernel)",
   "language": "python",
   "name": "python3"
  },
  "language_info": {
   "codemirror_mode": {
    "name": "ipython",
    "version": 3
   },
   "file_extension": ".py",
   "mimetype": "text/x-python",
   "name": "python",
   "nbconvert_exporter": "python",
   "pygments_lexer": "ipython3",
   "version": "3.10.8"
  }
 },
 "nbformat": 4,
 "nbformat_minor": 4
}
