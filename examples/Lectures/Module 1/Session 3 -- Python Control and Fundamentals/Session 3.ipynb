{
 "cells": [
  {
   "cell_type": "markdown",
   "metadata": {
    "slideshow": {
     "slide_type": "slide"
    }
   },
   "source": [
    "# Session 3: Control and Program Development"
   ]
  },
  {
   "cell_type": "markdown",
   "metadata": {
    "slideshow": {
     "slide_type": "slide"
    }
   },
   "source": [
    "## Flow of Control\n",
    "* A crucial aspect to programming is the order in which operations are executed (flow of control).\n",
    "* The vast majority of languages (Python included) dictate that statements are to be executed one by one in sequential order.\n",
    "    * The Python standard is that statements are separated by line-breaks in top-to-bottom order.\n",
    "    * Python also allows semicolons (;) to break apart multiple statements on a single line.\n",
    "* Various Python statements enable you to subvert standard flow of control. \n",
    "    * This is called transfer of control and is achieved with Python control statements. "
   ]
  },
  {
   "cell_type": "markdown",
   "metadata": {
    "slideshow": {
     "slide_type": "slide"
    }
   },
   "source": [
    "## Control Statements\n",
    "* All programs can be written using three forms of control\n",
    "    * Sequential execution\n",
    "    * The selection statement \n",
    "    * The iteration statement. \n",
    "* Python has most conventional control statements, but the syntax use is a bit unusual for some. "
   ]
  },
  {
   "cell_type": "markdown",
   "metadata": {
    "slideshow": {
     "slide_type": "slide"
    }
   },
   "source": [
    "## Flowcharts\n",
    "* Graphical representation of an algorithm or a part of one. \n",
    "* Drawn using rectangles, diamonds, rounded rectangles and small circles connected by arrows called flowlines. \n",
    "* Clearly show how forms of control operate. "
   ]
  },
  {
   "cell_type": "markdown",
   "metadata": {
    "slideshow": {
     "slide_type": "subslide"
    }
   },
   "source": [
    "* Flowchart segment showing sequential execution: \n",
    "<img src=\"./images/AAHBDOB0.png\" alt=\"Drawing\" style=\"width: 800px;\"/>"
   ]
  },
  {
   "cell_type": "markdown",
   "metadata": {
    "slideshow": {
     "slide_type": "-"
    }
   },
   "source": [
    "<font size=\"5\">\n",
    "-Rectangle (or action) symbol indicates any action <br>\n",
    "- Flowlines show the order in which the actions execute.<br> \n",
    "- In a flowchart for a complete algorithm, the first symbol is a rounded rectangle containing the word “Begin.” The last symbol is a rounded rectangle containing the word “End.”<br> \n",
    "- In a flowchart for only a part of an algorithm, use small circles called connector symbols.\n",
    "</font>    "
   ]
  },
  {
   "cell_type": "markdown",
   "metadata": {
    "slideshow": {
     "slide_type": "slide"
    }
   },
   "source": [
    "### Selection Statements\n",
    "* Three selection statements that execute code based on a condition—an expression that evaluates to either `True` or `False`: \n",
    "    * `if` performs an action if a condition is `True` or skips the action if the condition is `False`. \n",
    "    * `if`…`else` statement performs an action if a condition is `True` or performs a different action if the condition is `False`. \n",
    "    * `if`…`elif`…`else` statement performs one of many different actions, depending on the truth or falsity of several conditions. \n",
    "* Anywhere a single action can be placed, a group of actions can be placed. "
   ]
  },
  {
   "cell_type": "markdown",
   "metadata": {
    "slideshow": {
     "slide_type": "slide"
    }
   },
   "source": [
    "### Iteration Statements\n",
    "* Two iteration statements\n",
    "    * `while`  repeats an action (or a group of actions) as long as a condition remains True. \n",
    "    * `for` statement repeats an action (or a group of actions) for every item in a sequence of items. "
   ]
  },
  {
   "cell_type": "markdown",
   "metadata": {
    "slideshow": {
     "slide_type": "slide"
    }
   },
   "source": [
    "### Keywords (We'll Start to See Many of These!)\n",
    "* Avoid using these as variable, class, or function names.\n",
    "* Notice that a few (shown in **bold**) start with an uppercase letter.\n",
    "\n",
    "| &nbsp; | &nbsp; | &nbsp; | &nbsp; | &nbsp; |\n",
    "| :------ | :------ | :------ | :------ | :------ | \n",
    "| `and` | `as` | `assert` | `async` | `await` |\n",
    "| `break` | `class` | `continue` | `def` | `del` |\n",
    "| `elif` | `else` | `except` | **`False`** | `finally` |\n",
    "| `for` | `from` | `global` | `if` | `import` \n",
    "| `in` | `is` | `lambda` | **`None`** | `nonlocal` |\n",
    "| `not` | `or` | `pass`| `raise` | `return` |\n",
    "| **`True`** | `try` | `while` | `with` | `yield` |"
   ]
  },
  {
   "cell_type": "markdown",
   "metadata": {
    "slideshow": {
     "slide_type": "slide"
    }
   },
   "source": [
    "## Algorithms\n",
    "* Any computing problem can be solved by executing a series of actions in a specific order. \n",
    "* An algorithm is a procedure for solving a problem in terms of\n",
    "    * the actions to execute and\n",
    "    * the order in which these actions execute\n",
    "* Specifying the order in which statements (actions) execute in a program is called program control. \n"
   ]
  },
  {
   "cell_type": "markdown",
   "metadata": {
    "slideshow": {
     "slide_type": "slide"
    }
   },
   "source": [
    "## Pseudocode\n",
    "* An informal language that helps you develop algorithms without having to worry about the strict details of Python syntax. \n",
    "* Similar to everyday English.\n",
    "* Helps you “think out” a program before attempting to write it in a programming language. \n",
    "* Carefully prepared pseudocode can easily be converted to a corresponding program. \n",
    "* Pseudocode normally describes only statements representing the actions that occur (e.g., input, output or calculations) after you convert a program from pseudocode to Python and run the program. \n"
   ]
  },
  {
   "cell_type": "markdown",
   "metadata": {
    "slideshow": {
     "slide_type": "slide"
    }
   },
   "source": [
    "#  `if` Statement\n",
    "* Pseudocode: Suppose that a passing grade on an examination is 60. The pseudocode\n",
    "\n",
    "> If student’s grade is greater than or equal to 60  \n",
    "> &nbsp;&nbsp;&nbsp;&nbsp;&nbsp;&nbsp;Display 'Passed'\n",
    "\n",
    "* If the condition is true, 'Passed' is displayed. Then, the next pseudocode statement in order is “performed.”\n",
    "* If the condition is false, nothing is displayed, and the next pseudocode statement is “performed.” \n",
    "* Indentation emphasizes that 'Passed' is displayed only if the condition is true. "
   ]
  },
  {
   "cell_type": "markdown",
   "metadata": {
    "slideshow": {
     "slide_type": "subslide"
    }
   },
   "source": [
    "**Corresponding `if` Statement**"
   ]
  },
  {
   "cell_type": "code",
   "execution_count": null,
   "metadata": {},
   "outputs": [],
   "source": [
    "grade = 50"
   ]
  },
  {
   "cell_type": "code",
   "execution_count": null,
   "metadata": {},
   "outputs": [],
   "source": [
    "if grade >= 60:\n",
    "    print('Passed') "
   ]
  },
  {
   "cell_type": "markdown",
   "metadata": {
    "slideshow": {
     "slide_type": "slide"
    }
   },
   "source": [
    "## Suites and Indentation\n",
    "* Any individual code block with standard (sequential) execution is known as a suite. \n",
    "* Control statements require one or more header lines, each of which is followed by a suite.\n",
    "    * A header line includes relevant condition(s) to test.\n",
    "    * The suite must be indented and executes if that condition is met."
   ]
  },
  {
   "cell_type": "code",
   "execution_count": null,
   "metadata": {},
   "outputs": [],
   "source": [
    "if grade >= 60:\n",
    "print('Passed')  # statement is not indented properly"
   ]
  },
  {
   "cell_type": "markdown",
   "metadata": {
    "slideshow": {
     "slide_type": "subslide"
    }
   },
   "source": [
    "* Statements in a suite must have the same indentation.\n",
    "* If they do not, only a portion of them will be executed."
   ]
  },
  {
   "cell_type": "code",
   "execution_count": null,
   "metadata": {},
   "outputs": [],
   "source": [
    "grade = 75\n",
    "if grade >= 60:\n",
    "    print('Passed')\n",
    "    print('Good job!')"
   ]
  },
  {
   "cell_type": "markdown",
   "metadata": {
    "slideshow": {
     "slide_type": "subslide"
    }
   },
   "source": [
    "### `if` Statement Flowchart\n",
    "<img src=\"./images/AAHBDOC0.png\" alt=\"Drawing\" style=\"width: 800px;\"/>\n",
    "<font size=\"5\"><br>\n",
    "- The decision (diamond) symbol contains a condition that can be either `True` or `False`. <br>\n",
    "- Two flowlines emerging from it: <br>\n",
    "&emsp;&emsp;    - One indicates the direction to follow when the condition in the symbol is `True`.<br> \n",
    "&emsp;&emsp;    - The other indicates the direction to follow when the condition is `False`. <br>\n",
    "</font>"
   ]
  },
  {
   "cell_type": "markdown",
   "metadata": {
    "slideshow": {
     "slide_type": "subslide"
    }
   },
   "source": [
    "### Every Expression Can Be Treated as `True` or `False`"
   ]
  },
  {
   "cell_type": "code",
   "execution_count": null,
   "metadata": {},
   "outputs": [],
   "source": [
    "if 1:\n",
    "    print('Nonzero values are true, so this will print')"
   ]
  },
  {
   "cell_type": "code",
   "execution_count": null,
   "metadata": {},
   "outputs": [],
   "source": [
    "if 0:\n",
    "    print('Zero is false, so this will not print')"
   ]
  },
  {
   "cell_type": "markdown",
   "metadata": {
    "slideshow": {
     "slide_type": "subslide"
    }
   },
   "source": [
    "### An Additional Note on Confusing `==` and `=` \n",
    "* Using `==` instead of `=` in an assignment statement can lead to subtle problems. \n",
    "* Writing `grade == 85` when we intend to define a variable with `grade = 85` would cause a `NameError`.\n",
    "* Logic error: If `grade` had been defined **before** the preceding statement, then `grade == 85` would evaluate to `True` or `False`, depending on `grade`’s value, and not perform the intended assignment. "
   ]
  },
  {
   "cell_type": "markdown",
   "metadata": {
    "slideshow": {
     "slide_type": "slide"
    }
   },
   "source": [
    "# `if`…`else` and `if`…`elif`…`else` Statements\n",
    "* Performs different suites, based on whether a condition is `True` or `False`.\n",
    "* Pseudocode:\n",
    "\n",
    "> _If student’s grade is greater than or equal to 60  \n",
    "> &nbsp;&nbsp;&nbsp;&nbsp;&nbsp;&nbsp;Display 'Passed'  \n",
    "> Else  \n",
    "> &nbsp;&nbsp;&nbsp;&nbsp;&nbsp;&nbsp;Display 'Failed'_\n",
    "\n",
    "* Correspondong Python code with variable `grade` initalized to `85`"
   ]
  },
  {
   "cell_type": "code",
   "execution_count": null,
   "metadata": {
    "slideshow": {
     "slide_type": "subslide"
    }
   },
   "outputs": [],
   "source": [
    "grade = 85"
   ]
  },
  {
   "cell_type": "code",
   "execution_count": null,
   "metadata": {
    "slideshow": {
     "slide_type": "-"
    }
   },
   "outputs": [],
   "source": [
    "if grade >= 60: \n",
    "    print('Passed')\n",
    "else:\n",
    "    print('Failed')"
   ]
  },
  {
   "cell_type": "markdown",
   "metadata": {
    "slideshow": {
     "slide_type": "subslide"
    }
   },
   "source": [
    "* Assign `57` to `grade`, then shows the `if`…`else` statement again to demonstrate that only the `else` suite executes"
   ]
  },
  {
   "cell_type": "code",
   "execution_count": null,
   "metadata": {},
   "outputs": [],
   "source": [
    "grade = 57"
   ]
  },
  {
   "cell_type": "code",
   "execution_count": null,
   "metadata": {},
   "outputs": [],
   "source": [
    "if grade >= 60: \n",
    "    print('Passed')\n",
    "else:\n",
    "    print('Failed')"
   ]
  },
  {
   "cell_type": "code",
   "execution_count": null,
   "metadata": {
    "slideshow": {
     "slide_type": "subslide"
    }
   },
   "outputs": [],
   "source": [
    "grade = 99"
   ]
  },
  {
   "cell_type": "code",
   "execution_count": null,
   "metadata": {},
   "outputs": [],
   "source": [
    "if grade >= 60: \n",
    "    print('Passed')\n",
    "else:\n",
    "    print('Failed')"
   ]
  },
  {
   "cell_type": "markdown",
   "metadata": {
    "slideshow": {
     "slide_type": "slide"
    }
   },
   "source": [
    "### `if`…`else` Statement Flowchart\n",
    "![Flowchart of the if…else statement’s flow of control.](./images/AAHBDOD0.png \"Flowchart of the if…else statement’s flow of control\")"
   ]
  },
  {
   "cell_type": "markdown",
   "metadata": {
    "slideshow": {
     "slide_type": "slide"
    }
   },
   "source": [
    "### Conditional Expressions\n",
    "* Sometimes we may want suites in an `if`…`else` statement to assign different values to one or more variables, instead of simply printing something."
   ]
  },
  {
   "cell_type": "code",
   "execution_count": 1,
   "metadata": {},
   "outputs": [],
   "source": [
    "grade = 87\n",
    "numpass = 0"
   ]
  },
  {
   "cell_type": "code",
   "execution_count": 2,
   "metadata": {},
   "outputs": [],
   "source": [
    "if grade >= 60:\n",
    "    result = 'Passed'\n",
    "    numpass = numpass + 1\n",
    "else:\n",
    "    result = 'Failed'"
   ]
  },
  {
   "cell_type": "code",
   "execution_count": 3,
   "metadata": {},
   "outputs": [
    {
     "name": "stdout",
     "output_type": "stream",
     "text": [
      "Passed\n",
      "1\n"
     ]
    }
   ],
   "source": [
    "print(result)\n",
    "print(numpass)"
   ]
  },
  {
   "cell_type": "markdown",
   "metadata": {
    "slideshow": {
     "slide_type": "subslide"
    }
   },
   "source": [
    "* Can write statements like this using a concise conditional expression.\n",
    "* The parentheses are not required, but they make it clear that the statement assigns the conditional expression’s value to `result`."
   ]
  },
  {
   "cell_type": "code",
   "execution_count": 11,
   "metadata": {},
   "outputs": [],
   "source": [
    "grade = 40\n",
    "result = ('Passed' if grade >= 60 else 'Failed')"
   ]
  },
  {
   "cell_type": "code",
   "execution_count": 12,
   "metadata": {},
   "outputs": [
    {
     "data": {
      "text/plain": [
       "'Failed'"
      ]
     },
     "execution_count": 12,
     "metadata": {},
     "output_type": "execute_result"
    }
   ],
   "source": [
    "result"
   ]
  },
  {
   "cell_type": "markdown",
   "metadata": {
    "slideshow": {
     "slide_type": "subslide"
    }
   },
   "source": [
    "* In interactive mode, you also can evaluate the conditional expression directly."
   ]
  },
  {
   "cell_type": "code",
   "execution_count": 13,
   "metadata": {},
   "outputs": [
    {
     "data": {
      "text/plain": [
       "'Passed'"
      ]
     },
     "execution_count": 13,
     "metadata": {},
     "output_type": "execute_result"
    }
   ],
   "source": [
    "grade = 87\n",
    "'Passed' if grade >= 60 else 'Failed'"
   ]
  },
  {
   "cell_type": "markdown",
   "metadata": {
    "slideshow": {
     "slide_type": "subslide"
    }
   },
   "source": [
    "### Multiple Statements in a Suite"
   ]
  },
  {
   "cell_type": "code",
   "execution_count": 14,
   "metadata": {},
   "outputs": [],
   "source": [
    "grade = 49"
   ]
  },
  {
   "cell_type": "code",
   "execution_count": 15,
   "metadata": {},
   "outputs": [
    {
     "name": "stdout",
     "output_type": "stream",
     "text": [
      "Failed\n",
      "You must take this course again\n"
     ]
    }
   ],
   "source": [
    "if grade >= 60:\n",
    "    print('Passed')\n",
    "else:\n",
    "    print('Failed')\n",
    "    print('You must take this course again')"
   ]
  },
  {
   "cell_type": "markdown",
   "metadata": {
    "slideshow": {
     "slide_type": "subslide"
    }
   },
   "source": [
    "* If you do not indent the second `print`, then it’s not in the `else`’s suite. \n",
    "* In that case the statement always executes, creating strange incorrect output."
   ]
  },
  {
   "cell_type": "code",
   "execution_count": 16,
   "metadata": {},
   "outputs": [],
   "source": [
    "grade = 100"
   ]
  },
  {
   "cell_type": "code",
   "execution_count": 17,
   "metadata": {},
   "outputs": [
    {
     "name": "stdout",
     "output_type": "stream",
     "text": [
      "Passed\n",
      "You must take this course again\n"
     ]
    }
   ],
   "source": [
    "if grade >= 60:\n",
    "    print('Passed')\n",
    "else:\n",
    "    print('Failed')\n",
    "print('You must take this course again')"
   ]
  },
  {
   "cell_type": "markdown",
   "metadata": {
    "slideshow": {
     "slide_type": "slide"
    }
   },
   "source": [
    "### `if`…`elif`…`else` Statement\n",
    "* Can test for many cases.\n",
    "* Only the action for the first `True` condition executes."
   ]
  },
  {
   "cell_type": "code",
   "execution_count": 22,
   "metadata": {},
   "outputs": [],
   "source": [
    "grade = 37"
   ]
  },
  {
   "cell_type": "code",
   "execution_count": 25,
   "metadata": {},
   "outputs": [
    {
     "name": "stdout",
     "output_type": "stream",
     "text": [
      "F\n"
     ]
    }
   ],
   "source": [
    "if grade >= 90:\n",
    "    print('A')\n",
    "    print('Great job!')\n",
    "elif grade >= 80:\n",
    "    print('B')\n",
    "elif grade >= 70:\n",
    "    print('C')\n",
    "elif grade >= 60:\n",
    "    print('D')\n",
    "else:\n",
    "    print('F')"
   ]
  },
  {
   "cell_type": "markdown",
   "metadata": {
    "slideshow": {
     "slide_type": "subslide"
    }
   },
   "source": [
    "### `if`…`elif`…`else` Statement Flowchart\n",
    "<img src=\"./images/AAHBDOH0.png\" alt=\"Flowchart of the if…`elif`…else statement’s flow of control\" style=\"width: 800px;\"/>"
   ]
  },
  {
   "cell_type": "markdown",
   "metadata": {
    "slideshow": {
     "slide_type": "subslide"
    }
   },
   "source": [
    "### `else` Is Optional\n",
    "* Handle values that do not satisfy any of the conditions. \n",
    "* Without an `else`, if no conditions are `True`, the program does not execute any of the statement’s suites. "
   ]
  },
  {
   "cell_type": "markdown",
   "metadata": {},
   "source": [
    "### Logic Errors\n",
    "* For a nonfatal logic error, code executes, but produces incorrect results. \n",
    "* For a fatal logic error in a script, an exception occurs, Python displays a traceback, then the script terminates. \n",
    "* A fatal error in interactive mode terminates the current snippet, then IPython waits for your next input."
   ]
  },
  {
   "cell_type": "markdown",
   "metadata": {
    "slideshow": {
     "slide_type": "slide"
    }
   },
   "source": [
    "# `while` Statement\n",
    "* Repeats one or more actions while a condition remains `True`. "
   ]
  },
  {
   "cell_type": "code",
   "execution_count": 29,
   "metadata": {},
   "outputs": [],
   "source": [
    "product = 100"
   ]
  },
  {
   "cell_type": "code",
   "execution_count": 30,
   "metadata": {},
   "outputs": [],
   "source": [
    "while product <= 50:\n",
    "    product = product * 3    \n",
    "    "
   ]
  },
  {
   "cell_type": "code",
   "execution_count": 31,
   "metadata": {},
   "outputs": [
    {
     "data": {
      "text/plain": [
       "100"
      ]
     },
     "execution_count": 31,
     "metadata": {},
     "output_type": "execute_result"
    }
   ],
   "source": [
    "product"
   ]
  },
  {
   "cell_type": "markdown",
   "metadata": {
    "slideshow": {
     "slide_type": "subslide"
    }
   },
   "source": [
    "* To prevent an infinite loop, something in the `while` suite must change `product`’s value, so the condition eventually becomes `False`. "
   ]
  },
  {
   "cell_type": "markdown",
   "metadata": {
    "slideshow": {
     "slide_type": "subslide"
    }
   },
   "source": [
    "### `while` Statement Flowchart\n",
    "![Flowchart of the while statement’s flow of control.](./images/AAHBDOG0.png \"Flowchart of the while statement’s flow of control\")"
   ]
  },
  {
   "cell_type": "markdown",
   "metadata": {
    "slideshow": {
     "slide_type": "slide"
    }
   },
   "source": [
    "# `for` Statement\n",
    "* Repeat an action or several actions for each item in a sequence of items.\n",
    "* A string is a sequence of individual characters."
   ]
  },
  {
   "cell_type": "code",
   "execution_count": 33,
   "metadata": {},
   "outputs": [
    {
     "name": "stdout",
     "output_type": "stream",
     "text": [
      "P  P  P  P  P  P  "
     ]
    }
   ],
   "source": [
    "for character in 'Python':\n",
    "    print(character, end='  ')"
   ]
  },
  {
   "cell_type": "markdown",
   "metadata": {
    "slideshow": {
     "slide_type": "subslide"
    }
   },
   "source": [
    "* Upon entering the `for` loop, Python assigns the 'P' in 'Python' to the **target variable** between keywords `for` and `in`.\n",
    "* After executing the suite, Python assigns to character the next item in the sequence (that is, the '`y`' in '`Python`'), then executes the suite again. \n",
    "* Continues while there are more items in the sequence.\n",
    "* Using the target variable in the suite is common but not required. "
   ]
  },
  {
   "cell_type": "markdown",
   "metadata": {
    "slideshow": {
     "slide_type": "subslide"
    }
   },
   "source": [
    "### `for` Statement Flowchart\n",
    "![Flowchart of the for statement’s flow of control.](./images/AAHBDOF0.png \"Flowchart of the for statement’s flow of control\")"
   ]
  },
  {
   "cell_type": "markdown",
   "metadata": {
    "slideshow": {
     "slide_type": "slide"
    }
   },
   "source": [
    "### Function `print`’s `end` Keyword Argument \n",
    "* `print` displays its argument(s), then moves the cursor to the next line. \n",
    "* Can change this behavior with the argument `end`:\n",
    ">```python\n",
    "print(character, end='  ') \n",
    "```\n",
    "* `end` is a **keyword argument**, but it's not a Python keyword. \n",
    "* The _Style Guide for Python Code_ recommends placing no spaces around a keyword argument’s =. \n",
    "* Keyword arguments are sometimes called named arguments."
   ]
  },
  {
   "cell_type": "markdown",
   "metadata": {
    "slideshow": {
     "slide_type": "subslide"
    }
   },
   "source": [
    "### Function `print`’s `sep` Keyword Argument \n",
    "* Keyword argument `sep` (short for separator) specifies the string that appears between the items that print displays. \n",
    "* A space character by default. \n",
    "* To remove the spaces, use an empty string with no characters between its quotes."
   ]
  },
  {
   "cell_type": "code",
   "execution_count": 35,
   "metadata": {},
   "outputs": [
    {
     "name": "stdout",
     "output_type": "stream",
     "text": [
      "10; 20; 30\n"
     ]
    }
   ],
   "source": [
    "print(10, 20, 30, sep='; ')"
   ]
  },
  {
   "cell_type": "markdown",
   "metadata": {
    "slideshow": {
     "slide_type": "slide"
    }
   },
   "source": [
    "## Iterables, Lists and Iterators\n",
    "* The sequence to the right of the `for` statement’s in keyword must be an **iterable**. \n",
    "    * An iterable is an object from which the `for` statement can take one item at a time. \n",
    "* One of the most common iterables is a list, which is a comma-separated collection of items enclosed in square brackets (`[` and `]`). "
   ]
  },
  {
   "cell_type": "code",
   "execution_count": 36,
   "metadata": {},
   "outputs": [],
   "source": [
    "total = 0"
   ]
  },
  {
   "cell_type": "code",
   "execution_count": 37,
   "metadata": {},
   "outputs": [],
   "source": [
    "for number in [2, -3, 0, 17, 9]:\n",
    "    total = total + number"
   ]
  },
  {
   "cell_type": "code",
   "execution_count": 38,
   "metadata": {},
   "outputs": [
    {
     "data": {
      "text/plain": [
       "25"
      ]
     },
     "execution_count": 38,
     "metadata": {},
     "output_type": "execute_result"
    }
   ],
   "source": [
    "total"
   ]
  },
  {
   "cell_type": "markdown",
   "metadata": {
    "slideshow": {
     "slide_type": "subslide"
    }
   },
   "source": [
    "* Each sequence has an iterator. \n",
    "* The for statement uses the iterator “behind the scenes” to get each consecutive item until there are no more to process. "
   ]
  },
  {
   "cell_type": "markdown",
   "metadata": {
    "slideshow": {
     "slide_type": "slide"
    }
   },
   "source": [
    "## Built-In `range` Function and Generators\n",
    "* Creates an iterable object that represents a sequence of consecutive integer values starting from 0 and continuing up to, but not including, the argument value."
   ]
  },
  {
   "cell_type": "code",
   "execution_count": 41,
   "metadata": {},
   "outputs": [
    {
     "name": "stdout",
     "output_type": "stream",
     "text": [
      "0 1 2 3 4 "
     ]
    }
   ],
   "source": [
    "\n",
    "for counter in range(5):\n",
    "#    print(counter,end = ' ')\n",
    "    print(counter, end=' ')"
   ]
  },
  {
   "cell_type": "markdown",
   "metadata": {
    "slideshow": {
     "slide_type": "subslide"
    }
   },
   "source": [
    "### Off-By-One Errors\n",
    "A logic error known as an off-by-one error occurs when you assume that `range`’s argument value is included in the generated sequence. \n"
   ]
  },
  {
   "cell_type": "code",
   "execution_count": 44,
   "metadata": {},
   "outputs": [
    {
     "name": "stdout",
     "output_type": "stream",
     "text": [
      "0\n",
      "1\n",
      "2\n",
      "3\n",
      "4\n",
      "5\n",
      "All done!\n"
     ]
    }
   ],
   "source": [
    "\n",
    "for counter in range(6):\n",
    "    print(counter)\n",
    "    if counter == 5:\n",
    "        print('All done!')"
   ]
  },
  {
   "cell_type": "markdown",
   "metadata": {
    "slideshow": {
     "slide_type": "subslide"
    }
   },
   "source": [
    "# Function `range`\n",
    "* Function `range`’s two-argument version produces a sequence of consecutive integers from its first argument’s value up to, but not including, the second argument’s value"
   ]
  },
  {
   "cell_type": "code",
   "execution_count": 45,
   "metadata": {},
   "outputs": [
    {
     "name": "stdout",
     "output_type": "stream",
     "text": [
      "5 6 7 8 9 "
     ]
    }
   ],
   "source": [
    "for number in range(5, 10):\n",
    "    print(number, end=' ')"
   ]
  },
  {
   "cell_type": "markdown",
   "metadata": {
    "slideshow": {
     "slide_type": "subslide"
    }
   },
   "source": [
    "* Function `range`’s three-argument version produces a sequence of integers from its first argument’s value up to, but not including, the second argument’s value, incrementing by the third argument’s value (the step)"
   ]
  },
  {
   "cell_type": "code",
   "execution_count": 46,
   "metadata": {},
   "outputs": [
    {
     "name": "stdout",
     "output_type": "stream",
     "text": [
      "0 2 4 6 8 "
     ]
    }
   ],
   "source": [
    "for number in range(0, 10, 2):\n",
    "    print(number, end=' ')"
   ]
  },
  {
   "cell_type": "markdown",
   "metadata": {
    "slideshow": {
     "slide_type": "subslide"
    }
   },
   "source": [
    "* If the third argument is negative, the sequence progresses from the first argument’s value down to, but not including the second argument’s value, decrementing by the third argument’s value"
   ]
  },
  {
   "cell_type": "code",
   "execution_count": 47,
   "metadata": {},
   "outputs": [
    {
     "name": "stdout",
     "output_type": "stream",
     "text": [
      "10 8 6 4 2 "
     ]
    }
   ],
   "source": [
    "for number in range(10, 0, -2):\n",
    "    print(number, end=' ')"
   ]
  }
 ],
 "metadata": {
  "celltoolbar": "Slideshow",
  "kernelspec": {
   "display_name": "Python 3 (ipykernel)",
   "language": "python",
   "name": "python3"
  },
  "language_info": {
   "codemirror_mode": {
    "name": "ipython",
    "version": 3
   },
   "file_extension": ".py",
   "mimetype": "text/x-python",
   "name": "python",
   "nbconvert_exporter": "python",
   "pygments_lexer": "ipython3",
   "version": "3.10.8"
  }
 },
 "nbformat": 4,
 "nbformat_minor": 4
}
