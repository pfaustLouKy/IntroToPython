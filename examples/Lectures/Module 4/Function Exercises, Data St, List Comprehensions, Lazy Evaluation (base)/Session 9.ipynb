{
 "cells": [
  {
   "cell_type": "markdown",
   "metadata": {
    "slideshow": {
     "slide_type": "slide"
    }
   },
   "source": [
    "## What We Looked At Last Time\n",
    "* We wrapped up our discussion of Python list fundamentals.\n",
    "* We examined details related to variable scope in Python (i.e. local and global scope, as well as the function call stack) \n",
    "* We looked at methods of dispersion (variance, standard deviation, median absolute deviation) and their Python implementation.\n"
   ]
  },
  {
   "cell_type": "markdown",
   "metadata": {
    "slideshow": {
     "slide_type": "subslide"
    }
   },
   "source": [
    "## What We'll Look At Today\n",
    "* We'll look at a few exercises dealing with Python fundamentals (primarily involving functions and lists).\n",
    "* We'll look at a few simple data structures in Python \n",
    "* We'll look at list comprehensions and how they can be used to efficiently and succintly construct or modify a list.\n",
    "* We'll look at some crucial structure manipulation functions in Python.\n"
   ]
  },
  {
   "cell_type": "markdown",
   "metadata": {
    "slideshow": {
     "slide_type": "slide"
    }
   },
   "source": [
    "# Exercise 4.3\n",
    "Explain what is wrong with the following code."
   ]
  },
  {
   "cell_type": "code",
   "execution_count": null,
   "metadata": {
    "slideshow": {
     "slide_type": "-"
    }
   },
   "outputs": [],
   "source": [
    "def cube(x):\n",
    "    \"\"\"Calculate the cube of x.\"\"\"\n",
    "    x ** 3\n",
    "    \n",
    "print('The cube of 2 is', cube(2))"
   ]
  },
  {
   "cell_type": "markdown",
   "metadata": {
    "slideshow": {
     "slide_type": "slide"
    }
   },
   "source": [
    "# Exercise 4.5\n",
    "Write a function that returns the # of seconds that have passed since midnight, given three arguments in the form of hours, minutes, and seconds."
   ]
  },
  {
   "cell_type": "code",
   "execution_count": null,
   "metadata": {},
   "outputs": [],
   "source": []
  },
  {
   "cell_type": "markdown",
   "metadata": {
    "slideshow": {
     "slide_type": "slide"
    }
   },
   "source": [
    "# Exercise 4.9\n",
    "Implement a fahrenheit function that returns the Fahrenheit equivalent of a Celsius temperature. Use the following formula: <br><br>\n",
    "<center>$F=\\left(\\frac{9}{5}\\right) \\cdot C+32$</center> \n",
    "<br><br>\n",
    "Use this function to produce a bar-chart showing the Fahrenheit equivalent of every fifth Celsius temperatures in the range $0-100$ degrees, including only _every fifth_ degree."
   ]
  },
  {
   "cell_type": "markdown",
   "metadata": {
    "slideshow": {
     "slide_type": "slide"
    }
   },
   "source": [
    "# Exercise 4.10\n",
    "Write a script that plays \"guess the number\". Choose the number to be guessed by selecting a random integer in the range 1 to 1000. Do not reveal the number to the user. Display the prompt \"Guess my number between 1 and 1000 with the fewest guesses:\". The player inputs a first guess. If the guess is incorrect, display \"Too high. Try again.\" or \"Too low. Try again\" as appropriate to help the player, then prompt the users for the next guess. When the user enters the correct answer, display \"Congratulations. You guessed the number!\" and allow the user to choose whether to play again."
   ]
  },
  {
   "cell_type": "markdown",
   "metadata": {
    "slideshow": {
     "slide_type": "slide"
    }
   },
   "source": [
    "# Basic Data Structures in Python"
   ]
  },
  {
   "cell_type": "markdown",
   "metadata": {
    "slideshow": {
     "slide_type": "subslide"
    }
   },
   "source": [
    "### Simulating Stacks with Lists \n",
    "* Recall that Stacks are a Last-in, first out (LIFO) abstract data type.\n",
    "* While Python does not have a built-in stack type, we can use a _constrained list_ to simulate one.\n",
    "* The constrained list will only allow us to _push_ (add) elements onto the stack at the end using the `append` method.\n",
    "* At the same time, the method `pop` can be used to _pop_ elements off the end for retrieval.\n",
    "* When we look at custom classes, we will see how we can enforce items being added/removed solely in this manner."
   ]
  },
  {
   "cell_type": "code",
   "execution_count": null,
   "metadata": {
    "scrolled": true,
    "slideshow": {
     "slide_type": "subslide"
    }
   },
   "outputs": [],
   "source": [
    "mystack = []\n",
    "mystack.append('red') #adds 'red' \"to the top\"\n",
    "print(mystack)\n",
    "mystack.append('green') #adds 'green' \"to the top\"\n",
    "print(mystack)\n",
    "mystack.append('blue') #adds 'blue' \"to the top\"\n",
    "print(mystack)"
   ]
  },
  {
   "cell_type": "code",
   "execution_count": null,
   "metadata": {
    "slideshow": {
     "slide_type": "-"
    }
   },
   "outputs": [],
   "source": [
    "for _ in range(len(mystack)): #Remember that we technically don't HAVE to use the iterator value in our loop\n",
    "    print(mystack.pop()) #removes and returns the item added last\n"
   ]
  },
  {
   "cell_type": "markdown",
   "metadata": {
    "slideshow": {
     "slide_type": "subslide"
    }
   },
   "source": [
    "### Simulating Queues with Lists \n",
    "* A Queue is a \"First-in first-out\" (FIFO) abstract data type.\n",
    "* Queues represent a more \"fair\" means of adding and removing items or entities, as they are processed on a \"first-come, first-served\" basis.  \n",
    "* An efficient queue in Python can be constructed using the `deque` collection and `popleft` command (which returns from the beginning of the collection).\n",
    "* Alternatively, we could we could use `pop(0)` to remove and return from a standard list, but this approach is less efficient.\n"
   ]
  },
  {
   "cell_type": "code",
   "execution_count": 1,
   "metadata": {
    "slideshow": {
     "slide_type": "subslide"
    }
   },
   "outputs": [
    {
     "name": "stdout",
     "output_type": "stream",
     "text": [
      "deque(['Mary'])\n",
      "deque(['Mary', 'James'])\n",
      "deque(['Mary', 'James', 'Roberta'])\n"
     ]
    }
   ],
   "source": [
    "from collections import deque \n",
    "myqueue = deque() #Create an empty queue\n",
    "myqueue.append('Mary') #adds Mary \"to the end of the line\"\n",
    "print(myqueue)\n",
    "myqueue.append('James') #adds James \"to the end of the line\"\n",
    "print(myqueue)\n",
    "myqueue.append('Roberta') #adds Roberta \"to the end of the line\"\n",
    "print(myqueue)"
   ]
  },
  {
   "cell_type": "code",
   "execution_count": 2,
   "metadata": {
    "slideshow": {
     "slide_type": "-"
    }
   },
   "outputs": [
    {
     "name": "stdout",
     "output_type": "stream",
     "text": [
      "Mary\n",
      "James\n",
      "Roberta\n"
     ]
    }
   ],
   "source": [
    "for _ in range(len(myqueue)): #Remember that we technically don't HAVE to use the iterator value in our loop\n",
    "    print(myqueue.popleft()) #Processes the first person in line\n"
   ]
  },
  {
   "cell_type": "markdown",
   "metadata": {
    "slideshow": {
     "slide_type": "slide"
    }
   },
   "source": [
    "# Creating a List Using List Comprehensions\n",
    "* We can use a `for` loop and iterate over a sequence of numbers, etc. to create a list from scratch \n",
    "* In general, this is not considered the most _Pythonic_ way of doing things, because it's not concise (3+ statements to accomplish one task) and there is a preferred alternative.\n",
    "* A **List Comprehension** is a concise means of applying a function or operation(s) to a list (or creating one from scratch).\n",
    "* In constructing a new list, the simplest list comprehension format we can use is \\<list_name\\>=\\[item `for` item in \\<iterable expression\\>\\]"
   ]
  },
  {
   "cell_type": "code",
   "execution_count": null,
   "metadata": {
    "slideshow": {
     "slide_type": "subslide"
    }
   },
   "outputs": [],
   "source": [
    "list1 = [1,2,3,4,5]\n",
    "list2 = [item for item in list1 if item%2==1]\n",
    "print(list2)"
   ]
  },
  {
   "cell_type": "code",
   "execution_count": 4,
   "metadata": {},
   "outputs": [
    {
     "name": "stdout",
     "output_type": "stream",
     "text": [
      "[1, 2, 3, 4, 5, 6, 7, 8, 9, 10]\n"
     ]
    }
   ],
   "source": [
    "list1 = [] #3 Standard loop requires 3 lines to put every number from 1 to 10 in a list.\n",
    "for item in range(1, 11):\n",
    "    list1.append(item)\n",
    "print(list1)"
   ]
  },
  {
   "cell_type": "code",
   "execution_count": null,
   "metadata": {},
   "outputs": [],
   "source": [
    "list2 = [item for item in range(1,11)] #1 line to perform the same task using comprehension\n",
    "print(list2)"
   ]
  },
  {
   "cell_type": "markdown",
   "metadata": {
    "slideshow": {
     "slide_type": "subslide"
    }
   },
   "source": [
    "### More Details on List Comprehension\n",
    "* In the above, the `for` clause iterates over the sequence of numbers produced by `range(1, 11)`. \n",
    "* For each `item`, the list comprehension evaluates the expression to the left of the `for` clause and places the expression’s value in the new list. \n",
    "* Note that any iterable expression can be used (e.g. lists, tuples, etc.)\n",
    "* In addition, we can use _mapping_ with list comprehension to produce a list with the same number elements in the original data but with modified values.\n"
   ]
  },
  {
   "cell_type": "code",
   "execution_count": 5,
   "metadata": {
    "slideshow": {
     "slide_type": "subslide"
    }
   },
   "outputs": [
    {
     "name": "stdout",
     "output_type": "stream",
     "text": [
      "[-1, 2, 5, 8, 11, 14, 17, 20, 23, 26]\n"
     ]
    }
   ],
   "source": [
    "#mapping elements of original range using a simple linear equation (3x-1)\n",
    "list3 = [3 * item -1 for item in range(0, 10)] \n",
    "print(list3)"
   ]
  },
  {
   "cell_type": "code",
   "execution_count": 6,
   "metadata": {},
   "outputs": [
    {
     "name": "stdout",
     "output_type": "stream",
     "text": [
      "[1, 2, 3, 4, 5, 6, 7, 8, 9, 10]\n",
      "[1, 4, 9, 16, 25, 36, 49, 64, 81, 100]\n"
     ]
    }
   ],
   "source": [
    "print(list1)\n",
    "list4 =[item**2 for item in list1] #Using an existing list with comprehension instead of range\n",
    "print(list4)"
   ]
  },
  {
   "cell_type": "code",
   "execution_count": 7,
   "metadata": {},
   "outputs": [
    {
     "name": "stdout",
     "output_type": "stream",
     "text": [
      "['O', 'F', ' ', 'M', 'I', 'C', 'E', ' ', 'A', 'N', 'D', ' ', 'M', 'E', 'N']\n"
     ]
    }
   ],
   "source": [
    "list5 = [item.upper() for item in 'of mice and men'] #Using a string with comprehension\n",
    "print(list5)"
   ]
  },
  {
   "cell_type": "markdown",
   "metadata": {
    "slideshow": {
     "slide_type": "slide"
    }
   },
   "source": [
    "### Filtering List Comprehensions with `if` Clauses \n",
    "* Our above examples all include the same number of elements as the original iterable expression.\n",
    "* Another common functional-style programming operation is **filtering** elements to select only those that match a condition. \n",
    "* The result is a list with a number of elements _less than or equal_ to the original number produced by the iterable expression being filtered."
   ]
  },
  {
   "cell_type": "code",
   "execution_count": 8,
   "metadata": {},
   "outputs": [
    {
     "name": "stdout",
     "output_type": "stream",
     "text": [
      "[2, 4, 6, 8, 10]\n"
     ]
    }
   ],
   "source": [
    "#Note that we can use any variable in place of \"item\"\n",
    "list6 = [ele for ele in range(1, 11) if ele % 2 == 0] #even numbers in the range from 1 to 10\n",
    "print(list6)"
   ]
  },
  {
   "cell_type": "code",
   "execution_count": 9,
   "metadata": {
    "slideshow": {
     "slide_type": "subslide"
    }
   },
   "outputs": [],
   "source": [
    "def isvowel(letter):\n",
    "    return letter.lower() in ['a','e','i','o','u']"
   ]
  },
  {
   "cell_type": "code",
   "execution_count": 10,
   "metadata": {},
   "outputs": [
    {
     "name": "stdout",
     "output_type": "stream",
     "text": [
      "['O', 'a', 'E', 'e']\n"
     ]
    }
   ],
   "source": [
    "list7 = [item for item in 'Odds and Evens' if isvowel(item)]\n",
    "print(list7)"
   ]
  },
  {
   "cell_type": "markdown",
   "metadata": {
    "slideshow": {
     "slide_type": "slide"
    }
   },
   "source": [
    "# Generator Expressions\n",
    "* **Generator objects** are similar to list comprehensions, but create iterable objects that produce values _on demand_. \n",
    "* This approach is commonly referred to as _lazy evaluation_. \n",
    "* For large numbers of items, creating lists can take substantial memory and time, while generator expressions can produce values as needed (and thus not consume as much active memory at any given time)."
   ]
  },
  {
   "cell_type": "code",
   "execution_count": 11,
   "metadata": {
    "slideshow": {
     "slide_type": "subslide"
    }
   },
   "outputs": [
    {
     "name": "stdout",
     "output_type": "stream",
     "text": [
      "1  9  25  49  81  "
     ]
    }
   ],
   "source": [
    "numbers = [1, 2, 3, 4, 5, 6, 7, 8, 9, 10] \n",
    "for value in (x ** 2 for x in numbers if x % 2 != 0): #Standard printing of elements -- reasonable choice for small lists/elements\n",
    "    print(value, end='  ')"
   ]
  },
  {
   "cell_type": "code",
   "execution_count": 13,
   "metadata": {},
   "outputs": [
    {
     "name": "stdout",
     "output_type": "stream",
     "text": [
      "<generator object <genexpr> at 0x0000026E35516E90>\n"
     ]
    }
   ],
   "source": [
    "squares_of_odds_4digit = (x ** 2 for x in range(1000,10000) if x % 2 == 1) #Generators are ideal with larger lists/elements\n",
    "print(squares_of_odds_4digit)"
   ]
  },
  {
   "cell_type": "markdown",
   "metadata": {
    "slideshow": {
     "slide_type": "subslide"
    }
   },
   "source": [
    "### Using Generator Objects in Practice\n",
    "* The above output indicates that `square_of_odds_4digit` is a **generator object** that was created from a **generator expression (`<genexpr>`)**.\n",
    "* The built-in function `next` receives a generator or iterator and returns the next item in the sequence."
   ]
  },
  {
   "cell_type": "code",
   "execution_count": 14,
   "metadata": {},
   "outputs": [
    {
     "name": "stdout",
     "output_type": "stream",
     "text": [
      "1002001\n",
      "1006009\n",
      "1010025\n",
      "1014049\n",
      "1018081\n"
     ]
    }
   ],
   "source": [
    "for _ in range(5): #execute the loop 5 times    \n",
    "    print(next(squares_of_odds_4digit)) #Each call to next will generate and return the next element in the generated sequence\n",
    "\n"
   ]
  },
  {
   "cell_type": "markdown",
   "metadata": {
    "slideshow": {
     "slide_type": "slide"
    }
   },
   "source": [
    "### Filtering a Sequence’s Values with the Built-In `filter` Function\n",
    "* In Python, functions are _themselves_ objects that you can assign to variables, pass to other functions and return from functions. \n",
    "* Functions that receive other functions as arguments are generally referred to as **higher-order functions**. \n",
    "* `filter` is a higher-order function whose first argument is a single-argument function that must return `True` when an item meets some criteria (ex: is odd), and its second argument is an iterable expression \n",
    "* Higher-order functions may also return a function as a result.\n",
    "* `filter`’s results are not produced until you iterate through them (i.e. via lazy evaluation). "
   ]
  },
  {
   "cell_type": "code",
   "execution_count": null,
   "metadata": {
    "slideshow": {
     "slide_type": "subslide"
    }
   },
   "outputs": [],
   "source": [
    "numbers = [10, 3, 7, 1, 9, 4, 2, 8, 5, 6]"
   ]
  },
  {
   "cell_type": "code",
   "execution_count": null,
   "metadata": {},
   "outputs": [],
   "source": [
    "def is_odd(x): #A single argument function compatible with filter\n",
    "    \"\"\"Returns True only if x is odd.\"\"\"\n",
    "    return x % 2 != 0 #Note -- a boolean value must be returned."
   ]
  },
  {
   "cell_type": "code",
   "execution_count": null,
   "metadata": {
    "slideshow": {
     "slide_type": "subslide"
    }
   },
   "outputs": [],
   "source": [
    "\n",
    "print(filter(is_odd, numbers)) #filter the original numbers list using the **is_odd** function\n"
   ]
  },
  {
   "cell_type": "code",
   "execution_count": null,
   "metadata": {},
   "outputs": [],
   "source": [
    "for f_ele in filter(is_odd, numbers): #We need to actually do something with the filter object to \"see\" the values\n",
    "    print(f_ele)"
   ]
  },
  {
   "cell_type": "markdown",
   "metadata": {
    "slideshow": {
     "slide_type": "slide"
    }
   },
   "source": [
    "### Using a `lambda` Rather than a def For Functions \n",
    "* For simple functions like `is_odd` that `return` only a _single expression’s value_, you can use a **lambda expression** (or simply a **lambda**) to define the function inline. \n",
    "* Unless inline functions can be kept relatively simple, they should be avoided for the sake of readability\n",
    "* A lambda expression is an _anonymous function_\n",
    "    * An anonymous function is one defined without a formal name (but can still be assigned to a variable).\n",
    "    * While normal functions are defined using the def keyword, anonymous functions are defined using the lambda keyword."
   ]
  },
  {
   "cell_type": "code",
   "execution_count": null,
   "metadata": {},
   "outputs": [],
   "source": [
    "list(filter(lambda x: x % 2 != 0, numbers))"
   ]
  },
  {
   "cell_type": "markdown",
   "metadata": {
    "slideshow": {
     "slide_type": "subslide"
    }
   },
   "source": [
    "## The `map` Function\n",
    "* `map` is a higher order function that applys a transformative function (first argument) to an iterable expression (second argument). \n",
    "* Like `filter`, the `map`’s first argument is a function that receives one value.\n",
    "* Unlike `filter`, map applies a function that can return a value of _any_ type. "
   ]
  },
  {
   "cell_type": "code",
   "execution_count": null,
   "metadata": {},
   "outputs": [],
   "source": [
    "numbers = [10, 3, 7, 1, 9, 4, 2, 8, 5, 6]\n",
    "numbers_squared_list = list(map(lambda x: x ** 2, numbers))\n",
    "numbers_squared_tuple = tuple(map(lambda x: x ** 2, numbers))\n",
    "\n",
    "print(numbers)\n",
    "print(numbers_squared_list)\n",
    "print(numbers_squared_tuple)"
   ]
  },
  {
   "cell_type": "code",
   "execution_count": null,
   "metadata": {},
   "outputs": [],
   "source": [
    "print([item ** 2 for item in numbers])"
   ]
  },
  {
   "cell_type": "markdown",
   "metadata": {
    "slideshow": {
     "slide_type": "subslide"
    }
   },
   "source": [
    "### Combining `filter` and `map`\n",
    "* It's entirely possible to combine map and filter in a single statement.\n",
    "* Note that this may not be the best idea if readability is sacrificed.\n",
    "* It may be better to use a meaningful intermediate variable (remember you won't really lose efficiency this way, since `filter` returns a generator object.) "
   ]
  },
  {
   "cell_type": "code",
   "execution_count": null,
   "metadata": {},
   "outputs": [],
   "source": [
    "print(list(map(lambda x: x ** 2, #using a single combined filter-map statement\n",
    "         filter(lambda x: x % 2 != 0, numbers))))"
   ]
  },
  {
   "cell_type": "code",
   "execution_count": null,
   "metadata": {},
   "outputs": [],
   "source": [
    "oddnum = filter(lambda x: x % 2 != 0, numbers) #Using an intermediate variable\n",
    "print(oddnum)\n",
    "print(list(map(lambda x: x ** 2,oddnum)))"
   ]
  },
  {
   "cell_type": "code",
   "execution_count": null,
   "metadata": {},
   "outputs": [],
   "source": [
    "[x ** 2 for x in numbers if x % 2 != 0] #equivalent list comprehension"
   ]
  },
  {
   "cell_type": "markdown",
   "metadata": {
    "slideshow": {
     "slide_type": "slide"
    }
   },
   "source": [
    "# Other Sequence Processing Functions "
   ]
  },
  {
   "cell_type": "code",
   "execution_count": null,
   "metadata": {},
   "outputs": [],
   "source": [
    "print('Zebra' < 'apple') #The output of this `print` may seem wrong, but it's absolutely correct.\n",
    "#We need to address the mechanics behind this behavior."
   ]
  },
  {
   "cell_type": "markdown",
   "metadata": {
    "slideshow": {
     "slide_type": "subslide"
    }
   },
   "source": [
    "### Finding the Minimum and Maximum Values Using a Key Function\n",
    "* Strings in Python are compared by default using **Lexicographic order** -- each character and symbol has an associated numeric index indicating its order in a complete symbolic alphabet.  \n",
    "* `'R'` “comes after” `'o'` in the alphabet, so you might expect `'Red'` to be less than `'orange'` and the previous condition  to be `False`. \n",
    "* But this comparison is based on characters’ underlying _numerical values_, and lowercase letters have _higher_ numerical values than uppercase letters. \n",
    "* Confirm with built-in function **`ord`**:"
   ]
  },
  {
   "cell_type": "code",
   "execution_count": null,
   "metadata": {
    "slideshow": {
     "slide_type": "-"
    }
   },
   "outputs": [],
   "source": [
    "print(f'R\\'s index: {ord(\"R\")} | o\\'s index: {ord(\"o\")} ')"
   ]
  },
  {
   "cell_type": "markdown",
   "metadata": {
    "slideshow": {
     "slide_type": "subslide"
    }
   },
   "source": [
    "### String comparison: More Detail\n",
    "You can use ( ```>``` , ```<``` , ```<=``` , ```<=``` , ```==``` , ```!=```  ) to compare two strings. Python compares strings lexicographically i.e using ASCII value of the characters.\n",
    "\n",
    "Suppose you have ```str1``` as \"Mary\"  and ```str2``` as \"Mac\". The first two characters from ```str1```  and ```str2``` ( M and M ) are compared. As they are equal, the second two characters are compared. Because they are also equal, the third two characters (r and c ) are compared. And because r has greater ASCII value than c, ```str1``` is greater than ```str2```"
   ]
  },
  {
   "cell_type": "code",
   "execution_count": null,
   "metadata": {},
   "outputs": [],
   "source": [
    "colors = ['Red', 'orange', 'Yellow', 'green', 'Blue']\n",
    "colors.sort() #lexicographic sort\n",
    "print(colors)"
   ]
  },
  {
   "cell_type": "markdown",
   "metadata": {
    "slideshow": {
     "slide_type": "subslide"
    }
   },
   "source": [
    "### Using a `key` argument in functions\n",
    "* Assume that we’d like to sort the previous list of strings using _alphabetical_ order.\n",
    "* Many built-in functions (including sort) permit the use of a **key** function, which lets us substitute a particular value or transformation  in determining element order.\n",
    "* In this case we will use the `lower` method to insure that sorting uses alphabetical instead of lexicographic order in organization."
   ]
  },
  {
   "cell_type": "code",
   "execution_count": null,
   "metadata": {},
   "outputs": [],
   "source": [
    "colors = ['Red', 'orange', 'Yellow', 'green', 'Blue']\n",
    "colors.sort(key=lambda s: s.lower()) #alphabetical sort\n",
    "print(colors)"
   ]
  }
 ],
 "metadata": {
  "celltoolbar": "Slideshow",
  "kernelspec": {
   "display_name": "Python 3 (ipykernel)",
   "language": "python",
   "name": "python3"
  },
  "language_info": {
   "codemirror_mode": {
    "name": "ipython",
    "version": 3
   },
   "file_extension": ".py",
   "mimetype": "text/x-python",
   "name": "python",
   "nbconvert_exporter": "python",
   "pygments_lexer": "ipython3",
   "version": "3.11.7"
  }
 },
 "nbformat": 4,
 "nbformat_minor": 4
}
