{
 "cells": [
  {
   "cell_type": "markdown",
   "metadata": {
    "slideshow": {
     "slide_type": "slide"
    }
   },
   "source": [
    "## What We Looked At Last Time\n",
    "* We addressed most of the remaining basic methods and operations related to Python lists.\n",
    "* We looked at tuples (effectively immutable lists) in some detail.\n",
    "* We looked at the application of slices to provide fine-tuned control over access to and modification of lists."
   ]
  },
  {
   "cell_type": "markdown",
   "metadata": {
    "slideshow": {
     "slide_type": "subslide"
    }
   },
   "source": [
    "## What We'll Look At Today\n",
    "* We'll (finally) wrap up our focused discussion of Lists.\n",
    "* We'll address details related to Python scope and variables.\n",
    "* We'll look at Methods of Dispersion in Python.\n"
   ]
  },
  {
   "cell_type": "markdown",
   "metadata": {
    "slideshow": {
     "slide_type": "slide"
    }
   },
   "source": [
    "### Variables and identities\n",
    "* Deleting a list variable's contents is different from assigning it a _new_ empty list `[]`. \n",
    "* Identities are different, so they represent separate objects in memory.\n",
    "* When you assign a new object to a variable, the original object will eventually be **garbage collected** if no other variables refer to it.\n",
    "* Unlike C or C++, manual memory management is not required in Python.  Googling \"PyMalloc\" can provide details about how object allocation is handled.\n",
    "     "
   ]
  },
  {
   "cell_type": "code",
   "execution_count": null,
   "metadata": {},
   "outputs": [],
   "source": [
    "numbers = [1,2,3]\n",
    "print(id(numbers))\n",
    "numbers.clear()\n",
    "print(id(numbers))\n",
    "numbers = [1,2,3]\n",
    "print(id(numbers))"
   ]
  },
  {
   "cell_type": "markdown",
   "metadata": {
    "slideshow": {
     "slide_type": "slide"
    }
   },
   "source": [
    "# ```del``` Statement\n",
    "* Recall that the `remove` statement removes the first matching element in a list.\n",
    "* If elements need to be deleted **by index**, the `del` statement can be used to delete them. \n",
    "* Both individual indices or slices can be used in this manner.\n",
    "* Theoretically this is more memory efficient than using the slice strategy (because it does not make a temporary copy of the list), but this is usually a minor consideration.\n",
    "* `del` can also be used to designate that a variable is no longer needed."
   ]
  },
  {
   "cell_type": "code",
   "execution_count": null,
   "metadata": {
    "slideshow": {
     "slide_type": "subslide"
    }
   },
   "outputs": [],
   "source": [
    "numbers = list(range(10, 20))\n",
    "print(numbers)\n",
    "del(numbers[-1]) #delete last element in list\n",
    "print(numbers)"
   ]
  },
  {
   "cell_type": "code",
   "execution_count": null,
   "metadata": {
    "slideshow": {
     "slide_type": "-"
    }
   },
   "outputs": [],
   "source": [
    "del(numbers[1:3]) #delete elements at indices 1 and 2\n",
    "print(numbers)"
   ]
  },
  {
   "cell_type": "code",
   "execution_count": null,
   "metadata": {},
   "outputs": [],
   "source": [
    "del numbers[:] #empty the list\n",
    "print(numbers)"
   ]
  },
  {
   "cell_type": "code",
   "execution_count": null,
   "metadata": {},
   "outputs": [],
   "source": [
    "#del numbers #\"destroy\" the numbers variable, indicating it is no longer required\n",
    "#print(numbers)\n",
    "del numbers\n",
    "numbers = [1,2,3]\n",
    "print(numbers)"
   ]
  },
  {
   "cell_type": "markdown",
   "metadata": {
    "slideshow": {
     "slide_type": "slide"
    }
   },
   "source": [
    "### Passing Lists and Tuples to Functions\n",
    "* As lists provide a collection of references, they can be easily modified when passed to functions.\n",
    "* Tuples are immutable, in their original scope or when passed in or outside a function."
   ]
  },
  {
   "cell_type": "code",
   "execution_count": null,
   "metadata": {},
   "outputs": [],
   "source": [
    "def square_elements(items):\n",
    "    \"\"\"\"Raises all passed elements to the power of 2.\"\"\"\n",
    "    for i in range(len(items)):\n",
    "        items[i] = items[i]**2"
   ]
  },
  {
   "cell_type": "code",
   "execution_count": null,
   "metadata": {},
   "outputs": [],
   "source": [
    "numberlist = [5, 3, 7, 1, 9]\n",
    "square_elements(numberlist)\n",
    "print(numberlist)"
   ]
  },
  {
   "cell_type": "code",
   "execution_count": null,
   "metadata": {},
   "outputs": [],
   "source": [
    "numbertuple = (5, 3, 7, 1, 9)\n",
    "square_elements(numbertuple)"
   ]
  },
  {
   "cell_type": "markdown",
   "metadata": {
    "slideshow": {
     "slide_type": "slide"
    }
   },
   "source": [
    "# Scope Rules\n",
    "* Each identifier has a `scope` that determines where you can use it in your program.\n",
    "### Local Scope\n",
    "* A local variable’s identifier has **local scope**. \n",
    "### Global Scope\n",
    " Identifiers defined outside any function (or class) have **global scope**—these may include functions, variables and classes."
   ]
  },
  {
   "cell_type": "code",
   "execution_count": null,
   "metadata": {
    "slideshow": {
     "slide_type": "subslide"
    }
   },
   "outputs": [],
   "source": [
    "my_globalvar = 10 #A global variable\n",
    "\n",
    "def somefunction():\n",
    "    my_localvar = 5 #A local variable\n",
    "    print('My local var:',my_localvar)\n",
    "print('My global var:',my_globalvar)    \n",
    "\n",
    "somefunction()"
   ]
  },
  {
   "cell_type": "markdown",
   "metadata": {
    "slideshow": {
     "slide_type": "slide"
    }
   },
   "source": [
    "# Global Variables In Local Scope\n",
    "* Dealing with objects/values stored in local variables within functions is largely straightforward.\n",
    "* By default, however, you cannot _modify_ a global variable in a function\n",
    "* Python creates a new **local** variable when you first assign a value to a variable in a function’s block (whether it has been declared globally or not).\n",
    "    * Such variables are said to **shadow** any global variable within the local scope after assignment."
   ]
  },
  {
   "cell_type": "code",
   "execution_count": null,
   "metadata": {},
   "outputs": [],
   "source": [
    "avar = 15 #a global variable named \"avar\"\n",
    "\n",
    "def anotherfunction():\n",
    "    print(avar+1)    #Since no assignment is made, this simply uses the value sorted in the global \"avar\"\n",
    "    \n",
    "anotherfunction()"
   ]
  },
  {
   "cell_type": "code",
   "execution_count": null,
   "metadata": {
    "slideshow": {
     "slide_type": "subslide"
    }
   },
   "outputs": [],
   "source": [
    "def modifyattempt():\n",
    "    avar = 5 #this version of avar is local\n",
    "    print(f'The local variable value is {avar}.')"
   ]
  },
  {
   "cell_type": "code",
   "execution_count": null,
   "metadata": {},
   "outputs": [],
   "source": [
    "modifyattempt()\n",
    "print(f'But the global variable value is {avar}.')"
   ]
  },
  {
   "cell_type": "code",
   "execution_count": null,
   "metadata": {
    "slideshow": {
     "slide_type": "-"
    }
   },
   "outputs": [],
   "source": [
    "def modifyattemptV2():\n",
    "    avar = avar + 5 \n",
    "    "
   ]
  },
  {
   "cell_type": "code",
   "execution_count": null,
   "metadata": {},
   "outputs": [],
   "source": [
    "modifyattemptV2() #This will fail entirely!\n"
   ]
  },
  {
   "cell_type": "markdown",
   "metadata": {
    "slideshow": {
     "slide_type": "subslide"
    }
   },
   "source": [
    "## Modifying a Global Variable\n",
    "* To modify a global variable in a function’s block, you must use a **`global`** statement to declare that the variable is defined relative to global scope.\n",
    "* Note that this declaration does not \"re-initialize\" an already declared global variable, so it can be used to provide a new value to a global variable _or_ to simply modify it. "
   ]
  },
  {
   "cell_type": "code",
   "execution_count": null,
   "metadata": {},
   "outputs": [],
   "source": [
    "def modify_global():\n",
    "    global avar;\n",
    "    avar = 30\n",
    "    print(f'Variable assigned locally is {avar}.')\n",
    "    "
   ]
  },
  {
   "cell_type": "code",
   "execution_count": null,
   "metadata": {},
   "outputs": [],
   "source": [
    "modify_global()\n",
    "print(f'Variable\\'s global value remains {avar}.')"
   ]
  },
  {
   "cell_type": "code",
   "execution_count": null,
   "metadata": {
    "slideshow": {
     "slide_type": "subslide"
    }
   },
   "outputs": [],
   "source": [
    "def modify_globalV2():\n",
    "    global avar;\n",
    "    avar = avar + 5\n",
    "    print(f'Variable assigned locally is {avar}.')"
   ]
  },
  {
   "cell_type": "code",
   "execution_count": null,
   "metadata": {},
   "outputs": [],
   "source": [
    "modify_globalV2()\n",
    "print(f'Variable\\'s global value remains {avar}')"
   ]
  },
  {
   "cell_type": "markdown",
   "metadata": {
    "slideshow": {
     "slide_type": "slide"
    }
   },
   "source": [
    "# Passing Arguments to Functions: A Deeper Look \n",
    "* **Python arguments are always passed by reference**. \n",
    "* Often people call this **pass-by-object-reference**, because _everything in Python is an object._ (even simple primitive data like integers). \n",
    "* When a function call provides an argument, Python copies the argument object _reference_ —not the object itself—into the corresponding parameter."
   ]
  },
  {
   "cell_type": "markdown",
   "metadata": {
    "slideshow": {
     "slide_type": "subslide"
    }
   },
   "source": [
    "### Memory Addresses, References and “Pointers”\n",
    "* After an assignment like the **x=7**, the variable `x` contains a reference to an _object_ containing `7` stored _elsewhere_ in memory."
   ]
  },
  {
   "cell_type": "markdown",
   "metadata": {},
   "source": [
    "![Variable referring to an object](images/AAEMYQU0a.png \"Variable referring to an object\")"
   ]
  },
  {
   "cell_type": "code",
   "execution_count": null,
   "metadata": {
    "slideshow": {
     "slide_type": "subslide"
    }
   },
   "outputs": [],
   "source": [
    "x = 7 #Declare a global variable x\n",
    "print(f'x\\'s object id is {id(x)}')"
   ]
  },
  {
   "cell_type": "code",
   "execution_count": null,
   "metadata": {},
   "outputs": [],
   "source": [
    "def cube(number):\n",
    "    print(f'number\\'s object id is {id(number)}')\n",
    "    return number ** 3"
   ]
  },
  {
   "cell_type": "code",
   "execution_count": null,
   "metadata": {},
   "outputs": [],
   "source": [
    "cube(10)"
   ]
  },
  {
   "cell_type": "markdown",
   "metadata": {
    "slideshow": {
     "slide_type": "subslide"
    }
   },
   "source": [
    "### Testing Object Identities with the is Operator \n",
    "* The identity displayed for `cube`’s parameter `number` was the _same_ as that displayed for `x` previously. \n",
    "* The _argument_ `x` and the _parameter_ `number` refer to the _same object_ while `cube` executes. \n",
    "* The **`is`** **operator** returns `True` if its two operands have the _same identity_:"
   ]
  },
  {
   "cell_type": "code",
   "execution_count": null,
   "metadata": {},
   "outputs": [],
   "source": [
    "def cube(number):\n",
    "    print('number is x?', number is x) \n",
    "    return number ** 3"
   ]
  },
  {
   "cell_type": "code",
   "execution_count": null,
   "metadata": {},
   "outputs": [],
   "source": [
    "cube(10)"
   ]
  },
  {
   "cell_type": "markdown",
   "metadata": {
    "slideshow": {
     "slide_type": "subslide"
    }
   },
   "source": [
    "### Immutable Objects as Arguments\n",
    "* When a function receives as an argument a reference to an _immutable_ (unmodifiable) object, even though you have direct access to the original object in the caller, you cannot modify the original immutable object’s value. \n",
    "* Primitive data types (integers, boolean, etc.) are almost exclusively _immutable_."
   ]
  },
  {
   "cell_type": "code",
   "execution_count": null,
   "metadata": {},
   "outputs": [],
   "source": [
    "def cube(number):\n",
    "    print('id(number) before modifying number:', id(number))\n",
    "    number **= 3\n",
    "    print('id(number) after modifying number:', id(number))\n",
    "    return number"
   ]
  },
  {
   "cell_type": "code",
   "execution_count": null,
   "metadata": {},
   "outputs": [],
   "source": [
    "print(cube(x))"
   ]
  },
  {
   "cell_type": "code",
   "execution_count": null,
   "metadata": {},
   "outputs": [],
   "source": [
    "print(f'x = {x}; id(x) = {id(x)}') #The original (global) value and object ID remain unchanged."
   ]
  },
  {
   "cell_type": "markdown",
   "metadata": {
    "slideshow": {
     "slide_type": "slide"
    }
   },
   "source": [
    "# Stacks\n",
    "* A stack is an abstract data type (conceptual collection) containing elements that are \"piled\" on top of one another.\n",
    "* A good analogy is a pile of dishes. \n",
    "* When you add a dish to the pile, you place it on the top. \n",
    "* When you remove a dish from the pile, you take it from the top. \n",
    "* Stacks are generally referred to as last-in, first-out (LIFO) data structures."
   ]
  },
  {
   "cell_type": "markdown",
   "metadata": {
    "slideshow": {
     "slide_type": "-"
    }
   },
   "source": [
    "### The Function-Call Stack\n",
    "* The Function-call stack is used to support the function call/return mechanism. \n",
    "* Eventually, each function must return program control to the point at which it was called. \n",
    "* For each function call, the interpreter pushes an entry called a **stack frame** (or an activation record) onto the stack. "
   ]
  },
  {
   "cell_type": "markdown",
   "metadata": {
    "slideshow": {
     "slide_type": "subslide"
    }
   },
   "source": [
    "### The Stack Frame\n",
    "* The stack frame contains the return location that the called function needs so it can return control to its caller. \n",
    "* When the function finishes executing, the interpreter pops the function’s stack frame, and control transfers to the return location that was popped.\n",
    "* The top stack frame always contains the information the currently executing function needs to return control to its caller. "
   ]
  },
  {
   "cell_type": "markdown",
   "metadata": {},
   "source": [
    "![Stack Frames Being Built](images/Stack.png \"Stack Frames Being Built\")"
   ]
  },
  {
   "cell_type": "markdown",
   "metadata": {
    "slideshow": {
     "slide_type": "subslide"
    }
   },
   "source": [
    "### Local Variables and Stack Frames\n",
    "* Most functions have one or more parameters and possibly local variables that need to:\n",
    "    * exist while the function is executing,\n",
    "    * remain active if the function makes calls to other functions, and\n",
    "    * “go away” when the function returns to its caller.\n",
    "* The stack frame's information therefore includes all local variables."
   ]
  },
  {
   "cell_type": "code",
   "execution_count": null,
   "metadata": {
    "slideshow": {
     "slide_type": "subslide"
    }
   },
   "outputs": [],
   "source": [
    "def function1():\n",
    "    #This function is called first.\n",
    "    f1var = 10 #the stack frame for this function will allocate space for this local variable\n",
    "    f1var += function2() #a stack-frame for function 2 is added when this is called, and then\n",
    "                         #removed after its termination\n",
    "    return f1var"
   ]
  },
  {
   "cell_type": "code",
   "execution_count": null,
   "metadata": {},
   "outputs": [],
   "source": [
    "def function2():\n",
    "    #This function is called second.  Its stack frame will be placed ON TOP of function1's, \n",
    "    #ad during its execution f1var is inaccessible.\n",
    "    f2var = 5\n",
    "    return 2**f2var"
   ]
  },
  {
   "cell_type": "code",
   "execution_count": null,
   "metadata": {},
   "outputs": [],
   "source": [
    "somenumber = function1() #a stack-frame for function1 is added when this is called, \n",
    "                         #and then subsequently removed after its termination.\n",
    "print(somenumber)"
   ]
  },
  {
   "cell_type": "markdown",
   "metadata": {
    "slideshow": {
     "slide_type": "slide"
    }
   },
   "source": [
    "# Intro to Data Science: Measures of Dispersion\n",
    "* We previously considered the measures of central tendency—mean, median and mode. \n",
    "* These help us categorize \\\"standard\\\" values in a group used for analysis purposes.\n",
    "* An entire group in this fashion is called a **population**. \n",
    "* Populations may be small, but on many occasions they are massive (ex: number of expected vaccine recipients).\n",
    "* For practical reasons, scientific organizations must work with carefully selected small, representative subsets of the population known as **samples**.\n"
   ]
  },
  {
   "cell_type": "markdown",
   "metadata": {
    "slideshow": {
     "slide_type": "subslide"
    }
   },
   "source": [
    "* Here we introduce **measures of dispersion** (also called **measures of variability**) that help us analyze how **spread out** the values are. \n",
    "* We’ll calculate each measure of dispersion both by hand and with functions from the module `statistics`, using the following population of 10 six-sided die rolls:\n",
    "> 1, 3, 4, 2, 6, 5, 3, 4, 5, 2"
   ]
  },
  {
   "cell_type": "markdown",
   "metadata": {
    "slideshow": {
     "slide_type": "subslide"
    }
   },
   "source": [
    "### Variance\n",
    "* To determine variance, begin with the mean of these values—3.5. \n",
    "* Next, subtract the mean from every die value:\n",
    "> -2.5, -0.5, 0.5, -1.5, 2.5, 1.5, -0.5, 0.5, 1.5, -1.5\n",
    "* Then, square each of these results (yielding only positives):\n",
    "> 6.25, 0.25, 0.25, 2.25, 6.25, 2.25, 0.25, 0.25, 2.25, 2.25\n",
    "* Finally, calculate the mean of these squares, which is 2.25 (22.5 / 10)—this is the **population\n",
    "variance**. "
   ]
  },
  {
   "cell_type": "markdown",
   "metadata": {
    "slideshow": {
     "slide_type": "subslide"
    }
   },
   "source": [
    "### Computation Considerations\n",
    "* Squaring the difference between each die value and the mean of all die values heavily emphasizes **outliers**—the values that are farthest from the mean.\n",
    "* Outliers are an important factor in many data analysis applications.\n",
    "* We can use the `statistics` module’s `pvariance` function to compute the variance.\n",
    "* If we want to _deemphasize_ outliers we can use an alternative measure of dispersion called mean absolute deviation (which requires a separate module/function).\n"
   ]
  },
  {
   "cell_type": "markdown",
   "metadata": {},
   "source": [
    "![Formula for Variance and MAD](images/VarVsMAD.png \"Formula for Variance and MAD\")"
   ]
  },
  {
   "cell_type": "code",
   "execution_count": null,
   "metadata": {
    "slideshow": {
     "slide_type": "subslide"
    }
   },
   "outputs": [],
   "source": [
    "import statistics\n",
    "print(statistics.pvariance([1, 3, 4, 2, 6, 5, 3, 4, 5, 2]))"
   ]
  },
  {
   "cell_type": "code",
   "execution_count": null,
   "metadata": {},
   "outputs": [],
   "source": [
    "def mad(dlist):\n",
    "    msum=0\n",
    "    mu=statistics.mean(dlist)\n",
    "    for ditem in dlist:\n",
    "        msum+=abs(ditem-mu)\n",
    "    return msum/len(dlist)"
   ]
  },
  {
   "cell_type": "code",
   "execution_count": null,
   "metadata": {},
   "outputs": [],
   "source": [
    "print(mad([1, 3, 4, 2, 6, 5, 3, 4, 5, 2]))"
   ]
  },
  {
   "cell_type": "markdown",
   "metadata": {
    "slideshow": {
     "slide_type": "subslide"
    }
   },
   "source": [
    "### Standard Deviation\n",
    "* The standard deviation is the square root of the variance (in this case, 1.5).\n",
    "* The smaller the variance and standard deviation are, the closer the data values are to the mean and the less overall dispersion (that is, spread) there is between the values and the mean. \n",
    "* The `statistics` module’s `pstdev` function can be used to compute the standard deviation."
   ]
  },
  {
   "cell_type": "code",
   "execution_count": null,
   "metadata": {
    "slideshow": {
     "slide_type": "-"
    }
   },
   "outputs": [],
   "source": [
    "import math\n",
    "print(math.sqrt(statistics.pvariance([1, 3, 4, 2, 6, 5, 3, 4, 5, 2])))\n",
    "print(statistics.pstdev([1, 3, 4, 2, 6, 5, 3, 4, 5, 2]))\n"
   ]
  },
  {
   "cell_type": "markdown",
   "metadata": {
    "slideshow": {
     "slide_type": "subslide"
    }
   },
   "source": [
    "### Advantage of Population Standard Deviation vs. Population Variance\n",
    "* Suppose you’ve recorded the March Fahrenheit temperatures in your area. \n",
    "* You might have 31 numbers such as 19, 32, 28 and 35. \n",
    "* The units for these numbers are degrees.\n",
    "* When you square your temperatures to calculate the population variance, the units of the population variance become **“degrees squared.”**\n",
    "* When you take the square root of the population variance to calculate the population standard deviation, the units once again become **degrees**, which are line with your base measurements."
   ]
  },
  {
   "cell_type": "code",
   "execution_count": null,
   "metadata": {},
   "outputs": [],
   "source": []
  }
 ],
 "metadata": {
  "celltoolbar": "Slideshow",
  "kernelspec": {
   "display_name": "Python 3 (ipykernel)",
   "language": "python",
   "name": "python3"
  },
  "language_info": {
   "codemirror_mode": {
    "name": "ipython",
    "version": 3
   },
   "file_extension": ".py",
   "mimetype": "text/x-python",
   "name": "python",
   "nbconvert_exporter": "python",
   "pygments_lexer": "ipython3",
   "version": "3.10.8"
  }
 },
 "nbformat": 4,
 "nbformat_minor": 4
}
