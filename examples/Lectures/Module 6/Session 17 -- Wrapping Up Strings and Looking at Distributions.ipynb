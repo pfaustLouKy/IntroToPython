{
 "cells": [
  {
   "cell_type": "markdown",
   "metadata": {
    "slideshow": {
     "slide_type": "slide"
    }
   },
   "source": [
    "# Last Time\n",
    "* We looked at the basics of loading a text file and reading its \"words\" into a list.\n",
    "* We worked through some exercises related to lists, sets, and dictionaries.\n",
    "* We took a look at strings and formatting."
   ]
  },
  {
   "cell_type": "markdown",
   "metadata": {
    "slideshow": {
     "slide_type": "subslide"
    }
   },
   "source": [
    "# This Time\n",
    "* We'll wrap up our discussion of major string operations.\n",
    "* We'll talk about data distributions in Python"
   ]
  },
  {
   "cell_type": "markdown",
   "metadata": {
    "slideshow": {
     "slide_type": "slide"
    }
   },
   "source": [
    "# Searching for Substrings\n",
    "* Can search a string for a **substring** to accomplish many tasks:\n",
    "    * determine whether a string contains a substring\n",
    "    * count number of occurrences\n",
    "    * determine the index at which a substring resides in a string\n",
    "* Each method we take a look at compares characters lexicographically using their underlying numeric values (capitalization counts!)"
   ]
  },
  {
   "cell_type": "markdown",
   "metadata": {
    "slideshow": {
     "slide_type": "subslide"
    }
   },
   "source": [
    "### Counting Occurrences\n",
    "* **`count`** returns the number of times its argument occurs in a string\n",
    "* If you specify as the second argument a **start index**, `count` searches only the slice **_string_`[`*start_index*`:]`**\n",
    "* If you specify as the second and third arguments the **start index** and **end index**,`count` searches only the slice **_string_`[`*start_index*`:`*end_index*`]`**"
   ]
  },
  {
   "cell_type": "code",
   "execution_count": null,
   "metadata": {
    "slideshow": {
     "slide_type": "fragment"
    }
   },
   "outputs": [],
   "source": [
    "sentence = 'that that creature was there after moonfall was that which perplexed me'\n",
    "print(sentence.count('that'))"
   ]
  },
  {
   "cell_type": "code",
   "execution_count": null,
   "metadata": {
    "slideshow": {
     "slide_type": "fragment"
    }
   },
   "outputs": [],
   "source": [
    "print(sentence.count('that',6))"
   ]
  },
  {
   "cell_type": "code",
   "execution_count": null,
   "metadata": {
    "slideshow": {
     "slide_type": "fragment"
    }
   },
   "outputs": [],
   "source": [
    "print(sentence.count('that',10,30))"
   ]
  },
  {
   "cell_type": "markdown",
   "metadata": {
    "slideshow": {
     "slide_type": "subslide"
    }
   },
   "source": [
    "### Locating a Substring in a String\n",
    "* **`index`** searches for a substring within a string and returns the first index at which the substring is found\n",
    "* If it is **not** found, a `ValueError` occurs.\n",
    "* Like `count`, may have **start index** and **end index** arguments "
   ]
  },
  {
   "cell_type": "code",
   "execution_count": null,
   "metadata": {
    "slideshow": {
     "slide_type": "fragment"
    }
   },
   "outputs": [],
   "source": [
    "print(sentence) \n",
    "print(sentence.index('was'))"
   ]
  },
  {
   "cell_type": "code",
   "execution_count": null,
   "metadata": {
    "slideshow": {
     "slide_type": "fragment"
    }
   },
   "outputs": [],
   "source": [
    "print(sentence.index('was',20))"
   ]
  },
  {
   "cell_type": "code",
   "execution_count": null,
   "metadata": {
    "slideshow": {
     "slide_type": "fragment"
    }
   },
   "outputs": [],
   "source": [
    "print(sentence.index('was',20,40)) #will return a ValueError, since the substring is not present within this range"
   ]
  },
  {
   "cell_type": "markdown",
   "metadata": {
    "slideshow": {
     "slide_type": "subslide"
    }
   },
   "source": [
    "### Index Variants ###\n",
    "* **`rindex`** performs the same operation as `index`, but searches from the end of the string backwards.\n",
    "* **`find`** performs the task as `index` but returns `-1` if the substring isn't found.\n",
    "* **`rfind`** performs the same operation as `find`, but searches from the end of the string backwards."
   ]
  },
  {
   "cell_type": "code",
   "execution_count": null,
   "metadata": {
    "slideshow": {
     "slide_type": "fragment"
    }
   },
   "outputs": [],
   "source": [
    "print(sentence)\n",
    "print(sentence.index('that')) #first time substring is encountered\n",
    "print(sentence.rindex('that')) #last time substring is encountered\n"
   ]
  },
  {
   "cell_type": "code",
   "execution_count": null,
   "metadata": {
    "slideshow": {
     "slide_type": "fragment"
    }
   },
   "outputs": [],
   "source": [
    "print(sentence)\n",
    "print(sentence.find('that',20,40))"
   ]
  },
  {
   "cell_type": "markdown",
   "metadata": {
    "slideshow": {
     "slide_type": "subslide"
    }
   },
   "source": [
    "### Determining if a String Contains a Substring Or Begins/Ends With One \n",
    "* To check whether a string contains a substring, use operator `in`\n",
    "* The _method_ **`startswith`** returns `True` if the string starts with the specified substring\n",
    "* The _method_ **`endswith`** returns `True` if the string starts with the specified substring\n"
   ]
  },
  {
   "cell_type": "code",
   "execution_count": null,
   "metadata": {
    "slideshow": {
     "slide_type": "fragment"
    }
   },
   "outputs": [],
   "source": [
    "print(sentence)\n",
    "print('that' in sentence)"
   ]
  },
  {
   "cell_type": "code",
   "execution_count": null,
   "metadata": {
    "slideshow": {
     "slide_type": "fragment"
    }
   },
   "outputs": [],
   "source": [
    "print('koala' not in sentence)"
   ]
  },
  {
   "cell_type": "code",
   "execution_count": null,
   "metadata": {
    "slideshow": {
     "slide_type": "fragment"
    }
   },
   "outputs": [],
   "source": [
    "print(sentence.startswith('that'))"
   ]
  },
  {
   "cell_type": "code",
   "execution_count": null,
   "metadata": {
    "slideshow": {
     "slide_type": "fragment"
    }
   },
   "outputs": [],
   "source": [
    "print(sentence.endswith('that'))"
   ]
  },
  {
   "cell_type": "markdown",
   "metadata": {
    "slideshow": {
     "slide_type": "slide"
    }
   },
   "source": [
    "# Replacing Substrings\n",
    "* A common text manipulation is to locate a substring and replace its value\n",
    "* **`replace`** searches a string for the substring in its first argument and replaces _each_ occurrence with the substring in its second argument\n",
    "* Can receive an optional third argument specifying the maximum number of replacements\n",
    "* Use an empty string (`''`) for the second value to \"delete\" any substring"
   ]
  },
  {
   "cell_type": "code",
   "execution_count": null,
   "metadata": {
    "slideshow": {
     "slide_type": "fragment"
    }
   },
   "outputs": [],
   "source": [
    "values = '1\\t2\\t3\\t4\\t5' # \\t is a tab character\n",
    "print(values)"
   ]
  },
  {
   "cell_type": "code",
   "execution_count": null,
   "metadata": {
    "slideshow": {
     "slide_type": "fragment"
    }
   },
   "outputs": [],
   "source": [
    "print(values.replace('\\t', ','))\n",
    "print(values.replace('\\t', ',',2))\n",
    "x=values.replace('1','10')\n",
    "print(values)\n",
    "print(x)"
   ]
  },
  {
   "cell_type": "markdown",
   "metadata": {
    "slideshow": {
     "slide_type": "slide"
    }
   },
   "source": [
    "# Tokens and Tokenization\n",
    "* The word **token** has several meanings in the context of computer science -- in the case of strings a single token generally represents an individual element of interest (e.g. a word or even a combination of symbols with a particular meaning).\n",
    "* **Tokenization** is the process of splitting apart individual tokens from a larger collective (e.g. a string or file).\n",
    "* Tokens typically are separated by whitespace characters such as blank, tab and newline, though other characters may be used—these separators are known as **delimiters**"
   ]
  },
  {
   "cell_type": "markdown",
   "metadata": {
    "slideshow": {
     "slide_type": "subslide"
    }
   },
   "source": [
    "### Splitting Strings\n",
    "* Recall that `split` separates (i.e. tokenizes) parts of a string using a delimiter \n",
    "    * The default is to follow the approach above (any whitespace characters, including ' ', '\\n', '\\t') \n",
    "    * To tokenize a string at a custom delimiter, specify the delimiter string that `split` uses to tokenize the string\n",
    "* `split` can have a specified maximum number of splits with an integer as the second argument\n",
    "    * In such cases, the remaining portion of the string will remain a contiguous substring of the original.\n",
    "    * `rsplit` can be used in lieu of `split` to process tokens from right to left."
   ]
  },
  {
   "cell_type": "code",
   "execution_count": null,
   "metadata": {
    "slideshow": {
     "slide_type": "subslide"
    }
   },
   "outputs": [],
   "source": [
    "lettersV1 = 'A B\\t C\\n D '\n",
    "print(lettersV1.split(None)) #By default, any whitespace or combination of whitespace characters separate one token from the next\n"
   ]
  },
  {
   "cell_type": "code",
   "execution_count": null,
   "metadata": {
    "slideshow": {
     "slide_type": "fragment"
    }
   },
   "outputs": [],
   "source": [
    "lettersV2 = 'A,B,C,D'\n",
    "print(lettersV2.split()) #The default delimiter here won't work\n",
    "print(lettersV2.split(',')) #Instead we can specify ',' as a custom separator.\n"
   ]
  },
  {
   "cell_type": "code",
   "execution_count": null,
   "metadata": {
    "slideshow": {
     "slide_type": "fragment"
    }
   },
   "outputs": [],
   "source": [
    "print(lettersV2.split(',',2)) #tokenize for the first two occurrences of ',' -- leave the rest intact\n",
    "print(lettersV2.rsplit(',',2)) #tokenize for the last two occurrences of ',' -- leave the rest intact"
   ]
  },
  {
   "cell_type": "markdown",
   "metadata": {
    "slideshow": {
     "slide_type": "subslide"
    }
   },
   "source": [
    "### Joining Strings\n",
    "* **`join`** concatenates the strings in its argument, which must be an iterable containing only string values or expressions\n",
    "* The separator between the concatenated items is the _string_ on which you call `join`\n",
    "    * Use an empty string to simply join the iterable elements as they are\n",
    "* List comprehensions can be joined in this way with ease."
   ]
  },
  {
   "cell_type": "code",
   "execution_count": null,
   "metadata": {
    "slideshow": {
     "slide_type": "fragment"
    }
   },
   "outputs": [],
   "source": [
    "letters_list = ['A', 'B', 'C', 'D']"
   ]
  },
  {
   "cell_type": "code",
   "execution_count": null,
   "metadata": {
    "slideshow": {
     "slide_type": "fragment"
    }
   },
   "outputs": [],
   "source": [
    "print('||'.join(letters_list)) #join with pipes separating elements of the original iterable\n",
    "print(''.join(letters_list)) #join with nothing separating elements of the original iterable"
   ]
  },
  {
   "cell_type": "code",
   "execution_count": null,
   "metadata": {
    "slideshow": {
     "slide_type": "fragment"
    }
   },
   "outputs": [],
   "source": [
    "print(','.join([str(i*i) for i in range(10)])) #Join the results of a list comprehension that creates a list of strings"
   ]
  },
  {
   "cell_type": "markdown",
   "metadata": {
    "slideshow": {
     "slide_type": "subslide"
    }
   },
   "source": [
    "### String Methods `partition` and `rpartition` \n",
    "* String method **`partition`** splits a string into a tuple of three strings based on the method’s _separator_ argument\n",
    "    * the part of the original string before the separator\n",
    "    * the separator itself\n",
    "    * the part of the string after the separator\n",
    "* To search for the separator from the end of the string, use method **`rpartition`** "
   ]
  },
  {
   "cell_type": "code",
   "execution_count": null,
   "metadata": {
    "slideshow": {
     "slide_type": "subslide"
    }
   },
   "outputs": [],
   "source": [
    "name, separator, grades = 'Amanda: 89, 97, 92'.partition(': ')\n",
    "print(name)\n",
    "print(separator)\n",
    "print(grades)"
   ]
  },
  {
   "cell_type": "code",
   "execution_count": null,
   "metadata": {
    "slideshow": {
     "slide_type": "fragment"
    }
   },
   "outputs": [],
   "source": [
    "url = 'http://www.deitel.com/books/PyCDS/table_of_contents.html'\n",
    "rest_of_url, separator, document = url.rpartition('/')\n",
    "print(rest_of_url)\n",
    "print(separator)\n",
    "print(document)"
   ]
  },
  {
   "cell_type": "markdown",
   "metadata": {
    "slideshow": {
     "slide_type": "subslide"
    }
   },
   "source": [
    "### String Method `splitlines` \n",
    "* **`splitlines`** returns a list of new strings representing lines of text split at each newline character in the original\n",
    "string\n",
    "* Passing `True` to `splitlines` keeps the newlines"
   ]
  },
  {
   "cell_type": "code",
   "execution_count": null,
   "metadata": {
    "slideshow": {
     "slide_type": "fragment"
    }
   },
   "outputs": [],
   "source": [
    "lines = \"\"\"This is line 1\n",
    "This is line2\n",
    "This is line3\"\"\""
   ]
  },
  {
   "cell_type": "code",
   "execution_count": null,
   "metadata": {
    "slideshow": {
     "slide_type": "fragment"
    }
   },
   "outputs": [],
   "source": [
    "print(lines)\n",
    "print(lines.splitlines())\n",
    "print(lines.splitlines(True))"
   ]
  },
  {
   "cell_type": "markdown",
   "metadata": {
    "slideshow": {
     "slide_type": "slide"
    }
   },
   "source": [
    "# Characters and Character-Testing Methods\n",
    "* In Python, a character is simply a one-character string\n",
    "* Python provides string methods for testing whether a string matches certain characteristics\n",
    "    * **`isdigit`** returns `True` if the string on which you call the method contains only the digit characters (`0`–`9`)\n",
    "    * **`isalnum`** returns `True` if the string on which you call the method is alphanumeric (only digits and letters)\n",
    "* Character-testing is critical for validating input or searching for specific data-types.\n",
    "   "
   ]
  },
  {
   "cell_type": "code",
   "execution_count": null,
   "metadata": {
    "slideshow": {
     "slide_type": "fragment"
    }
   },
   "outputs": [],
   "source": [
    "print('27'.isdigit())\n",
    "print('-27'.isdigit()) #EVERY element in the string must be a digit for this to return true"
   ]
  },
  {
   "cell_type": "code",
   "execution_count": null,
   "metadata": {
    "slideshow": {
     "slide_type": "fragment"
    }
   },
   "outputs": [],
   "source": [
    "print('A9876'.isalnum())\n",
    "print('123 Main Street'.isalnum()) # Whitespace characters are NOT alphanumeric"
   ]
  },
  {
   "cell_type": "markdown",
   "metadata": {
    "slideshow": {
     "slide_type": "subslide"
    }
   },
   "source": [
    "* Table of many character-testing methods"
   ]
  },
  {
   "cell_type": "markdown",
   "metadata": {},
   "source": [
    "| String Method | Description\n",
    "| -------- | --------\n",
    "| `isalnum()` | Returns `True` if the string contains only _alphanumeric_ characters (i.e., digits and letters).\n",
    "| `isalpha()`  | Returns `True` if the string contains only _alphabetic_ characters (i.e., letters).\n",
    "| `isdecimal()`  | Returns `True` if the string contains only _decimal integer_ characters (that is, base 10 integers) and does not contain a + or - sign.\n",
    "| `isdigit()`  | Returns `True` if the string contains only digits (e.g., '0', '1', '2').\n",
    "| `isidentifier()`  | Returns `True` if the string represents a valid _identifier_. \n",
    "| `islower()`  | Returns `True` if all alphabetic characters in the string are _lowercase_ characters (e.g., `'a'`, `'b'`, `'c'`).\n",
    "| `isnumeric()`  | Returns `True` if the characters in the string represent a _numeric value_ without a + or - sign and without a decimal point.\n",
    "| `isspace()`  | Returns `True` if the string contains only _whitespace_ characters.\n",
    "| `istitle()`  | Returns `True` if the first character of each word in the string is the only _uppercase_ character in the word. \n",
    "| `isupper()`  | Returns `True` if all alphabetic characters in the string are _uppercase_ characters (e.g., `'A'`, `'B'`, `'C'`)."
   ]
  },
  {
   "cell_type": "markdown",
   "metadata": {
    "slideshow": {
     "slide_type": "slide"
    }
   },
   "source": [
    "# Raw Strings\n",
    "* Backslash characters in strings introduce _escape sequences_ — like `\\n` for newline and `\\t` for tab\n",
    "* To include a backslash in a string, use two backslash characters `\\\\`\n",
    "* These can occasionally make some strings relevant to filepaths difficult to read or interpret\n",
    "* Consider a Microsoft Windows file location: _C:\\MyFolder\\MySubFolder\\MyFile.txt_ it's string representation will really be 'C:\\\\MyFolder\\\\MySubFolder\\\\MyFile.txt'\n",
    "* **raw strings**—preceded by the character `r` are often more convenient\n",
    "* They treat each backslash as a regular character, rather than the beginning of an escape sequence"
   ]
  },
  {
   "cell_type": "code",
   "execution_count": null,
   "metadata": {
    "slideshow": {
     "slide_type": "subslide"
    }
   },
   "outputs": [],
   "source": [
    "file_path = 'C:\\\\MyFolder\\\\MySubFolder\\\\MyFile.txt'\n",
    "print(file_path)"
   ]
  },
  {
   "cell_type": "code",
   "execution_count": null,
   "metadata": {},
   "outputs": [],
   "source": [
    "file_path = r'C:\\MyFolder\\MySubFolder\\MyFile.txt'\n",
    "print(file_path)"
   ]
  },
  {
   "cell_type": "markdown",
   "metadata": {
    "slideshow": {
     "slide_type": "slide"
    }
   },
   "source": [
    "# Data Distributions\n",
    "* A **data distribution** is simply a collection of data *projected* through the lens of a subset of variables (usually one). \n",
    "* A common data analysis/science task is associating a given data distribution with a *probability distribution*.\n",
    "* A **probability distribution** describes how likely a variable is to possess values within the allowable range. \n",
    "     * Correctly associating data with probability distributions can help us understand underlying data characteristics and enchance our ability in future prediction.\n",
    "    \n",
    "* We will briefly address tasks of generating data according to distributions and fitting data to distributions in Python.\n",
    "     * Since this is *not* a course on statistics, we will restrict our discussion to simple distributions, and address the topic in  limited detail."
   ]
  },
  {
   "cell_type": "markdown",
   "metadata": {
    "slideshow": {
     "slide_type": "slide"
    }
   },
   "source": [
    "### A Simple Start: The Uniform Distribution\n",
    "* A **uniform distribution** is one wherein all values (or outcomes) are equally likely to appear (or occur).\n",
    "     * Uniform distributions may be *discrete*, in which case a finite number of values can appear.\n",
    "     * They can likewise be *continuous*, in which case any arbitrary value in a set range is equally likely to appear.\n",
    "* It is possible use the **numpy.random.uniform** function to generate uniformly distributed data.\n",
    "     * Instead, however, we will rely on the familiar task of *rolling dice* to produce and analyze uniform distributions. "
   ]
  },
  {
   "cell_type": "code",
   "execution_count": null,
   "metadata": {
    "slideshow": {
     "slide_type": "fragment"
    }
   },
   "outputs": [],
   "source": [
    "import numpy as np\n",
    "# We can generate 1000 and 1 million die rolls from scratch using numpy's randint function\n",
    "dierollarrays = []\n",
    "dierollarrays.append(np.random.randint(1,7,size=1_000)) #1000 die rolls\n",
    "dierollarrays.append(np.random.randint(1,7,size=1_000_000)) #1 million die rolls"
   ]
  },
  {
   "cell_type": "code",
   "execution_count": null,
   "metadata": {
    "slideshow": {
     "slide_type": "subslide"
    }
   },
   "outputs": [],
   "source": [
    "import matplotlib.pyplot as plt\n",
    "#Let's next generate a familiar set of plots for our die rolls \n",
    "for drarray,spi,disttitle in zip(dierollarrays,[1,2], ['1_000','1_000_000']):\n",
    "    plt.subplot(1,2,spi)\n",
    "    rollcounts = np.bincount(drarray)[1:] #get all counts from 0 to 6, and ignore \"bin\" for 0\n",
    "    plt.bar(range(1,7),rollcounts)    \n",
    "    plt.title(str(disttitle).replace('_',',') + ' Die Rolls')\n",
    "fig = plt.gcf()\n",
    "fig.set_size_inches(18.5, 5)\n",
    "plt.show()"
   ]
  },
  {
   "cell_type": "markdown",
   "metadata": {
    "slideshow": {
     "slide_type": "slide"
    }
   },
   "source": [
    "### Normal Distribution\n",
    "* A **normal distribution** is one wherein values are densely packed around a symmetric mean, with the likelihood of given values appearing falling off as the distance from the mean increases.\n",
    "* The normal distribution is known for its excellent ability to *approximate* distributions of many natural phenomena (test scores, vital sign measurements, etc.)\n",
    "* Unlike the other distributions we look at today, the normal distribution relies on two parameters:\n",
    "     * The first (distribution mean) indicates where data are likely to be clustered\n",
    "     * The second (distribution standard deviation) indicates how quickly value likelihood falls off.\n",
    "          * Almost 70% of the data will fall within a single deviation of the mean, while about 95% will fall within two standard deviations.\n",
    "* The easiest way to generate an array of normally distributed data is with the   **numpy.random.normal** function.\n",
    "     * Parameters include distribution mean (*mu*), standard deviation (*sigma*), and number of samples."
   ]
  },
  {
   "cell_type": "code",
   "execution_count": null,
   "metadata": {
    "slideshow": {
     "slide_type": "fragment"
    }
   },
   "outputs": [],
   "source": [
    "import numpy as np\n",
    "mu, sigma = 0, 0.1 # mu is the mean and sigma is the standard deviation\n",
    "normarrays=[]\n",
    "normarrays.append(np.random.normal(mu, sigma, 1_000))\n",
    "normarrays.append(np.random.normal(mu, sigma, 1_000_000))"
   ]
  },
  {
   "cell_type": "code",
   "execution_count": null,
   "metadata": {
    "slideshow": {
     "slide_type": "subslide"
    }
   },
   "outputs": [],
   "source": [
    "import matplotlib.pyplot as plt\n",
    "for normarray,spi,disttitle in zip(normarrays,[1,2], ['1000 Normal Dist. Samples','1 Million Normal Dist. Samples']):\n",
    "    plt.subplot(1,2,spi)\n",
    "    count, bins, _ = plt.hist(normarray, 51, density=True)\n",
    "    mid = (bins[1:] + bins[:-1]) / 2\n",
    "    expected = 1/(sigma * np.sqrt(2 * np.pi)) * np.exp( - (mid - mu)**2 / (2 * sigma**2) )\n",
    "    plt.bar(mid,count,width = 0.0001)\n",
    "    plt.plot(mid,expected)\n",
    "    plt.title(disttitle)\n",
    "#plt.ylim((0,max(count+1)))\n",
    "fig = plt.gcf()\n",
    "fig.set_size_inches(18.5, 5)\n",
    "plt.show()"
   ]
  },
  {
   "cell_type": "markdown",
   "metadata": {
    "slideshow": {
     "slide_type": "slide"
    }
   },
   "source": [
    "### Distribution Fitting\n",
    "* numpy makes generation of diverse distributions of data simple and efficient.\n",
    "* However, numpy does not directly address *distribution fitting* \n",
    "* The goal of **distribution fitting** is to find the correct distribution type from which a set of data were generated, as well as the underlying parameters for generation.\n",
    "    * As a general rule, distribution fitting is a far more challenging process than distribution generation.\n",
    "    * While there are many packages that address the task, we will use *distfit*."
   ]
  },
  {
   "cell_type": "markdown",
   "metadata": {
    "slideshow": {
     "slide_type": "subslide"
    }
   },
   "source": [
    "### The distfit Package\n",
    "* The **distfit** package, authored by *Erdogan Taskesen*, is a maintained, custom library primarily used to fit data to data distributions.\n",
    "* distfit may be installed using pip, or in anaconda using `conda install -c conda-forge distfit`\n",
    "* It is an extremely flexible package whose functionality extends to creating and applying custom distribution functions to distribution fitting tasks.\n",
    "    * For our purposes, we will restrict our usage to fitting our generated data to standard distribution types using residual sum of squares (RSS) based criteria.\n",
    "         * Here, RSS is used to gauge the deviation of a distribution from an empirical model.  (The smaller the RSS value is for given data and distribution, the more likely there is to be a fit)."
   ]
  },
  {
   "cell_type": "markdown",
   "metadata": {
    "slideshow": {
     "slide_type": "subslide"
    }
   },
   "source": [
    "####          Let's now attempt to fit our normally distributed arrays to distributions."
   ]
  },
  {
   "cell_type": "code",
   "execution_count": null,
   "metadata": {
    "slideshow": {
     "slide_type": "-"
    }
   },
   "outputs": [],
   "source": [
    "from time import sleep #Used to prevent fit_transform executions from overlapping\n",
    "from distfit import distfit #We only need the basic distfit object for distribution fitting\n",
    "dist = distfit(distr=['uniform','norm','expon','dweibull']) #Only include these four distributions for consideration\n",
    "for normarray,disttitle in zip(normarrays,['1000 Normal Dist. Samples','1 Million Normal Dist. Samples']):\n",
    "    print('Fitting ' + disttitle + ' to uniform, normal, exponential, and Weibull distributions:')\n",
    "    sleep(0.5) #Make sure all info from previous iteration of fit_transform has already been printed\n",
    "    details=dist.fit_transform(normarray) #fit_transform will print RSS data we need; output includes detailed specifics\n",
    "    print()\n",
    "    "
   ]
  },
  {
   "cell_type": "markdown",
   "metadata": {
    "slideshow": {
     "slide_type": "slide"
    }
   },
   "source": [
    "### Exponential Distribution\n",
    "* An **exponential distribution** is one wherein values represent time points that occur according to a *Poisson point process*, wherein events occur independently with a constant average rate -- but potentially wide range of intervals.\n",
    "     * For example, suppose a busy tax lawyer gets texts at an average rate of 10 minutes during tax season.\n",
    "          * Many texts will arrive with an interval of 10 minutes or less.\n",
    "          * However, an occasional interval between texts that is *much* longer (1 or 2 hours, etc.) may occur.\n",
    "* The exponential distribution is mechanically simple, relying solely on an (average) rate parameter.\n",
    "     * More general distributions appropriate for interval data include the *Gamma* and *Weibull* distributions.\n",
    "* Arrays of exponentially distributed data can be generated with the **numpy.random.exponential** function.\n",
    "     * Parameters include the average rate and number of samples."
   ]
  },
  {
   "cell_type": "code",
   "execution_count": null,
   "metadata": {
    "slideshow": {
     "slide_type": "fragment"
    }
   },
   "outputs": [],
   "source": [
    "exparrays=[]\n",
    "rate = 10\n",
    "exparrays.append(np.random.exponential(rate, 1_000))\n",
    "exparrays.append(np.random.exponential(rate, 1_000_000))"
   ]
  },
  {
   "cell_type": "code",
   "execution_count": null,
   "metadata": {
    "slideshow": {
     "slide_type": "subslide"
    }
   },
   "outputs": [],
   "source": [
    "import matplotlib.pyplot as plt\n",
    "for exparray,spi,disttitle in zip(exparrays,[1,2], ['1000 Exp. Dist. Samples','1 Million Exp. Normal Dist. Samples']):\n",
    "    plt.subplot(1,2,spi)\n",
    "    count, bins, _ = plt.hist(exparray, 51, density=True)\n",
    "    mid = (bins[1:] + bins[:-1]) / 2\n",
    "    plt.bar(mid,count,width = 0.0001)\n",
    "    plt.title(disttitle)\n",
    "fig = plt.gcf()\n",
    "fig.set_size_inches(18.5, 5)\n",
    "plt.show()\n",
    "\n"
   ]
  },
  {
   "cell_type": "markdown",
   "metadata": {
    "slideshow": {
     "slide_type": "subslide"
    }
   },
   "source": [
    "####          We can also attempt to fit our exponentially distributed arrays to distributions."
   ]
  },
  {
   "cell_type": "code",
   "execution_count": null,
   "metadata": {
    "scrolled": true,
    "slideshow": {
     "slide_type": "-"
    }
   },
   "outputs": [],
   "source": [
    "#Let's now attempt to fit our exponentially distributed arrays to distributions\n",
    "for exparray,disttitle in zip(exparrays,['1000 Exp. Dist. Samples','1 Million Exp. Normal Dist. Samples']):\n",
    "    print('Fitting ' + disttitle + ' to uniform, normal, exponential, and Weibull distributions:')\n",
    "    sleep(0.5) #Make sure all info from previous iteration of fit_transform has already been printed\n",
    "    details=dist.fit_transform(exparray) #fit_transform will print RSS data we need; output includes detailed specifics\n",
    "    print()"
   ]
  }
 ],
 "metadata": {
  "celltoolbar": "Slideshow",
  "kernelspec": {
   "display_name": "Python 3 (ipykernel)",
   "language": "python",
   "name": "python3"
  },
  "language_info": {
   "codemirror_mode": {
    "name": "ipython",
    "version": 3
   },
   "file_extension": ".py",
   "mimetype": "text/x-python",
   "name": "python",
   "nbconvert_exporter": "python",
   "pygments_lexer": "ipython3",
   "version": "3.10.8"
  }
 },
 "nbformat": 4,
 "nbformat_minor": 4
}
