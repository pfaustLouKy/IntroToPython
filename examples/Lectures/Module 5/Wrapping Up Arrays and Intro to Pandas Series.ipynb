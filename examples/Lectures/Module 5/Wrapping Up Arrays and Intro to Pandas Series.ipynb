{
 "cells": [
  {
   "cell_type": "markdown",
   "metadata": {
    "slideshow": {
     "slide_type": "slide"
    }
   },
   "source": [
    "## What We Looked At Last Time\n",
    "* We worked through a few exercises built around lists, dictionaries, and sets.\n",
    "* We looked at using the FuncAnimation method of matplotlib to perform simple animations in Python\n",
    "* We re-introduced NumPy arrays and provided more detail on their functionality."
   ]
  },
  {
   "cell_type": "markdown",
   "metadata": {
    "slideshow": {
     "slide_type": "subslide"
    }
   },
   "source": [
    "## What We'll Look At Today\n",
    "* We'll wrap up our discussion of arrays.\n",
    "* We'll introduce pandas and data _series_, which provide the cornerstone for many practical data operations in Python"
   ]
  },
  {
   "cell_type": "markdown",
   "metadata": {
    "slideshow": {
     "slide_type": "slide"
    }
   },
   "source": [
    "## Indexing an Array\n",
    "* One-dimensional `array`s can be **indexed** like lists.\n",
    "* `array`s with two or more dimensions are handled a bit differently.\n",
    "    * To select an element in a two-dimensional `array`, specify a tuple containing the element’s row and column indices in **square brackets**.\n",
    "    * To select a single row, specify only one index in square brackets. \n",
    "    * To select a single column, use square brackets and a colon (:) for the row dimension, and the appropriate index for the column following a comma (,)."
   ]
  },
  {
   "cell_type": "code",
   "execution_count": null,
   "metadata": {
    "slideshow": {
     "slide_type": "subslide"
    }
   },
   "outputs": [],
   "source": [
    "import numpy as np\n",
    "#grades of 4 students on 3 different exams\n",
    "grades = np.array([[87, 96, 70], [100, 87, 90],\n",
    "                   [94, 77, 90], [100, 81, 82]])\n"
   ]
  },
  {
   "cell_type": "code",
   "execution_count": null,
   "metadata": {
    "slideshow": {
     "slide_type": "-"
    }
   },
   "outputs": [],
   "source": [
    "print(grades)\n",
    "print(grades[0,1]) #Student 0, exam 1"
   ]
  },
  {
   "cell_type": "code",
   "execution_count": null,
   "metadata": {
    "slideshow": {
     "slide_type": "-"
    }
   },
   "outputs": [],
   "source": [
    "print(grades[1,:]) #All of student 1's exam grades (same as grades[1,0:3])"
   ]
  },
  {
   "cell_type": "code",
   "execution_count": null,
   "metadata": {
    "slideshow": {
     "slide_type": "-"
    }
   },
   "outputs": [],
   "source": [
    "print(grades[:,2]) #All grades for exam 2"
   ]
  },
  {
   "cell_type": "markdown",
   "metadata": {
    "slideshow": {
     "slide_type": "subslide"
    }
   },
   "source": [
    "## Multiple Rows/Columns and Slicing\n",
    "* Multiple sequential rows/columns can be selected using slice notation\n",
    "* Multiple non-sequential rows/columns can be selected using a list of indices\n",
    "* It's possible to select a subset of rows and subset of columns simultaneously\n",
    "* As with slicing a list, second indices are **not included** in any range"
   ]
  },
  {
   "cell_type": "code",
   "execution_count": null,
   "metadata": {
    "slideshow": {
     "slide_type": "-"
    }
   },
   "outputs": [],
   "source": [
    "print(grades[0:2,:]) #Grades for students 0 and 1"
   ]
  },
  {
   "cell_type": "code",
   "execution_count": null,
   "metadata": {
    "slideshow": {
     "slide_type": "-"
    }
   },
   "outputs": [],
   "source": [
    "print(grades[:, [0, 2]]) #Test grades for exams 0 and 2 only"
   ]
  },
  {
   "cell_type": "code",
   "execution_count": null,
   "metadata": {
    "slideshow": {
     "slide_type": "-"
    }
   },
   "outputs": [],
   "source": [
    "print(grades[[0,3],1:3]) #Student 0 and 3's grades on exams 1 and 2\n"
   ]
  },
  {
   "cell_type": "markdown",
   "metadata": {
    "slideshow": {
     "slide_type": "slide"
    }
   },
   "source": [
    "# Views: Shallow Copies\n",
    "* Views “see” the data in other objects, rather than having their own copies of the data\n",
    "* Views are technically shallow copies of array objects\n",
    "*`array` method `view` returns a new array object with a view of the original `array` object’s data\n",
    "* Changing any actual data within one array will affect the other array's data."
   ]
  },
  {
   "cell_type": "code",
   "execution_count": null,
   "metadata": {
    "slideshow": {
     "slide_type": "subslide"
    }
   },
   "outputs": [],
   "source": [
    "numbers = np.arange(0, 5)\n",
    "numbersview = numbers.view()\n",
    "print(numbers)\n",
    "print(numbersview)"
   ]
  },
  {
   "cell_type": "code",
   "execution_count": null,
   "metadata": {
    "slideshow": {
     "slide_type": "-"
    }
   },
   "outputs": [],
   "source": [
    "print(id(numbers))\n",
    "print(id(numbersview)) #even though this array has the same elements, it's a different object"
   ]
  },
  {
   "cell_type": "code",
   "execution_count": null,
   "metadata": {
    "slideshow": {
     "slide_type": "-"
    }
   },
   "outputs": [],
   "source": [
    "numbers[1] = 10 #This impacts both arrays' data\n",
    "numbersview[3] = 30 #And so does this!\n",
    "print(numbers)\n",
    "print(numbersview)"
   ]
  },
  {
   "cell_type": "markdown",
   "metadata": {
    "slideshow": {
     "slide_type": "subslide"
    }
   },
   "source": [
    "## Views, Slices and Subsets\n",
    "* Slices create views (shallow copies) of arrays.\n",
    "* But using the list-based (comma-separated) notation actually creates **new array data**. \n",
    "* With multiple dimensions, if only slices are used, then shallow copies are created, but if even _one_ dimension uses list-based indexing a new copy is created."
   ]
  },
  {
   "cell_type": "code",
   "execution_count": null,
   "metadata": {
    "slideshow": {
     "slide_type": "subslide"
    }
   },
   "outputs": [],
   "source": [
    "numbers = np.arange(0, 5)\n",
    "numbersmod1 = numbers[1:4] #This variable references elements 1-3\n",
    "numbersmod2 = numbers[[0,4]] #This variable DUPLICATEs of elements 0 and 4\n",
    "print(numbersmod1)\n",
    "print(numbersmod2)\n"
   ]
  },
  {
   "cell_type": "code",
   "execution_count": null,
   "metadata": {
    "slideshow": {
     "slide_type": "-"
    }
   },
   "outputs": [],
   "source": [
    "#Confirming that all three arrays are technically different objects\n",
    "print(id(numbers))\n",
    "print(id(numbersmod1))\n",
    "print(id(numbersmod2))\n"
   ]
  },
  {
   "cell_type": "code",
   "execution_count": null,
   "metadata": {
    "slideshow": {
     "slide_type": "-"
    }
   },
   "outputs": [],
   "source": [
    "numbersmod1[2] = 99\n",
    "numbersmod2[1] = 100\n",
    "print(numbersmod1)\n",
    "print(numbersmod2)\n",
    "print(numbers) #Note what has changed and what stays the same!"
   ]
  },
  {
   "cell_type": "markdown",
   "metadata": {
    "slideshow": {
     "slide_type": "slide"
    }
   },
   "source": [
    "# Deep Copies\n",
    "* When sharing **mutable** values, it’s often necessary to create a **deep copy** of the original data\n",
    "* This is especially important in multi-core programming, where different transformations are applied on the original data concurrently (if the copies aren't deep, then multiple transformations may be applied in an arbitrary order on the same data!)\n",
    "* The `array` method `copy` returns a new array object with an independent copy of the original array's data."
   ]
  },
  {
   "cell_type": "code",
   "execution_count": null,
   "metadata": {
    "slideshow": {
     "slide_type": "subslide"
    }
   },
   "outputs": [],
   "source": [
    "mnumbers =  np.array([[1, 2, 3], [2, 4, 6]])\n",
    "mnumberscopy1 = mnumbers.copy() #A deep copy\n",
    "mnumberscopy2 = mnumbers[[0,1],0:3] #Also a deep copy (because we used list notation)\n"
   ]
  },
  {
   "cell_type": "code",
   "execution_count": null,
   "metadata": {
    "slideshow": {
     "slide_type": "-"
    }
   },
   "outputs": [],
   "source": [
    "mnumbers[0,0]*=10\n",
    "mnumberscopy1[0,2]*=10\n",
    "mnumberscopy2[1,1]*=10\n",
    "print(mnumbers)\n",
    "print(mnumberscopy1)\n",
    "print(mnumberscopy2)\n"
   ]
  },
  {
   "cell_type": "markdown",
   "metadata": {
    "slideshow": {
     "slide_type": "slide"
    }
   },
   "source": [
    "# Reshaping and Transposing "
   ]
  },
  {
   "cell_type": "markdown",
   "metadata": {
    "slideshow": {
     "slide_type": "subslide"
    }
   },
   "source": [
    "### `reshape` vs. `resize` \n",
    "* Method `reshape` returns a _view_ of the original `array` with new dimensions\n",
    "* `reshape` Does _not_ modify the original `array` (but again, remember it's a shallow copy -- so changes to one will affect the other)\n",
    "* Method `resize` modifies the original `array`’s shape in-place."
   ]
  },
  {
   "cell_type": "code",
   "execution_count": null,
   "metadata": {
    "slideshow": {
     "slide_type": "-"
    }
   },
   "outputs": [],
   "source": [
    "grades = np.array([[87, 96, 70], [100, 87, 90]])\n",
    "grades_rs = grades.reshape(3,2)\n",
    "grades_rs[1,0] = 1000 #This change will still be seen in the original grades array!\n",
    "print(grades_rs)\n",
    "print(grades)\n"
   ]
  },
  {
   "cell_type": "code",
   "execution_count": null,
   "metadata": {
    "slideshow": {
     "slide_type": "-"
    }
   },
   "outputs": [],
   "source": [
    "grades.resize(1, 6)\n",
    "print(grades)\n",
    "grades[0,0]=500\n",
    "print(grades_rs)"
   ]
  },
  {
   "cell_type": "markdown",
   "metadata": {
    "slideshow": {
     "slide_type": "subslide"
    }
   },
   "source": [
    "### `flatten` vs. `ravel` \n",
    "* Can flatten a multi-dimensonal array into a single dimension with methods **`flatten`** and **`ravel`**\n",
    "    * From most perspectives, these functions are identical.\n",
    "    * **However**, `flatten` _deep copies_ the original array’s data\n",
    "    * Method `ravel` produces a _view_ of the original `array`, which _shares_ the `grades` `array`’s data"
   ]
  },
  {
   "cell_type": "code",
   "execution_count": null,
   "metadata": {
    "slideshow": {
     "slide_type": "subslide"
    }
   },
   "outputs": [],
   "source": [
    "grades = np.array([[87, 96, 70], [100, 87, 90]])\n",
    "flattened = grades.flatten()\n",
    "print(grades)\n",
    "print(flattened)"
   ]
  },
  {
   "cell_type": "code",
   "execution_count": null,
   "metadata": {
    "slideshow": {
     "slide_type": "-"
    }
   },
   "outputs": [],
   "source": [
    "grades[0,1] = 1000\n",
    "flattened[5] = 2000\n",
    "print(grades) #Changes to flattened do not impact grades\n",
    "print(flattened) #and vice-versa"
   ]
  },
  {
   "cell_type": "code",
   "execution_count": null,
   "metadata": {
    "slideshow": {
     "slide_type": "-"
    }
   },
   "outputs": [],
   "source": [
    "#Trying the same thing with ravel shows that the copy is shallow\n",
    "grades = np.array([[87, 96, 70], [100, 87, 90]])\n",
    "raveled = grades.ravel()\n",
    "grades[0,1] = 200\n",
    "raveled[5] = 300\n",
    "print(grades) \n",
    "print(raveled)"
   ]
  },
  {
   "cell_type": "markdown",
   "metadata": {
    "slideshow": {
     "slide_type": "subslide"
    }
   },
   "source": [
    "### Transposing Rows and Columns\n",
    "* Can quickly **transpose** an `array`’s rows and columns\n",
    "    * “flips” the `array`, so the rows become the columns and the columns become the rows\n",
    "    * **`T` attribute** (not method!) returns a transposed _view_ (shallow copy) of the `array`"
   ]
  },
  {
   "cell_type": "code",
   "execution_count": null,
   "metadata": {
    "slideshow": {
     "slide_type": "-"
    }
   },
   "outputs": [],
   "source": [
    "grades_t = grades.T\n",
    "grades_t[1,1] = 400\n",
    "print(grades)\n",
    "print() \n",
    "print(grades_t)"
   ]
  },
  {
   "cell_type": "markdown",
   "metadata": {
    "slideshow": {
     "slide_type": "slide"
    }
   },
   "source": [
    "### Horizontal and Vertical Stacking\n",
    "* We can combine arrays by adding more columns or more rows — this is known as _horizontal stacking_ and _vertical stacking_\n",
    "* Use `np.hstack` and a _tuple_ of array objects to combine them in sequential, \"left-to-right\" order.\n",
    "* Use `np.vstack` and a _tuple_ of array objects to combine them in sequential, \"top-to-bottom\" order. "
   ]
  },
  {
   "cell_type": "code",
   "execution_count": null,
   "metadata": {
    "slideshow": {
     "slide_type": "subslide"
    }
   },
   "outputs": [],
   "source": [
    "chars1 = np.array([['a', 'b', 'c'], ['d', 'e', 'f']])\n",
    "chars2 = np.array([['g', 'h', 'i', 'j'], ['k', 'l', 'm', 'n']])\n",
    "chars3 = np.array(['o','p','q'])\n",
    "print(chars1);\n",
    "print()\n",
    "print(chars2)\n",
    "print()\n",
    "print(chars3)\n"
   ]
  },
  {
   "cell_type": "code",
   "execution_count": null,
   "metadata": {
    "slideshow": {
     "slide_type": "-"
    }
   },
   "outputs": [],
   "source": [
    "print(np.hstack((chars1,chars2)))\n",
    "print()\n",
    "print(np.vstack((chars3,chars1)))\n"
   ]
  },
  {
   "cell_type": "code",
   "execution_count": null,
   "metadata": {
    "slideshow": {
     "slide_type": "subslide"
    }
   },
   "outputs": [],
   "source": [
    "print(np.hstack((chars1,chars3))) #Dimensions are incompatible"
   ]
  },
  {
   "cell_type": "code",
   "execution_count": null,
   "metadata": {
    "slideshow": {
     "slide_type": "-"
    }
   },
   "outputs": [],
   "source": [
    "print(np.vstack((chars1,chars2))) #As are these"
   ]
  },
  {
   "cell_type": "markdown",
   "metadata": {
    "slideshow": {
     "slide_type": "slide"
    }
   },
   "source": [
    "# Intro to Data Science: `pandas` Series and `DataFrames`\n",
    "* NumPy’s `array` is optimized for homogeneous numeric data that’s accessed via integer indices\n",
    "* Big data applications must support mixed data types, customized indexing, missing data, data that’s not structured consistently and data that needs to be manipulated into forms appropriate for the databases and data analysis packages you use\n",
    "* **Pandas** is the most popular library for dealing with such data\n",
    "* Two key collection types exist in Pandas:\n",
    "    * **`Series`** for one-dimensional collections \n",
    "    * **`DataFrames`** for two-dimensional collections"
   ]
  },
  {
   "cell_type": "markdown",
   "metadata": {
    "slideshow": {
     "slide_type": "subslide"
    }
   },
   "source": [
    "* NumPy and pandas are closely related and share compatibility:\n",
    "    * `Series` and `DataFrame`s use `array`s “under the hood” \n",
    "    * `Series` and `DataFrame`s are valid arguments to many NumPy operations\n",
    "    * `array`s are valid arguments to many `Series` and `DataFrame` operations"
   ]
  },
  {
   "cell_type": "markdown",
   "metadata": {
    "slideshow": {
     "slide_type": "subslide"
    }
   },
   "source": [
    "## pandas `Series` \n",
    "* An enhanced one-dimensional `array`\n",
    "* Supports custom indexing, including even non-integer indices like strings\n",
    "* Offers additional capabilities that make them more convenient for many data-science oriented tasks\n",
    "    * `Series` may have missing data\n",
    "    * Many `Series` operations ignore missing data by default"
   ]
  },
  {
   "cell_type": "markdown",
   "metadata": {
    "slideshow": {
     "slide_type": "slide"
    }
   },
   "source": [
    "### Starting Small: a basic pandas  `Series`\n",
    "* The `pd.Series` constructor can be used to create a series from any iterable\n",
    "* Different underlying iterables can result in different datatypes for the series.\n",
    "* By default, a series has integer indices numbered sequentially from 0\n",
    "* Many basic operations available to lists or numPy arrays can be applied to series."
   ]
  },
  {
   "cell_type": "code",
   "execution_count": null,
   "metadata": {
    "slideshow": {
     "slide_type": "subslide"
    }
   },
   "outputs": [],
   "source": [
    "import numpy as np\n",
    "import pandas as pd\n",
    "gradesList = [86, 91, 94, 89]\n",
    "gradesSeries1 = pd.Series(gradesList)\n",
    "print(gradesSeries1)"
   ]
  },
  {
   "cell_type": "code",
   "execution_count": null,
   "metadata": {
    "slideshow": {
     "slide_type": "-"
    }
   },
   "outputs": [],
   "source": [
    "gradesArray = np.array(gradesList)\n",
    "gradesSeries2 = pd.Series(gradesArray)\n",
    "print(gradesSeries2) #note the different data type!\n"
   ]
  },
  {
   "cell_type": "markdown",
   "metadata": {
    "slideshow": {
     "slide_type": "subslide"
    }
   },
   "source": [
    "### Assignment and Copies with Series\n",
    "* Simple assignment creates a shallow copy (view) of an existing series.\n",
    "* Using the `copy` method will create a deep copy.\n",
    "* Other series assignment rules match those of standard numPy arrays\n",
    "    * Using slices will return a view\n",
    "    * Using list notation in indexing returns a deep copy.\n",
    "    * By default, indices are maintained with these assignments (so be careful with these operations). \n"
   ]
  },
  {
   "cell_type": "code",
   "execution_count": null,
   "metadata": {
    "slideshow": {
     "slide_type": "-"
    }
   },
   "outputs": [],
   "source": [
    "gsCopy1 = gradesSeries1 #Shallow copy (view)\n",
    "gsCopy2 = gradesSeries1.copy() #Deep copy\n",
    "gsCopy1[0] = 100\n",
    "gsCopy2[1] = 100\n",
    "print(gradesSeries1)"
   ]
  },
  {
   "cell_type": "markdown",
   "metadata": {
    "slideshow": {
     "slide_type": "subslide"
    }
   },
   "source": [
    "### More On Datatypes in Series \n",
    "* As mentioned previously, data series are built on the NumPy library, and thus they share most of the same data types.\n",
    "* The method `astype` can be used to _cast_ a series from one compatible variety to another.\n",
    "* Note that columns with mixed datatypes are permitted, but will be listed as being of type \"object\" and operations applied may have unanticipated outcomes"
   ]
  },
  {
   "cell_type": "code",
   "execution_count": null,
   "metadata": {
    "slideshow": {
     "slide_type": "subslide"
    }
   },
   "outputs": [],
   "source": [
    "gradesSeriesAlt = gradesSeries1.astype('int16')\n",
    "print(gradesSeriesAlt)\n",
    "print()\n",
    "print(gradesSeriesAlt>=90)"
   ]
  },
  {
   "cell_type": "code",
   "execution_count": null,
   "metadata": {
    "slideshow": {
     "slide_type": "-"
    }
   },
   "outputs": [],
   "source": [
    "gradesSeriesAlt[2]=\"One-hundred\"\n",
    "print(gradesSeriesAlt)\n"
   ]
  },
  {
   "cell_type": "code",
   "execution_count": null,
   "metadata": {
    "slideshow": {
     "slide_type": "-"
    }
   },
   "outputs": [],
   "source": [
    "print(gradesSeriesAlt<100)"
   ]
  }
 ],
 "metadata": {
  "celltoolbar": "Slideshow",
  "kernelspec": {
   "display_name": "Python 3 (ipykernel)",
   "language": "python",
   "name": "python3"
  },
  "language_info": {
   "codemirror_mode": {
    "name": "ipython",
    "version": 3
   },
   "file_extension": ".py",
   "mimetype": "text/x-python",
   "name": "python",
   "nbconvert_exporter": "python",
   "pygments_lexer": "ipython3",
   "version": "3.10.8"
  }
 },
 "nbformat": 4,
 "nbformat_minor": 4
}
