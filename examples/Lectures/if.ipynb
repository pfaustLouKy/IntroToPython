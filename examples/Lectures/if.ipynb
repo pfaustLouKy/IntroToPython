{
 "cells": [
  {
   "cell_type": "code",
   "execution_count": 30,
   "id": "a80cdc57-3df9-4c6f-80d0-92df50694c44",
   "metadata": {},
   "outputs": [],
   "source": [
    "grade = 97"
   ]
  },
  {
   "cell_type": "code",
   "execution_count": 31,
   "id": "9d8d04b0-2982-4ffa-9a4c-5193581935ad",
   "metadata": {},
   "outputs": [],
   "source": [
    "if grade >= 90:\n",
    "    result = \"A\"\n",
    "elif grade >= 80:\n",
    "    result = \"B\"\n",
    "elif grade >= 70:\n",
    "    result = \"C\"\n",
    "elif grade >= 60:\n",
    "    result = \"D\"\n",
    "else:\n",
    "    result = \"F\""
   ]
  },
  {
   "cell_type": "code",
   "execution_count": 32,
   "id": "2a4fd973-2580-4665-9c50-80b1a34667ee",
   "metadata": {},
   "outputs": [
    {
     "name": "stdout",
     "output_type": "stream",
     "text": [
      "A\n"
     ]
    }
   ],
   "source": [
    "print(result)"
   ]
  },
  {
   "cell_type": "code",
   "execution_count": 33,
   "id": "5884d77b-7728-4849-8578-412415e028e2",
   "metadata": {},
   "outputs": [
    {
     "name": "stdout",
     "output_type": "stream",
     "text": [
      "Non-zero values are always true, so this will print\n"
     ]
    }
   ],
   "source": [
    "if 1:\n",
    "    print(\"Non-zero values are always true, so this will print\")"
   ]
  },
  {
   "cell_type": "code",
   "execution_count": 34,
   "id": "f7fb9f9a-0eea-4e86-8985-a9999a85d3f0",
   "metadata": {},
   "outputs": [],
   "source": [
    "if 0:\n",
    "    print(\"Zero evaluates to false, so this will not print\")"
   ]
  },
  {
   "cell_type": "code",
   "execution_count": 35,
   "id": "25593116-36bb-45e4-86e7-297f0a5c9f0f",
   "metadata": {},
   "outputs": [],
   "source": [
    "result = ('Passed' if grade >= 60 else 'Failed')"
   ]
  },
  {
   "cell_type": "code",
   "execution_count": 36,
   "id": "7acd4573-2ca0-4d13-a93c-28177b514956",
   "metadata": {},
   "outputs": [
    {
     "name": "stdout",
     "output_type": "stream",
     "text": [
      "Passed\n"
     ]
    }
   ],
   "source": [
    "print(result)"
   ]
  },
  {
   "cell_type": "code",
   "execution_count": null,
   "id": "7431e4e1-8068-4d95-ae02-6029a6a3e16c",
   "metadata": {},
   "outputs": [],
   "source": []
  }
 ],
 "metadata": {
  "kernelspec": {
   "display_name": "Python 3 (ipykernel)",
   "language": "python",
   "name": "python3"
  },
  "language_info": {
   "codemirror_mode": {
    "name": "ipython",
    "version": 3
   },
   "file_extension": ".py",
   "mimetype": "text/x-python",
   "name": "python",
   "nbconvert_exporter": "python",
   "pygments_lexer": "ipython3",
   "version": "3.11.7"
  }
 },
 "nbformat": 4,
 "nbformat_minor": 5
}
