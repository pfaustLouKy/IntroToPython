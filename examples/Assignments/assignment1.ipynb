{
 "cells": [
  {
   "cell_type": "code",
   "execution_count": 1,
   "metadata": {},
   "outputs": [
    {
     "name": "stdout",
     "output_type": "stream",
     "text": [
      "Chase begins!\n",
      "Second 2: Imp at foot 7, Golem at foot 3\n",
      "Second 3: Imp at foot 9, Golem at foot 8\n",
      "Second 3: Imp at foot 11, Golem at foot 13\n",
      "Golem caught the imp! Back to the tower for the imp.\n",
      "Second 5: Imp at foot 17, Golem at foot 18\n",
      "Golem caught the imp! Back to the tower for the imp.\n",
      "Second 8: Imp at foot 26, Golem at foot 23\n",
      "Second 9: Imp at foot 29, Golem at foot 28\n",
      "Second 12: Imp at foot 37, Golem at foot 31\n",
      "Second 15: Imp at foot 45, Golem at foot 36\n",
      "Second 17: Imp at foot 51, Golem at foot 41\n",
      "Imp has escaped! Freedom at last!\n"
     ]
    }
   ],
   "source": [
    "import random\n",
    "\n",
    "def imp_golem_chase_simulation():\n",
    "    tunnel_length = 50\n",
    "    imp_position = 5\n",
    "    golem_position = 0\n",
    "\n",
    "    print(\"Chase begins!\")\n",
    "\n",
    "    while imp_position < tunnel_length and golem_position < tunnel_length:\n",
    "        imp_move = random.randint(1, 9)\n",
    "        golem_move = random.randint(3, 5)\n",
    "\n",
    "        imp_position += imp_move\n",
    "        golem_position += golem_move\n",
    "\n",
    "        print(f\"Second {imp_position//3}: Imp at foot {imp_position}, Golem at foot {golem_position}\")\n",
    "\n",
    "        if imp_position >= tunnel_length:\n",
    "            print(\"Imp has escaped! Freedom at last!\")\n",
    "        elif golem_position >= imp_position:\n",
    "            print(\"Golem caught the imp! Back to the tower for the imp.\")\n",
    "\n",
    "# Run the simulation\n",
    "imp_golem_chase_simulation()"
   ]
  }
 ],
 "metadata": {
  "kernelspec": {
   "display_name": "cse532",
   "language": "python",
   "name": "python3"
  },
  "language_info": {
   "codemirror_mode": {
    "name": "ipython",
    "version": 3
   },
   "file_extension": ".py",
   "mimetype": "text/x-python",
   "name": "python",
   "nbconvert_exporter": "python",
   "pygments_lexer": "ipython3",
   "version": "3.11.7"
  }
 },
 "nbformat": 4,
 "nbformat_minor": 2
}
