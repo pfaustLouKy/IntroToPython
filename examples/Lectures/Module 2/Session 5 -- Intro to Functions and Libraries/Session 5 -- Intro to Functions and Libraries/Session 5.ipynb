{
 "cells": [
  {
   "cell_type": "markdown",
   "metadata": {
    "slideshow": {
     "slide_type": "slide"
    }
   },
   "source": [
    "## What We Looked At Last Time\n",
    "* We wrapped up our discussion of looping and conditional mechanisms.\n",
    "* We introduced some miscellaneous Python input and formatting details.\n",
    "* We looked basic statistics and measures of central tendency in Python.\n",
    "* We looked at a few practical problem-solving strategies using Python."
   ]
  },
  {
   "cell_type": "markdown",
   "metadata": {
    "slideshow": {
     "slide_type": "slide"
    }
   },
   "source": [
    "## What We'll Look At Today\n",
    "* We'll look at functions in Python (both standard and user-defined.)\n",
    "* We'll observe how standard libraries are utilized in Python.\n",
    "* We'll look at random number generation in Python (with and without seeding)."
   ]
  },
  {
   "cell_type": "markdown",
   "metadata": {
    "slideshow": {
     "slide_type": "slide"
    }
   },
   "source": [
    "# Exercise 3.12 (A Better Solution)\n",
    "* Recall that we wanted to compute whether a 5-digit number was a palindrome (reads the same both forwards and backwards)\n",
    "* Our solution was effective but messy.\n",
    "* An easy solution is to simply verify two conditions are met:\n",
    "    * The input string is an integer.\n",
    "    * The string reads the same forwards and backwards.\n",
    "    * If we want, we can add a third condition to verify the string has length 5."
   ]
  },
  {
   "cell_type": "code",
   "execution_count": 2,
   "metadata": {
    "slideshow": {
     "slide_type": "subslide"
    }
   },
   "outputs": [
    {
     "name": "stdin",
     "output_type": "stream",
     "text": [
      "Enter any number:  12345\n"
     ]
    },
    {
     "name": "stdout",
     "output_type": "stream",
     "text": [
      "12345 is not a 5-digit palindrome.\n"
     ]
    }
   ],
   "source": [
    "\"\"\"Test for a palindrome (improved)\"\"\"\n",
    "baseinp = input('Enter any number: ')\n",
    " \n",
    "if baseinp.isdigit() and baseinp == baseinp[::-1] and len(baseinp) == 5:\n",
    "    print(f'{baseinp} is a 5-digit palindrome!!!')\n",
    "else:\n",
    "    print(f'{baseinp} is not a 5-digit palindrome.')"
   ]
  },
  {
   "cell_type": "markdown",
   "metadata": {
    "slideshow": {
     "slide_type": "slide"
    }
   },
   "source": [
    "# Functions\n",
    "* Definition begins with the (**`def` keyword**, followed by the function name, a set of parentheses and a colon (`:`). \n",
    "* By convention function names should begin with a lowercase letter and in multiword names underscores should separate each word. \n",
    "* Required parentheses contain the function’s **parameter list**.\n",
    "* Empty parentheses mean no parameters. \n",
    "* The indented lines after the colon (`:`) are the function’s **block** -- a special kind of suite.\n",
    "* First line in a function’s block ideally is a docstring (\"\"\" on both sides) that briefly explains the function.\n",
    "    * Optionally followed by requirements or statements explaining steps of the function’s task."
   ]
  },
  {
   "cell_type": "markdown",
   "metadata": {
    "slideshow": {
     "slide_type": "slide"
    }
   },
   "source": [
    "# Defining Functions\n",
    "## Example"
   ]
  },
  {
   "cell_type": "code",
   "execution_count": 3,
   "metadata": {},
   "outputs": [],
   "source": [
    "def square(number):\n",
    "    \"\"\"Calculate the square of number.\"\"\"\n",
    "    return number ** 2"
   ]
  },
  {
   "cell_type": "code",
   "execution_count": 4,
   "metadata": {},
   "outputs": [
    {
     "data": {
      "text/plain": [
       "49"
      ]
     },
     "execution_count": 4,
     "metadata": {},
     "output_type": "execute_result"
    }
   ],
   "source": [
    "square(7)"
   ]
  },
  {
   "cell_type": "markdown",
   "metadata": {},
   "source": [
    "* Calling `square` with a non-numeric argument like `'hello'` causes a `TypeError` because the exponentiation operator (`**`) works only with numeric values"
   ]
  },
  {
   "cell_type": "markdown",
   "metadata": {
    "slideshow": {
     "slide_type": "slide"
    }
   },
   "source": [
    "### Returning a Result to a Function’s Caller\n",
    "* Function calls also can be embedded in expressions:"
   ]
  },
  {
   "cell_type": "code",
   "execution_count": 5,
   "metadata": {},
   "outputs": [
    {
     "name": "stdout",
     "output_type": "stream",
     "text": [
      "The square of 7 is 49\n"
     ]
    }
   ],
   "source": [
    "print('The square of 7 is', square(7))"
   ]
  },
  {
   "cell_type": "markdown",
   "metadata": {
    "slideshow": {
     "slide_type": "slide"
    }
   },
   "source": [
    "## Three Ways to Return a Result to a Function’s Caller\n",
    "* **`return`** followed by an expression.\n",
    "* **`return`** without an expression implicitly returns **`None`**&mdash;represents the **absence of a value** and **evaluates to `False` in conditions**.\n",
    "* **No `return` statement implicitly returns `None`**.\n",
    "* We'll discuss **`None`** in more detail throughout the course.  \n"
   ]
  },
  {
   "cell_type": "markdown",
   "metadata": {
    "slideshow": {
     "slide_type": "subslide"
    }
   },
   "source": [
    "### What Happens When You Call a Function\n",
    "* Parameters exist only during the function call. \n",
    "* Created on each call to the function to receive arguments.\n",
    "* Destroyed when the function returns its result to the caller. \n",
    "* A function’s parameters and variables defined in its block are all **local variables**."
   ]
  },
  {
   "cell_type": "markdown",
   "metadata": {
    "slideshow": {
     "slide_type": "slide"
    }
   },
   "source": [
    "### Accessing a Function’s Docstring Via IPython’s Help Mechanism \n",
    "* Following a function's name with `?` in IPython displays its docstring:"
   ]
  },
  {
   "cell_type": "code",
   "execution_count": 6,
   "metadata": {},
   "outputs": [
    {
     "data": {
      "text/plain": [
       "\u001b[1;31mSignature:\u001b[0m \u001b[0msquare\u001b[0m\u001b[1;33m(\u001b[0m\u001b[0mnumber\u001b[0m\u001b[1;33m)\u001b[0m\u001b[1;33m\u001b[0m\u001b[1;33m\u001b[0m\u001b[0m\n",
       "\u001b[1;31mDocstring:\u001b[0m Calculate the square of number.\n",
       "\u001b[1;31mFile:\u001b[0m      c:\\users\\kathy\\appdata\\local\\temp\\ipykernel_1868\\4144742051.py\n",
       "\u001b[1;31mType:\u001b[0m      function"
      ]
     },
     "metadata": {},
     "output_type": "display_data"
    }
   ],
   "source": [
    "square?"
   ]
  },
  {
   "cell_type": "markdown",
   "metadata": {},
   "source": [
    "* If the function’s source code is accessible from IPython, `??` displays the function’s docstring and full source-code definition:"
   ]
  },
  {
   "cell_type": "code",
   "execution_count": 7,
   "metadata": {},
   "outputs": [
    {
     "data": {
      "text/plain": [
       "\u001b[1;31mSignature:\u001b[0m \u001b[0msquare\u001b[0m\u001b[1;33m(\u001b[0m\u001b[0mnumber\u001b[0m\u001b[1;33m)\u001b[0m\u001b[1;33m\u001b[0m\u001b[1;33m\u001b[0m\u001b[0m\n",
       "\u001b[1;31mSource:\u001b[0m   \n",
       "\u001b[1;32mdef\u001b[0m \u001b[0msquare\u001b[0m\u001b[1;33m(\u001b[0m\u001b[0mnumber\u001b[0m\u001b[1;33m)\u001b[0m\u001b[1;33m:\u001b[0m\u001b[1;33m\n",
       "\u001b[0m    \u001b[1;34m\"\"\"Calculate the square of number.\"\"\"\u001b[0m\u001b[1;33m\n",
       "\u001b[0m    \u001b[1;32mreturn\u001b[0m \u001b[0mnumber\u001b[0m \u001b[1;33m**\u001b[0m \u001b[1;36m2\u001b[0m\u001b[1;33m\u001b[0m\u001b[1;33m\u001b[0m\u001b[0m\n",
       "\u001b[1;31mFile:\u001b[0m      c:\\users\\kathy\\appdata\\local\\temp\\ipykernel_1868\\4144742051.py\n",
       "\u001b[1;31mType:\u001b[0m      function"
      ]
     },
     "metadata": {},
     "output_type": "display_data"
    }
   ],
   "source": [
    "square??"
   ]
  },
  {
   "cell_type": "markdown",
   "metadata": {
    "slideshow": {
     "slide_type": "slide"
    }
   },
   "source": [
    "# Functions with Multiple Parameters\n",
    "## Example"
   ]
  },
  {
   "cell_type": "code",
   "execution_count": 8,
   "metadata": {},
   "outputs": [],
   "source": [
    "def maximum(value1, value2, value3):\n",
    "    \"\"\"Return the maximum of three values.\"\"\"\n",
    "    max_value = value1\n",
    "    if value2 > max_value:\n",
    "        max_value = value2\n",
    "    if value3 > max_value:\n",
    "        max_value = value3\n",
    "    return max_value"
   ]
  },
  {
   "cell_type": "code",
   "execution_count": 9,
   "metadata": {},
   "outputs": [
    {
     "data": {
      "text/plain": [
       "36"
      ]
     },
     "execution_count": 9,
     "metadata": {},
     "output_type": "execute_result"
    }
   ],
   "source": [
    "maximum(12, 27, 36)"
   ]
  },
  {
   "cell_type": "markdown",
   "metadata": {
    "slideshow": {
     "slide_type": "subslide"
    }
   },
   "source": [
    "# Object IDs\n",
    "* Every Python object has a unique identity DURING ITS LIFETIME\n",
    "* The id function can retrieve an integer representation of this identity.\n",
    "* Two objects can share the same id, but only if their lifetime does not overlap.\n",
    "* Literals (ex: ints or strings) also have an identity!"
   ]
  },
  {
   "cell_type": "code",
   "execution_count": 10,
   "metadata": {
    "scrolled": true,
    "slideshow": {
     "slide_type": "subslide"
    }
   },
   "outputs": [
    {
     "name": "stdout",
     "output_type": "stream",
     "text": [
      "3000452410416\n",
      "3000447971440\n",
      "3000497705136\n",
      "3000447971568\n",
      "3000447971504\n",
      "3000496106576\n"
     ]
    }
   ],
   "source": [
    "print(id('yellow'))\n",
    "print(id('red'))\n",
    "print(id('orange'))\n",
    "print(id('blue'))\n",
    "print(id('green'))\n",
    "print(id(1001))"
   ]
  },
  {
   "cell_type": "code",
   "execution_count": 11,
   "metadata": {},
   "outputs": [
    {
     "name": "stdout",
     "output_type": "stream",
     "text": [
      "True\n"
     ]
    }
   ],
   "source": [
    "myStr=\"yellow\"\n",
    "print(id(myStr)==id(\"yellow\"))"
   ]
  },
  {
   "cell_type": "markdown",
   "metadata": {
    "slideshow": {
     "slide_type": "slide"
    }
   },
   "source": [
    "### Python’s Built-In max and min Functions\n",
    "* For many common tasks, the capabilities you need already exist in Python. \n",
    "* Built-in `max` and `min` functions know how to determine the largest and smallest of their two or more arguments:\n",
    "* For numeric data, `max` and `min` have obvious meanings.\n",
    "* For other data, the effect of `max` and `min` varies (e.g. for strings `min` chooses alphabetically first, while `max` chooses last)  "
   ]
  },
  {
   "cell_type": "code",
   "execution_count": 12,
   "metadata": {},
   "outputs": [
    {
     "data": {
      "text/plain": [
       "9"
      ]
     },
     "execution_count": 12,
     "metadata": {},
     "output_type": "execute_result"
    }
   ],
   "source": [
    "min(15, 9, 27, 14)"
   ]
  },
  {
   "cell_type": "code",
   "execution_count": 13,
   "metadata": {},
   "outputs": [
    {
     "ename": "SyntaxError",
     "evalue": "unterminated string literal (detected at line 1) (2601461747.py, line 1)",
     "output_type": "error",
     "traceback": [
      "\u001b[1;36m  Cell \u001b[1;32mIn[13], line 1\u001b[1;36m\u001b[0m\n\u001b[1;33m    max(red', 'orange', 'blue', 'green')\u001b[0m\n\u001b[1;37m                                      ^\u001b[0m\n\u001b[1;31mSyntaxError\u001b[0m\u001b[1;31m:\u001b[0m unterminated string literal (detected at line 1)\n"
     ]
    }
   ],
   "source": [
    "max(red', 'orange', 'blue', 'green')\n"
   ]
  },
  {
   "cell_type": "markdown",
   "metadata": {
    "slideshow": {
     "slide_type": "slide"
    }
   },
   "source": [
    "# Random-Number Generation\n",
    "* Can introduce the element of chance via the Python Standard Library’s `random` module. "
   ]
  },
  {
   "cell_type": "markdown",
   "metadata": {
    "slideshow": {
     "slide_type": "subslide"
    }
   },
   "source": [
    "### Rolling a Six-Sided Die\n",
    "* Product 10 random integers in the range 1–6 to simulate rolling a six-sided die:"
   ]
  },
  {
   "cell_type": "code",
   "execution_count": 14,
   "metadata": {},
   "outputs": [],
   "source": [
    "import random"
   ]
  },
  {
   "cell_type": "code",
   "execution_count": 15,
   "metadata": {},
   "outputs": [
    {
     "name": "stdout",
     "output_type": "stream",
     "text": [
      "3 6 6 1 6 1 6 1 5 4 "
     ]
    }
   ],
   "source": [
    "for roll in range(10):\n",
    "    print(random.randrange(1, 7), end=' ')"
   ]
  },
  {
   "cell_type": "markdown",
   "metadata": {
    "slideshow": {
     "slide_type": "subslide"
    }
   },
   "source": [
    "* `randrange` function generates an integer from the first argument value up to, but not including, the second argument value.\n",
    "* Different values are displayed if you re-execute the loop."
   ]
  },
  {
   "cell_type": "code",
   "execution_count": 16,
   "metadata": {},
   "outputs": [
    {
     "name": "stdout",
     "output_type": "stream",
     "text": [
      "6 5 6 3 1 6 3 5 2 1 "
     ]
    }
   ],
   "source": [
    "for roll in range(10):\n",
    "    print(random.randrange(1, 7), end=' ')"
   ]
  },
  {
   "cell_type": "markdown",
   "metadata": {
    "slideshow": {
     "slide_type": "-"
    }
   },
   "source": [
    "* Can guarantee **reproducibility** of a random sequence with the `random` module’s `seed` function.  "
   ]
  },
  {
   "cell_type": "markdown",
   "metadata": {
    "slideshow": {
     "slide_type": "subslide"
    }
   },
   "source": [
    "### Rolling a Six-Sided Die 6,000,000 Times\n",
    "* If `randrange` truly produces integers at random, every number in its range has an equal probability (or chance or likelihood) of being returned each time we call it. \n",
    "* Roll a die 6,000,000 times.\n",
    "* Each die face should occur approximately 1,000,000 times.\n",
    "* We used Python’s underscore (_) digit separator to make the value 6000000 more readable. "
   ]
  },
  {
   "cell_type": "markdown",
   "metadata": {
    "slideshow": {
     "slide_type": "subslide"
    }
   },
   "source": [
    "```python\n",
    "### Rolling a Six-Sided Die 6,000,000 Times\n",
    "### This script is purely for illustration (the .py files should be included as separate files) \n",
    "\"\"\"Roll a six-sided die 6,000,000 times.\"\"\"\n",
    "import random\n",
    "\n",
    "# face frequency counters\n",
    "frequency1 = 0\n",
    "frequency2 = 0\n",
    "frequency3 = 0\n",
    "frequency4 = 0\n",
    "frequency5 = 0\n",
    "frequency6 = 0\n",
    "# 6,000,000 die rolls\n",
    "for roll in range(6_000_000):  # note underscore separators to make number readable , will cause error\n",
    "    face = random.randrange(1, 7)\n",
    "\n",
    "    # increment appropriate face counter\n",
    "    if face == 1:\n",
    "        frequency1 += 1\n",
    "    elif face == 2:\n",
    "        frequency2 += 1\n",
    "    elif face == 3:\n",
    "        frequency3 += 1\n",
    "    elif face == 4:\n",
    "        frequency4 += 1\n",
    "    elif face == 5:\n",
    "        frequency5 += 1\n",
    "    elif face == 6:\n",
    "        frequency6 += 1\n",
    "\n",
    "print(f'Face{\"Frequency\":>13}')\n",
    "print(f'{1:>4}{frequency1:>13}')\n",
    "print(f'{2:>4}{frequency2:>13}')\n",
    "print(f'{3:>4}{frequency3:>13}')\n",
    "print(f'{4:>4}{frequency4:>13}')\n",
    "print(f'{5:>4}{frequency5:>13}')\n",
    "print(f'{6:>4}{frequency6:>13}')\n",
    "# Lets look at the future\n",
    "results = []\n",
    "results.append(frequency1)\n",
    "results.append(frequency2)\n",
    "results.append(frequency3)\n",
    "results.append(frequency4)\n",
    "results.append(frequency5)\n",
    "results.append(frequency6)\n",
    "return results\n",
    "```"
   ]
  },
  {
   "cell_type": "code",
   "execution_count": 17,
   "metadata": {
    "slideshow": {
     "slide_type": "subslide"
    }
   },
   "outputs": [
    {
     "name": "stdout",
     "output_type": "stream",
     "text": [
      "Face    Frequency\n",
      "   1       999971\n",
      "   2       999828\n",
      "   3       999771\n",
      "   4       999918\n",
      "   5       999420\n",
      "   6      1001092\n"
     ]
    }
   ],
   "source": [
    "run dice_6M.py"
   ]
  },
  {
   "cell_type": "markdown",
   "metadata": {
    "slideshow": {
     "slide_type": "slide"
    }
   },
   "source": [
    "# Running vs Importing a Function\n",
    "* The above line simply executed a function in place which output frequency counts for each die face.\n",
    "* In many practical circumstances, we need to CALL a function elsewhere.\n",
    "    * We may need its output, rather than to simply perform something procedurally.\n",
    "    * We often need to call one function from another function.\n",
    "    * Object-oriented Programming strongly encourages \n",
    "* `import` lets one script use another .py file's defined components (including defined functions)."
   ]
  },
  {
   "cell_type": "code",
   "execution_count": 18,
   "metadata": {
    "slideshow": {
     "slide_type": "subslide"
    }
   },
   "outputs": [],
   "source": [
    "#Import the \"dice\" function from its python script file for later use\n",
    "from dice_6M_return import dice"
   ]
  },
  {
   "cell_type": "code",
   "execution_count": 19,
   "metadata": {},
   "outputs": [
    {
     "name": "stdout",
     "output_type": "stream",
     "text": [
      "[1001063, 999034, 1000944, 1000493, 999480, 998986]\n"
     ]
    }
   ],
   "source": [
    "result = dice(6_000_000)\n",
    "print(result)"
   ]
  },
  {
   "cell_type": "markdown",
   "metadata": {
    "slideshow": {
     "slide_type": "slide"
    }
   },
   "source": [
    "# matplotlib\n",
    "* The \"Matrix Plot Library\" (**matplotlib**) contains a series of tools for visualizing data and analysis.\n",
    "* Can be installed using `conda install matplotlib` \n",
    "* For now, we will simply restrict our attention to `pyplot`, which permits a series of standard plot types for data display  \n",
    "* When using an `import` statement and `as`, you can also rename imported components.\n",
    "    * Below we use `import matplotlib.pyplot as plt` to short-cut access to pyplot, and a **bar graph** using `bar`."
   ]
  },
  {
   "cell_type": "code",
   "execution_count": 20,
   "metadata": {
    "slideshow": {
     "slide_type": "subslide"
    }
   },
   "outputs": [
    {
     "data": {
      "text/plain": [
       "<BarContainer object of 6 artists>"
      ]
     },
     "execution_count": 20,
     "metadata": {},
     "output_type": "execute_result"
    },
    {
     "data": {
      "image/png": "[encoded data removed]",
      "text/plain": [
       "<Figure size 640x480 with 1 Axes>"
      ]
     },
     "metadata": {},
     "output_type": "display_data"
    }
   ],
   "source": [
    "import matplotlib.pyplot as plt\n",
    "xco = [1,2,3,4,5,6]\n",
    "plt.bar(xco,result, align='center', alpha=0.5)"
   ]
  },
  {
   "cell_type": "markdown",
   "metadata": {
    "slideshow": {
     "slide_type": "subslide"
    }
   },
   "source": [
    "### Seeding the Random-Number Generator for Reproducibility\n",
    "* Function `randrange` generates pseudorandom numbers. \n",
    "* Numbers appear to be random, because each time you start a new interactive session or execute a script that uses the random module’s functions, Python internally uses a different seed value. \n",
    "* When you’re debugging logic errors in programs that use randomly generated data, it can be helpful to use the same sequence of random numbers. \n",
    "* To do this, use the random module’s `seed` function to seed the random-number generator:"
   ]
  },
  {
   "cell_type": "code",
   "execution_count": 21,
   "metadata": {
    "slideshow": {
     "slide_type": "subslide"
    }
   },
   "outputs": [],
   "source": [
    "random.seed(32)"
   ]
  },
  {
   "cell_type": "code",
   "execution_count": 22,
   "metadata": {},
   "outputs": [
    {
     "name": "stdout",
     "output_type": "stream",
     "text": [
      "1 2 2 3 6 2 4 1 6 1 "
     ]
    }
   ],
   "source": [
    "for roll in range(10):\n",
    "    print(random.randrange(1, 7), end=' ')"
   ]
  },
  {
   "cell_type": "code",
   "execution_count": 23,
   "metadata": {},
   "outputs": [
    {
     "name": "stdout",
     "output_type": "stream",
     "text": [
      "1 3 5 3 1 5 6 4 3 5 "
     ]
    }
   ],
   "source": [
    "for roll in range(10):\n",
    "    print(random.randrange(1, 7), end=' ')"
   ]
  },
  {
   "cell_type": "markdown",
   "metadata": {
    "slideshow": {
     "slide_type": "slide"
    }
   },
   "source": [
    "# Case Study: A Game of Chance\n",
    "* Requirements statement:\n",
    ">You roll two six-sided dice, each with faces containing one, two, three, four, five and six spots, respectively. When the dice come to rest, the sum of the spots on the two upward faces is calculated. If the sum is 7 or 11 on the first roll, you win. If the sum is 2, 3 or 12 on the first roll (called “craps”), you lose (i.e., the “house” wins). If the sum is 4, 5, 6, 8, 9 or 10 on the first roll, that sum becomes your “point.” To win, you must continue rolling the dice until you “make your point” (i.e., roll that same point value). You lose by rolling a 7 before making your point.\n"
   ]
  },
  {
   "cell_type": "markdown",
   "metadata": {
    "slideshow": {
     "slide_type": "subslide"
    }
   },
   "source": [
    "### Function `roll_dice`—Returning Multiple Values Via a Tuple\n",
    "* Simulates rolling two dice on each roll. \n",
    "* Sometimes it’s useful to return more than one value, as in this case.  The combination of dice rolls is returned as a \"tuple\" -- an immutable sequence of items.  \n",
    "* To create a tuple, separate its values with commas&mdash;known as **packing a tuple**. \n",
    "* Parentheses are optional, but we recommend using them for clarity. "
   ]
  },
  {
   "cell_type": "markdown",
   "metadata": {
    "slideshow": {
     "slide_type": "subslide"
    }
   },
   "source": [
    "### Function `display_dice`\n",
    "* Assigning a tuple to a comma-separated list of variables **unpacks the tuple**. \n",
    "* Number of variables to the left of `=` must match the number of elements in the tuple; otherwise, a `ValueError occurs`."
   ]
  },
  {
   "cell_type": "markdown",
   "metadata": {
    "slideshow": {
     "slide_type": "subslide"
    }
   },
   "source": [
    "### First Roll\n",
    "* When the script begins executing, we roll the dice and display the results. \n",
    "* You can win or lose on the first roll or any subsequent roll&mdash;`game_status` keeps track of the win/loss status.\n",
    "* The `in` operator in the following expression tests whether the tuple `(7, 11)` contains `sum_of_dice`’s value\n",
    "```python\n",
    "sum_of_dice in (7, 11)\n",
    "```\n",
    "* The operator’s right operand can be any iterable. \n",
    "* The preceding concise condition is equivalent to\n",
    "```python\n",
    "(sum_of_dice == 7) or (sum_of_dice == 11) \n",
    "```"
   ]
  },
  {
   "cell_type": "markdown",
   "metadata": {
    "slideshow": {
     "slide_type": "subslide"
    }
   },
   "source": [
    "```python\n",
    "\"\"\"Simulating the dice game Craps.\"\"\"\n",
    "import random\n",
    "\n",
    "def roll_dice():\n",
    "    \"\"\"Roll two dice and return their face values as a tuple.\"\"\"\n",
    "    die1 = random.randrange(1, 7)\n",
    "    die2 = random.randrange(1, 7)\n",
    "    return (die1, die2)  # pack die face values into a tuple\n",
    "\n",
    "def display_dice(dice):\n",
    "    \"\"\"Display one roll of the two dice.\"\"\"\n",
    "    die1, die2 = dice  # unpack the tuple into variables die1 and die2\n",
    "    print(f'Player rolled {die1} + {die2} = {sum(dice)}')\n",
    "\n",
    "die_values = roll_dice()  # first roll\n",
    "display_dice(die_values)\n",
    "\n",
    "# determine game status and point, based on first roll\n",
    "sum_of_dice = sum(die_values)\n",
    "\n",
    "if sum_of_dice in (7, 11):  # win\n",
    "    game_status = 'WON'\n",
    "elif sum_of_dice in (2, 3, 12):  # lose\n",
    "    game_status = 'LOST'\n",
    "else:  # remember point\n",
    "    game_status = 'CONTINUE'\n",
    "    my_point = sum_of_dice\n",
    "    print('Point is', my_point)\n",
    "\n",
    "# continue rolling until player wins or loses\n",
    "while game_status == 'CONTINUE':\n",
    "    die_values = roll_dice()\n",
    "    display_dice(die_values)\n",
    "    sum_of_dice = sum(die_values)\n",
    "\n",
    "    if sum_of_dice == my_point:  # win by making point\n",
    "        game_status = 'WON'\n",
    "    elif sum_of_dice == 7:  # lose by rolling 7\n",
    "        game_status = 'LOST'\n",
    "\n",
    "# display \"wins\" or \"loses\" message\n",
    "if game_status == 'WON':\n",
    "    print('Player wins')\n",
    "else:\n",
    "    print('Player loses')\n",
    "```"
   ]
  },
  {
   "cell_type": "code",
   "execution_count": 41,
   "metadata": {
    "slideshow": {
     "slide_type": "subslide"
    }
   },
   "outputs": [
    {
     "name": "stdout",
     "output_type": "stream",
     "text": [
      "Player rolled 1 + 4 = 5\n",
      "Point is 5\n",
      "Player rolled 6 + 2 = 8\n",
      "Player rolled 3 + 2 = 5\n",
      "Player wins\n"
     ]
    }
   ],
   "source": [
    "run craps.py"
   ]
  },
  {
   "cell_type": "markdown",
   "metadata": {
    "slideshow": {
     "slide_type": "slide"
    }
   },
   "source": [
    "# Python Standard Library\n",
    "* You write Python programs by combining functions and classes (that is, custom types) that you create with preexisting functions and classes defined in modules, such as those in the Python Standard Library and other libraries. \n",
    "* Avoid “reinventing the wheel.”\n",
    "* A module is a file that groups related functions, data and classes. \n",
    "* A **package** groups related modules. \n",
    "* The [Python Standard Library](https://docs.python.org/3/library/) is provided with the core Python language. \n",
    "* Its packages and modules contain capabilities for a wide variety of everyday programming tasks. "
   ]
  },
  {
   "cell_type": "markdown",
   "metadata": {
    "slideshow": {
     "slide_type": "subslide"
    }
   },
   "source": [
    "| Some popular Python Standard Library modules \n",
    "| ----------------------\t\n",
    "| `collections`—Data structures beyond lists, tuples, dictionaries and sets.\n",
    "| `csv`—Processing comma-separated value files (like those in Excel).\n",
    "| `datetime`—Date and time manipulations. Also modules `time` and `calendar`. \n",
    "| `decimal`—Fixed-point and floating-point arithmetic, including monetary calculations.\n",
    "| `doctest`—Embed validation tests and expected results in docstrings for simple unit testing.\n",
    "| `json`—JavaScript Object Notation (JSON) processing used with web services and NoSQL document databases.\n",
    "| `math`—Common math constants and operations.\n",
    "| `os`—Interacting with the operating system.\n",
    "| `random`—Pseudorandom numbers.\n",
    "| `re`—Regular expressions for pattern matching.\n",
    "| `sqlite3`—SQLite relational database access.\n",
    "| `statistics`—Mathematical statistics functions such as `mean`, `median`, `mode` and `variance`.\n",
    "| `string`—String processing.\n",
    "| `sys`—Command-line argument processing; standard input, standard output and standard error streams.\n",
    "| `tkinter`—Graphical user interfaces (GUIs) and canvas-based graphics.\n",
    "| `webbrowser`—For conveniently displaying web pages in Python apps.\n"
   ]
  },
  {
   "cell_type": "markdown",
   "metadata": {
    "slideshow": {
     "slide_type": "subslide"
    }
   },
   "source": [
    "#  `math` Module Functions\n",
    "* The **`math` module** defines functions for performing various common mathematical calculations. "
   ]
  },
  {
   "cell_type": "code",
   "execution_count": 42,
   "metadata": {},
   "outputs": [],
   "source": [
    "import math"
   ]
  },
  {
   "cell_type": "code",
   "execution_count": 43,
   "metadata": {},
   "outputs": [
    {
     "data": {
      "text/plain": [
       "30.0"
      ]
     },
     "execution_count": 43,
     "metadata": {},
     "output_type": "execute_result"
    }
   ],
   "source": [
    "math.sqrt(900)"
   ]
  },
  {
   "cell_type": "code",
   "execution_count": 44,
   "metadata": {},
   "outputs": [
    {
     "data": {
      "text/plain": [
       "10.0"
      ]
     },
     "execution_count": 44,
     "metadata": {},
     "output_type": "execute_result"
    }
   ],
   "source": [
    "math.fabs(-10)"
   ]
  },
  {
   "cell_type": "markdown",
   "metadata": {
    "slideshow": {
     "slide_type": "subslide"
    }
   },
   "source": [
    "* Some `math` module functions are summarized below\n",
    "* [View the complete list](https://docs.python.org/3/library/math.html)"
   ]
  },
  {
   "cell_type": "markdown",
   "metadata": {},
   "source": [
    "Function&nbsp;&nbsp;&nbsp;&nbsp;&nbsp;&nbsp;&nbsp;&nbsp;&nbsp;&nbsp;| Description | Example &nbsp;&nbsp;&nbsp;&nbsp;&nbsp;&nbsp;&nbsp;&nbsp;&nbsp;&nbsp;&nbsp;&nbsp;&nbsp;&nbsp;&nbsp;&nbsp;&nbsp;&nbsp;&nbsp;&nbsp;&nbsp;&nbsp;\n",
    ":------- | :------- | :--------\n",
    "`ceil(`x`)`\t| Rounds x to the smallest integer not less than x\t| `ceil(9.2) is 10.0`, `ceil(-9.8) is -9.0`\n",
    "`floor(`x`)`\t| Rounds x to the largest integer not greater than x\t| `floor(9.2) is 9.0`, `floor(-9.8) is -10.0`\n",
    "`sin(`x`)`\t| Trigonometric sine of x (x in radians)\t| `sin(0.0) is 0.0`\n",
    "`cos(`x`)`\t| Trigonometric cosine of x (x in radians)\t| `cos(0.0) is 1.0`\n",
    "`tan(`x`)` \t| Trigonometric tangent of x (x in radians)\t| `tan(0.0) is 0.0`\n",
    "`exp(`x`)`\t| Exponential function e<sup>x</sup>\t| `exp(1.0) is 2.718282`, `exp(2.0) is 7.389056`\n",
    "`log(`x`)`\t| Natural logarithm of x (base e)\t| `log(2.718282) is 1.0`, `log(7.389056) is 2.0`"
   ]
  },
  {
   "cell_type": "markdown",
   "metadata": {
    "slideshow": {
     "slide_type": "subslide"
    }
   },
   "source": [
    "Function&nbsp;&nbsp;&nbsp;&nbsp;&nbsp;&nbsp;&nbsp;&nbsp;&nbsp;&nbsp;| Description | Example &nbsp;&nbsp;&nbsp;&nbsp;&nbsp;&nbsp;&nbsp;&nbsp;&nbsp;&nbsp;&nbsp;&nbsp;&nbsp;&nbsp;&nbsp;&nbsp;&nbsp;&nbsp;&nbsp;&nbsp;&nbsp;&nbsp;\n",
    ":------- | :------- | :--------\n",
    "`log10(`x`)`\t| Logarithm of x (base 10)\t| `log10(10.0) is 1.0`, `log10(100.0) is 2.0`\n",
    "`pow(`x, y`)`\t| x raised to power y (x<sup>y</sup>)\t| `pow(2.0, 7.0) is 128.0`, `pow(9.0, .5) is 3.0`\n",
    "`sqrt(`x`)`\t| square root of x\t| `sqrt(900.0) is 30.0`, `sqrt(9.0) is 3.0`\n",
    "`fabs(`x`)`\t| Absolute value of x—always returns a float. Python also has the built-in function `abs`, which returns an `int` or a `float`, based on its argument.\t| `fabs(5.1) is 5.1`, `fabs(-5.1) is 5.1` \n",
    "`fmod(`x, y`)`\t| Remainder of x/y as a floating-point number\t| `fmod(9.8, 4.0) is 1.8`"
   ]
  }
 ],
 "metadata": {
  "celltoolbar": "Slideshow",
  "kernelspec": {
   "display_name": "Python 3 (ipykernel)",
   "language": "python",
   "name": "python3"
  },
  "language_info": {
   "codemirror_mode": {
    "name": "ipython",
    "version": 3
   },
   "file_extension": ".py",
   "mimetype": "text/x-python",
   "name": "python",
   "nbconvert_exporter": "python",
   "pygments_lexer": "ipython3",
   "version": "3.11.7"
  }
 },
 "nbformat": 4,
 "nbformat_minor": 4
}
