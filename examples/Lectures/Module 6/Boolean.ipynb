{
 "cells": [
  {
   "cell_type": "code",
   "execution_count": 3,
   "metadata": {},
   "outputs": [],
   "source": [
    "import pandas as pd\n",
    "grades_dict = {'Wally': [87, 96, 70], 'Eva': [100, 87, 90],\n",
    "               'Sam': [94, 77, 90], 'Katie': [100, 81, 82],\n",
    "               'Bob': [83, 65, 85]}\n",
    "grades = pd.DataFrame(grades_dict)\n",
    "grades.index = ['Text1', 'Text2', 'Text3']"
   ]
  },
  {
   "cell_type": "code",
   "execution_count": 4,
   "metadata": {},
   "outputs": [
    {
     "name": "stdout",
     "output_type": "stream",
     "text": [
      "       Wally    Eva   Sam  Katie  Bob\n",
      "Text1    NaN  100.0  94.0  100.0  NaN\n",
      "Text2   96.0    NaN   NaN    NaN  NaN\n",
      "Text3    NaN   90.0  90.0    NaN  NaN\n"
     ]
    }
   ],
   "source": [
    "print(grades[grades >= 90])"
   ]
  },
  {
   "cell_type": "code",
   "execution_count": 5,
   "metadata": {},
   "outputs": [
    {
     "name": "stdout",
     "output_type": "stream",
     "text": [
      "       Wally   Eva  Sam  Katie   Bob\n",
      "Text1   87.0   NaN  NaN    NaN  83.0\n",
      "Text2    NaN  87.0  NaN   81.0   NaN\n",
      "Text3    NaN   NaN  NaN   82.0  85.0\n"
     ]
    }
   ],
   "source": [
    "print(grades[(grades >= 80) & (grades < 90)])"
   ]
  },
  {
   "cell_type": "code",
   "execution_count": null,
   "metadata": {},
   "outputs": [],
   "source": [
    "print(grades[(grades == 100) | (grades == 90) | (grades == 80)])"
   ]
  }
 ],
 "metadata": {
  "kernelspec": {
   "display_name": "cse532",
   "language": "python",
   "name": "python3"
  },
  "language_info": {
   "codemirror_mode": {
    "name": "ipython",
    "version": 3
   },
   "file_extension": ".py",
   "mimetype": "text/x-python",
   "name": "python",
   "nbconvert_exporter": "python",
   "pygments_lexer": "ipython3",
   "version": "3.11.7"
  }
 },
 "nbformat": 4,
 "nbformat_minor": 2
}
