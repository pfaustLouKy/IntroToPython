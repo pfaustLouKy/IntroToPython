{
 "cells": [
  {
   "cell_type": "code",
   "execution_count": 1,
   "metadata": {},
   "outputs": [],
   "source": [
    "def square_elements(items):\n",
    "    \"\"\"Raises each element of a list to the second power\"\"\"\n",
    "    for i in range(len(items)):\n",
    "        items[i] = items[i] ** 2\n",
    "        "
   ]
  },
  {
   "cell_type": "code",
   "execution_count": 2,
   "metadata": {},
   "outputs": [
    {
     "name": "stdout",
     "output_type": "stream",
     "text": [
      "[25, 9, 49, 1, 81]\n"
     ]
    }
   ],
   "source": [
    "numberlist = [5, 3, 7, 1, 9]\n",
    "square_elements(numberlist)\n",
    "print(numberlist)"
   ]
  },
  {
   "cell_type": "code",
   "execution_count": null,
   "metadata": {},
   "outputs": [],
   "source": [
    "numbertuple = (5, 3, 7, 1, 9)\n",
    "square_elements(numbertuple)"
   ]
  }
 ],
 "metadata": {
  "kernelspec": {
   "display_name": "cse532",
   "language": "python",
   "name": "python3"
  },
  "language_info": {
   "codemirror_mode": {
    "name": "ipython",
    "version": 3
   },
   "file_extension": ".py",
   "mimetype": "text/x-python",
   "name": "python",
   "nbconvert_exporter": "python",
   "pygments_lexer": "ipython3",
   "version": "3.11.7"
  }
 },
 "nbformat": 4,
 "nbformat_minor": 2
}
