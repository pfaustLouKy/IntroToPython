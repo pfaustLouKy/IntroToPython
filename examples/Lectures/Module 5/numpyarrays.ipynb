{
 "cells": [
  {
   "cell_type": "code",
   "execution_count": 1,
   "metadata": {},
   "outputs": [],
   "source": [
    "import numpy as np\n"
   ]
  },
  {
   "cell_type": "code",
   "execution_count": 3,
   "metadata": {},
   "outputs": [
    {
     "name": "stdout",
     "output_type": "stream",
     "text": [
      "<class 'list'>\n",
      "<class 'numpy.ndarray'>\n",
      "[2, 3, 5, 7, 11]\n",
      "[ 2  3  5  7 11]\n"
     ]
    }
   ],
   "source": [
    "myList = [2, 3, 5, 7, 11]\n",
    "myArray = np.array([2, 3, 5, 7, 11])\n",
    "print(type(myList))\n",
    "print(type(myArray))\n",
    "print(myList)\n",
    "print(myArray)"
   ]
  },
  {
   "cell_type": "code",
   "execution_count": 6,
   "metadata": {},
   "outputs": [
    {
     "name": "stdout",
     "output_type": "stream",
     "text": [
      "[[1 2 3]\n",
      " [4 5 6]]\n",
      "int32\n",
      "float64\n"
     ]
    }
   ],
   "source": [
    "integers = np.array([[1,2,3],[4,5,6]])\n",
    "floats = np.array([0.0, 0.1, 0.2, 0.3, 0.4])\n",
    "print(integers)\n",
    "print(integers.dtype)\n",
    "print(floats.dtype)"
   ]
  },
  {
   "cell_type": "code",
   "execution_count": 5,
   "metadata": {},
   "outputs": [
    {
     "name": "stdout",
     "output_type": "stream",
     "text": [
      "2\n",
      "1\n",
      "(2, 3)\n",
      "(5,)\n"
     ]
    }
   ],
   "source": [
    "print(integers.ndim)\n",
    "print(floats.ndim)\n",
    "print(integers.shape)\n",
    "print(floats.shape)"
   ]
  },
  {
   "cell_type": "code",
   "execution_count": 7,
   "metadata": {},
   "outputs": [
    {
     "name": "stdout",
     "output_type": "stream",
     "text": [
      "1 2 3 \n",
      "4 5 6 \n"
     ]
    }
   ],
   "source": [
    "for row in integers:\n",
    "    for column in row:\n",
    "        print(column, end=' ')\n",
    "    print()"
   ]
  },
  {
   "cell_type": "code",
   "execution_count": 8,
   "metadata": {},
   "outputs": [
    {
     "name": "stdout",
     "output_type": "stream",
     "text": [
      "1  2  3  4  5  6  "
     ]
    }
   ],
   "source": [
    "for i in integers.flat:\n",
    "    print(i, end='  ')"
   ]
  },
  {
   "cell_type": "code",
   "execution_count": 9,
   "metadata": {},
   "outputs": [
    {
     "name": "stdout",
     "output_type": "stream",
     "text": [
      "[0. 0. 0. 0. 0.]\n",
      "\n",
      "[[1. 1. 1. 1.]\n",
      " [1. 1. 1. 1.]\n",
      " [1. 1. 1. 1.]]\n",
      "\n",
      "[[5.5 5.5 5.5]\n",
      " [5.5 5.5 5.5]]\n"
     ]
    }
   ],
   "source": [
    "arr0s = np.zeros(5)\n",
    "arr1s = np.ones((3,4))\n",
    "arrvals = np.full((2,3), 5.5)\n",
    "print(arr0s)\n",
    "print()\n",
    "print(arr1s)\n",
    "print()\n",
    "print(arrvals)"
   ]
  },
  {
   "cell_type": "code",
   "execution_count": 10,
   "metadata": {},
   "outputs": [
    {
     "name": "stdout",
     "output_type": "stream",
     "text": [
      "[0 1 2 3 4]\n",
      "[5 6 7 8 9]\n",
      "[10  8  6  4  2]\n"
     ]
    }
   ],
   "source": [
    "print(np.arange(5))\n",
    "print(np.arange(5, 10))\n",
    "print(np.arange(10, 1, -2))"
   ]
  },
  {
   "cell_type": "code",
   "execution_count": 11,
   "metadata": {},
   "outputs": [
    {
     "name": "stdout",
     "output_type": "stream",
     "text": [
      "[0.   0.25 0.5  0.75 1.  ]\n"
     ]
    }
   ],
   "source": [
    "print(np.linspace(0.0, 1.0, num=5))"
   ]
  },
  {
   "cell_type": "code",
   "execution_count": 12,
   "metadata": {},
   "outputs": [
    {
     "name": "stdout",
     "output_type": "stream",
     "text": [
      "[]\n",
      "[[ 1  2  3  4]\n",
      " [ 5  6  7  8]\n",
      " [ 9 10 11 12]]\n"
     ]
    }
   ],
   "source": [
    "print(np.arange(1,1))\n",
    "print(np.arange(1,13).reshape(3,4))"
   ]
  },
  {
   "cell_type": "code",
   "execution_count": 13,
   "metadata": {},
   "outputs": [
    {
     "name": "stdout",
     "output_type": "stream",
     "text": [
      "[[     1      2      3 ...  24998  24999  25000]\n",
      " [ 25001  25002  25003 ...  49998  49999  50000]\n",
      " [ 50001  50002  50003 ...  74998  74999  75000]\n",
      " [ 75001  75002  75003 ...  99998  99999 100000]]\n"
     ]
    }
   ],
   "source": [
    "print(np.arange(1, 100001).reshape(4, 25000))"
   ]
  },
  {
   "cell_type": "code",
   "execution_count": 14,
   "metadata": {},
   "outputs": [
    {
     "data": {
      "text/plain": [
       "array([[     1,      2,      3, ...,    998,    999,   1000],\n",
       "       [  1001,   1002,   1003, ...,   1998,   1999,   2000],\n",
       "       [  2001,   2002,   2003, ...,   2998,   2999,   3000],\n",
       "       ...,\n",
       "       [ 97001,  97002,  97003, ...,  97998,  97999,  98000],\n",
       "       [ 98001,  98002,  98003, ...,  98998,  98999,  99000],\n",
       "       [ 99001,  99002,  99003, ...,  99998,  99999, 100000]])"
      ]
     },
     "execution_count": 14,
     "metadata": {},
     "output_type": "execute_result"
    }
   ],
   "source": [
    "np.arange(1, 100001).reshape(100, 1000)"
   ]
  },
  {
   "cell_type": "code",
   "execution_count": 15,
   "metadata": {},
   "outputs": [
    {
     "name": "stdout",
     "output_type": "stream",
     "text": [
      "2024-02-10 19:35:52.071872\n",
      "<class 'datetime.datetime'>\n"
     ]
    }
   ],
   "source": [
    "from datetime import datetime\n",
    "print(datetime.now())\n",
    "print(type(datetime.now()))"
   ]
  },
  {
   "cell_type": "code",
   "execution_count": 21,
   "metadata": {},
   "outputs": [
    {
     "name": "stdout",
     "output_type": "stream",
     "text": [
      "1.000614\n",
      "0:00:01.000614\n"
     ]
    }
   ],
   "source": [
    "from time import sleep\n",
    "start = datetime.now()\n",
    "sleep(1)\n",
    "end= datetime.now()\n",
    "print((end-start).total_seconds())\n",
    "print(end - start)"
   ]
  },
  {
   "cell_type": "code",
   "execution_count": 33,
   "metadata": {},
   "outputs": [
    {
     "name": "stdout",
     "output_type": "stream",
     "text": [
      "0.494901\n"
     ]
    }
   ],
   "source": [
    "start=datetime.now()\n",
    "rolls_array = np.random.randint(1, 7, 60_000_000)\n",
    "end=datetime.now()\n",
    "print((end-start).total_seconds())"
   ]
  },
  {
   "cell_type": "code",
   "execution_count": 35,
   "metadata": {},
   "outputs": [
    {
     "name": "stdout",
     "output_type": "stream",
     "text": [
      "5.760864\n"
     ]
    }
   ],
   "source": [
    "start = datetime.now()\n",
    "rolls_array = np.random.randint(1, 7, 600_000_000)\n",
    "end = datetime.now()\n",
    "print((end-start).total_seconds())"
   ]
  },
  {
   "cell_type": "code",
   "execution_count": 36,
   "metadata": {},
   "outputs": [
    {
     "name": "stdout",
     "output_type": "stream",
     "text": [
      "[1 2 3 4 5]\n",
      "[ 2  4  6  8 10]\n",
      "[  1   8  27  64 125]\n"
     ]
    }
   ],
   "source": [
    "numbers = np.arange(1, 6)\n",
    "print(numbers)\n",
    "print(numbers*2)\n",
    "print(numbers**3)"
   ]
  },
  {
   "cell_type": "code",
   "execution_count": 37,
   "metadata": {},
   "outputs": [
    {
     "name": "stdout",
     "output_type": "stream",
     "text": [
      "[11 12 13 14 15]\n"
     ]
    }
   ],
   "source": [
    "numbers += 10\n",
    "print(numbers)"
   ]
  },
  {
   "cell_type": "code",
   "execution_count": 38,
   "metadata": {},
   "outputs": [
    {
     "name": "stdout",
     "output_type": "stream",
     "text": [
      "[11. 22. 33. 44. 55.]\n",
      "[11. 22. 33. 44. 55.]\n"
     ]
    }
   ],
   "source": [
    "numbers2 = np.linspace(1.1, 5.5, 5)\n",
    "numbers3 = [10,10,10,10,10]\n",
    "print(numbers2*10)\n",
    "print(numbers2*numbers3)"
   ]
  },
  {
   "cell_type": "code",
   "execution_count": 39,
   "metadata": {},
   "outputs": [
    {
     "name": "stdout",
     "output_type": "stream",
     "text": [
      "[11 12 13 14 15]\n",
      "[1.1 2.2 3.3 4.4 5.5]\n",
      "[False False  True  True  True]\n",
      "[False False False False False]\n"
     ]
    }
   ],
   "source": [
    "print(numbers)\n",
    "print(numbers2)\n",
    "print(numbers>=13)\n",
    "print(numbers2>=13)"
   ]
  },
  {
   "cell_type": "code",
   "execution_count": 40,
   "metadata": {},
   "outputs": [
    {
     "name": "stdout",
     "output_type": "stream",
     "text": [
      "[False False False False False]\n",
      "[ True  True  True  True  True]\n"
     ]
    }
   ],
   "source": [
    "print(numbers > numbers)\n",
    "print(numbers == numbers)"
   ]
  },
  {
   "cell_type": "code",
   "execution_count": 42,
   "metadata": {},
   "outputs": [
    {
     "name": "stdout",
     "output_type": "stream",
     "text": [
      "1054\n",
      "70\n",
      "100\n",
      "87.83333333333333\n",
      "8.792357792739987\n",
      "[100  96  90]\n",
      "[84.33333333 92.33333333 87.         87.66666667]\n"
     ]
    }
   ],
   "source": [
    "grades = np.array([[87, 96, 70], [100, 87, 90], [94, 77, 90], [100, 81, 82]])\n",
    "print(grades.sum())\n",
    "print(grades.min())\n",
    "print(grades.max())\n",
    "print(grades.mean())\n",
    "print(grades.std())\n",
    "print(grades.max(axis=0))\n",
    "print(grades.mean(axis=1))"
   ]
  },
  {
   "cell_type": "code",
   "execution_count": 43,
   "metadata": {},
   "outputs": [
    {
     "name": "stdout",
     "output_type": "stream",
     "text": [
      "[1. 2. 3. 4. 5. 6.]\n",
      "[0.         2.         3.169925   4.         4.64385619 5.169925  ]\n"
     ]
    }
   ],
   "source": [
    "numbers = np.array([1, 4, 9, 16, 25, 36])\n",
    "print(np.sqrt(numbers))\n",
    "print(np.log2(numbers))\n"
   ]
  },
  {
   "cell_type": "code",
   "execution_count": 45,
   "metadata": {},
   "outputs": [
    {
     "name": "stdout",
     "output_type": "stream",
     "text": [
      "[[ 87  96  70]\n",
      " [100  87  90]\n",
      " [ 94  77  90]\n",
      " [100  81  82]]\n",
      "96\n",
      "[100  87  90]\n",
      "[70 90 90 82]\n"
     ]
    }
   ],
   "source": [
    "print(grades)\n",
    "print(grades[0,1])\n",
    "print(grades[1,:])  # the comma here signifies the entire second subarray\n",
    "print(grades[:,2])  # the comma here signifies the entire arrays third position in each subset"
   ]
  },
  {
   "cell_type": "code",
   "execution_count": 66,
   "metadata": {},
   "outputs": [
    {
     "name": "stdout",
     "output_type": "stream",
     "text": [
      "[[96 70]\n",
      " [81 82]]\n"
     ]
    }
   ],
   "source": [
    "grades = np.array([[87, 96, 70], [100, 87, 90], [94, 77, 90], [100, 81, 82]])\n",
    "#print(grades[::])\n",
    "#print(grades[0:2,:])\n",
    "#print(grades[:, [0,2]])\n",
    "print(grades[[0,3],1:3])"
   ]
  }
 ],
 "metadata": {
  "kernelspec": {
   "display_name": "cse532",
   "language": "python",
   "name": "python3"
  },
  "language_info": {
   "codemirror_mode": {
    "name": "ipython",
    "version": 3
   },
   "file_extension": ".py",
   "mimetype": "text/x-python",
   "name": "python",
   "nbconvert_exporter": "python",
   "pygments_lexer": "ipython3",
   "version": "3.11.7"
  }
 },
 "nbformat": 4,
 "nbformat_minor": 2
}
