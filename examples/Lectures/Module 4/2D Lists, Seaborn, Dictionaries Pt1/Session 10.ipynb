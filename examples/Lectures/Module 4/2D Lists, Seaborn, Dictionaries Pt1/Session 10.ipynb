{
 "cells": [
  {
   "cell_type": "markdown",
   "metadata": {
    "slideshow": {
     "slide_type": "slide"
    }
   },
   "source": [
    "## What We Looked At Last Time\n",
    "* We wrapped up our discussion of Python list fundamentals.\n",
    "* We looked at using functions as objects.\n",
    "* We looked at lazy evaluation.\n",
    "* We worked through a few exercises involving material from the past few sessions."
   ]
  },
  {
   "cell_type": "markdown",
   "metadata": {
    "slideshow": {
     "slide_type": "subslide"
    }
   },
   "source": [
    "## What We'll Look At Today\n",
    "* We'll look at a few more built-in Python functions\n",
    "* We'll look at 2D lists.\n",
    "* We'll look at plotting data using Seaborn.\n",
    "* We'll examine the Python dictionary object in depth (although we may not finish!). "
   ]
  },
  {
   "cell_type": "markdown",
   "metadata": {
    "slideshow": {
     "slide_type": "slide"
    }
   },
   "source": [
    "### Iterating Backwards Through a Sequence Using `reversed`\n",
    "* `reversed` creates a generator object that returns an iterable expression in reverse order.\n",
    "* As with many previous operations, it is more efficient than using the slice approach because it does not generate an intermediate copy. "
   ]
  },
  {
   "cell_type": "code",
   "execution_count": null,
   "metadata": {},
   "outputs": [],
   "source": [
    "numbers = [10, 3, 7, 1, 9, 4, 2, 8, 5, 6]\n",
    "reversed_numbers = [item ** 2 for item in numbers[::-1]]\n",
    "print(reversed_numbers)"
   ]
  },
  {
   "cell_type": "code",
   "execution_count": null,
   "metadata": {},
   "outputs": [],
   "source": [
    "print(reversed(numbers))\n",
    "reversed_numbers = [item ** 2 for item in reversed(numbers)]\n",
    "print(reversed_numbers)"
   ]
  },
  {
   "cell_type": "code",
   "execution_count": null,
   "metadata": {},
   "outputs": [],
   "source": [
    "print(reversed('ABCDE'))\n",
    "for ele in reversed('ABCDE'):\n",
    "    print(ele)"
   ]
  },
  {
   "cell_type": "markdown",
   "metadata": {
    "slideshow": {
     "slide_type": "slide"
    }
   },
   "source": [
    "### Combining Iterables into Tuples of Corresponding Elements Using `zip`\n",
    "* The built-in function **`zip`** enables you to iterate over _multiple_ iterable expressions at the _same_ time. \n",
    "* It receives any number of iterables and returns an iterator that produces tuples containing the elements at the same index in each. \n",
    "* If the iterable expressions return different numbers of elements, the one with the _least_ elements determines how many tuples are produced."
   ]
  },
  {
   "cell_type": "code",
   "execution_count": null,
   "metadata": {
    "slideshow": {
     "slide_type": "subslide"
    }
   },
   "outputs": [],
   "source": [
    "#zip and print 3 separate data fields related to students\n",
    "names = ['Bob', 'Sue', 'Amanda']\n",
    "ids = [123456, 789123, 555555]\n",
    "grade_point_averages = [3.6, 4.0, 3.7] \n",
    "for name, sid, gpa in zip(names, ids, grade_point_averages):\n",
    "    print(f'Name={name}; ID={sid}; GPA={gpa}')"
   ]
  },
  {
   "cell_type": "code",
   "execution_count": null,
   "metadata": {},
   "outputs": [],
   "source": [
    "#Because \"playernums\" has only 4 elements, the zip returns only four tuples (first four of each IE) \n",
    "playernums = [1, 65, 4, 27]\n",
    "scores =  [80, 70, 62, 90, 77, 65] \n",
    "for pnum, sc in zip(playernums, scores):\n",
    "    print(f'PNum={pnum}; Score={sc}')\n"
   ]
  },
  {
   "cell_type": "markdown",
   "metadata": {
    "slideshow": {
     "slide_type": "slide"
    }
   },
   "source": [
    "# Two-Dimensional Lists\n",
    "* Lists can contain other lists as elements. \n",
    "* Typical use is to represent **tables** of values consisting of information arranged in **rows** and **columns**. \n",
    "* To identify a particular table element, we specify _two_ indices—the first identifies the element’s row, the second the element’s column."
   ]
  },
  {
   "cell_type": "code",
   "execution_count": null,
   "metadata": {},
   "outputs": [],
   "source": [
    "a = [[77, 68, 86, 73], [96, 87, 89, 81], [70, 90, 86, 81]]\n",
    "print(a[2][1:3])"
   ]
  },
  {
   "cell_type": "markdown",
   "metadata": {
    "slideshow": {
     "slide_type": "subslide"
    }
   },
   "source": [
    "Writing the list as follows makes its row and column tabular structure clearer:\n",
    "\n",
    "```python\n",
    "a = [[77, 68, 86, 73],  # first student's grades\n",
    "     [96, 87, 89, 81],  # second student's grades \n",
    "     [70, 90, 86, 81]]  # third student's grades\n",
    "```"
   ]
  },
  {
   "cell_type": "markdown",
   "metadata": {
    "slideshow": {
     "slide_type": "-"
    }
   },
   "source": [
    "### Illustrating a Two-Dimensional List\n",
    "\n",
    "![The two-dimensional list 'a' with its rows and columns of exam grade values](ch05images/AAHBDOV0_2.png \"The two-dimensional list 'a' with its rows and columns of exam grade values\")"
   ]
  },
  {
   "cell_type": "markdown",
   "metadata": {
    "slideshow": {
     "slide_type": "subslide"
    }
   },
   "source": [
    "### Identifying the Elements in a Two-Dimensional List\n",
    "\n",
    "![The two-dimensional list 'a' labeled with the names of its elements](ch05images/AAHBDOV0.png \"The two-dimensional list 'a' labeled with the names of its elements\")"
   ]
  },
  {
   "cell_type": "code",
   "execution_count": null,
   "metadata": {
    "slideshow": {
     "slide_type": "subslide"
    }
   },
   "outputs": [],
   "source": [
    "#output the rows and columns of the prior 2D List\n",
    "for row in a:\n",
    "    for colitem in row:\n",
    "        print(colitem, end=' ')\n",
    "    print()\n",
    "        "
   ]
  },
  {
   "cell_type": "code",
   "execution_count": null,
   "metadata": {},
   "outputs": [],
   "source": [
    "#We can use enumerate to print rows and column IDs in addition to values\n",
    "for i, row in enumerate(a):\n",
    "    for j, item in enumerate(row):\n",
    "        print(f'a[{i}][{j}]={item} ', end=' ')\n",
    "    print()"
   ]
  },
  {
   "cell_type": "markdown",
   "metadata": {
    "slideshow": {
     "slide_type": "slide"
    }
   },
   "source": [
    "# Intro to Data Science: Simulation and Static Visualizations\n",
    "\n"
   ]
  },
  {
   "cell_type": "markdown",
   "metadata": {
    "slideshow": {
     "slide_type": "subslide"
    }
   },
   "source": [
    "* Visualizations help you “get to know” your data. \n",
    "* They give you a powerful way to understand data that goes beyond simply looking at raw data.\n",
    "* The **Seaborn visualization library** is built over the **Matplotlib visualization library** and simplifies many Matplotlib operations. "
   ]
  },
  {
   "cell_type": "markdown",
   "metadata": {
    "slideshow": {
     "slide_type": "subslide"
    }
   },
   "source": [
    "## Sample Graphs for 600, 60,000 and 6,000,000 Die Rolls\n",
    "* A vertical bar chart that for 600 die rolls summarizes the frequencies with which each of the six faces appear, and their percentages of the total.\n",
    "* Seaborn refers to this type of graph as a **bar plot**. "
   ]
  },
  {
   "cell_type": "markdown",
   "metadata": {
    "slideshow": {
     "slide_type": "subslide"
    }
   },
   "source": [
    "\n",
    "\n",
    "<center><img src=\"ch05images/Seaborn_01.png\" alt=\"Drawing\" style=\"width: 900px;\"/></center>"
   ]
  },
  {
   "cell_type": "markdown",
   "metadata": {
    "slideshow": {
     "slide_type": "subslide"
    }
   },
   "source": [
    "* We would expect about 100 occurrences of each die face, or 16.667%. \n",
    "* For a small number of rolls, none of the frequencies is exactly 100 and most of the percentages are not close to 16.667% (about 1/6th). \n",
    "* For 60,000 die rolls, the bars will become much closer in size, and at 6,000,000 die rolls, they’ll appear to be the same.\n",
    "* The **Law of large numbers** indicates that increasing the sample size within an experiment will gradually shift its distributions to fit the population (in this case expected probability distribution)."
   ]
  },
  {
   "cell_type": "markdown",
   "metadata": {
    "slideshow": {
     "slide_type": "subslide"
    }
   },
   "source": [
    "<center><img src=\"ch05images/Seaborn_02.png\" alt=\"Drawing\" style=\"width: 900px;\"/></center>"
   ]
  },
  {
   "cell_type": "markdown",
   "metadata": {
    "slideshow": {
     "slide_type": "subslide"
    }
   },
   "source": [
    "<center><img src=\"ch05images/Seaborn_03.png\" alt=\"Drawing\" style=\"width: 900px;\"/></center>"
   ]
  },
  {
   "cell_type": "markdown",
   "metadata": {
    "slideshow": {
     "slide_type": "slide"
    }
   },
   "source": [
    "## Visualizing Our Own Die-Roll Frequencies and Percentages"
   ]
  },
  {
   "cell_type": "markdown",
   "metadata": {
    "slideshow": {
     "slide_type": "subslide"
    }
   },
   "source": [
    "### Crucial Libraries for visualization\n",
    "\n",
    "1. **`matplotlib.pyplot`** contains the Matplotlib library’s graphing capabilities that we use. This module typically is imported with the name `plt`. \n",
    "3. NumPy (Numerical Python) library includes the function `unique` that we’ll use to summarize the die rolls. The **`numpy` module** typically is imported as `np`.  Note that we'll see NumPy in far greater detail down the road. \n",
    "4. `random` contains Python’s random-number generation functions.\n",
    "5. **`seaborn`** contains the Seaborn library’s graphing capabilities we use (they are less customizable, but easier to apply than pyplot's). This module typically is imported with the name `sns`. \n"
   ]
  },
  {
   "cell_type": "code",
   "execution_count": null,
   "metadata": {
    "slideshow": {
     "slide_type": "subslide"
    }
   },
   "outputs": [],
   "source": [
    "import matplotlib.pyplot as plt\n",
    "import numpy as np\n",
    "import random\n",
    "import seaborn as sns #NOTE: YOU MAY NEED TO install seaborn (e.g. \"conda install seaborn\") before using!"
   ]
  },
  {
   "cell_type": "markdown",
   "metadata": {
    "slideshow": {
     "slide_type": "subslide"
    }
   },
   "source": [
    "### Rolling the Die and Calculating Die Frequencies\n",
    "* NumPy's **`unique` function** expects an `ndarray` argument and returns an `ndarray`. \n",
    "* If you pass a list, NumPy converts it to an `ndarray` for better performance. \n",
    "* Keyword argument **`return_counts`**`=True` tells `unique` to count each unique value’s number of occurrences\n",
    "* In this case, `unique` returns a **tuple of two one-dimensional `ndarray`s** containing the **sorted unique values** and their corresponding frequencies, respectively. "
   ]
  },
  {
   "cell_type": "code",
   "execution_count": null,
   "metadata": {
    "slideshow": {
     "slide_type": "subslide"
    }
   },
   "outputs": [],
   "source": [
    "def rollplot(rollquantity):\n",
    "    rolls = [random.randrange(1, 7) for i in range(rollquantity)] #Create list of ALL die rolls.\n",
    "    values, frequencies = np.unique(rolls, return_counts=True) #Get counts per die face.\n",
    "    title = f'Rolling a Six-Sided Die {len(rolls):,} Times'\n",
    "    sns.set_style('whitegrid')  # default is white with no grid\n",
    "    axes = sns.barplot(x=values, y=frequencies, palette='bright') # create and display the bar plot\n",
    "    axes.set_title(title)     # set the title of the plot\n",
    "    axes.set(xlabel='Die Value', ylabel='Frequency') # label the axes\n",
    "    axes.set_ylim(top=max(frequencies) * 1.10) # scale the y-axis to add room for text above bars\n",
    "    # create and display the text for each bar\n",
    "    for bar, frequency in zip(axes.patches, frequencies):\n",
    "        text_x = bar.get_x() + bar.get_width() / 2.0  \n",
    "        text_y = bar.get_height() \n",
    "        text = f'{frequency:,}\\n{frequency / len(rolls):.3%}'\n",
    "        axes.text(text_x, text_y, text, \n",
    "                  fontsize=11, ha='center', va='bottom')"
   ]
  },
  {
   "cell_type": "code",
   "execution_count": null,
   "metadata": {},
   "outputs": [],
   "source": [
    "rollplot(6000000)"
   ]
  },
  {
   "cell_type": "markdown",
   "metadata": {
    "slideshow": {
     "slide_type": "subslide"
    }
   },
   "source": [
    "### Some Valuable pyplot Functionality\n",
    "* The figure in the above example is generally quite small on most displays.  \n",
    "* We can use two steps to quickly resize a generated figure (in pyplot OR seaborn).\n",
    "    * First, we can use the method `plt.gcf()` to grab the current (last plotted or manipulated) figure object.\n",
    "    * We can then use the method `set_size_inches(width,height)` to set the display size of the object in inches.\n",
    "* While notebook handles the functionality implicitly, it's good practice to always include `plt.show()` to show the current figure (when executed outside the IPython environment, this is required. "
   ]
  },
  {
   "cell_type": "code",
   "execution_count": null,
   "metadata": {
    "slideshow": {
     "slide_type": "subslide"
    }
   },
   "outputs": [],
   "source": [
    "rollplot(60000)\n",
    "fig = plt.gcf() #fig now references the current figure\n",
    "fig.set_size_inches(11,8) #set the current figure's size to be 11\" by 8\".\n",
    "plt.show() #Best practice is to \"display\" the figure when ready."
   ]
  },
  {
   "cell_type": "code",
   "execution_count": null,
   "metadata": {
    "scrolled": false,
    "slideshow": {
     "slide_type": "subslide"
    }
   },
   "outputs": [],
   "source": [
    "rollplot(6000000)\n",
    "fig = plt.gcf()\n",
    "fig.set_size_inches(11,8)\n",
    "plt.show()"
   ]
  },
  {
   "cell_type": "markdown",
   "metadata": {
    "slideshow": {
     "slide_type": "slide"
    }
   },
   "source": [
    "# Dictionaries and Sets\n",
    "* A **dictionary** is an _unordered_ collection which stores **key–value pairs** that map immutable keys to values, just as a conventional dictionary maps words to definitions. \n",
    "* A **set** is an unordered collection of unique immutable elements.\n",
    "* Dictionaries and sets are distinct from, but very closely related to lists."
   ]
  },
  {
   "cell_type": "markdown",
   "metadata": {
    "slideshow": {
     "slide_type": "slide"
    }
   },
   "source": [
    "## Dictionaries\n",
    "* A dictionary _associates_ keys with values. \n",
    "* Each key _maps_ to a specific value. \n",
    "* These values can be as simple as primitive objects (integers, bools, etc.), or embedded structures (e.g. lists, other dictionaries) themselves.  "
   ]
  },
  {
   "cell_type": "markdown",
   "metadata": {
    "slideshow": {
     "slide_type": "subslide"
    }
   },
   "source": [
    "## Examples\n",
    "| Keys | Key type | Values | Value type\n",
    "| :-------- | :-------- | :-------- | :--------\n",
    "| Country names | `str` | Internet country codes | `str` \n",
    "| Decimal numbers | `int` | Roman numerals | `str` \n",
    "| States | `str` | Agricultural products | list of `str` \n",
    "| Hospital patients | `str`  | Vital signs | tuple of `int`s and `float`s \n",
    "| Baseball players | `str`  | Batting averages | `float` \n",
    "| Metric measurements | `str`  | Abbreviations | `str` \n",
    "| Inventory codes | `str`  | Quantity in stock | `int` "
   ]
  },
  {
   "cell_type": "markdown",
   "metadata": {
    "slideshow": {
     "slide_type": "subslide"
    }
   },
   "source": [
    "### Key Requirements\n",
    "* Keys in any one dictionary must be _immutable_ and _unique_. \n",
    "* Multiple keys can have the same value (e.g mapping a large group of people's SSNs to their first or last names would see many duplicates.) "
   ]
  },
  {
   "cell_type": "markdown",
   "metadata": {
    "slideshow": {
     "slide_type": "slide"
    }
   },
   "source": [
    "## Dictionary Basics\n",
    "* Create a dictionary by enclosing in curly braces, `{}`, a comma-separated list of key–value pairs, each of the form _key_: _value_. \n",
    "* Create an empty dictionary with `{}`. \n",
    "* Dictionaries are _unordered_ collections.\n",
    "* You should generally _not_ write code that depends on the order in which key–value pairs were added. "
   ]
  },
  {
   "cell_type": "code",
   "execution_count": null,
   "metadata": {
    "slideshow": {
     "slide_type": "-"
    }
   },
   "outputs": [],
   "source": [
    "country_codes = {'Finland': 'fi', 'South Africa': 'za', \n",
    "                  'Nepal': 'np'}\n",
    "print(country_codes)                 "
   ]
  },
  {
   "cell_type": "markdown",
   "metadata": {
    "slideshow": {
     "slide_type": "subslide"
    }
   },
   "source": [
    "### Dictionary Length and Empty Dictionaries\n",
    "* We can use the `len` function (returns # of keys) to determine if a dictionary is empty\n",
    "* We can also substitute dictionaries for conditions directly: it will evaluate to `False` if empty and `True` otherwise.\n",
    "* The method `clear` will delete all of a dictionary's keys. "
   ]
  },
  {
   "cell_type": "code",
   "execution_count": null,
   "metadata": {},
   "outputs": [],
   "source": [
    "empty_dict= {}\n",
    "print(len(country_codes)==0) \n",
    "print(len(empty_dict)==0)\n"
   ]
  },
  {
   "cell_type": "code",
   "execution_count": null,
   "metadata": {
    "slideshow": {
     "slide_type": "subslide"
    }
   },
   "outputs": [],
   "source": [
    "if country_codes:\n",
    "    print('country_codes is not empty')\n",
    "else:\n",
    "    print('country_codes is empty')\n",
    "\n",
    "if empty_dict:\n",
    "    print('empty_dict is not empty')\n",
    "else:\n",
    "    print('empty_dict is empty')\n",
    "    "
   ]
  },
  {
   "cell_type": "code",
   "execution_count": null,
   "metadata": {
    "slideshow": {
     "slide_type": "-"
    }
   },
   "outputs": [],
   "source": [
    "country_codes.clear()\n",
    "if country_codes:\n",
    "    print('country_codes is not empty')\n",
    "else:\n",
    "    print('country_codes is empty')"
   ]
  },
  {
   "cell_type": "markdown",
   "metadata": {
    "slideshow": {
     "slide_type": "slide"
    }
   },
   "source": [
    "## Dictionary: Element Access and Iteration \n",
    "* Use bracket notation with a key-name to access the corresponding value\n",
    "* We can use dictionary method `keys` to return an iterable of all keys in a dictionary.\n",
    "* Alternatively, dictionary method `items` returns each key–value pair as a tuple.\n",
    "* Either `keys` or `items` is suitable for manipulating key-value pairs, but the latter is generally preferred if both are required."
   ]
  },
  {
   "cell_type": "code",
   "execution_count": null,
   "metadata": {},
   "outputs": [],
   "source": [
    "days_per_month = {'January': 31, 'February': 28, 'March': 31}\n",
    "print(days_per_month)"
   ]
  },
  {
   "cell_type": "code",
   "execution_count": null,
   "metadata": {},
   "outputs": [],
   "source": [
    "print(days_per_month['March'])"
   ]
  },
  {
   "cell_type": "code",
   "execution_count": null,
   "metadata": {
    "slideshow": {
     "slide_type": "subslide"
    }
   },
   "outputs": [],
   "source": [
    "for month in days_per_month.keys():\n",
    "    print(f'{month} has {days_per_month[month]} days.') #Not the most elegant way to do things"
   ]
  },
  {
   "cell_type": "code",
   "execution_count": null,
   "metadata": {},
   "outputs": [],
   "source": [
    "for month, days in days_per_month.items():\n",
    "    print(f'{month} has {days} days.') #Better\n",
    "    "
   ]
  },
  {
   "cell_type": "markdown",
   "metadata": {
    "slideshow": {
     "slide_type": "subslide"
    }
   },
   "source": [
    "### Adding or Modifying Key–Value Pairs\n",
    "* Bracket notation can _also_ be used to bind a value to a new key.\n",
    "* If used with an existing key-value pair, the value for the given key will be **overwritten**.\n",
    "* Note that String-based keys are _case-sensitive_"
   ]
  },
  {
   "cell_type": "code",
   "execution_count": null,
   "metadata": {},
   "outputs": [],
   "source": [
    "days_per_month['April'] = 31 #Oops -- not the right number of days!\n",
    "print(days_per_month)"
   ]
  },
  {
   "cell_type": "code",
   "execution_count": null,
   "metadata": {},
   "outputs": [],
   "source": [
    "days_per_month['APRIL'] = 30 #Trying to fix the error (but ignoring case-sensitivity!)\n",
    "print(days_per_month)"
   ]
  },
  {
   "cell_type": "markdown",
   "metadata": {
    "slideshow": {
     "slide_type": "subslide"
    }
   },
   "source": [
    "### Removing Key–Value Pairs\n",
    "* `del` can be used to delete a key.\n",
    "* `pop` can be used to remove and _return_ the value for a given key."
   ]
  },
  {
   "cell_type": "code",
   "execution_count": null,
   "metadata": {},
   "outputs": [],
   "source": [
    "del(days_per_month['April'])\n",
    "print(days_per_month)"
   ]
  },
  {
   "cell_type": "code",
   "execution_count": null,
   "metadata": {},
   "outputs": [],
   "source": [
    "print(days_per_month.pop('APRIL'))\n",
    "print(days_per_month)"
   ]
  },
  {
   "cell_type": "markdown",
   "metadata": {
    "slideshow": {
     "slide_type": "subslide"
    }
   },
   "source": [
    "### `get` and Nonexistent Keys\n",
    "* Trying to directly index a non-existent key with brackets produces a `KeyError`\n",
    "* Method **`get`** returns its argument’s corresponding value in a dictionary or `None` if the key is not found. \n",
    "* Note that if you don't explicitly use an output statement like `print` IPython will not display anything for `None`. \n",
    "* `get` with a second argument returns the second argument if the key is not found."
   ]
  },
  {
   "cell_type": "code",
   "execution_count": null,
   "metadata": {},
   "outputs": [],
   "source": [
    "days_per_month.get('May')"
   ]
  },
  {
   "cell_type": "code",
   "execution_count": null,
   "metadata": {
    "slideshow": {
     "slide_type": "subslide"
    }
   },
   "outputs": [],
   "source": [
    "days_per_month.get('March')"
   ]
  },
  {
   "cell_type": "code",
   "execution_count": null,
   "metadata": {
    "slideshow": {
     "slide_type": "-"
    }
   },
   "outputs": [],
   "source": [
    "if days_per_month.get('May'):\n",
    "    print('That month exists in the dictionary')\n",
    "else: \n",
    "    print('That month does not exist in the dictionary')"
   ]
  },
  {
   "cell_type": "code",
   "execution_count": null,
   "metadata": {},
   "outputs": [],
   "source": [
    "print(days_per_month.get('May','May not in dictionary!'))"
   ]
  }
 ],
 "metadata": {
  "celltoolbar": "Slideshow",
  "kernelspec": {
   "display_name": "Python 3 (ipykernel)",
   "language": "python",
   "name": "python3"
  },
  "language_info": {
   "codemirror_mode": {
    "name": "ipython",
    "version": 3
   },
   "file_extension": ".py",
   "mimetype": "text/x-python",
   "name": "python",
   "nbconvert_exporter": "python",
   "pygments_lexer": "ipython3",
   "version": "3.10.8"
  }
 },
 "nbformat": 4,
 "nbformat_minor": 4
}
