{
 "cells": [
  {
   "cell_type": "code",
   "execution_count": 1,
   "metadata": {},
   "outputs": [
    {
     "name": "stdout",
     "output_type": "stream",
     "text": [
      "   Wally  Eva  Sam  Katie  Bob\n",
      "0     87  100   94    100   83\n",
      "1     96   87   77     81   65\n",
      "2     70   90   90     82   85\n"
     ]
    }
   ],
   "source": [
    "import pandas as pd\n",
    "grades_dict = {'Wally': [87, 96, 70], 'Eva': [100, 87, 90],\n",
    "               'Sam': [94, 77, 90], 'Katie': [100, 81, 82],\n",
    "               'Bob': [83, 65, 85]}\n",
    "grades = pd.DataFrame(grades_dict)\n",
    "print(grades)"
   ]
  },
  {
   "cell_type": "code",
   "execution_count": 2,
   "metadata": {},
   "outputs": [
    {
     "name": "stdout",
     "output_type": "stream",
     "text": [
      "    LName  StudentID  GPA\n",
      "0   Jones     111111  3.8\n",
      "1  Caldin     123456  3.6\n",
      "2   Smith     246002  3.5\n"
     ]
    }
   ],
   "source": [
    "students_dict = {'LName': ['Jones', 'Caldin', 'Smith'], 'StudentID': [111111, 123456, 246002], 'GPA': [3.8, 3.6, 3.5]}\n",
    "students = pd.DataFrame(students_dict)\n",
    "print(students)"
   ]
  },
  {
   "cell_type": "code",
   "execution_count": 3,
   "metadata": {},
   "outputs": [
    {
     "name": "stdout",
     "output_type": "stream",
     "text": [
      "       Wally  Eva  Sam  Katie  Bob\n",
      "Text1     87  100   94    100   83\n",
      "Text2     96   87   77     81   65\n",
      "Text3     70   90   90     82   85\n"
     ]
    }
   ],
   "source": [
    "grades.index = ['Text1', 'Text2', 'Text3']\n",
    "print(grades)"
   ]
  },
  {
   "cell_type": "code",
   "execution_count": 4,
   "metadata": {},
   "outputs": [
    {
     "name": "stdout",
     "output_type": "stream",
     "text": [
      "Text1    100\n",
      "Text2     87\n",
      "Text3     90\n",
      "Name: Eva, dtype: int64\n"
     ]
    }
   ],
   "source": [
    "print(grades['Eva'])"
   ]
  },
  {
   "cell_type": "code",
   "execution_count": 5,
   "metadata": {},
   "outputs": [
    {
     "name": "stdout",
     "output_type": "stream",
     "text": [
      "0    111111\n",
      "1    123456\n",
      "2    246002\n",
      "Name: StudentID, dtype: int64\n",
      "0    111111\n",
      "1    123456\n",
      "2    246002\n",
      "Name: StudentID, dtype: int64\n"
     ]
    }
   ],
   "source": [
    "print(students['StudentID'])\n",
    "print(students.StudentID)"
   ]
  },
  {
   "cell_type": "code",
   "execution_count": 7,
   "metadata": {},
   "outputs": [
    {
     "name": "stdout",
     "output_type": "stream",
     "text": [
      "Wally     87\n",
      "Eva      100\n",
      "Sam       94\n",
      "Katie    100\n",
      "Bob       83\n",
      "Name: Text1, dtype: int64\n"
     ]
    }
   ],
   "source": [
    "print(grades.loc['Text1'])"
   ]
  },
  {
   "cell_type": "code",
   "execution_count": 8,
   "metadata": {},
   "outputs": [
    {
     "name": "stdout",
     "output_type": "stream",
     "text": [
      "Wally    96\n",
      "Eva      87\n",
      "Sam      77\n",
      "Katie    81\n",
      "Bob      65\n",
      "Name: Text2, dtype: int64\n"
     ]
    }
   ],
   "source": [
    "print(grades.iloc[1])"
   ]
  },
  {
   "cell_type": "code",
   "execution_count": 9,
   "metadata": {},
   "outputs": [
    {
     "name": "stdout",
     "output_type": "stream",
     "text": [
      "       Wally  Eva  Sam  Katie  Bob\n",
      "Text1     87  100   94    100   83\n",
      "Text2     96   87   77     81   65\n",
      "Text3     70   90   90     82   85\n"
     ]
    }
   ],
   "source": [
    "print(grades.loc['Text1': 'Text3'])  # second index is included"
   ]
  },
  {
   "cell_type": "code",
   "execution_count": 10,
   "metadata": {},
   "outputs": [
    {
     "name": "stdout",
     "output_type": "stream",
     "text": [
      "       Wally  Eva  Sam  Katie  Bob\n",
      "Text1     87  100   94    100   83\n",
      "Text2     96   87   77     81   65\n"
     ]
    }
   ],
   "source": [
    "print(grades.iloc[0:2])  # second index is excluded"
   ]
  },
  {
   "cell_type": "code",
   "execution_count": 12,
   "metadata": {},
   "outputs": [
    {
     "name": "stdout",
     "output_type": "stream",
     "text": [
      "       Eva  Bob\n",
      "Text1  100   83\n",
      "Text2   87   65\n"
     ]
    }
   ],
   "source": [
    "print(grades.loc['Text1': 'Text2', ['Eva', 'Bob']])\n"
   ]
  },
  {
   "cell_type": "code",
   "execution_count": 14,
   "metadata": {},
   "outputs": [
    {
     "name": "stdout",
     "output_type": "stream",
     "text": [
      "       Wally  Eva  Sam\n",
      "Text1     87  100   94\n",
      "Text2     96   87   77\n",
      "Text3     70   90   90\n"
     ]
    }
   ],
   "source": [
    "print(grades.iloc[:, 0:3])"
   ]
  }
 ],
 "metadata": {
  "kernelspec": {
   "display_name": "cse532",
   "language": "python",
   "name": "python3"
  },
  "language_info": {
   "codemirror_mode": {
    "name": "ipython",
    "version": 3
   },
   "file_extension": ".py",
   "mimetype": "text/x-python",
   "name": "python",
   "nbconvert_exporter": "python",
   "pygments_lexer": "ipython3",
   "version": "3.11.7"
  }
 },
 "nbformat": 4,
 "nbformat_minor": 2
}
