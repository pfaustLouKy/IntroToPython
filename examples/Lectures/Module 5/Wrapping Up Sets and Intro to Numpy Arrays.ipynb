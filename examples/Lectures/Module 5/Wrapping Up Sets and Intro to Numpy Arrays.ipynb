{
 "cells": [
  {
   "cell_type": "markdown",
   "metadata": {
    "slideshow": {
     "slide_type": "slide"
    }
   },
   "source": [
    "## What We Looked At Last Time\n",
    "* We wrapped up our discussion of dictionaries.\n",
    "* We introduced sets and their operations in great detail.\n",
    "* We demonstrated that sets have utility outside comparisons (ex: remove duplicates within a list)  "
   ]
  },
  {
   "cell_type": "markdown",
   "metadata": {
    "slideshow": {
     "slide_type": "subslide"
    }
   },
   "source": [
    "## What We'll Look At Today\n",
    "* We'll wrap up our discussion of sets.\n",
    "* We'll introduce NumPy arrays, which are pivotal to efficient computation in Python."
   ]
  },
  {
   "cell_type": "markdown",
   "metadata": {
    "slideshow": {
     "slide_type": "slide"
    }
   },
   "source": [
    "### Searching in and Comparing Sets\n",
    "* As with lists, `in` can be used to see if a set has a particular item.\n",
    "* `==` holds true for sets that have the same elements.\n",
    "* `<=` tests whether the set to its left is a **subset** of the one to its right: that is, all the elements in the left operand are in the right operand.\n",
    "* `<` tests whether the set to its left is a **proper subset** of the one to its right: that is, all the elements in the left operand are in the right operand, and **the sets are not equal**."
   ]
  },
  {
   "cell_type": "code",
   "execution_count": null,
   "metadata": {},
   "outputs": [],
   "source": [
    "cslist = [] #We're going to create a list of sets.\n",
    "cslist.append({'red','blue','yellow'}) #primary colors\n",
    "cslist.append({'purple','orange','green'}) #secondary colors\n",
    "cslist.append({'yellow','blue','red','yellow'}) #Same elements as #1, but in a different order + duplicate \n",
    "cslist.append(cslist[0].union(cslist[1])) #all primary and secondary colors \n",
    "print(cslist)"
   ]
  },
  {
   "cell_type": "code",
   "execution_count": null,
   "metadata": {
    "slideshow": {
     "slide_type": "subslide"
    }
   },
   "outputs": [],
   "source": [
    "#Check if string 'orange' is in each set\n",
    "for colset in cslist:\n",
    "    print(f'\\'orange\\' in {colset}? ', 'orange' in colset) \n"
   ]
  },
  {
   "cell_type": "code",
   "execution_count": null,
   "metadata": {
    "slideshow": {
     "slide_type": "-"
    }
   },
   "outputs": [],
   "source": [
    "#Determine if first set is equal to each set\n",
    "for colset in cslist:\n",
    "    print(f'{cslist[0]} == {colset}? ', cslist[0] == colset) "
   ]
  },
  {
   "cell_type": "code",
   "execution_count": null,
   "metadata": {
    "scrolled": true,
    "slideshow": {
     "slide_type": "subslide"
    }
   },
   "outputs": [],
   "source": [
    "#Determine if first set is a subset of each set.\n",
    "for colset in cslist:\n",
    "    print(f'{cslist[0]} <= {colset}? ', cslist[0] <= colset) "
   ]
  },
  {
   "cell_type": "code",
   "execution_count": null,
   "metadata": {},
   "outputs": [],
   "source": [
    "#Determine if first set is a proper subset of each set.\n",
    "for colset in cslist:\n",
    "    print(f'{cslist[0]} < {colset}? ', cslist[0] < colset) "
   ]
  },
  {
   "cell_type": "markdown",
   "metadata": {
    "slideshow": {
     "slide_type": "subslide"
    }
   },
   "source": [
    "### Other Common Set Operations\n",
    "* `!=` holds true if two sets do not have the exact same elements.\n",
    "* `>=` is the superset operator (left operand has all elements of the right)\n",
    "* `>` is the proper superset operator (left operand has all elements of the right and they are not equal)\n",
    "* `issubset` can be substituted for `<=` and `issuperset` can be substituted for `>=`.  "
   ]
  },
  {
   "cell_type": "code",
   "execution_count": null,
   "metadata": {},
   "outputs": [],
   "source": [
    "#Determine if fourth set is not-equal to each set\n",
    "for colset in cslist:\n",
    "    print(f'{cslist[3]} != {colset}? ', cslist[3] != colset) "
   ]
  },
  {
   "cell_type": "code",
   "execution_count": null,
   "metadata": {
    "slideshow": {
     "slide_type": "subslide"
    }
   },
   "outputs": [],
   "source": [
    "#Determine if fourth set is superset to each set\n",
    "for colset in cslist:\n",
    "    print(f'{cslist[3]} >= {colset}? ', cslist[3] >= colset) "
   ]
  },
  {
   "cell_type": "code",
   "execution_count": null,
   "metadata": {},
   "outputs": [],
   "source": [
    "#Determine if fourth set is proper superset of each set\n",
    "for colset in cslist:\n",
    "    print(f'{cslist[3]} > {colset}? ', cslist[3] > colset) "
   ]
  },
  {
   "cell_type": "markdown",
   "metadata": {
    "slideshow": {
     "slide_type": "subslide"
    }
   },
   "source": [
    "### The Value of `issubset` and `issuperset`\n",
    "* Unless proper subset (<) or superset (>) are required, using methods `issubset` and `issuperset` are preferred.\n",
    "    * For one the argument to `issubset` or `issuperset` can be _any_ iterable (which is then converted to a set.)\n",
    "    * Secondly, the `issubset` and `issuperset` implementations are purportedly a bit more efficient. "
   ]
  },
  {
   "cell_type": "code",
   "execution_count": null,
   "metadata": {},
   "outputs": [],
   "source": [
    "#Make sure you understand the logic behind the below\n",
    "somenums={1, 2, 3}\n",
    "print(somenums.issubset([1, 2, 3, 7]))\n",
    "print(somenums.issuperset([1, 2, 2, 1]))\n",
    "print(somenums.issubset([3, 2, 1]))"
   ]
  },
  {
   "cell_type": "markdown",
   "metadata": {
    "slideshow": {
     "slide_type": "slide"
    }
   },
   "source": [
    "### Mutable Set Operators and Methods\n",
    "\n",
    "* Python provides a few more \"shortcuts\" to modify a set based on particular comparisons to another set (s and t must be sets).\n",
    "    * `s|=t` performs **union-in-place**: s is replaced by _s.union(t)_\n",
    "    * `s&=t` performs **intersection-in-place**: s is replaced by _s.intersection(t)_\n",
    "    * `s-=t` performs **difference-in-place**: s is replaced by _s.difference(t)_\n",
    "    * `s^=t` performs **symmetric-difference-in-place**: s is replaced by _s.symmetric_difference(t)_\n",
    "* While these operators lead to more compact code, they may be less readable to those less proficient in Python.\n",
    "    "
   ]
  },
  {
   "cell_type": "code",
   "execution_count": null,
   "metadata": {
    "slideshow": {
     "slide_type": "subslide"
    }
   },
   "outputs": [],
   "source": [
    "mult2 = {2, 4, 6, 8, 10, 12}\n",
    "mult3 = {3, 6, 9, 12, 15, 18}\n",
    "mult2 |= mult3 #mult2 now has the union of mult2 and mult3\n",
    "print(mult2)"
   ]
  },
  {
   "cell_type": "code",
   "execution_count": null,
   "metadata": {},
   "outputs": [],
   "source": [
    "mult2 = {2, 4, 6, 8, 10, 12}\n",
    "mult3 = {3, 6, 9, 12, 15, 18}\n",
    "mult2 &= mult3 #mult2 now has the intersection of mult2 and mult3\n",
    "print(mult2)"
   ]
  },
  {
   "cell_type": "code",
   "execution_count": null,
   "metadata": {},
   "outputs": [],
   "source": [
    "mult2 = {2, 4, 6, 8, 10, 12}\n",
    "mult3 = {3, 6, 9, 12, 15, 18}\n",
    "mult2 -= mult3 #mult2 now has the difference of mult2 and mult3\n",
    "print(mult2)"
   ]
  },
  {
   "cell_type": "code",
   "execution_count": null,
   "metadata": {
    "slideshow": {
     "slide_type": "subslide"
    }
   },
   "outputs": [],
   "source": [
    "mult2 = {2, 4, 6, 8, 10, 12}\n",
    "mult3 = {3, 6, 9, 12, 15, 18}\n",
    "mult2 ^= mult3 #mult2 now has the symmetric difference of mult2 and mult3\n",
    "print(mult2)"
   ]
  },
  {
   "cell_type": "markdown",
   "metadata": {
    "slideshow": {
     "slide_type": "slide"
    }
   },
   "source": [
    "### Frozenset: An Immutable Set Type\n",
    "* **Basic sets are _mutable_**.\n",
    "* **Set _elements_ must be _immutable_**; therefore, a set cannot have other sets as elements.\n",
    "* A **frozenset** is an _immutable_ set—it cannot be modified after you create it, so a set _can_ contain frozensets as elements. \n",
    "* The built-in function **`frozenset`** creates a frozenset from any iterable. "
   ]
  },
  {
   "cell_type": "code",
   "execution_count": null,
   "metadata": {
    "slideshow": {
     "slide_type": "subslide"
    }
   },
   "outputs": [],
   "source": [
    "#This code will produce an \"unhashable type\" error\n",
    "compset = {{1,2,3},{5,3,1},{1, 3, 7}}"
   ]
  },
  {
   "cell_type": "code",
   "execution_count": null,
   "metadata": {},
   "outputs": [],
   "source": [
    "#Creating a set of sets and testing for membership\n",
    "compset = {frozenset({1,2,3}),frozenset({5,3,1}),frozenset({1, 3, 7})}\n",
    "print(frozenset({3,2,1}) in compset)"
   ]
  },
  {
   "cell_type": "markdown",
   "metadata": {
    "slideshow": {
     "slide_type": "slide"
    }
   },
   "source": [
    "# Arrays-Oriented Programming "
   ]
  },
  {
   "cell_type": "markdown",
   "metadata": {
    "slideshow": {
     "slide_type": "subslide"
    }
   },
   "source": [
    "### **NumPy** (**Numerical Python**) Library\n",
    "* First appeared in 2006 and is the **preferred Python array implementation**.\n",
    "* High-performance, richly functional **_n_-dimensional array** type called **`ndarray`**. \n",
    "* **Written in C** and **up to 100 times faster than lists**.\n",
    "* Critical in big-data processing, AI applications and much more. \n",
    "* According to `libraries.io`, **over 450 Python libraries depend on NumPy**. \n",
    "* Many popular data science libraries such as Pandas, SciPy (Scientific Python) and Keras (for deep learning) are built on or depend on NumPy. "
   ]
  },
  {
   "cell_type": "markdown",
   "metadata": {
    "slideshow": {
     "slide_type": "subslide"
    }
   },
   "source": [
    "## Creating `array`s from Existing Data \n",
    "* NumPy arrays are often generated from existing data structures using the **`array`** function.  \n",
    "* The argument must be an `array` or other iterable.\n",
    "* The result is a **new** `array` containing the argument’s elements"
   ]
  },
  {
   "cell_type": "code",
   "execution_count": null,
   "metadata": {
    "slideshow": {
     "slide_type": "subslide"
    }
   },
   "outputs": [],
   "source": [
    "import numpy as np"
   ]
  },
  {
   "cell_type": "code",
   "execution_count": null,
   "metadata": {},
   "outputs": [],
   "source": [
    "myList = [2, 3, 5, 7, 11] \n",
    "myArray = np.array([2, 3, 5, 7, 11])\n",
    "print(type(myList))\n",
    "print(type(myArray))\n",
    "print(myList)\n",
    "print(myArray) #Note the print representation lacks commas."
   ]
  },
  {
   "cell_type": "markdown",
   "metadata": {
    "slideshow": {
     "slide_type": "slide"
    }
   },
   "source": [
    "## Array Basics\n",
    "* 2+ dimensional lists can also converted quickly to array-format using the `array` function.\n",
    "* For performance reasons, NumPy is written in the C programming language and uses C-based data types\n",
    "    * This means that matching data-types will appear differently (ex: different significant digits for decimals) when stored in a NumPy array. \n",
    "    * [Other NumPy types can be found here.](https://docs.scipy.org/doc/numpy/user/basics.types.html)\n",
    "    * Structured arrays permit more flexible array representations, but are not dealt with in this session.\n"
   ]
  },
  {
   "cell_type": "code",
   "execution_count": null,
   "metadata": {
    "slideshow": {
     "slide_type": "subslide"
    }
   },
   "outputs": [],
   "source": [
    "integers = np.array([[1, 2, 3], [4, 5, 6]])\n",
    "floats = np.array([0.0, 0.1, 0.2, 0.3, 0.4])\n",
    "print(integers)\n",
    "print(floats)\n"
   ]
  },
  {
   "cell_type": "markdown",
   "metadata": {
    "slideshow": {
     "slide_type": "slide"
    }
   },
   "source": [
    "### Determining `array` Properties\n",
    "* Using the Python function `type` will not display the data type stored in an array -- instead, the `.dtype` method must be called on the array. \n",
    "* `ndim` contains an `array`’s number of dimensions \n",
    "* `shape` contains a _tuple_ specifying an `array`’s dimensions"
   ]
  },
  {
   "cell_type": "code",
   "execution_count": null,
   "metadata": {},
   "outputs": [],
   "source": [
    "integers = np.array([[1, 2, 3], [4, 5, 6]])\n",
    "floats = np.array([0.0, 0.1, 0.2, 0.3, 0.4])\n",
    "print(type(integers))\n",
    "print(integers.dtype)\n",
    "print(floats.dtype)"
   ]
  },
  {
   "cell_type": "code",
   "execution_count": null,
   "metadata": {
    "slideshow": {
     "slide_type": "-"
    }
   },
   "outputs": [],
   "source": [
    "print(integers.ndim)\n",
    "print(floats.ndim)\n",
    "print(integers.shape)\n",
    "print(floats.shape) #Remember that 1d tuples always include a comma for distinction!"
   ]
  },
  {
   "cell_type": "markdown",
   "metadata": {
    "slideshow": {
     "slide_type": "slide"
    }
   },
   "source": [
    "### Iterating through a Multidimensional `array`’s Elements\n",
    "* Arrays are generally iterated through using `for` or `while` loops.\n",
    "* `.flat` will provide a flattened representation of an array.\n",
    "    * For a 2-d array, the 2nd \"row\" will be appended to the first, followed by the 3rd, etc.\n",
    "    * For larger arrays, concatenation takes place using a \"right-to-left\" priority by dimension.\n",
    "    "
   ]
  },
  {
   "cell_type": "code",
   "execution_count": null,
   "metadata": {
    "slideshow": {
     "slide_type": "subslide"
    }
   },
   "outputs": [],
   "source": [
    "for row in integers:\n",
    "    for column in row:\n",
    "        print(column, end='  ')\n",
    "    print() "
   ]
  },
  {
   "cell_type": "code",
   "execution_count": null,
   "metadata": {},
   "outputs": [],
   "source": [
    "for i in integers.flat:\n",
    "    print(i, end='  ')"
   ]
  },
  {
   "cell_type": "markdown",
   "metadata": {
    "slideshow": {
     "slide_type": "slide"
    }
   },
   "source": [
    "# Filling `array`s with Specific Values\n",
    "* Functions `zeros` or  `ones` will create an array with a shape corresponding to a given tuple (or 1-d array if a single number is provided) \n",
    "* `full` creates an `array` containing a value specified as a second argument.\n",
    "* Only integers are permitted for the array shape parameter, but any numeric type is suitable for `full`'s second parameter."
   ]
  },
  {
   "cell_type": "code",
   "execution_count": null,
   "metadata": {
    "slideshow": {
     "slide_type": "subslide"
    }
   },
   "outputs": [],
   "source": [
    "arr0s = np.zeros(5)\n",
    "arr1s = np.ones((3,4))\n",
    "arrvals = np.full((2,3),5.5)\n",
    "print(arr0s)\n",
    "print()\n",
    "print(arr1s)\n",
    "print()\n",
    "print(arrvals)\n"
   ]
  },
  {
   "cell_type": "markdown",
   "metadata": {
    "slideshow": {
     "slide_type": "slide"
    }
   },
   "source": [
    "# Creating `array`s from Ranges \n",
    "* NumPy provides optimized functions for creating `array`s from ranges\n",
    "* The `arange` method has similar operation to `range`, but produces a 1-dimensional array.\n",
    "* `linspace` creates a 1-dimensional array of floating-point values from the 1st argument to the 2nd, uniformly spaced to represent a number of values by the 3rd argument.\n",
    "    * Unlike `range` or `arange`, both starting and ending points _are included_ when `linspace` is used."
   ]
  },
  {
   "cell_type": "code",
   "execution_count": null,
   "metadata": {
    "slideshow": {
     "slide_type": "subslide"
    }
   },
   "outputs": [],
   "source": [
    "print(np.arange(5))\n",
    "print(np.arange(5,10))\n",
    "print(np.arange(10,1,-2))"
   ]
  },
  {
   "cell_type": "code",
   "execution_count": null,
   "metadata": {
    "slideshow": {
     "slide_type": "-"
    }
   },
   "outputs": [],
   "source": [
    "print(np.linspace(0.0, 1.0, num=5))"
   ]
  },
  {
   "cell_type": "markdown",
   "metadata": {
    "slideshow": {
     "slide_type": "slide"
    }
   },
   "source": [
    "### Reshaping an `array` \n",
    "* The `array` method **`reshape`** transforms an array into different number of dimensions\n",
    "* The new shape must have the **same** number of elements as the original"
   ]
  },
  {
   "cell_type": "code",
   "execution_count": null,
   "metadata": {},
   "outputs": [],
   "source": [
    "print(np.arange(1,13))\n",
    "print(np.arange(1,13).reshape(3,4))"
   ]
  },
  {
   "cell_type": "markdown",
   "metadata": {
    "slideshow": {
     "slide_type": "slide"
    }
   },
   "source": [
    "### Large `array`s and Display \n",
    "* When displaying an `array`, if there are 1000 items or more, NumPy drops the middle rows, columns or both from the output"
   ]
  },
  {
   "cell_type": "code",
   "execution_count": null,
   "metadata": {},
   "outputs": [],
   "source": [
    "import numpy as np\n",
    "print(np.arange(1, 100001).reshape(4, 25000))"
   ]
  },
  {
   "cell_type": "code",
   "execution_count": null,
   "metadata": {},
   "outputs": [],
   "source": [
    "np.arange(1, 100001).reshape(100, 1000)"
   ]
  },
  {
   "cell_type": "code",
   "execution_count": null,
   "metadata": {
    "slideshow": {
     "slide_type": "notes"
    }
   },
   "outputs": [],
   "source": [
    "from datetime import datetime\n",
    "from time import sleep\n",
    "start=datetime.now()\n",
    "sleep(1)\n",
    "end=datetime.now()\n",
    "print((end-start).total_seconds())\n",
    "print(type(end-start))"
   ]
  },
  {
   "cell_type": "markdown",
   "metadata": {
    "slideshow": {
     "slide_type": "slide"
    }
   },
   "source": [
    "## List vs. `array` Performance: Introducing `datetime` \n",
    "* Most `array` operations execute **significantly** faster than corresponding list operations\n",
    "* The `datetime` library includes all sorts of functionality related to measuring, displaying, and converting absolute times and durations.\n",
    "* We can create an object that provides a microsecond-precise measurement of the _current_ time using `datetime.now()`\n"
   ]
  },
  {
   "cell_type": "code",
   "execution_count": null,
   "metadata": {},
   "outputs": [],
   "source": [
    "from datetime import datetime\n",
    "print(datetime.now())\n",
    "print(type(datetime.now()))"
   ]
  },
  {
   "cell_type": "markdown",
   "metadata": {
    "slideshow": {
     "slide_type": "subslide"
    }
   },
   "source": [
    "### Using `datetime` to Measure Durations. \n",
    "* If we determine the time _before_ and _after_ an operation(s) we're interested in, we can measure the corresponding execution time.\n",
    "* The object return by an arithmetic operation (ex: subtraction) using `datetime` objects is a `timedelta`, which measures duration.\n",
    "* The `timedelta` class has a method `total_seconds()` which returns a string representation of the duration in seconds."
   ]
  },
  {
   "cell_type": "code",
   "execution_count": null,
   "metadata": {
    "slideshow": {
     "slide_type": "subslide"
    }
   },
   "outputs": [],
   "source": [
    "from time import sleep\n",
    "start=datetime.now()\n",
    "sleep(1)\n",
    "end=datetime.now()\n",
    "print((end-start).total_seconds())\n",
    "print(type(end-start))"
   ]
  },
  {
   "cell_type": "markdown",
   "metadata": {
    "slideshow": {
     "slide_type": "subslide"
    }
   },
   "source": [
    "### Timing the Creation of a List and an Array Containing Results of 6,000,000 Die Rolls \n",
    "* We will use the `timedelta` approach from above to compute the time taken to generate a list with 6 million die rolls, and then an array with 6-million die rolls.\n",
    "    * The list generation will use standard list comprehension.\n",
    "    * The array will be built using the NumPy `random.randint` function, which fills a 1-dimensional array with random integers from the first parameter to the second-parameter (not inclusive), a total number of times equal to the third parameter."
   ]
  },
  {
   "cell_type": "code",
   "execution_count": null,
   "metadata": {
    "slideshow": {
     "slide_type": "subslide"
    }
   },
   "outputs": [],
   "source": [
    "import random\n",
    "start=datetime.now()\n",
    "randrolls=[random.randrange(1,7) for i in range(0,6_000_000)]\n",
    "end=datetime.now()\n",
    "print((end-start).total_seconds())"
   ]
  },
  {
   "cell_type": "code",
   "execution_count": null,
   "metadata": {
    "slideshow": {
     "slide_type": "fragment"
    }
   },
   "outputs": [],
   "source": [
    "start=datetime.now()\n",
    "rolls_array = np.random.randint(1, 7, 6_000_000)\n",
    "end=datetime.now()\n",
    "print((end-start).total_seconds())\n"
   ]
  },
  {
   "cell_type": "markdown",
   "metadata": {
    "slideshow": {
     "slide_type": "subslide"
    }
   },
   "source": [
    "### 60,000,000 and 600,000,000 Die Rolls  \n",
    "* Generating a list of 60 million or 600 million die rolls would be quite slow.\n",
    "* Both are quite fast with NumPy generation, however."
   ]
  },
  {
   "cell_type": "code",
   "execution_count": null,
   "metadata": {},
   "outputs": [],
   "source": [
    "start=datetime.now()\n",
    "rolls_array = np.random.randint(1, 7, 60_000_000)\n",
    "end=datetime.now()\n",
    "print((end-start).total_seconds())"
   ]
  },
  {
   "cell_type": "code",
   "execution_count": null,
   "metadata": {},
   "outputs": [],
   "source": [
    "start=datetime.now()\n",
    "rolls_array = np.random.randint(1, 7, 600_000_000)\n",
    "end=datetime.now()\n",
    "print((end-start).total_seconds())"
   ]
  }
 ],
 "metadata": {
  "celltoolbar": "Slideshow",
  "kernelspec": {
   "display_name": "Python 3 (ipykernel)",
   "language": "python",
   "name": "python3"
  },
  "language_info": {
   "codemirror_mode": {
    "name": "ipython",
    "version": 3
   },
   "file_extension": ".py",
   "mimetype": "text/x-python",
   "name": "python",
   "nbconvert_exporter": "python",
   "pygments_lexer": "ipython3",
   "version": "3.10.8"
  }
 },
 "nbformat": 4,
 "nbformat_minor": 4
}
