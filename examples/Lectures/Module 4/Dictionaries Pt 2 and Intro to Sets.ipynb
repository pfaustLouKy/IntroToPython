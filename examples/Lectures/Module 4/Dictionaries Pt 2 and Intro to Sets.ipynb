{
 "cells": [
  {
   "cell_type": "markdown",
   "metadata": {
    "slideshow": {
     "slide_type": "slide"
    }
   },
   "source": [
    "## What We Looked At Last Time\n",
    "* We looked at 2D lists.\n",
    "* We introduced Seaborne in the context of creating some simple plots.\n",
    "* We introduced the Python dictionary object."
   ]
  },
  {
   "cell_type": "markdown",
   "metadata": {
    "slideshow": {
     "slide_type": "subslide"
    }
   },
   "source": [
    "## What We'll Look At Today\n",
    "* We'll wrap up our discussion of dictionaries.\n",
    "* We'll introduce (and mostly finish up) sets.\n",
    "* We'll look at the Counter class in Python, which can help us in basic counting tasks."
   ]
  },
  {
   "cell_type": "markdown",
   "metadata": {
    "slideshow": {
     "slide_type": "slide"
    }
   },
   "source": [
    "### Testing Whether a Dictionary Contains a Specified Key\n",
    "* We can use the familiar `in` to check whether a given key exists in a dictionary.\n",
    "* Note that this will _not_ work for verifying if a specific value is present.\n",
    "* We can, however, use the method `values` to return an iterable of type `dict_values` and test these for a specific value. "
   ]
  },
  {
   "cell_type": "code",
   "execution_count": null,
   "metadata": {},
   "outputs": [],
   "source": [
    "days_per_month = {'January':31, 'February':28, 'March': 31}\n",
    "print('January' in days_per_month)\n",
    "print('August' in days_per_month)\n",
    "print(31 in days_per_month)"
   ]
  },
  {
   "cell_type": "code",
   "execution_count": null,
   "metadata": {},
   "outputs": [],
   "source": [
    "print(31 in days_per_month.values())\n",
    "print(days_per_month.values())"
   ]
  },
  {
   "cell_type": "markdown",
   "metadata": {
    "slideshow": {
     "slide_type": "subslide"
    }
   },
   "source": [
    "### Dictionary Views\n",
    "* Methods `items`, `keys` and `values` each return a **view** of a dictionary’s data. \n",
    "* When you iterate over a **`view`**, it “sees” the dictionary’s **current contents**—it does **not** have its own copy of the data.\n",
    "* This bears some similarity to lazy evaluation -- but it's really closer to having a \"cursor\" perspective on the dictionary."
   ]
  },
  {
   "cell_type": "markdown",
   "metadata": {
    "slideshow": {
     "slide_type": "slide"
    }
   },
   "source": [
    "### Converting Dictionary Keys, Values and Key–Value Pairs to Lists\n",
    "* The function `list` is a **constructor**.\n",
    "* A constructor takes an argument (or possibly no arguments at all) and creates a new object of the type associated with the constructor name (i.e. in this case \"list\")\n",
    "* The `list` constructor can take any iterable object (tuple, string, even dictionary-based iterables)"
   ]
  },
  {
   "cell_type": "code",
   "execution_count": null,
   "metadata": {},
   "outputs": [],
   "source": [
    "empty_list = []\n",
    "print(empty_list)"
   ]
  },
  {
   "cell_type": "code",
   "execution_count": null,
   "metadata": {},
   "outputs": [],
   "source": [
    "months = {'January':1,'February':2,'March':3}\n",
    "monthnames=list(months.keys())\n",
    "print(monthnames)\n"
   ]
  },
  {
   "cell_type": "code",
   "execution_count": null,
   "metadata": {},
   "outputs": [],
   "source": [
    "monthnums=list(months.values())\n",
    "print(monthnums)"
   ]
  },
  {
   "cell_type": "code",
   "execution_count": null,
   "metadata": {},
   "outputs": [],
   "source": [
    "month_tlist = list(months.items())\n",
    "print(month_tlist)"
   ]
  },
  {
   "cell_type": "markdown",
   "metadata": {
    "slideshow": {
     "slide_type": "subslide"
    }
   },
   "source": [
    "### Processing Keys in Sorted Order \n",
    "* The safest way to retrieve keys in sorted order is to run the `sorted` function on the keys, which will return an in-order iterable based on element type.\n",
    "* We can use the same strategy to obtain values corresponding to the sorted key order."
   ]
  },
  {
   "cell_type": "code",
   "execution_count": null,
   "metadata": {},
   "outputs": [],
   "source": [
    "#Print the months in alphabetical order\n",
    "for month_name in sorted(months.keys()):\n",
    "     print(month_name, end='  ')"
   ]
  },
  {
   "cell_type": "code",
   "execution_count": null,
   "metadata": {},
   "outputs": [],
   "source": [
    "#Print the values corresponding to this sorted order.\n",
    "for month_name in sorted(months.keys()): \n",
    "     print(months[month_name], end='  ')"
   ]
  },
  {
   "cell_type": "markdown",
   "metadata": {
    "slideshow": {
     "slide_type": "slide"
    }
   },
   "source": [
    "## Dictionary Comparisons\n",
    "* `==` is `True` if both dictionaries have the same key–value pairs, **_regardless_ of the order in which those key–value pairs were added to each dictionary**."
   ]
  },
  {
   "cell_type": "code",
   "execution_count": null,
   "metadata": {
    "slideshow": {
     "slide_type": "-"
    }
   },
   "outputs": [],
   "source": [
    "country_capitals1 = {'Belgium': 'Brussels',\n",
    "                     'Haiti': 'Port-au-Prince'}\n",
    "\n",
    "country_capitals2 = {'Nepal': 'Kathmandu',\n",
    "                     'Uruguay': 'Montevideo'}\n",
    "\n",
    "country_capitals3 = {'Haiti': 'Port-au-Prince',\n",
    "                     'Belgium': 'Brussels'}\n",
    "                        "
   ]
  },
  {
   "cell_type": "code",
   "execution_count": null,
   "metadata": {},
   "outputs": [],
   "source": [
    "print(country_capitals1 == country_capitals2)\n",
    "print(country_capitals1 == country_capitals3)\n",
    "print(country_capitals2 == country_capitals3)\n"
   ]
  },
  {
   "cell_type": "markdown",
   "metadata": {
    "slideshow": {
     "slide_type": "slide"
    }
   },
   "source": [
    "## Example: Dictionary of Student Grades\n",
    "* Remember that dictionary values can themselves consist of compound objects.\n",
    "* Below is a script with a dictionary that represents an instructor’s grade book. \n",
    "* It maps each student’s name (a string) to a list of integers containing that student’s grades on three exams.  \n",
    "* We can easily write a script to compute and print each student's grade average as well as the overall average."
   ]
  },
  {
   "cell_type": "code",
   "execution_count": null,
   "metadata": {
    "slideshow": {
     "slide_type": "subslide"
    }
   },
   "outputs": [],
   "source": [
    "\"\"\"Using a dictionary to represent an instructor's grade book.\"\"\"\n",
    "grade_book = {            \n",
    "    'Susan': [92, 85, 100], \n",
    "    'Eduardo': [83, 95, 79],\n",
    "    'Azizi': [91, 89, 82],  \n",
    "    'Pantipa': [97, 91, 92] \n",
    "}"
   ]
  },
  {
   "cell_type": "code",
   "execution_count": null,
   "metadata": {},
   "outputs": [],
   "source": [
    "all_grades_total = 0\n",
    "all_grades_count = 0\n",
    "\n",
    "for name, grades in grade_book.items():\n",
    "    total = sum(grades)\n",
    "    print(f'The average for {name} is {total/len(grades):.2f}')\n",
    "    all_grades_total += total\n",
    "    all_grades_count += len(grades)\n",
    "    \n",
    "print(f\"The class average is: {all_grades_total / all_grades_count:.2f}\")\n",
    "print(all_grades_total)\n",
    "print(all_grades_count)"
   ]
  },
  {
   "cell_type": "markdown",
   "metadata": {
    "slideshow": {
     "slide_type": "slide"
    }
   },
   "source": [
    "## Example: Word Counts\n",
    "* Counting is a process easily accomodated with dictionaries.\n",
    "    * When a new element (word, number, etc.) is encountered, a new key-value pair is created with the element as the key, and initial quantity of 1 being the value.\n",
    "    * When an already seen key is encountered, its associated value is incremented by 1.\n",
    "* Below is a script that builds a dictionary to count the number of occurrences of each word in a string. \n",
    "* The `split` method is used to create an iterable that separates words in the text by white-space."
   ]
  },
  {
   "cell_type": "code",
   "execution_count": null,
   "metadata": {
    "slideshow": {
     "slide_type": "subslide"
    }
   },
   "outputs": [],
   "source": [
    "text = ('this is sample text with several words with letters'\n",
    "        'this is more sample text with some different words with letters')\n",
    "\n",
    "word_counts = {}\n",
    "\n",
    "# count occurrences of each unique word\n",
    "for word in text.split():\n",
    "    if word in word_counts: \n",
    "        word_counts[word] += 1  # update existing key-value pair\n",
    "    else:\n",
    "        word_counts[word] = 1  # insert new key-value pair\n",
    "\n",
    "print(f'{\"WORD\":<12}COUNT')\n",
    "\n",
    "for word, count in sorted(word_counts.items()):\n",
    "    print(f'{word:<12}{count}')\n",
    "\n",
    "print('\\nNumber of unique words:', len(word_counts))"
   ]
  },
  {
   "cell_type": "markdown",
   "metadata": {
    "slideshow": {
     "slide_type": "slide"
    }
   },
   "source": [
    "### Python Standard Library Class Counter\n",
    "* The Python Standard Library already contains the counting functionality shown above. \n",
    "* A **`Counter`** is a customized dictionary that receives an iterable and summarizes its elements. \n",
    "* This serves as another reminder that you may already find the functionality you need in Python with a little bit of effort  (AKA \"don't reinvent the wheel\")"
   ]
  },
  {
   "cell_type": "code",
   "execution_count": null,
   "metadata": {
    "slideshow": {
     "slide_type": "subslide"
    }
   },
   "outputs": [],
   "source": [
    "from collections import Counter\n",
    "text = ('this is sample text with several words with letters'\n",
    "        'this is more sample text with some different words with letters')\n",
    "counter = Counter(text.split())\n",
    "for word, count in sorted(counter.items()):\n",
    "    print(f'{word:<12}{count}') \n",
    "\n",
    "print('\\nNumber of unique words:', len(counter))"
   ]
  },
  {
   "cell_type": "markdown",
   "metadata": {
    "slideshow": {
     "slide_type": "slide"
    }
   },
   "source": [
    "## Dictionary Method `update` \n",
    "* `update` can insert and update key–value pairs.\n",
    "* `update` can receive an iterable object containing key–value pairs, such as a list of two-element tuples, and add each one in turn.\n",
    "* `update` can even use an existing dictionary as an argument"
   ]
  },
  {
   "cell_type": "code",
   "execution_count": null,
   "metadata": {
    "slideshow": {
     "slide_type": "subslide"
    }
   },
   "outputs": [],
   "source": [
    "country_codes = {}\n",
    "country_codes.update([('France','fr'),('Germany','de'),('Italy','it')])\n",
    "\n",
    "print(country_codes)"
   ]
  },
  {
   "cell_type": "code",
   "execution_count": null,
   "metadata": {},
   "outputs": [],
   "source": [
    "country_codes.update(Australia='ar') #But this value is incorrect.\n",
    "country_codes.update(Australia='au')\n",
    "print(country_codes)"
   ]
  },
  {
   "cell_type": "code",
   "execution_count": null,
   "metadata": {},
   "outputs": [],
   "source": [
    "country_codes.update({'South Africa': 'za', 'United States': 'us'})\n",
    "print(country_codes)"
   ]
  },
  {
   "cell_type": "markdown",
   "metadata": {
    "slideshow": {
     "slide_type": "slide"
    }
   },
   "source": [
    "## Dictionary Comprehensions\n",
    "* Dictionary comprehensions provide convenient notation for quickly generating dictionaries, often by **mapping** one dictionary to another. \n",
    "* The expression to the left of the `for` clause specifies a **key–value pair of the form _key_`:` _value_**. \n",
    "* In a dictionary with **_unique_ values**, you can **reverse** the key–value pair mappings. \n",
    "* A dictionary comprehension also can map a dictionary’s values to new values. "
   ]
  },
  {
   "cell_type": "code",
   "execution_count": null,
   "metadata": {
    "slideshow": {
     "slide_type": "subslide"
    }
   },
   "outputs": [],
   "source": [
    "months_namekey = {'January': 1, 'February': 2, 'March': 3}\n",
    "months_numkey = {number: name for name, number in months_namekey.items()}\n",
    "print(months_namekey)\n",
    "print(months_numkey)\n"
   ]
  },
  {
   "cell_type": "code",
   "execution_count": null,
   "metadata": {},
   "outputs": [],
   "source": [
    "grades = {'Sue': [98, 87, 94], 'Bob': [84, 95, 91]}\n",
    "gradesavg = {k: sum(v) / len(v) for k, v in grades.items()}\n",
    "print(gradesavg)"
   ]
  },
  {
   "cell_type": "markdown",
   "metadata": {
    "slideshow": {
     "slide_type": "slide"
    }
   },
   "source": [
    "# Sets\n",
    "* A set is an unordered collection of **unique values**. \n",
    "* May only contain **immutable objects**, like strings, `int`s, `float`s and tuples that contain only immutable elements. \n",
    "* Unlike lists, sets do not support indexing and slicing. \n",
    "* Set creation is similar to that of lists or tuples, but uses curly braces."
   ]
  },
  {
   "cell_type": "code",
   "execution_count": null,
   "metadata": {},
   "outputs": [],
   "source": [
    "odd_nums = {1, 3, 5 , 7, 9} #set of nums\n",
    "colors = {'red', 'orange', 'yellow', 'green', 'blue'} #set of strings\n",
    "coord2x2 = {(1,1),(1,2),(2,1),(2,2)} #set of tuples\n",
    "print(odd_nums);\n",
    "print(colors)\n",
    "print(coord2x2)"
   ]
  },
  {
   "cell_type": "markdown",
   "metadata": {
    "slideshow": {
     "slide_type": "subslide"
    }
   },
   "source": [
    "### More Set Details\n",
    "* The `len` function returns the number of elements in a set. \n",
    "* As with dictionaries, sets are intended to **unordered** structures, so try to stear clear of order-dependent code.\n",
    "* Because sets only have unique values, duplicates are ignored -- this makes sets ideal for eliminating duplicates from other structures."
   ]
  },
  {
   "cell_type": "code",
   "execution_count": null,
   "metadata": {},
   "outputs": [],
   "source": [
    "colors = {'blue','green','blue', 'red','yellow'} #the duplicate 'blue' is discarded\n",
    "print(colors) "
   ]
  },
  {
   "cell_type": "code",
   "execution_count": null,
   "metadata": {},
   "outputs": [],
   "source": [
    "print(len(colors))"
   ]
  },
  {
   "cell_type": "code",
   "execution_count": null,
   "metadata": {},
   "outputs": [],
   "source": [
    "for color in colors:\n",
    "    print(color.upper(), end=' ') "
   ]
  },
  {
   "cell_type": "markdown",
   "metadata": {
    "slideshow": {
     "slide_type": "subslide"
    }
   },
   "source": [
    "### Modifying and Combining Sets (I)\n",
    "* A single item can be added to a set using the `add` method.\n",
    "* `remove` will remove a single element from a set (no matter how many times it has been added!)\n",
    "* The `union` method will create a _new_ set consisting of the union of calling object and argument(s)\n",
    "* Likewise, `intersection` creates a new set consisting of objects that belong to all involved sets.\n",
    "\n"
   ]
  },
  {
   "cell_type": "code",
   "execution_count": null,
   "metadata": {
    "slideshow": {
     "slide_type": "subslide"
    }
   },
   "outputs": [],
   "source": [
    "colors.add('orange')\n",
    "print(colors)\n",
    "colors.add('yellow')\n",
    "print(colors)"
   ]
  },
  {
   "cell_type": "code",
   "execution_count": null,
   "metadata": {},
   "outputs": [],
   "source": [
    "colors.remove('yellow')\n",
    "print(colors)\n"
   ]
  },
  {
   "cell_type": "code",
   "execution_count": null,
   "metadata": {},
   "outputs": [],
   "source": [
    "colors.remove('grey') #Will provide a key error if element isn't present"
   ]
  },
  {
   "cell_type": "code",
   "execution_count": null,
   "metadata": {
    "slideshow": {
     "slide_type": "subslide"
    }
   },
   "outputs": [],
   "source": [
    "mult2 = {2, 4, 6, 8, 10, 12}\n",
    "mult3 = {3, 6, 9, 12}\n",
    "mult4 = {4, 8, 12}\n",
    "mult2or3or4=mult2.union(mult3,mult4) \n",
    "mult2and3and4=mult2.intersection(mult3,mult4)\n",
    "print(mult2or3or4) #Union of multiples of 2, 3, 4\n",
    "print(mult2and3and4) #Intersection of multiples of 2, 3, 4\n"
   ]
  },
  {
   "cell_type": "markdown",
   "metadata": {
    "slideshow": {
     "slide_type": "subslide"
    }
   },
   "source": [
    "### The `set` function\n",
    "* The `set` function can be used to create a set out of any iterable expression.\n",
    "* As expected, any duplicates will be removed during processing.\n",
    "* An **empty set** requires you to use `set()` instead of {}, because the latter is notation for a dictionary.\n",
    "* You can verify this is the case using the built-in `type` function"
   ]
  },
  {
   "cell_type": "code",
   "execution_count": null,
   "metadata": {},
   "outputs": [],
   "source": [
    "lofnumbers = list(range(2,6))\n",
    "lofnumbers.extend(list(range(4,8)))\n",
    "sofnumbers = set(lofnumbers)\n",
    "print(lofnumbers)\n",
    "print(sofnumbers)\n",
    "print(list(sofnumbers))\n"
   ]
  },
  {
   "cell_type": "code",
   "execution_count": null,
   "metadata": {
    "slideshow": {
     "slide_type": "subslide"
    }
   },
   "outputs": [],
   "source": [
    "eset_try1={}\n",
    "eset_try2=set()\n",
    "print(type(eset_try1))\n",
    "print(type(eset_try2))\n",
    "print(eset_try2)\n"
   ]
  },
  {
   "cell_type": "markdown",
   "metadata": {
    "slideshow": {
     "slide_type": "subslide"
    }
   },
   "source": [
    "### Modifying and Combining Sets (II)\n",
    "* Set comprehensions can be defined using curly braces and the familiar format.\n",
    "* Method `discard` will remove its argument from a set if present, or ignore it if not present. \n",
    "* The `difference` between two sets is a set consisting of the elements in the left operand that are not in the right operand. \n",
    "* The `symmetric_difference` between two sets is a set consisting of the elements of both sets that are not in common with one another. "
   ]
  },
  {
   "cell_type": "code",
   "execution_count": null,
   "metadata": {},
   "outputs": [],
   "source": [
    "#Set generation using comprehension\n",
    "counts = [1, 2, 2, 3, 5, 5, 6, 6, 7, 8, 9, 10, 10]\n",
    "evencountsunique = {item for item in counts if item % 2 == 0}\n",
    "print(evencountsunique)"
   ]
  },
  {
   "cell_type": "code",
   "execution_count": null,
   "metadata": {},
   "outputs": [],
   "source": [
    "colors = {'blue','green','red','yellow'}\n",
    "colors.discard('blue')\n",
    "colors.discard('purple') #This method call is ignored.\n",
    "print(colors)\n"
   ]
  },
  {
   "cell_type": "code",
   "execution_count": null,
   "metadata": {
    "slideshow": {
     "slide_type": "subslide"
    }
   },
   "outputs": [],
   "source": [
    "mult2 = {2, 4, 6, 8, 10, 12}\n",
    "mult3 = {3, 6, 9, 12}\n",
    "mult2not3 = mult2.difference(mult3)\n",
    "mult2comp3 = mult2.symmetric_difference(mult3)\n",
    "print(mult2not3)\n",
    "print(mult2comp3)"
   ]
  }
 ],
 "metadata": {
  "celltoolbar": "Slideshow",
  "kernelspec": {
   "display_name": "Python 3 (ipykernel)",
   "language": "python",
   "name": "python3"
  },
  "language_info": {
   "codemirror_mode": {
    "name": "ipython",
    "version": 3
   },
   "file_extension": ".py",
   "mimetype": "text/x-python",
   "name": "python",
   "nbconvert_exporter": "python",
   "pygments_lexer": "ipython3",
   "version": "3.10.8"
  }
 },
 "nbformat": 4,
 "nbformat_minor": 4
}
