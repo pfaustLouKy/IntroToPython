{
 "cells": [
  {
   "cell_type": "code",
   "execution_count": 7,
   "metadata": {},
   "outputs": [
    {
     "name": "stdout",
     "output_type": "stream",
     "text": [
      "1455709943040\n",
      "1455709943040\n",
      "1455696576768\n"
     ]
    }
   ],
   "source": [
    "numbers = [1, 2, 3]\n",
    "print(id(numbers))\n",
    "numbers.clear()\n",
    "print(id(numbers))\n",
    "numbers = []\n",
    "print(id(numbers))"
   ]
  },
  {
   "cell_type": "code",
   "execution_count": 8,
   "metadata": {},
   "outputs": [
    {
     "name": "stdout",
     "output_type": "stream",
     "text": [
      "My global var:  10\n"
     ]
    }
   ],
   "source": [
    "my_globalvar = 10\n",
    "\n",
    "def somefunction():\n",
    "    my_localvar = 5\n",
    "\n",
    "print(\"My global var: \", my_globalvar)\n",
    "#print(\"My local var: \", my_localvar)"
   ]
  },
  {
   "cell_type": "code",
   "execution_count": 9,
   "metadata": {},
   "outputs": [
    {
     "name": "stdout",
     "output_type": "stream",
     "text": [
      "Value inside function:  16\n"
     ]
    }
   ],
   "source": [
    "avar = 15\n",
    "\n",
    "def myfunction():\n",
    "    avar2 = avar + 1\n",
    "    print(\"Value inside function: \", avar2)\n",
    "\n",
    "myfunction()"
   ]
  },
  {
   "cell_type": "code",
   "execution_count": 10,
   "metadata": {},
   "outputs": [],
   "source": [
    "def modifyattempt():\n",
    "    avar = 5\n",
    "    print(\"Value inside function: \", avar)"
   ]
  },
  {
   "cell_type": "code",
   "execution_count": 11,
   "metadata": {},
   "outputs": [
    {
     "name": "stdout",
     "output_type": "stream",
     "text": [
      "Value inside function:  5\n",
      "Value outside function:  15\n"
     ]
    }
   ],
   "source": [
    "modifyattempt()\n",
    "print(\"Value outside function: \", avar)"
   ]
  },
  {
   "cell_type": "code",
   "execution_count": 12,
   "metadata": {},
   "outputs": [],
   "source": [
    "def modifyattemptV2():\n",
    "    avar = avar + 5"
   ]
  },
  {
   "cell_type": "code",
   "execution_count": 13,
   "metadata": {},
   "outputs": [
    {
     "ename": "UnboundLocalError",
     "evalue": "cannot access local variable 'avar' where it is not associated with a value",
     "output_type": "error",
     "traceback": [
      "\u001b[1;31m---------------------------------------------------------------------------\u001b[0m",
      "\u001b[1;31mUnboundLocalError\u001b[0m                         Traceback (most recent call last)",
      "Cell \u001b[1;32mIn[13], line 1\u001b[0m\n\u001b[1;32m----> 1\u001b[0m modifyattemptV2()\n",
      "Cell \u001b[1;32mIn[12], line 2\u001b[0m, in \u001b[0;36mmodifyattemptV2\u001b[1;34m()\u001b[0m\n\u001b[0;32m      1\u001b[0m \u001b[38;5;28;01mdef\u001b[39;00m \u001b[38;5;21mmodifyattemptV2\u001b[39m():\n\u001b[1;32m----> 2\u001b[0m     avar \u001b[38;5;241m=\u001b[39m avar \u001b[38;5;241m+\u001b[39m \u001b[38;5;241m5\u001b[39m\n",
      "\u001b[1;31mUnboundLocalError\u001b[0m: cannot access local variable 'avar' where it is not associated with a value"
     ]
    }
   ],
   "source": [
    "#modifyattemptV2()"
   ]
  },
  {
   "cell_type": "code",
   "execution_count": 14,
   "metadata": {},
   "outputs": [],
   "source": [
    "def modify_global():\n",
    "    global avar\n",
    "    avar = 30\n",
    "    print(f\"Variable assigned locally is {avar}.\")"
   ]
  },
  {
   "cell_type": "code",
   "execution_count": 15,
   "metadata": {},
   "outputs": [
    {
     "name": "stdout",
     "output_type": "stream",
     "text": [
      "Variable assigned locally is 30.\n",
      "Variable's global value remains 30.\n"
     ]
    }
   ],
   "source": [
    "modify_global()\n",
    "print(f\"Variable\\'s global value remains {avar}.\")"
   ]
  },
  {
   "cell_type": "code",
   "execution_count": 16,
   "metadata": {},
   "outputs": [],
   "source": [
    "def modify_globalV2():\n",
    "    global avar\n",
    "    avar = avar + 5\n",
    "    print(f\"Variable assigned locally is {avar}.\")"
   ]
  },
  {
   "cell_type": "code",
   "execution_count": 17,
   "metadata": {},
   "outputs": [
    {
     "name": "stdout",
     "output_type": "stream",
     "text": [
      "Variable assigned locally is 35.\n",
      "Variable's global value remains 35.\n"
     ]
    }
   ],
   "source": [
    "modify_globalV2()\n",
    "print(f\"Variable\\'s global value remains {avar}.\")"
   ]
  }
 ],
 "metadata": {
  "kernelspec": {
   "display_name": "cse532",
   "language": "python",
   "name": "python3"
  },
  "language_info": {
   "codemirror_mode": {
    "name": "ipython",
    "version": 3
   },
   "file_extension": ".py",
   "mimetype": "text/x-python",
   "name": "python",
   "nbconvert_exporter": "python",
   "pygments_lexer": "ipython3",
   "version": "3.11.7"
  }
 },
 "nbformat": 4,
 "nbformat_minor": 2
}
