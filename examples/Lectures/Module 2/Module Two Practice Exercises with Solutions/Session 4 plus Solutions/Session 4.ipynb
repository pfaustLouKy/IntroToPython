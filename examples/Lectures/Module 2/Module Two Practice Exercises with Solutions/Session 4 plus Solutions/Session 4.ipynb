{
 "cells": [
  {
   "cell_type": "markdown",
   "metadata": {
    "slideshow": {
     "slide_type": "slide"
    }
   },
   "source": [
    "## What We Looked At Last Time\n",
    "* We reviewed basic flow of control in imperative languages.\n",
    "* We introduced conditional statements (e.g. if-else) in Python\n",
    "* We introduced iterative statements (e.,g. while loop) in Python\n",
    "* We examined how suites and indentation direct statement activation in Python."
   ]
  },
  {
   "cell_type": "markdown",
   "metadata": {
    "slideshow": {
     "slide_type": "subslide"
    }
   },
   "source": [
    "## What We'll Look At Today\n",
    "* Today we'll look at a few other statements relevant to conditionals and loops.\n",
    "* We'll examine measures of central tendency and very basic statistics in Python.\n",
    "* We'll work through some exercises related to material from today and the previous session."
   ]
  },
  {
   "cell_type": "markdown",
   "metadata": {
    "slideshow": {
     "slide_type": "slide"
    }
   },
   "source": [
    "# `break` and `continue` Statements"
   ]
  },
  {
   "cell_type": "markdown",
   "metadata": {},
   "source": [
    "* Executing a `break` statement in a `while` or `for` immediately exits that statement. "
   ]
  },
  {
   "cell_type": "code",
   "execution_count": null,
   "metadata": {},
   "outputs": [],
   "source": [
    "for number in range(100):\n",
    "    if number == 10:\n",
    "        break\n",
    "    print(number, end=' ')"
   ]
  },
  {
   "cell_type": "markdown",
   "metadata": {
    "slideshow": {
     "slide_type": "subslide"
    }
   },
   "source": [
    "* Executing a `continue` statement in a `while` or `for` loop skips the remainder of the loop’s suite. \n",
    "    * In a `while`, the condition is then tested to determine whether the loop should continue executing. \n",
    "    * In a `for`, the loop processes the next item in the sequence (if any)"
   ]
  },
  {
   "cell_type": "code",
   "execution_count": null,
   "metadata": {},
   "outputs": [],
   "source": [
    "for number in range(10):\n",
    "    if number == 5:\n",
    "        continue\n",
    "    print(number, end=' ')"
   ]
  },
  {
   "cell_type": "markdown",
   "metadata": {
    "slideshow": {
     "slide_type": "slide"
    }
   },
   "source": [
    "# Boolean Operators `and`, `or` and `not` "
   ]
  },
  {
   "cell_type": "markdown",
   "metadata": {},
   "source": [
    "### Boolean Operator `and`\n",
    "* Ensure that two conditions are both `True` with the **Boolean `and` operator**. "
   ]
  },
  {
   "cell_type": "code",
   "execution_count": null,
   "metadata": {
    "slideshow": {
     "slide_type": "subslide"
    }
   },
   "outputs": [],
   "source": [
    "gender = 'F'"
   ]
  },
  {
   "cell_type": "code",
   "execution_count": null,
   "metadata": {},
   "outputs": [],
   "source": [
    "age = 70"
   ]
  },
  {
   "cell_type": "code",
   "execution_count": null,
   "metadata": {},
   "outputs": [],
   "source": [
    "if gender == 'F' and age >= 65:\n",
    "    print('The patient is a female senior citizen.')"
   ]
  },
  {
   "cell_type": "markdown",
   "metadata": {
    "slideshow": {
     "slide_type": "subslide"
    }
   },
   "source": [
    "* _Truth table_ for the `and` operator:\n",
    "\n",
    "expression1 | expression2 | expression1 `and` expression2\n",
    ":-------- | :-------- | :--------\n",
    "`False` \t| `False` \t| `False` \n",
    "`False` \t| `True`  \t| `False` \n",
    "`True`  \t| `False` \t| `False` \n",
    "`True`  \t| `True`  \t| `True`  "
   ]
  },
  {
   "cell_type": "markdown",
   "metadata": {
    "slideshow": {
     "slide_type": "subslide"
    }
   },
   "source": [
    "### Boolean Operator `or`\n",
    "* Ensure that one _or_ both of two conditions are `True` with the **Boolean `or` operator**."
   ]
  },
  {
   "cell_type": "code",
   "execution_count": null,
   "metadata": {},
   "outputs": [],
   "source": [
    "semester_average = 83"
   ]
  },
  {
   "cell_type": "code",
   "execution_count": null,
   "metadata": {},
   "outputs": [],
   "source": [
    "final_exam = 95"
   ]
  },
  {
   "cell_type": "code",
   "execution_count": null,
   "metadata": {},
   "outputs": [],
   "source": [
    "if semester_average >= 90 or final_exam >= 90:\n",
    "    print('Student gets an A')"
   ]
  },
  {
   "cell_type": "markdown",
   "metadata": {
    "slideshow": {
     "slide_type": "subslide"
    }
   },
   "source": [
    "* _Truth table_ for the `or` operator:\n",
    "\n",
    "expression1 | expression2 | expression1 or expression2\n",
    ":-------- | :-------- | :--------\n",
    "`False` \t| `False` \t| `False` \n",
    "`False` \t| `True` \t| `True` \n",
    "`True` \t| `False` \t| `True` \n",
    "`True` \t| `True` \t| `True` "
   ]
  },
  {
   "cell_type": "markdown",
   "metadata": {
    "slideshow": {
     "slide_type": "slide"
    }
   },
   "source": [
    "### Improving Performance with Short-Circuit Evaluation\n",
    "* Python stops evaluating an `and` expression as soon as it knows whether the entire condition is `False`. \n",
    "* Python stops evaluating an `or` expression as soon as it knows whether the entire condition is `True`. \n",
    "* In expressions that use `and`, make the condition that’s more likely to be `False` the leftmost condition.* \n",
    "* In `or` operator expressions, make the condition that’s more likely to be `True` the leftmost condition.*\n"
   ]
  },
  {
   "cell_type": "markdown",
   "metadata": {
    "slideshow": {
     "slide_type": "slide"
    }
   },
   "source": [
    "### Boolean Operator `not` \n",
    "* “Reverse” the meaning of a condition.\n",
    "* **Unary operator**—it has only _one_ operand. "
   ]
  },
  {
   "cell_type": "code",
   "execution_count": null,
   "metadata": {},
   "outputs": [],
   "source": [
    "grade = 87"
   ]
  },
  {
   "cell_type": "code",
   "execution_count": null,
   "metadata": {},
   "outputs": [],
   "source": [
    "if not grade == 100:\n",
    "    print('The student grade is not 100%.')"
   ]
  },
  {
   "cell_type": "code",
   "execution_count": null,
   "metadata": {},
   "outputs": [],
   "source": [
    "if grade != 100:\n",
    "    print('The student grade is not 100%.')"
   ]
  },
  {
   "cell_type": "markdown",
   "metadata": {
    "slideshow": {
     "slide_type": "subslide"
    }
   },
   "source": [
    "* Truth table for the `not` operator. \n",
    "\n",
    "expression | not expression\n",
    ":-------- | :---------\n",
    "`False` \t| `True` \n",
    "`True` \t| `False` "
   ]
  },
  {
   "cell_type": "markdown",
   "metadata": {
    "slideshow": {
     "slide_type": "slide"
    }
   },
   "source": [
    "* Precedence and grouping of standard operators in Python&mdash;shown in decreasing order of precedence. \n",
    "\n",
    "| Operators  | Grouping\n",
    "| :--------- | : ---------\n",
    "| `()` | left to right\n",
    "| `**` | right to left\n",
    "| `*` &nbsp;&nbsp;&nbsp; `/` &nbsp;&nbsp;&nbsp; `//` &nbsp;&nbsp;&nbsp;% | left to right\n",
    "| `+` &nbsp;&nbsp;&nbsp; `-` | left to right\n",
    "| `<` &nbsp;&nbsp;&nbsp; `<=` &nbsp;&nbsp;&nbsp; `>` &nbsp;&nbsp;&nbsp; `>=` &nbsp;&nbsp;&nbsp; `==` &nbsp;&nbsp;&nbsp; `!=` | left to right\n",
    "| `not` | left to  right\n",
    "| `and` | left to right\n",
    "| `or` | left to right"
   ]
  },
  {
   "cell_type": "markdown",
   "metadata": {
    "slideshow": {
     "slide_type": "subslide"
    }
   },
   "source": [
    "### /, //, and %\n",
    "* / indicates standard division -- it returns whole and/or decimal parts as needed. \n",
    "* // indicates floor division -- it returns the largest integer less than the quotient.   \n",
    "* % indicates the mod operator -- it returns the remainder of a division operation.\n"
   ]
  },
  {
   "cell_type": "code",
   "execution_count": null,
   "metadata": {},
   "outputs": [],
   "source": [
    "print(14/5)"
   ]
  },
  {
   "cell_type": "code",
   "execution_count": null,
   "metadata": {},
   "outputs": [],
   "source": [
    "print(14//5)"
   ]
  },
  {
   "cell_type": "code",
   "execution_count": null,
   "metadata": {},
   "outputs": [],
   "source": [
    "print(-14//5) "
   ]
  },
  {
   "cell_type": "code",
   "execution_count": null,
   "metadata": {},
   "outputs": [],
   "source": [
    "print(14%5)"
   ]
  },
  {
   "cell_type": "markdown",
   "metadata": {
    "slideshow": {
     "slide_type": "slide"
    }
   },
   "source": [
    "# Intro to Data Science: Measures of Central Tendency—Mean, Median and Mode \n",
    "* **Measures of central tendency**:\n",
    "    * **mean**—the _average value_ in a set of values. \n",
    "    * **median**—the _middle value_ when all the values are arranged in sorted order.\n",
    "    * **mode**—the _most frequently occurring value_.\n",
    "* Each represents a “central” value in a set of values.\n",
    "    * A value which is in some sense typical of the others."
   ]
  },
  {
   "cell_type": "code",
   "execution_count": null,
   "metadata": {},
   "outputs": [],
   "source": [
    "grades = [85, 93, 45, 89, 85]"
   ]
  },
  {
   "cell_type": "code",
   "execution_count": null,
   "metadata": {},
   "outputs": [],
   "source": [
    "sum(grades) / len(grades)"
   ]
  },
  {
   "cell_type": "markdown",
   "metadata": {
    "slideshow": {
     "slide_type": "subslide"
    }
   },
   "source": [
    "* `sum` and `len` are both examples of functional-style programming reductions\n",
    "* The Python Standard Library’s **`statistics`** module provides functions for calculating the **reductions** mean, median and mode."
   ]
  },
  {
   "cell_type": "code",
   "execution_count": null,
   "metadata": {},
   "outputs": [],
   "source": [
    "import statistics"
   ]
  },
  {
   "cell_type": "code",
   "execution_count": null,
   "metadata": {},
   "outputs": [],
   "source": [
    "print(grades)"
   ]
  },
  {
   "cell_type": "code",
   "execution_count": null,
   "metadata": {},
   "outputs": [],
   "source": [
    "statistics.mean(grades)"
   ]
  },
  {
   "cell_type": "code",
   "execution_count": null,
   "metadata": {
    "slideshow": {
     "slide_type": "-"
    }
   },
   "outputs": [],
   "source": [
    "statistics.median(grades)"
   ]
  },
  {
   "cell_type": "code",
   "execution_count": null,
   "metadata": {},
   "outputs": [],
   "source": [
    "statistics.mode(grades)"
   ]
  },
  {
   "cell_type": "markdown",
   "metadata": {
    "slideshow": {
     "slide_type": "subslide"
    }
   },
   "source": [
    "* Sorting `grades` helps you manually observe the median and mode. "
   ]
  },
  {
   "cell_type": "code",
   "execution_count": null,
   "metadata": {},
   "outputs": [],
   "source": [
    "sorted(grades)"
   ]
  },
  {
   "cell_type": "markdown",
   "metadata": {
    "slideshow": {
     "slide_type": "slide"
    }
   },
   "source": [
    "## Reading input.\n",
    "* There are multiple ways to read input from the keyboard in Python: we will use the `input` command.\n",
    "    * By itself, `input` will always return a string.\n",
    "    * We can use casting to convert a string to int or float if we assume the user will input a compatible value.\n",
    "    * We will see simple examples of casting now, and more sophiscated versions down the road."
   ]
  },
  {
   "cell_type": "code",
   "execution_count": null,
   "metadata": {
    "slideshow": {
     "slide_type": "subslide"
    }
   },
   "outputs": [],
   "source": [
    "#Read a string and print it backwards.\n",
    "strinput=input('Input a string: ')\n",
    "print('Composed backwards, your string reads \\\"' + strinput[::-1] + '\\\"')"
   ]
  },
  {
   "cell_type": "code",
   "execution_count": null,
   "metadata": {
    "scrolled": true,
    "slideshow": {
     "slide_type": "subslide"
    }
   },
   "outputs": [],
   "source": [
    "#Read a string and convert it into an integer, then square it.\n",
    "intbase=int(input(\"Input an integer: \"))\n",
    "print('Your number squared is ' + str(intbase**2) + '.')"
   ]
  },
  {
   "cell_type": "markdown",
   "metadata": {
    "slideshow": {
     "slide_type": "slide"
    }
   },
   "source": [
    "# Exercise 2.5\n",
    "\n",
    "For a circle of radius 2, display the diameter, circumference and area. Use the value 3.14159 for $\\pi$. Use the following formulas \n",
    "* $diameter=2r$\n",
    "* $circumference= 2\\pi r$\n",
    "* $area = \\pi r^{2}$"
   ]
  },
  {
   "cell_type": "code",
   "execution_count": null,
   "metadata": {
    "slideshow": {
     "slide_type": "subslide"
    }
   },
   "outputs": [],
   "source": [
    "pi = 3.14159"
   ]
  },
  {
   "cell_type": "code",
   "execution_count": null,
   "metadata": {},
   "outputs": [],
   "source": [
    "radius = 2"
   ]
  },
  {
   "cell_type": "code",
   "execution_count": null,
   "metadata": {},
   "outputs": [],
   "source": [
    "diameter = 2 * radius"
   ]
  },
  {
   "cell_type": "code",
   "execution_count": null,
   "metadata": {},
   "outputs": [],
   "source": [
    "diameter"
   ]
  },
  {
   "cell_type": "code",
   "execution_count": null,
   "metadata": {
    "slideshow": {
     "slide_type": "subslide"
    }
   },
   "outputs": [],
   "source": [
    "circumference = 2 * pi * radius"
   ]
  },
  {
   "cell_type": "code",
   "execution_count": null,
   "metadata": {},
   "outputs": [],
   "source": [
    "circumference"
   ]
  },
  {
   "cell_type": "code",
   "execution_count": null,
   "metadata": {
    "slideshow": {
     "slide_type": "subslide"
    }
   },
   "outputs": [],
   "source": [
    "area = pi * radius ** 2"
   ]
  },
  {
   "cell_type": "code",
   "execution_count": null,
   "metadata": {},
   "outputs": [],
   "source": [
    "area"
   ]
  },
  {
   "cell_type": "markdown",
   "metadata": {
    "slideshow": {
     "slide_type": "slide"
    }
   },
   "source": [
    "# Exercise 2.7\n",
    "\n",
    "Use `if` statements to determine whether 1024 is a multiple of 4 and whether 2 is a multiple of 10. (Hint: Use the remainder operator.)"
   ]
  },
  {
   "cell_type": "code",
   "execution_count": null,
   "metadata": {
    "slideshow": {
     "slide_type": "subslide"
    }
   },
   "outputs": [],
   "source": [
    "if 1024 % 4 == 0:\n",
    "    print('1024 is a multiple of 4')"
   ]
  },
  {
   "cell_type": "code",
   "execution_count": null,
   "metadata": {},
   "outputs": [],
   "source": [
    "if 2 % 10 == 0:\n",
    "    print('2 is a multiple of 10')\n",
    "else:\n",
    "    print('2 is not a multiple of 10')"
   ]
  },
  {
   "cell_type": "markdown",
   "metadata": {
    "slideshow": {
     "slide_type": "slide"
    }
   },
   "source": [
    "# Exercise 2.12\n",
    "\n",
    "Some investment advisors say that it's reasonable to expect 7% return over the long term in the stock market (good luck!) Assuming that you begin with $ \\$ 1000$ and leave your money invested, calculate and display how much money you'll have after 10, 20 and 30 years. Use the following formula for determine these amounts:\n",
    "$a=p(1+r)^{n}$"
   ]
  },
  {
   "cell_type": "code",
   "execution_count": null,
   "metadata": {
    "slideshow": {
     "slide_type": "subslide"
    }
   },
   "outputs": [],
   "source": [
    "#Option 1. \n",
    "print('Amount after 10 years:', 1000 * (1 + .07) ** 10)\n",
    "\n",
    "print('Amount after 20 years:', 1000 * (1 + .07) ** 20)\n",
    "\n",
    "print('Amount after 30 years:', 1000 * (1 + .07) ** 30)\n"
   ]
  },
  {
   "cell_type": "code",
   "execution_count": null,
   "metadata": {
    "slideshow": {
     "slide_type": "subslide"
    }
   },
   "outputs": [],
   "source": [
    "# Option 2\n",
    "p = float(input('Enter investment amount: '))"
   ]
  },
  {
   "cell_type": "code",
   "execution_count": null,
   "metadata": {},
   "outputs": [],
   "source": [
    "y = int(input('Enter time in years: '))"
   ]
  },
  {
   "cell_type": "code",
   "execution_count": null,
   "metadata": {},
   "outputs": [],
   "source": [
    "a = p*(1+0.07)**y\n",
    "print('The invesment return is: {}'.format(a))"
   ]
  },
  {
   "cell_type": "markdown",
   "metadata": {
    "slideshow": {
     "slide_type": "slide"
    }
   },
   "source": [
    "# Exercise 3.12\n",
    "A palindrome is a number, word or text phrase that reads the same backwards or forwards. Write a script that reads in a five-digit integer and determines whether it's a palindrome. Hint: Use the // and % operators to separate the number into digits."
   ]
  },
  {
   "cell_type": "code",
   "execution_count": null,
   "metadata": {
    "slideshow": {
     "slide_type": "subslide"
    }
   },
   "outputs": [],
   "source": [
    "\"\"\"Test for a palindrome\"\"\"\n",
    "number = int(input('Enter a 5-digit number: '))\n",
    " \n",
    "digit1 = number // 10000\n",
    "digit2 = number % 10000 // 1000\n",
    "digit4 = number % 10000 % 1000 % 100 // 10\n",
    "digit5 = number % 10000 % 1000 % 100 % 10\n",
    "\n",
    "if digit1 == digit5 and digit2 == digit4:\n",
    "    print(str(number) + ' is a palindrome!!!')\n",
    "else:\n",
    "    print(f'{number} is not a palindrome.')"
   ]
  },
  {
   "cell_type": "markdown",
   "metadata": {
    "slideshow": {
     "slide_type": "slide"
    }
   },
   "source": [
    "# Exercise 3.13\n",
    "Factorial calculations are common in probability. The factorial of a nonnegative integer $n$ is written $n!$ and is defined as:<br>\n",
    "$n!=n\\cdot(n-1)\\cdot(n-2)\\cdot \\dots \\cdot 1$<br>\n",
    "for values $n\\geqslant 0$ <br>\n",
    "Write a script that inputs a positive integer and computes and displays its factorial"
   ]
  },
  {
   "cell_type": "code",
   "execution_count": null,
   "metadata": {
    "scrolled": true,
    "slideshow": {
     "slide_type": "subslide"
    }
   },
   "outputs": [],
   "source": [
    "#Read a non-negative in.\n",
    "factbase=int(input(\"Input an integer: \"))\n",
    "if factbase < 1:\n",
    "    print('Your number must be non-negative')\n",
    "else:\n",
    "    factvalue = factbase\n",
    "    for factmult in range(factbase-1,0,-1):\n",
    "        factvalue = factvalue * factmult\n",
    "    print('The factorial of your base is ' + str(factvalue))"
   ]
  },
  {
   "cell_type": "markdown",
   "metadata": {
    "slideshow": {
     "slide_type": "slide"
    }
   },
   "source": [
    "# Exercise 3.19\n",
    "A right triangle can have sides that are all integers. The set of three integer values for the sides of a right triangle is called a Pythagorean Triple. These three sides must satisfy the relationship that the sum of the squares of two of the sides is equal to the square of the hypotenuse. Find all Pythagorean triples for `side1`, `side2`, `hypotenuse` no larger tham 20, assuming all values must be positive. (Hint: Use multiple loops, and don't worry about efficiency.)"
   ]
  },
  {
   "cell_type": "code",
   "execution_count": null,
   "metadata": {},
   "outputs": [],
   "source": [
    "for side1 in range(1,21):\n",
    "    for side2 in range(1,21):\n",
    "        for hypo in range(1,21):\n",
    "            if side1**2 + side2**2 == hypo**2:\n",
    "                print('(' + str(side1) + ', ' + str(side2) + ', ' + str(hypo) + ')' + ' is a triple.')\n",
    "    "
   ]
  },
  {
   "cell_type": "code",
   "execution_count": null,
   "metadata": {},
   "outputs": [],
   "source": []
  }
 ],
 "metadata": {
  "celltoolbar": "Slideshow",
  "kernelspec": {
   "display_name": "Python 3 (ipykernel)",
   "language": "python",
   "name": "python3"
  },
  "language_info": {
   "codemirror_mode": {
    "name": "ipython",
    "version": 3
   },
   "file_extension": ".py",
   "mimetype": "text/x-python",
   "name": "python",
   "nbconvert_exporter": "python",
   "pygments_lexer": "ipython3",
   "version": "3.10.8"
  }
 },
 "nbformat": 4,
 "nbformat_minor": 4
}
