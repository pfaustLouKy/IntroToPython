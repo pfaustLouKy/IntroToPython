{
 "cells": [
  {
   "cell_type": "code",
   "execution_count": 1,
   "metadata": {},
   "outputs": [],
   "source": [
    "import pandas as pd\n",
    "grades_dict = {'Wally': [87, 96, 70], 'Eva': [100, 87, 90],\n",
    "               'Sam': [94, 77, 90], 'Katie': [100, 81, 82],\n",
    "               'Bob': [83, 65, 85]}\n",
    "grades = pd.DataFrame(grades_dict)\n",
    "grades.index = ['Text1', 'Text2', 'Text3']"
   ]
  },
  {
   "cell_type": "code",
   "execution_count": 7,
   "metadata": {},
   "outputs": [
    {
     "name": "stdout",
     "output_type": "stream",
     "text": [
      "       Wally  Eva  Sam  Katie  Bob\n",
      "Text1     87  100   94    100   83\n",
      "Text2     96   87   77     81   65\n",
      "Text3     70   90   90     82   85\n",
      "           Wally         Eva        Sam       Katie        Bob\n",
      "count   3.000000    3.000000   3.000000    3.000000   3.000000\n",
      "mean   84.333333   92.333333  87.000000   87.666667  77.666667\n",
      "std    13.203535    6.806859   8.888194   10.692677  11.015141\n",
      "min    70.000000   87.000000  77.000000   81.000000  65.000000\n",
      "25%    78.500000   88.500000  83.500000   81.500000  74.000000\n",
      "50%    87.000000   90.000000  90.000000   82.000000  83.000000\n",
      "75%    91.500000   95.000000  92.000000   91.000000  84.000000\n",
      "max    96.000000  100.000000  94.000000  100.000000  85.000000\n"
     ]
    }
   ],
   "source": [
    "print(grades)\n",
    "print(grades.describe())"
   ]
  },
  {
   "cell_type": "code",
   "execution_count": 3,
   "metadata": {},
   "outputs": [
    {
     "name": "stdout",
     "output_type": "stream",
     "text": [
      "Wally    84.333333\n",
      "Eva      92.333333\n",
      "Sam      87.000000\n",
      "Katie    87.666667\n",
      "Bob      77.666667\n",
      "dtype: float64\n"
     ]
    }
   ],
   "source": [
    "print(grades.mean())"
   ]
  },
  {
   "cell_type": "code",
   "execution_count": 5,
   "metadata": {},
   "outputs": [
    {
     "name": "stdout",
     "output_type": "stream",
     "text": [
      "       Text1  Text2  Text3\n",
      "Wally     87     96     70\n",
      "Eva      100     87     90\n",
      "Sam       94     77     90\n",
      "Katie    100     81     82\n",
      "Bob       83     65     85\n"
     ]
    }
   ],
   "source": [
    "print(grades.T)"
   ]
  },
  {
   "cell_type": "code",
   "execution_count": 9,
   "metadata": {},
   "outputs": [
    {
     "name": "stdout",
     "output_type": "stream",
     "text": [
      "Text1    92.8\n",
      "Text2    81.2\n",
      "Text3    83.4\n",
      "dtype: float64\n",
      "\n",
      "            Text1     Text2      Text3\n",
      "count    5.000000   5.00000   5.000000\n",
      "mean    92.800000  81.20000  83.400000\n",
      "std      7.661593  11.54123   8.234076\n",
      "min     83.000000  65.00000  70.000000\n",
      "25%     87.000000  77.00000  82.000000\n",
      "50%     94.000000  81.00000  85.000000\n",
      "75%    100.000000  87.00000  90.000000\n",
      "max    100.000000  96.00000  90.000000\n"
     ]
    }
   ],
   "source": [
    "print(grades.T.mean())\n",
    "print()\n",
    "print(grades.T.describe())"
   ]
  },
  {
   "cell_type": "code",
   "execution_count": 10,
   "metadata": {},
   "outputs": [
    {
     "name": "stdout",
     "output_type": "stream",
     "text": [
      "       Wally  Eva  Sam  Katie  Bob\n",
      "Text1     87  100   94    100   83\n",
      "Text2     96   87   77     81   65\n",
      "Text3     70   90   90     82   85\n"
     ]
    }
   ],
   "source": [
    "print(grades.sort_index())"
   ]
  },
  {
   "cell_type": "code",
   "execution_count": 11,
   "metadata": {},
   "outputs": [
    {
     "name": "stdout",
     "output_type": "stream",
     "text": [
      "       Wally  Eva  Sam  Katie  Bob\n",
      "Text3     70   90   90     82   85\n",
      "Text2     96   87   77     81   65\n",
      "Text1     87  100   94    100   83\n"
     ]
    }
   ],
   "source": [
    "print(grades.sort_index(ascending=False))"
   ]
  },
  {
   "cell_type": "code",
   "execution_count": 13,
   "metadata": {},
   "outputs": [
    {
     "name": "stdout",
     "output_type": "stream",
     "text": [
      "       Bob  Eva  Katie  Sam  Wally\n",
      "Text1   83  100    100   94     87\n",
      "Text2   65   87     81   77     96\n",
      "Text3   85   90     82   90     70\n"
     ]
    }
   ],
   "source": [
    "print(grades.sort_index(axis=1,ascending=True))"
   ]
  },
  {
   "cell_type": "code",
   "execution_count": 21,
   "metadata": {},
   "outputs": [
    {
     "name": "stdout",
     "output_type": "stream",
     "text": [
      "       Eva  Katie  Sam  Wally  Bob\n",
      "Text1  100    100   94     87   83\n",
      "Text2   87     81   77     96   65\n",
      "Text3   90     82   90     70   85\n"
     ]
    }
   ],
   "source": [
    "grades_dict = {'Wally': [87, 96, 70], 'Eva': [100, 87, 90],\n",
    "               'Sam': [94, 77, 90], 'Katie': [100, 81, 82],\n",
    "               'Bob': [83, 65, 85]}\n",
    "grades = pd.DataFrame(grades_dict)\n",
    "grades.index = ['Text1', 'Text2', 'Text3']\n",
    "print(grades.sort_values(by='Text1',axis=1,ascending=False))"
   ]
  },
  {
   "cell_type": "code",
   "execution_count": 22,
   "metadata": {},
   "outputs": [
    {
     "name": "stdout",
     "output_type": "stream",
     "text": [
      "       Wally  Eva  Sam  Katie  Bob\n",
      "Text3     70   90   90     82   85\n",
      "Text1     87  100   94    100   83\n",
      "Text2     96   87   77     81   65\n"
     ]
    }
   ],
   "source": [
    "print(grades.sort_values(by='Bob', axis=0, ascending=False))"
   ]
  },
  {
   "cell_type": "code",
   "execution_count": 24,
   "metadata": {},
   "outputs": [
    {
     "name": "stdout",
     "output_type": "stream",
     "text": [
      "       Wally  Eva  Sam  Katie  Bob\n",
      "Text3     70   90   90     82   85\n",
      "Text1     87  100   94    100   83\n",
      "Text2     96   87   77     81   65\n"
     ]
    }
   ],
   "source": [
    "grades.sort_values(by='Bob', axis=0, ascending=False, inplace=True)\n",
    "print(grades)"
   ]
  }
 ],
 "metadata": {
  "kernelspec": {
   "display_name": "cse532",
   "language": "python",
   "name": "python3"
  },
  "language_info": {
   "codemirror_mode": {
    "name": "ipython",
    "version": 3
   },
   "file_extension": ".py",
   "mimetype": "text/x-python",
   "name": "python",
   "nbconvert_exporter": "python",
   "pygments_lexer": "ipython3",
   "version": "0.0.0"
  }
 },
 "nbformat": 4,
 "nbformat_minor": 2
}
