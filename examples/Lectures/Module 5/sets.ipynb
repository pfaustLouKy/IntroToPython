{
 "cells": [
  {
   "cell_type": "code",
   "execution_count": 1,
   "metadata": {},
   "outputs": [
    {
     "name": "stdout",
     "output_type": "stream",
     "text": [
      "[1, 3, 5, 7, 9]\n",
      "['red', 'orange', 'yellow', 'green', 'blue']\n",
      "{(1, 1), (1, 2), (2, 1), (2, 2)}\n"
     ]
    }
   ],
   "source": [
    "odd_nums = [1, 3, 5, 7, 9]\n",
    "colors = ['red', 'orange', 'yellow', 'green', 'blue']\n",
    "coord2x2 = {(1,1),(1,2),(2,1),(2,2)}\n",
    "print(odd_nums)\n",
    "print(colors)\n",
    "print(coord2x2)"
   ]
  },
  {
   "cell_type": "code",
   "execution_count": 2,
   "metadata": {},
   "outputs": [
    {
     "name": "stdout",
     "output_type": "stream",
     "text": [
      "{'blue', 'red', 'yellow', 'green'}\n"
     ]
    }
   ],
   "source": [
    "colors = {'blue', 'green', 'blue', 'red', 'yellow'}\n",
    "print(colors)"
   ]
  },
  {
   "cell_type": "code",
   "execution_count": 3,
   "metadata": {},
   "outputs": [
    {
     "name": "stdout",
     "output_type": "stream",
     "text": [
      "4\n"
     ]
    }
   ],
   "source": [
    "print(len(colors))"
   ]
  },
  {
   "cell_type": "code",
   "execution_count": 4,
   "metadata": {},
   "outputs": [
    {
     "name": "stdout",
     "output_type": "stream",
     "text": [
      "BLUE RED YELLOW GREEN "
     ]
    }
   ],
   "source": [
    "for color in colors:\n",
    "    print(color.upper(), end=' ')"
   ]
  },
  {
   "cell_type": "code",
   "execution_count": 5,
   "metadata": {},
   "outputs": [
    {
     "name": "stdout",
     "output_type": "stream",
     "text": [
      "{'yellow', 'red', 'blue', 'green', 'orange'}\n",
      "{'yellow', 'red', 'blue', 'green', 'orange'}\n"
     ]
    }
   ],
   "source": [
    "colors.add('orange')\n",
    "print(colors)\n",
    "colors.add('yellow')\n",
    "print(colors)"
   ]
  },
  {
   "cell_type": "code",
   "execution_count": 6,
   "metadata": {},
   "outputs": [
    {
     "name": "stdout",
     "output_type": "stream",
     "text": [
      "{'red', 'blue', 'green', 'orange'}\n"
     ]
    }
   ],
   "source": [
    "colors.remove('yellow')\n",
    "print(colors)"
   ]
  },
  {
   "cell_type": "code",
   "execution_count": 7,
   "metadata": {},
   "outputs": [
    {
     "ename": "KeyError",
     "evalue": "'grey'",
     "output_type": "error",
     "traceback": [
      "\u001b[1;31m---------------------------------------------------------------------------\u001b[0m",
      "\u001b[1;31mKeyError\u001b[0m                                  Traceback (most recent call last)",
      "Cell \u001b[1;32mIn[7], line 1\u001b[0m\n\u001b[1;32m----> 1\u001b[0m colors\u001b[38;5;241m.\u001b[39mremove(\u001b[38;5;124m'\u001b[39m\u001b[38;5;124mgrey\u001b[39m\u001b[38;5;124m'\u001b[39m)\n",
      "\u001b[1;31mKeyError\u001b[0m: 'grey'"
     ]
    }
   ],
   "source": [
    "colors.remove('grey')"
   ]
  },
  {
   "cell_type": "code",
   "execution_count": 8,
   "metadata": {},
   "outputs": [
    {
     "name": "stdout",
     "output_type": "stream",
     "text": [
      "{2, 3, 4, 6, 8, 9, 10, 12}\n",
      "{12}\n"
     ]
    }
   ],
   "source": [
    "mult2 = {2, 4, 6, 8, 10, 12}\n",
    "mult3 = {3, 6, 9, 12}\n",
    "mult4 = {4, 8, 12}\n",
    "mult2or3or4= mult2.union(mult3, mult4)\n",
    "mult2and3and4 = mult2.intersection(mult3, mult4)\n",
    "print(mult2or3or4)\n",
    "print(mult2and3and4)"
   ]
  },
  {
   "cell_type": "code",
   "execution_count": 9,
   "metadata": {},
   "outputs": [
    {
     "name": "stdout",
     "output_type": "stream",
     "text": [
      "[2, 3, 4, 5, 4, 5, 6, 7]\n",
      "{2, 3, 4, 5, 6, 7}\n",
      "[2, 3, 4, 5, 6, 7]\n"
     ]
    }
   ],
   "source": [
    "lofnumbers = list(range(2, 6))\n",
    "lofnumbers.extend(list(range(4,8)))\n",
    "sofnumbers = set(lofnumbers)\n",
    "print(lofnumbers)\n",
    "print(sofnumbers)\n",
    "print(list(sofnumbers))"
   ]
  }
 ],
 "metadata": {
  "kernelspec": {
   "display_name": "cse532",
   "language": "python",
   "name": "python3"
  },
  "language_info": {
   "codemirror_mode": {
    "name": "ipython",
    "version": 3
   },
   "file_extension": ".py",
   "mimetype": "text/x-python",
   "name": "python",
   "nbconvert_exporter": "python",
   "pygments_lexer": "ipython3",
   "version": "3.11.7"
  }
 },
 "nbformat": 4,
 "nbformat_minor": 2
}
