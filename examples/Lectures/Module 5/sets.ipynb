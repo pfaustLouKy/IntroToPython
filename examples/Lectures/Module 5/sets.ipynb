{
 "cells": [
  {
   "cell_type": "code",
   "execution_count": 1,
   "metadata": {},
   "outputs": [
    {
     "name": "stdout",
     "output_type": "stream",
     "text": [
      "[1, 3, 5, 7, 9]\n",
      "['red', 'orange', 'yellow', 'green', 'blue']\n",
      "{(1, 1), (1, 2), (2, 1), (2, 2)}\n"
     ]
    }
   ],
   "source": [
    "odd_nums = [1, 3, 5, 7, 9]\n",
    "colors = ['red', 'orange', 'yellow', 'green', 'blue']\n",
    "coord2x2 = {(1,1),(1,2),(2,1),(2,2)}\n",
    "print(odd_nums)\n",
    "print(colors)\n",
    "print(coord2x2)"
   ]
  },
  {
   "cell_type": "code",
   "execution_count": 2,
   "metadata": {},
   "outputs": [
    {
     "name": "stdout",
     "output_type": "stream",
     "text": [
      "{'blue', 'red', 'yellow', 'green'}\n"
     ]
    }
   ],
   "source": [
    "colors = {'blue', 'green', 'blue', 'red', 'yellow'}\n",
    "print(colors)"
   ]
  },
  {
   "cell_type": "code",
   "execution_count": 3,
   "metadata": {},
   "outputs": [
    {
     "name": "stdout",
     "output_type": "stream",
     "text": [
      "4\n"
     ]
    }
   ],
   "source": [
    "print(len(colors))"
   ]
  },
  {
   "cell_type": "code",
   "execution_count": 4,
   "metadata": {},
   "outputs": [
    {
     "name": "stdout",
     "output_type": "stream",
     "text": [
      "BLUE RED YELLOW GREEN "
     ]
    }
   ],
   "source": [
    "for color in colors:\n",
    "    print(color.upper(), end=' ')"
   ]
  },
  {
   "cell_type": "code",
   "execution_count": 5,
   "metadata": {},
   "outputs": [
    {
     "name": "stdout",
     "output_type": "stream",
     "text": [
      "{'yellow', 'red', 'blue', 'green', 'orange'}\n",
      "{'yellow', 'red', 'blue', 'green', 'orange'}\n"
     ]
    }
   ],
   "source": [
    "colors.add('orange')\n",
    "print(colors)\n",
    "colors.add('yellow')\n",
    "print(colors)"
   ]
  },
  {
   "cell_type": "code",
   "execution_count": 6,
   "metadata": {},
   "outputs": [
    {
     "name": "stdout",
     "output_type": "stream",
     "text": [
      "{'red', 'blue', 'green', 'orange'}\n"
     ]
    }
   ],
   "source": [
    "colors.remove('yellow')\n",
    "print(colors)"
   ]
  },
  {
   "cell_type": "code",
   "execution_count": 7,
   "metadata": {},
   "outputs": [
    {
     "ename": "KeyError",
     "evalue": "'grey'",
     "output_type": "error",
     "traceback": [
      "\u001b[1;31m---------------------------------------------------------------------------\u001b[0m",
      "\u001b[1;31mKeyError\u001b[0m                                  Traceback (most recent call last)",
      "Cell \u001b[1;32mIn[7], line 1\u001b[0m\n\u001b[1;32m----> 1\u001b[0m colors\u001b[38;5;241m.\u001b[39mremove(\u001b[38;5;124m'\u001b[39m\u001b[38;5;124mgrey\u001b[39m\u001b[38;5;124m'\u001b[39m)\n",
      "\u001b[1;31mKeyError\u001b[0m: 'grey'"
     ]
    }
   ],
   "source": [
    "colors.remove('grey')"
   ]
  },
  {
   "cell_type": "code",
   "execution_count": 8,
   "metadata": {},
   "outputs": [
    {
     "name": "stdout",
     "output_type": "stream",
     "text": [
      "{2, 3, 4, 6, 8, 9, 10, 12}\n",
      "{12}\n"
     ]
    }
   ],
   "source": [
    "mult2 = {2, 4, 6, 8, 10, 12}\n",
    "mult3 = {3, 6, 9, 12}\n",
    "mult4 = {4, 8, 12}\n",
    "mult2or3or4= mult2.union(mult3, mult4)\n",
    "mult2and3and4 = mult2.intersection(mult3, mult4)\n",
    "print(mult2or3or4)\n",
    "print(mult2and3and4)"
   ]
  },
  {
   "cell_type": "code",
   "execution_count": 9,
   "metadata": {},
   "outputs": [
    {
     "name": "stdout",
     "output_type": "stream",
     "text": [
      "[2, 3, 4, 5, 4, 5, 6, 7]\n",
      "{2, 3, 4, 5, 6, 7}\n",
      "[2, 3, 4, 5, 6, 7]\n"
     ]
    }
   ],
   "source": [
    "lofnumbers = list(range(2, 6))\n",
    "lofnumbers.extend(list(range(4,8)))\n",
    "sofnumbers = set(lofnumbers)\n",
    "print(lofnumbers)\n",
    "print(sofnumbers)\n",
    "print(list(sofnumbers))"
   ]
  },
  {
   "cell_type": "code",
   "execution_count": 1,
   "metadata": {},
   "outputs": [
    {
     "name": "stdout",
     "output_type": "stream",
     "text": [
      "<class 'dict'>\n",
      "<class 'set'>\n",
      "{}\n"
     ]
    }
   ],
   "source": [
    "eset_try={}\n",
    "eset_try2=set()\n",
    "print(type(eset_try))\n",
    "print(type(eset_try2))\n",
    "print(eset_try)"
   ]
  },
  {
   "cell_type": "code",
   "execution_count": 2,
   "metadata": {},
   "outputs": [
    {
     "name": "stdout",
     "output_type": "stream",
     "text": [
      "{8, 2, 10, 6}\n"
     ]
    }
   ],
   "source": [
    "counts = [1, 2, 2, 3, 5, 5, 6, 6, 7, 8, 9, 10, 10]\n",
    "evencountsunique = {item for item in counts if item % 2 == 0}\n",
    "print(evencountsunique)"
   ]
  },
  {
   "cell_type": "code",
   "execution_count": 5,
   "metadata": {},
   "outputs": [
    {
     "name": "stdout",
     "output_type": "stream",
     "text": [
      "{'yellow', 'red', 'green'}\n"
     ]
    }
   ],
   "source": [
    "colors = {'blue', 'green', 'red', 'yellow'}\n",
    "colors.discard('blue')\n",
    "colors.discard('purple')\n",
    "print(colors)"
   ]
  },
  {
   "cell_type": "code",
   "execution_count": 6,
   "metadata": {},
   "outputs": [
    {
     "name": "stdout",
     "output_type": "stream",
     "text": [
      "{8, 10, 4}\n",
      "{4, 8, 9, 10}\n"
     ]
    }
   ],
   "source": [
    "mult2 = {2, 4, 6, 8, 10, 12}\n",
    "mult3 = {2, 6, 9, 12}\n",
    "mult2not3 = mult2.difference(mult3)\n",
    "mult2comp3 = mult2.symmetric_difference(mult3)\n",
    "print(mult2not3)\n",
    "print(mult2comp3)"
   ]
  },
  {
   "cell_type": "code",
   "execution_count": 2,
   "metadata": {},
   "outputs": [
    {
     "name": "stdout",
     "output_type": "stream",
     "text": [
      "[{'yellow', 'red', 'blue'}, {'green', 'purple', 'orange'}, {'blue', 'red', 'yellow'}, {'green', 'blue', 'orange', 'red', 'purple', 'yellow'}]\n"
     ]
    }
   ],
   "source": [
    "cslist = []\n",
    "cslist.append({'red', 'blue', 'yellow'})\n",
    "cslist.append({'purple', 'orange', 'green'})\n",
    "cslist.append({'yellow', 'blue', 'red', 'yellow'})\n",
    "cslist.append(cslist[0].union(cslist[1]))\n",
    "print(cslist)\n"
   ]
  },
  {
   "cell_type": "code",
   "execution_count": 7,
   "metadata": {},
   "outputs": [
    {
     "name": "stdout",
     "output_type": "stream",
     "text": [
      "'orange' in {'yellow', 'red', 'blue'} False\n",
      "'orange' in {'green', 'purple', 'orange'} True\n",
      "'orange' in {'blue', 'red', 'yellow'} False\n",
      "'orange' in {'green', 'blue', 'orange', 'red', 'purple', 'yellow'} True\n"
     ]
    }
   ],
   "source": [
    "for colset in cslist:\n",
    "    print(f'\\'orange\\' in {colset}', 'orange' in colset)"
   ]
  },
  {
   "cell_type": "code",
   "execution_count": 8,
   "metadata": {},
   "outputs": [
    {
     "name": "stdout",
     "output_type": "stream",
     "text": [
      "{'yellow', 'red', 'blue'} == {'yellow', 'red', 'blue'}?  True\n",
      "{'yellow', 'red', 'blue'} == {'green', 'purple', 'orange'}?  False\n",
      "{'yellow', 'red', 'blue'} == {'blue', 'red', 'yellow'}?  True\n",
      "{'yellow', 'red', 'blue'} == {'green', 'blue', 'orange', 'red', 'purple', 'yellow'}?  False\n"
     ]
    }
   ],
   "source": [
    "for colset in cslist:\n",
    "    print(f'{cslist[0]} == {colset}? ', cslist[0] == colset)"
   ]
  },
  {
   "cell_type": "code",
   "execution_count": 9,
   "metadata": {},
   "outputs": [
    {
     "name": "stdout",
     "output_type": "stream",
     "text": [
      "{'yellow', 'red', 'blue'} < {'yellow', 'red', 'blue'}?  False\n",
      "{'yellow', 'red', 'blue'} < {'green', 'purple', 'orange'}?  False\n",
      "{'yellow', 'red', 'blue'} < {'blue', 'red', 'yellow'}?  False\n",
      "{'yellow', 'red', 'blue'} < {'green', 'blue', 'orange', 'red', 'purple', 'yellow'}?  True\n"
     ]
    }
   ],
   "source": [
    "for colset in cslist:\n",
    "    print(f'{cslist[0]} < {colset}? ', cslist[0] < colset)"
   ]
  },
  {
   "cell_type": "code",
   "execution_count": 10,
   "metadata": {},
   "outputs": [
    {
     "name": "stdout",
     "output_type": "stream",
     "text": [
      "{'green', 'blue', 'orange', 'red', 'purple', 'yellow'} > {'yellow', 'red', 'blue'}?  True\n",
      "{'green', 'blue', 'orange', 'red', 'purple', 'yellow'} > {'green', 'purple', 'orange'}?  True\n",
      "{'green', 'blue', 'orange', 'red', 'purple', 'yellow'} > {'blue', 'red', 'yellow'}?  True\n",
      "{'green', 'blue', 'orange', 'red', 'purple', 'yellow'} > {'green', 'blue', 'orange', 'red', 'purple', 'yellow'}?  False\n"
     ]
    }
   ],
   "source": [
    "for colset in cslist:\n",
    "    print(f'{cslist[3]} > {colset}? ', cslist[3] > colset)"
   ]
  },
  {
   "cell_type": "code",
   "execution_count": 11,
   "metadata": {},
   "outputs": [
    {
     "name": "stdout",
     "output_type": "stream",
     "text": [
      "{'green', 'blue', 'orange', 'red', 'purple', 'yellow'} != {'yellow', 'red', 'blue'}?  True\n",
      "{'green', 'blue', 'orange', 'red', 'purple', 'yellow'} != {'green', 'purple', 'orange'}?  True\n",
      "{'green', 'blue', 'orange', 'red', 'purple', 'yellow'} != {'blue', 'red', 'yellow'}?  True\n",
      "{'green', 'blue', 'orange', 'red', 'purple', 'yellow'} != {'green', 'blue', 'orange', 'red', 'purple', 'yellow'}?  True\n"
     ]
    }
   ],
   "source": [
    "for colset in cslist:\n",
    "    print(f'{cslist[3]} != {colset}? ', cslist[3] >= colset)"
   ]
  },
  {
   "cell_type": "code",
   "execution_count": 12,
   "metadata": {},
   "outputs": [
    {
     "name": "stdout",
     "output_type": "stream",
     "text": [
      "{'green', 'blue', 'orange', 'red', 'purple', 'yellow'} > {'yellow', 'red', 'blue'}?  True\n",
      "{'green', 'blue', 'orange', 'red', 'purple', 'yellow'} > {'green', 'purple', 'orange'}?  True\n",
      "{'green', 'blue', 'orange', 'red', 'purple', 'yellow'} > {'blue', 'red', 'yellow'}?  True\n",
      "{'green', 'blue', 'orange', 'red', 'purple', 'yellow'} > {'green', 'blue', 'orange', 'red', 'purple', 'yellow'}?  False\n"
     ]
    }
   ],
   "source": [
    "for colset in cslist:\n",
    "    print(f'{cslist[3]} > {colset}? ', cslist[3] > colset)"
   ]
  },
  {
   "cell_type": "code",
   "execution_count": 14,
   "metadata": {},
   "outputs": [
    {
     "name": "stdout",
     "output_type": "stream",
     "text": [
      "True\n",
      "True\n",
      "True\n",
      "False\n"
     ]
    }
   ],
   "source": [
    "somenums = {1, 2, 3}\n",
    "print(somenums.issubset({1, 2, 3, 7}))\n",
    "print(somenums.issuperset({1, 2, 2, 1}))\n",
    "print(somenums.issubset({3, 2, 1}))\n",
    "print(somenums.issubset({1, 2})) "
   ]
  },
  {
   "cell_type": "code",
   "execution_count": 17,
   "metadata": {},
   "outputs": [
    {
     "name": "stdout",
     "output_type": "stream",
     "text": [
      "{2, 3, 4, 6, 8, 9, 10, 12, 15, 18}\n"
     ]
    }
   ],
   "source": [
    "mult2 = {2, 4, 6, 8, 10, 12}\n",
    "mult3 = {3, 6, 9, 12, 15, 18}\n",
    "mult2 |= mult3\n",
    "print(mult2)"
   ]
  },
  {
   "cell_type": "code",
   "execution_count": 18,
   "metadata": {},
   "outputs": [
    {
     "name": "stdout",
     "output_type": "stream",
     "text": [
      "{12, 6}\n"
     ]
    }
   ],
   "source": [
    "mult2 = {2, 4, 6, 8, 10, 12}\n",
    "mult3 = {3, 6, 9, 12, 15, 18}\n",
    "mult2 &= mult3\n",
    "print(mult2)"
   ]
  },
  {
   "cell_type": "code",
   "execution_count": 19,
   "metadata": {},
   "outputs": [
    {
     "name": "stdout",
     "output_type": "stream",
     "text": [
      "{2, 4, 8, 10}\n"
     ]
    }
   ],
   "source": [
    "mult2 = {2, 4, 6, 8, 10, 12}\n",
    "mult3 = {3, 6, 9, 12, 15, 18}\n",
    "mult2 -= mult3\n",
    "print(mult2)"
   ]
  },
  {
   "cell_type": "code",
   "execution_count": 20,
   "metadata": {},
   "outputs": [
    {
     "name": "stdout",
     "output_type": "stream",
     "text": [
      "{2, 3, 4, 8, 9, 10, 15, 18}\n"
     ]
    }
   ],
   "source": [
    "mult2 = {2, 4, 6, 8, 10, 12}\n",
    "mult3 = {3, 6, 9, 12, 15, 18}\n",
    "mult2 ^= mult3\n",
    "print(mult2)"
   ]
  },
  {
   "cell_type": "code",
   "execution_count": 21,
   "metadata": {},
   "outputs": [
    {
     "ename": "TypeError",
     "evalue": "unhashable type: 'set'",
     "output_type": "error",
     "traceback": [
      "\u001b[1;31m---------------------------------------------------------------------------\u001b[0m",
      "\u001b[1;31mTypeError\u001b[0m                                 Traceback (most recent call last)",
      "Cell \u001b[1;32mIn[21], line 1\u001b[0m\n\u001b[1;32m----> 1\u001b[0m compset \u001b[38;5;241m=\u001b[39m {{\u001b[38;5;241m1\u001b[39m, \u001b[38;5;241m2\u001b[39m, \u001b[38;5;241m3\u001b[39m},{\u001b[38;5;241m5\u001b[39m, \u001b[38;5;241m3\u001b[39m, \u001b[38;5;241m1\u001b[39m},{\u001b[38;5;241m1\u001b[39m, \u001b[38;5;241m3\u001b[39m, \u001b[38;5;241m7\u001b[39m}}\n",
      "\u001b[1;31mTypeError\u001b[0m: unhashable type: 'set'"
     ]
    }
   ],
   "source": [
    "compset = {{1, 2, 3},{5, 3, 1},{1, 3, 7}}"
   ]
  },
  {
   "cell_type": "code",
   "execution_count": 22,
   "metadata": {},
   "outputs": [
    {
     "name": "stdout",
     "output_type": "stream",
     "text": [
      "True\n"
     ]
    }
   ],
   "source": [
    "compset = {frozenset({1, 2, 3}),frozenset({5,3,1}), frozenset({1,3,7})}\n",
    "print(frozenset({3,2,1}) in compset)"
   ]
  },
  {
   "cell_type": "code",
   "execution_count": 12,
   "metadata": {},
   "outputs": [
    {
     "name": "stdout",
     "output_type": "stream",
     "text": [
      "[[1 2 3]\n",
      " [2 4 6]]\n",
      "[[1 2 3]\n",
      " [2 4 6]]\n",
      "[[1 2 3]\n",
      " [2 4 6]]\n"
     ]
    }
   ],
   "source": [
    "import numpy as np\n",
    "mnumbers = np.array([[1, 2, 3], [2, 4, 6]])\n",
    "mnumberscopy1 = mnumbers.copy()\n",
    "mnumberscopy2 = mnumbers[[0,1],0:3]\n",
    "print(mnumbers)\n",
    "print(mnumberscopy1)\n",
    "print(mnumberscopy2)"
   ]
  },
  {
   "cell_type": "code",
   "execution_count": 13,
   "metadata": {},
   "outputs": [
    {
     "name": "stdout",
     "output_type": "stream",
     "text": [
      "[[10  2  3]\n",
      " [ 2  4  6]]\n",
      "[[ 1  2 13]\n",
      " [ 2  4  6]]\n",
      "[[ 1  2  3]\n",
      " [ 2 14  6]]\n"
     ]
    }
   ],
   "source": [
    "mnumbers[0,0]*=10\n",
    "mnumberscopy1[0,2]+=10\n",
    "mnumberscopy2[1,1]+=10\n",
    "print(mnumbers)\n",
    "print(mnumberscopy1)\n",
    "\n",
    "print(mnumberscopy2)"
   ]
  },
  {
   "cell_type": "code",
   "execution_count": 8,
   "metadata": {},
   "outputs": [
    {
     "name": "stdout",
     "output_type": "stream",
     "text": [
      "[[  87   96]\n",
      " [1000  100]\n",
      " [  87   90]]\n",
      "[[  87   96 1000]\n",
      " [ 100   87   90]]\n"
     ]
    }
   ],
   "source": [
    "import numpy as np\n",
    "grades = np.array([[87, 96, 70], [100, 87, 90]])\n",
    "grades_rs = grades.reshape(3,2)\n",
    "grades_rs[1,0] = 1000\n",
    "print(grades_rs)\n",
    "print(grades)"
   ]
  },
  {
   "cell_type": "code",
   "execution_count": 10,
   "metadata": {},
   "outputs": [
    {
     "name": "stdout",
     "output_type": "stream",
     "text": [
      "[[ 500   96 1000  100   87   90]]\n",
      "[[ 500   96]\n",
      " [1000  100]\n",
      " [  87   90]]\n"
     ]
    }
   ],
   "source": [
    "grades.resize(1, 6)\n",
    "print(grades)\n",
    "grades[0,0]=500\n",
    "print(grades_rs)"
   ]
  },
  {
   "cell_type": "code",
   "execution_count": 14,
   "metadata": {},
   "outputs": [
    {
     "name": "stdout",
     "output_type": "stream",
     "text": [
      "[[ 87  96  70]\n",
      " [100  87  90]]\n",
      "[ 87  96  70 100  87  90]\n"
     ]
    }
   ],
   "source": [
    "grades = np.array([[87, 96, 70], [100, 87, 90]])\n",
    "flattened = grades.flatten()\n",
    "print(grades)\n",
    "print(flattened)"
   ]
  },
  {
   "cell_type": "code",
   "execution_count": 15,
   "metadata": {},
   "outputs": [
    {
     "name": "stdout",
     "output_type": "stream",
     "text": [
      "[[  87 1000   70]\n",
      " [ 100   87   90]]\n",
      "[  87   96   70  100   87 2000]\n"
     ]
    }
   ],
   "source": [
    "grades[0,1] = 1000\n",
    "flattened[5] = 2000\n",
    "print(grades)\n",
    "print(flattened)"
   ]
  },
  {
   "cell_type": "code",
   "execution_count": 16,
   "metadata": {},
   "outputs": [
    {
     "name": "stdout",
     "output_type": "stream",
     "text": [
      "[[ 87 200  70]\n",
      " [100  87 300]]\n",
      "[ 87 200  70 100  87 300]\n"
     ]
    }
   ],
   "source": [
    "grades = np.array([[87, 96, 70], [100, 87, 90]])\n",
    "raveled = grades.ravel()\n",
    "grades[0,1] = 200\n",
    "raveled[5] = 300\n",
    "print(grades)\n",
    "print(raveled)"
   ]
  }
 ],
 "metadata": {
  "kernelspec": {
   "display_name": "cse532",
   "language": "python",
   "name": "python3"
  },
  "language_info": {
   "codemirror_mode": {
    "name": "ipython",
    "version": 3
   },
   "file_extension": ".py",
   "mimetype": "text/x-python",
   "name": "python",
   "nbconvert_exporter": "python",
   "pygments_lexer": "ipython3",
   "version": "3.11.7"
  }
 },
 "nbformat": 4,
 "nbformat_minor": 2
}
