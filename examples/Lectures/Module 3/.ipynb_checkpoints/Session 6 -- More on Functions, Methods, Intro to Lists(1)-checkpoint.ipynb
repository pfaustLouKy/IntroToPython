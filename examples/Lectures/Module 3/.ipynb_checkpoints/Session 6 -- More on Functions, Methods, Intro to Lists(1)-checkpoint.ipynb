{
 "cells": [
  {
   "cell_type": "markdown",
   "metadata": {
    "slideshow": {
     "slide_type": "slide"
    }
   },
   "source": [
    "## What We Looked At Last Time\n",
    "* We examined how functions are defined and called in Python.\n",
    "* We saw MANY standard library functions including those related to essential math, random number generation, and graph visualization.\n",
    "* We saw how python scripts could be utilized in multiple ways (i.e. through the `run` command or `import`) "
   ]
  },
  {
   "cell_type": "markdown",
   "metadata": {
    "slideshow": {
     "slide_type": "subslide"
    }
   },
   "source": [
    "## What We'll Look At Today\n",
    "* We'll discuss parameters in Python functions in some detail.\n",
    "* We'll introduce the idea of methods (functions invoked by objects)\n",
    "* We'll take a look at lists and fundamental list capabilities in Python.  "
   ]
  },
  {
   "cell_type": "markdown",
   "metadata": {
    "slideshow": {
     "slide_type": "slide"
    }
   },
   "source": [
    "# Arguments for Functions"
   ]
  },
  {
   "cell_type": "markdown",
   "metadata": {
    "slideshow": {
     "slide_type": "subslide"
    }
   },
   "source": [
    "#  Default Parameter Values\n",
    "* You can specify that a parameter has a **default parameter value**. \n",
    "* When calling the function, if you omit the argument for a parameter with a default parameter value, that value is automatically passed. \n",
    "* Specify a default parameter value by following a parameter’s name with an `=` and a value. \n",
    "* Any parameters with default parameter values must appear in the parameter list to the _right_ of parameters that do not have defaults. "
   ]
  },
  {
   "cell_type": "code",
   "execution_count": null,
   "metadata": {
    "slideshow": {
     "slide_type": "subslide"
    }
   },
   "outputs": [],
   "source": [
    "def rectangle_area(length=2, width=3):\n",
    "    \"\"\"Return a rectangle's area.\"\"\"\n",
    "    return length * width"
   ]
  },
  {
   "cell_type": "code",
   "execution_count": null,
   "metadata": {},
   "outputs": [],
   "source": [
    "print(rectangle_area(5, 6))"
   ]
  },
  {
   "cell_type": "code",
   "execution_count": null,
   "metadata": {},
   "outputs": [],
   "source": [
    "print(rectangle_area(10))"
   ]
  },
  {
   "cell_type": "code",
   "execution_count": null,
   "metadata": {},
   "outputs": [],
   "source": [
    "print(rectangle_area())"
   ]
  },
  {
   "cell_type": "markdown",
   "metadata": {
    "slideshow": {
     "slide_type": "subslide"
    }
   },
   "source": [
    "# Keyword Arguments\n",
    "* When calling functions, you can use **keyword arguments** to pass arguments in `any` order.\n",
    "* Each keyword _argument in a call_ has the form _parametername=value_. \n",
    "* Order of keyword arguments does not matter."
   ]
  },
  {
   "cell_type": "code",
   "execution_count": null,
   "metadata": {},
   "outputs": [],
   "source": [
    "def rectangle_area(length, width):\n",
    "    print(f'The rectangle\\'s length is {length} and its width is {width}.')\n",
    "    return length * width"
   ]
  },
  {
   "cell_type": "code",
   "execution_count": null,
   "metadata": {},
   "outputs": [],
   "source": [
    "print(rectangle_area(10,5))\n",
    "print(rectangle_area(width=5, length=10))\n",
    "print(rectangle_area(length = 10, width=5))\n"
   ]
  },
  {
   "cell_type": "markdown",
   "metadata": {
    "slideshow": {
     "slide_type": "subslide"
    }
   },
   "source": [
    "# Arbitrary Argument Lists\n",
    "* Functions with **arbitrary argument lists**, such as built-in functions `min` and `max`, can receive _any_ number of arguments. \n",
    "* Function `min`'s documentation states that `min` has two _required_ parameters (named `arg1` and `arg2`) and an optional third parameter of the form **`*args`**, indicating that the function can receive any number of additional arguments. \n",
    "* The `*` before the parameter name tells Python to pack any remaining arguments into a tuple that’s passed to the `args` parameter."
   ]
  },
  {
   "cell_type": "markdown",
   "metadata": {
    "slideshow": {
     "slide_type": "subslide"
    }
   },
   "source": [
    "### Defining a Function with an Arbitrary Argument List\n",
    "* `average` function that can receive any number of arguments."
   ]
  },
  {
   "cell_type": "code",
   "execution_count": null,
   "metadata": {},
   "outputs": [],
   "source": [
    "def average(*args):\n",
    "    return sum(args) / len(args)\n",
    "\n"
   ]
  },
  {
   "cell_type": "code",
   "execution_count": null,
   "metadata": {},
   "outputs": [],
   "source": [
    "print(average(1))\n",
    "print(average(1,5,9))\n"
   ]
  },
  {
   "cell_type": "markdown",
   "metadata": {},
   "source": [
    "* The `*args` parameter must be the _rightmost_ parameter. "
   ]
  },
  {
   "cell_type": "markdown",
   "metadata": {
    "slideshow": {
     "slide_type": "slide"
    }
   },
   "source": [
    "# Methods: Functions That Belong to Objects\n",
    "* A **method** is simply a function that you call on an object \n",
    "* Also referred to as a class member function.\n",
    "```\n",
    "object_name.method_name(arguments)\n",
    "```\n",
    "* Many standard objects in Python have an assortment of useful methods.\n",
    "* We'll visit custom Python classes in more detail in a later session."
   ]
  },
  {
   "cell_type": "code",
   "execution_count": null,
   "metadata": {
    "slideshow": {
     "slide_type": "slide"
    }
   },
   "outputs": [],
   "source": [
    "basestr = 'Hello1!'"
   ]
  },
  {
   "cell_type": "code",
   "execution_count": null,
   "metadata": {},
   "outputs": [],
   "source": [
    "print(basestr.lower())  # Print lower-case version of basestr\n",
    "print(basestr.upper())  # Print upper-case version of basestr"
   ]
  },
  {
   "cell_type": "markdown",
   "metadata": {
    "slideshow": {
     "slide_type": "slide"
    }
   },
   "source": [
    "# Lists And Searching Sequences\n",
    "* **Searching** is the process of locating a particular **key** value. \n",
    "* While approaches used for searching and their trade-offs are of interest in computing (e.g. in a Data Structures or Algorithms course), for our purposes in this course we only care that they WORK. "
   ]
  },
  {
   "cell_type": "markdown",
   "metadata": {
    "slideshow": {
     "slide_type": "subslide"
    }
   },
   "source": [
    "### List Method index\n",
    "* `index` searches through a list from index 0 and returns the index of the _first_ element that matches the search key.\n",
    "* `ValueError` if the value is not in the list."
   ]
  },
  {
   "cell_type": "code",
   "execution_count": null,
   "metadata": {},
   "outputs": [],
   "source": [
    "numbers = [3, 7, 1, 4, 2, 9, 5, \"Hello\"]"
   ]
  },
  {
   "cell_type": "code",
   "execution_count": null,
   "metadata": {},
   "outputs": [],
   "source": [
    "numbers.index(5)"
   ]
  },
  {
   "cell_type": "code",
   "execution_count": null,
   "metadata": {},
   "outputs": [],
   "source": [
    "numbers.index(\"Hello\")"
   ]
  },
  {
   "cell_type": "markdown",
   "metadata": {
    "slideshow": {
     "slide_type": "subslide"
    }
   },
   "source": [
    "### Lists and Duplication of Elements\n",
    "* The sequence of elements in a list can  be easily duplicated and appended to its end using the \\*= operator.\n",
    "* Similar functionality is available to strings using \"multiplication.\"\n"
   ]
  },
  {
   "cell_type": "code",
   "execution_count": null,
   "metadata": {},
   "outputs": [],
   "source": [
    "numbers = [3, 7, 1 , 4, 2, 9, 5, 6]\n",
    "numbers *= 2\n",
    "print(numbers)"
   ]
  },
  {
   "cell_type": "code",
   "execution_count": null,
   "metadata": {},
   "outputs": [],
   "source": [
    "print('Hello'*2)"
   ]
  },
  {
   "cell_type": "markdown",
   "metadata": {
    "slideshow": {
     "slide_type": "subslide"
    }
   },
   "source": [
    "### Specifying the Starting and Ending Indices of a Search\n",
    "* Add a 2nd argument to `index` to specify a STARTING pos. for the search.\n",
    "* Add a 3rd argument to `index` to specify an ENDING pos. for the search.\n"
   ]
  },
  {
   "cell_type": "code",
   "execution_count": null,
   "metadata": {},
   "outputs": [],
   "source": [
    "print(numbers)\n",
    "numbers.index(5,7) #Look for the value 5 in the list starting at index 7."
   ]
  },
  {
   "cell_type": "code",
   "execution_count": null,
   "metadata": {},
   "outputs": [],
   "source": [
    "numbers.index(7,5,7) #Look for the value 7 in the range of elements with indices 0 through 3."
   ]
  },
  {
   "cell_type": "code",
   "execution_count": null,
   "metadata": {},
   "outputs": [],
   "source": [
    "numbers.index(2) #Look for the value 2 in the range of elements with indices 2 through 3."
   ]
  },
  {
   "cell_type": "markdown",
   "metadata": {
    "slideshow": {
     "slide_type": "slide"
    }
   },
   "source": [
    "### Operators `in` and `not in`\n",
    "* Operator `in` tests whether its right operand’s iterable contains the left operand’s value."
   ]
  },
  {
   "cell_type": "code",
   "execution_count": null,
   "metadata": {},
   "outputs": [],
   "source": [
    "print(numbers)\n",
    "1000 not in numbers"
   ]
  },
  {
   "cell_type": "code",
   "execution_count": null,
   "metadata": {},
   "outputs": [],
   "source": [
    "5 in numbers"
   ]
  },
  {
   "cell_type": "markdown",
   "metadata": {
    "slideshow": {
     "slide_type": "subslide"
    }
   },
   "source": [
    "* Operator `not in` tests whether its right operand’s iterable does _not_ contain the left operand’s value."
   ]
  },
  {
   "cell_type": "code",
   "execution_count": null,
   "metadata": {},
   "outputs": [],
   "source": [
    "1000 not in numbers"
   ]
  },
  {
   "cell_type": "code",
   "execution_count": null,
   "metadata": {},
   "outputs": [],
   "source": [
    "5 not in numbers"
   ]
  },
  {
   "cell_type": "markdown",
   "metadata": {
    "slideshow": {
     "slide_type": "subslide"
    }
   },
   "source": [
    "### Using Operator `in` to Prevent a `ValueError`"
   ]
  },
  {
   "cell_type": "code",
   "execution_count": null,
   "metadata": {},
   "outputs": [],
   "source": [
    "key = 1000 "
   ]
  },
  {
   "cell_type": "code",
   "execution_count": null,
   "metadata": {},
   "outputs": [],
   "source": [
    "if key in numbers:\n",
    "    print(f'found {key} at index {numbers.index(key)}')\n",
    "else:\n",
    "    print(f'{key} not found')"
   ]
  },
  {
   "cell_type": "markdown",
   "metadata": {
    "slideshow": {
     "slide_type": "slide"
    }
   },
   "source": [
    "### Python Terminology: Iterable\n",
    "* Any Python object who can be decomposed into smaller objects or primitive data types \"one-by-one\" is considered an **iterable**.\n",
    "* We commonly encounter iterables in for loops, but they have additional functionality.   \n",
    "* Lists, strings, and arrays are **sequential iterables** -- the elements have a clear, specified order.\n",
    "* Non-sequential objects like dictionaries and some custom classes are **non-sequential iterables**.  We'll examine these at a later date."
   ]
  },
  {
   "cell_type": "markdown",
   "metadata": {
    "slideshow": {
     "slide_type": "subslide"
    }
   },
   "source": [
    "### Built-In Functions `any` and `all` \n",
    "* Built-in function **`any`** returns `True` if any item in its iterable argument is `True`. \n",
    "* Built-in function **`all`** returns `True` if all items in its iterable argument are `True`. \n",
    "* Nonzero values are `True` and 0 is `False`. \n",
    "* Non-empty iterable objects also evaluate to `True`, whereas any empty iterable evaluates to `False`."
   ]
  },
  {
   "cell_type": "code",
   "execution_count": null,
   "metadata": {
    "slideshow": {
     "slide_type": "subslide"
    }
   },
   "outputs": [],
   "source": [
    "l = [1, 3, 4, 0]\n",
    "print(any(l))\n",
    "\n",
    "l = [0, False]\n",
    "print(any(l))\n",
    "\n",
    "l = [[0], 0]\n",
    "print(any(l))"
   ]
  },
  {
   "cell_type": "code",
   "execution_count": null,
   "metadata": {
    "slideshow": {
     "slide_type": "subslide"
    }
   },
   "outputs": [],
   "source": [
    "l = [0, False, 5]\n",
    "print(all(l))\n",
    "print(any(l))"
   ]
  },
  {
   "cell_type": "markdown",
   "metadata": {
    "slideshow": {
     "slide_type": "subslide"
    }
   },
   "source": [
    "### Adding an Element at a Specific List Index\n",
    "* You can add an item to a list using its `insert` method.\n",
    "* Insert MUST be given two arguments.\n",
    "    * The first is an int specifying the position of addition.\n",
    "    * The second is the item to be inserted."
   ]
  },
  {
   "cell_type": "code",
   "execution_count": null,
   "metadata": {},
   "outputs": [],
   "source": [
    "color_names = ['orange', 'yellow', 'green']\n",
    "color_names.insert(0,'red')\n",
    "print(color_names)"
   ]
  },
  {
   "cell_type": "code",
   "execution_count": null,
   "metadata": {},
   "outputs": [],
   "source": [
    "color_names = ['orange', 'yellow', 'gr een']\n",
    "color_names.insert(2,'blue')\n",
    "print(color_names)"
   ]
  },
  {
   "cell_type": "markdown",
   "metadata": {
    "slideshow": {
     "slide_type": "slide"
    }
   },
   "source": [
    "### Adding an Element to the End of a List\n",
    "* Use the `append` method to add one item to the end of the list. \n",
    "* Use the `extend` method to add each item (one-by-one) from an iterable to the end of a list.\n",
    "* General side-note: list elements do NOT have to be homogenous (we can include a mix of object-types) "
   ]
  },
  {
   "cell_type": "code",
   "execution_count": null,
   "metadata": {},
   "outputs": [],
   "source": [
    "color_names = ['red', 'orange', 'yellow', 'blue', 'green']\n",
    "color_names.append('cyan')\n",
    "print(color_names)"
   ]
  },
  {
   "cell_type": "code",
   "execution_count": null,
   "metadata": {},
   "outputs": [],
   "source": [
    "color_names.extend(['indigo','violet','brown'])\n",
    "print(color_names)"
   ]
  },
  {
   "cell_type": "code",
   "execution_count": null,
   "metadata": {
    "slideshow": {
     "slide_type": "subslide"
    }
   },
   "outputs": [],
   "source": [
    "sample_list = ['bread','water','milk']\n",
    "newstr='abc'\n",
    "sample_list.extend(newstr)\n",
    "print(sample_list)"
   ]
  },
  {
   "cell_type": "code",
   "execution_count": null,
   "metadata": {
    "slideshow": {
     "slide_type": "-"
    }
   },
   "outputs": [],
   "source": [
    "sample_list.extend((1,2,3)) #note the extra parentheses -- extend expects ONE ARGUMENT\n",
    "print(sample_list)"
   ]
  },
  {
   "cell_type": "markdown",
   "metadata": {
    "slideshow": {
     "slide_type": "slide"
    }
   },
   "source": [
    "### Removing Elements From a List \n",
    "* Use the `remove` method to delete the first instance of a given item in a list. \n",
    "* A `ValueError` occurs if `remove`’s argument is not in the list.\n",
    "* Use the `clear` method to completely empty a list. "
   ]
  },
  {
   "cell_type": "code",
   "execution_count": null,
   "metadata": {},
   "outputs": [],
   "source": [
    "color_names=['red', 'orange', 'yellow', 'blue', 'green', 'cyan', 'green','indigo', 'violet', 'brown']\n",
    "color_names.remove('green')\n",
    "print(color_names)"
   ]
  },
  {
   "cell_type": "code",
   "execution_count": null,
   "metadata": {
    "scrolled": true
   },
   "outputs": [],
   "source": [
    "color_names.remove('magenta')"
   ]
  },
  {
   "cell_type": "code",
   "execution_count": null,
   "metadata": {
    "slideshow": {
     "slide_type": "subslide"
    }
   },
   "outputs": [],
   "source": [
    "color_names=['red', 'orange', 'yellow', 'blue', 'green', 'cyan', 'indigo', 'violet', 'brown']\n",
    "color_names.clear()\n",
    "print(color_names)"
   ]
  },
  {
   "cell_type": "markdown",
   "metadata": {
    "slideshow": {
     "slide_type": "slide"
    }
   },
   "source": [
    "### Counting the Number of Occurrences of an Item or Items\n",
    "* The `count` method will return an integer representing the number of times a specific item occurs in a list.\n",
    "* If we know the elements within the list in advance, we can use an iterator to count ALL elements. Later, we'll see a more general approach."
   ]
  },
  {
   "cell_type": "code",
   "execution_count": null,
   "metadata": {},
   "outputs": [],
   "source": [
    "responses = [1, 2, 5, 4, 3, 5, 2, 1, 3, 3, \n",
    "             1, 4, 3, 3, 3, 2, 3, 3, 2, 2]\n",
    "print(responses.count(3),responses.count(9))"
   ]
  },
  {
   "cell_type": "code",
   "execution_count": null,
   "metadata": {
    "scrolled": true
   },
   "outputs": [],
   "source": [
    "for i in range(1, 6):\n",
    "    print(f'{i} appears {responses.count(i)} times in responses')"
   ]
  },
  {
   "cell_type": "markdown",
   "metadata": {
    "slideshow": {
     "slide_type": "slide"
    }
   },
   "source": [
    "### Reversing a List’s Elements\n",
    "* The `reverse` method reverses the contents of a list in place.\n",
    "* Equivalent to slicing a list using \\[::-1\\] indexing.  (We'll revisit this next time.)"
   ]
  },
  {
   "cell_type": "code",
   "execution_count": null,
   "metadata": {},
   "outputs": [],
   "source": [
    "color_names = ['red', 'orange', 'yellow', 'green', 'blue']\n",
    "color_names.reverse()\n",
    "print(color_names)"
   ]
  },
  {
   "cell_type": "code",
   "execution_count": null,
   "metadata": {},
   "outputs": [],
   "source": [
    "color_names = ['red', 'orange', 'yellow', 'green', 'blue']\n",
    "color_names = color_names[::-1]\n",
    "print(color_names)"
   ]
  },
  {
   "cell_type": "markdown",
   "metadata": {
    "slideshow": {
     "slide_type": "slide"
    }
   },
   "source": [
    "### Copying a List\n",
    "* Using simple assignment of one variable to another (e.g. `x=y`) does not duplicate embedded elements of any compound object (e.g. a list).\n",
    "     * Any modifications to the compound object in one will be reflected in another.\n",
    "* The `copy` method creates a **shallow copy** that DOES duplicate all embedded objects.\n",
    "     * However, objects embedded WITHIN the initial layer of objects (e.g. lists within a list) are NOT duplicated."
   ]
  },
  {
   "cell_type": "code",
   "execution_count": null,
   "metadata": {
    "slideshow": {
     "slide_type": "subslide"
    }
   },
   "outputs": [],
   "source": [
    "baselist =[1, 2, 3]\n",
    "assignlist = baselist\n",
    "assignlist.remove(2)\n",
    "print(baselist)\n",
    "print(assignlist)"
   ]
  },
  {
   "cell_type": "code",
   "execution_count": null,
   "metadata": {},
   "outputs": [],
   "source": [
    "baselist =[1, 2, 3]\n",
    "copylist = baselist.copy()\n",
    "baselist.remove(2)\n",
    "print(baselist)\n",
    "print(copylist)"
   ]
  },
  {
   "cell_type": "code",
   "execution_count": null,
   "metadata": {},
   "outputs": [],
   "source": []
  }
 ],
 "metadata": {
  "celltoolbar": "Slideshow",
  "kernelspec": {
   "display_name": "Python 3 (ipykernel)",
   "language": "python",
   "name": "python3"
  },
  "language_info": {
   "codemirror_mode": {
    "name": "ipython",
    "version": 3
   },
   "file_extension": ".py",
   "mimetype": "text/x-python",
   "name": "python",
   "nbconvert_exporter": "python",
   "pygments_lexer": "ipython3",
   "version": "3.10.8"
  }
 },
 "nbformat": 4,
 "nbformat_minor": 4
}
