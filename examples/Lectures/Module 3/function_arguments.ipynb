{
 "cells": [
  {
   "cell_type": "code",
   "execution_count": 9,
   "metadata": {},
   "outputs": [
    {
     "name": "stdout",
     "output_type": "stream",
     "text": [
      "Hello, Bob!\n",
      "Hello, User!\n"
     ]
    }
   ],
   "source": [
    "def greet(name=\"User\"):\n",
    "    print(f\"Hello, {name}!\")\n",
    "\n",
    "greet(\"Bob\")\n",
    "greet()"
   ]
  },
  {
   "cell_type": "code",
   "execution_count": 10,
   "metadata": {},
   "outputs": [],
   "source": [
    "def rectangle_area(length, width):\n",
    "    \"\"\"Return a rectangle's area\"\"\"\n",
    "    print(f'Th rectangle\\'s length is {length} and its width is {width}.')\n",
    "    return length * width\n"
   ]
  },
  {
   "cell_type": "code",
   "execution_count": 11,
   "metadata": {},
   "outputs": [
    {
     "name": "stdout",
     "output_type": "stream",
     "text": [
      "Th rectangle's length is 10 and its width is 5.\n",
      "50\n"
     ]
    }
   ],
   "source": [
    "print(rectangle_area(10, 5))"
   ]
  },
  {
   "cell_type": "code",
   "execution_count": 12,
   "metadata": {},
   "outputs": [
    {
     "name": "stdout",
     "output_type": "stream",
     "text": [
      "Th rectangle's length is 10 and its width is 5.\n",
      "50\n"
     ]
    }
   ],
   "source": [
    "print(rectangle_area(width=5, length=10))"
   ]
  },
  {
   "cell_type": "code",
   "execution_count": 1,
   "metadata": {},
   "outputs": [],
   "source": [
    "def average(*args):\n",
    "    return sum(args) / len(args)"
   ]
  },
  {
   "cell_type": "code",
   "execution_count": 2,
   "metadata": {},
   "outputs": [
    {
     "name": "stdout",
     "output_type": "stream",
     "text": [
      "1.0\n",
      "5.0\n"
     ]
    }
   ],
   "source": [
    "print(average(1))\n",
    "print(average(1,5,9))"
   ]
  },
  {
   "cell_type": "code",
   "execution_count": 4,
   "metadata": {},
   "outputs": [],
   "source": [
    "basestr = 'Hello'"
   ]
  },
  {
   "cell_type": "code",
   "execution_count": 5,
   "metadata": {},
   "outputs": [
    {
     "name": "stdout",
     "output_type": "stream",
     "text": [
      "hello\n",
      "HELLO\n"
     ]
    }
   ],
   "source": [
    "print(basestr.lower())\n",
    "print(basestr.upper())"
   ]
  },
  {
   "cell_type": "code",
   "execution_count": 21,
   "metadata": {},
   "outputs": [
    {
     "name": "stdout",
     "output_type": "stream",
     "text": [
      "[3, 7, 1, 4, 2, 9, 5, 6, 3, 7, 1, 4, 2, 9, 5, 6]\n",
      "HelloHello\n"
     ]
    }
   ],
   "source": [
    "numbers = [3, 7, 1, 4, 2, 9, 5, 6]\n",
    "numbers *= 2\n",
    "print(numbers)\n",
    "print('Hello'*2)"
   ]
  },
  {
   "cell_type": "code",
   "execution_count": 22,
   "metadata": {},
   "outputs": [
    {
     "data": {
      "text/plain": [
       "14"
      ]
     },
     "execution_count": 22,
     "metadata": {},
     "output_type": "execute_result"
    }
   ],
   "source": [
    "numbers.index(5, 7)\n"
   ]
  },
  {
   "cell_type": "code",
   "execution_count": 27,
   "metadata": {},
   "outputs": [
    {
     "name": "stdout",
     "output_type": "stream",
     "text": [
      "[3, 7, 1, 4, 2, 9, 5, 6, 3, 7, 1, 4, 2, 9, 5, 6]\n"
     ]
    },
    {
     "data": {
      "text/plain": [
       "True"
      ]
     },
     "execution_count": 27,
     "metadata": {},
     "output_type": "execute_result"
    }
   ],
   "source": [
    "print(numbers)\n",
    "5 in numbers"
   ]
  },
  {
   "cell_type": "code",
   "execution_count": 28,
   "metadata": {},
   "outputs": [],
   "source": [
    "key = 5"
   ]
  },
  {
   "cell_type": "code",
   "execution_count": 29,
   "metadata": {},
   "outputs": [
    {
     "name": "stdout",
     "output_type": "stream",
     "text": [
      "Found 5 at index 6\n"
     ]
    }
   ],
   "source": [
    "if key in numbers:\n",
    "    print(f'Found {key} at index {numbers.index(key)}')\n",
    "else:\n",
    "    print(f'{key} not found')"
   ]
  },
  {
   "cell_type": "code",
   "execution_count": 41,
   "metadata": {},
   "outputs": [
    {
     "name": "stdout",
     "output_type": "stream",
     "text": [
      "True\n",
      "False\n",
      "False\n",
      "False\n",
      "True\n"
     ]
    }
   ],
   "source": [
    "l = [1, 3, 4, 0]\n",
    "print(any(l))\n",
    "\n",
    "l = [0, False]\n",
    "print(any(l))\n",
    "\n",
    "l = [[], 0]\n",
    "print(any(l))\n",
    "\n",
    "l = [0, False, 5]\n",
    "print(all(l))\n",
    "print(any(l))\n",
    "\n"
   ]
  },
  {
   "cell_type": "code",
   "execution_count": 42,
   "metadata": {},
   "outputs": [
    {
     "name": "stdout",
     "output_type": "stream",
     "text": [
      "['red', 'orange', 'yellow', 'green']\n"
     ]
    }
   ],
   "source": [
    "color_names = ['orange', 'yellow', 'green']\n",
    "color_names.insert(0, 'red')\n",
    "print(color_names)"
   ]
  },
  {
   "cell_type": "code",
   "execution_count": 44,
   "metadata": {},
   "outputs": [
    {
     "name": "stdout",
     "output_type": "stream",
     "text": [
      "['orange', 'yellow', 'blue', 'gr een']\n"
     ]
    }
   ],
   "source": [
    "color_names = ['orange', 'yellow', 'gr een']\n",
    "color_names.insert(2, 'blue')\n",
    "print(color_names)"
   ]
  },
  {
   "cell_type": "code",
   "execution_count": 46,
   "metadata": {},
   "outputs": [
    {
     "name": "stdout",
     "output_type": "stream",
     "text": [
      "['red', 'orange', 'yellow', 'blue', 'green', 'cyan']\n"
     ]
    }
   ],
   "source": [
    "color_names = ['red', 'orange', 'yellow', 'blue', 'green']\n",
    "color_names.append('cyan')\n",
    "print(color_names)"
   ]
  },
  {
   "cell_type": "code",
   "execution_count": 47,
   "metadata": {},
   "outputs": [
    {
     "name": "stdout",
     "output_type": "stream",
     "text": [
      "['red', 'orange', 'yellow', 'blue', 'green', 'cyan', 'indigo', 'violet', 'brown']\n"
     ]
    }
   ],
   "source": [
    "color_names.extend(['indigo', 'violet', 'brown'])\n",
    "print(color_names)\n"
   ]
  },
  {
   "cell_type": "code",
   "execution_count": 48,
   "metadata": {},
   "outputs": [
    {
     "name": "stdout",
     "output_type": "stream",
     "text": [
      "[]\n"
     ]
    }
   ],
   "source": [
    "color_names = ['red', 'orange', 'yellow', 'blue', 'green', 'cyan', 'indigo', 'violet', 'brown']\n",
    "color_names.clear()\n",
    "print(color_names)"
   ]
  },
  {
   "cell_type": "code",
   "execution_count": 53,
   "metadata": {},
   "outputs": [
    {
     "name": "stdout",
     "output_type": "stream",
     "text": [
      "8 0\n"
     ]
    }
   ],
   "source": [
    "responses = [1, 2, 5, 4, 3, 5, 2, 1, 3, 3, 1, 4, 3, 3, 3, 2, 3, 3, 2, 2]\n",
    "print(responses.count(3), responses.count(9))"
   ]
  },
  {
   "cell_type": "code",
   "execution_count": 54,
   "metadata": {},
   "outputs": [
    {
     "name": "stdout",
     "output_type": "stream",
     "text": [
      "1 appears 3 times in responses.\n",
      "2 appears 5 times in responses.\n",
      "3 appears 8 times in responses.\n",
      "4 appears 2 times in responses.\n",
      "5 appears 2 times in responses.\n"
     ]
    }
   ],
   "source": [
    "for i in range(1, 6):\n",
    "    print(f'{i} appears {responses.count(i)} times in responses.')"
   ]
  },
  {
   "cell_type": "code",
   "execution_count": 55,
   "metadata": {},
   "outputs": [
    {
     "name": "stdout",
     "output_type": "stream",
     "text": [
      "[1, 3]\n",
      "[1, 3]\n"
     ]
    }
   ],
   "source": [
    "baselist = [1, 2, 3]\n",
    "assignlist = baselist\n",
    "assignlist.remove(2)\n",
    "print(baselist)\n",
    "print(assignlist)"
   ]
  },
  {
   "cell_type": "code",
   "execution_count": 56,
   "metadata": {},
   "outputs": [
    {
     "name": "stdout",
     "output_type": "stream",
     "text": [
      "[1, 2, 3]\n",
      "[1, 3]\n"
     ]
    }
   ],
   "source": [
    "baselist = [1, 2, 3]\n",
    "copylist = baselist.copy()\n",
    "copylist.remove(2)\n",
    "print(baselist)\n",
    "print(copylist)"
   ]
  }
 ],
 "metadata": {
  "kernelspec": {
   "display_name": "cse532",
   "language": "python",
   "name": "python3"
  },
  "language_info": {
   "codemirror_mode": {
    "name": "ipython",
    "version": 3
   },
   "file_extension": ".py",
   "mimetype": "text/x-python",
   "name": "python",
   "nbconvert_exporter": "python",
   "pygments_lexer": "ipython3",
   "version": "3.11.7"
  }
 },
 "nbformat": 4,
 "nbformat_minor": 2
}
